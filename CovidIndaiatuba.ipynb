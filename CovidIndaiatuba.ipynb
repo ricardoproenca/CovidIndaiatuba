{
 "cells": [
  {
   "cell_type": "markdown",
   "metadata": {},
   "source": [
    "# Análise dos casos de óbito de Covid-19 em Indaiatuba"
   ]
  },
  {
   "cell_type": "code",
   "execution_count": 64,
   "metadata": {},
   "outputs": [],
   "source": [
    "import pandas as pd\n",
    "import seaborn as sns\n",
    "import matplotlib.pyplot as plt\n",
    "import numpy as np\n",
    "from pandas_datareader import data as wb\n",
    "from scipy.stats import norm"
   ]
  },
  {
   "cell_type": "code",
   "execution_count": 65,
   "metadata": {},
   "outputs": [],
   "source": [
    "base = pd.read_excel(\"CovidIndaiatuba.xlsx\")"
   ]
  },
  {
   "cell_type": "code",
   "execution_count": 66,
   "metadata": {},
   "outputs": [
    {
     "data": {
      "text/html": [
       "<div>\n",
       "<style scoped>\n",
       "    .dataframe tbody tr th:only-of-type {\n",
       "        vertical-align: middle;\n",
       "    }\n",
       "\n",
       "    .dataframe tbody tr th {\n",
       "        vertical-align: top;\n",
       "    }\n",
       "\n",
       "    .dataframe thead th {\n",
       "        text-align: right;\n",
       "    }\n",
       "</style>\n",
       "<table border=\"1\" class=\"dataframe\">\n",
       "  <thead>\n",
       "    <tr style=\"text-align: right;\">\n",
       "      <th></th>\n",
       "      <th>Obitos</th>\n",
       "      <th>Data</th>\n",
       "      <th>Sexo</th>\n",
       "      <th>Idade</th>\n",
       "      <th>anos</th>\n",
       "      <th>Comorbidade</th>\n",
       "    </tr>\n",
       "  </thead>\n",
       "  <tbody>\n",
       "    <tr>\n",
       "      <th>0</th>\n",
       "      <td>1</td>\n",
       "      <td>2020-03-31</td>\n",
       "      <td>Homem</td>\n",
       "      <td>64</td>\n",
       "      <td>anos</td>\n",
       "      <td>Com comorbidades</td>\n",
       "    </tr>\n",
       "    <tr>\n",
       "      <th>1</th>\n",
       "      <td>2</td>\n",
       "      <td>2020-04-13</td>\n",
       "      <td>Mulher</td>\n",
       "      <td>50</td>\n",
       "      <td>anos</td>\n",
       "      <td>Com comorbidades</td>\n",
       "    </tr>\n",
       "    <tr>\n",
       "      <th>2</th>\n",
       "      <td>3</td>\n",
       "      <td>2020-04-18</td>\n",
       "      <td>Mulher</td>\n",
       "      <td>52</td>\n",
       "      <td>anos</td>\n",
       "      <td>Sem comorbidade</td>\n",
       "    </tr>\n",
       "    <tr>\n",
       "      <th>3</th>\n",
       "      <td>4</td>\n",
       "      <td>2020-04-21</td>\n",
       "      <td>Homem</td>\n",
       "      <td>64</td>\n",
       "      <td>anos</td>\n",
       "      <td>Com comorbidades</td>\n",
       "    </tr>\n",
       "    <tr>\n",
       "      <th>4</th>\n",
       "      <td>5</td>\n",
       "      <td>2020-04-24</td>\n",
       "      <td>Mulher</td>\n",
       "      <td>61</td>\n",
       "      <td>anos</td>\n",
       "      <td>Com comorbidades</td>\n",
       "    </tr>\n",
       "  </tbody>\n",
       "</table>\n",
       "</div>"
      ],
      "text/plain": [
       "   Obitos       Data     Sexo  Idade  anos       Comorbidade\n",
       "0       1 2020-03-31    Homem     64  anos  Com comorbidades\n",
       "1       2 2020-04-13   Mulher     50  anos  Com comorbidades\n",
       "2       3 2020-04-18   Mulher     52  anos   Sem comorbidade\n",
       "3       4 2020-04-21    Homem     64  anos  Com comorbidades\n",
       "4       5 2020-04-24   Mulher     61  anos  Com comorbidades"
      ]
     },
     "execution_count": 66,
     "metadata": {},
     "output_type": "execute_result"
    }
   ],
   "source": [
    "base.head()"
   ]
  },
  {
   "cell_type": "code",
   "execution_count": 69,
   "metadata": {},
   "outputs": [
    {
     "data": {
      "text/html": [
       "<div>\n",
       "<style scoped>\n",
       "    .dataframe tbody tr th:only-of-type {\n",
       "        vertical-align: middle;\n",
       "    }\n",
       "\n",
       "    .dataframe tbody tr th {\n",
       "        vertical-align: top;\n",
       "    }\n",
       "\n",
       "    .dataframe thead th {\n",
       "        text-align: right;\n",
       "    }\n",
       "</style>\n",
       "<table border=\"1\" class=\"dataframe\">\n",
       "  <thead>\n",
       "    <tr style=\"text-align: right;\">\n",
       "      <th></th>\n",
       "      <th>Obitos</th>\n",
       "      <th>Data</th>\n",
       "      <th>Sexo</th>\n",
       "      <th>Idade</th>\n",
       "      <th>anos</th>\n",
       "      <th>Comorbidade</th>\n",
       "      <th>MesMorte</th>\n",
       "      <th>diferencaDias</th>\n",
       "      <th>MédiaMovel</th>\n",
       "    </tr>\n",
       "  </thead>\n",
       "  <tbody>\n",
       "    <tr>\n",
       "      <th>0</th>\n",
       "      <td>1</td>\n",
       "      <td>2020-03-31</td>\n",
       "      <td>Homem</td>\n",
       "      <td>64</td>\n",
       "      <td>anos</td>\n",
       "      <td>Com comorbidades</td>\n",
       "      <td>3</td>\n",
       "      <td>0 days</td>\n",
       "      <td>NaN</td>\n",
       "    </tr>\n",
       "    <tr>\n",
       "      <th>1</th>\n",
       "      <td>2</td>\n",
       "      <td>2020-04-13</td>\n",
       "      <td>Mulher</td>\n",
       "      <td>50</td>\n",
       "      <td>anos</td>\n",
       "      <td>Com comorbidades</td>\n",
       "      <td>4</td>\n",
       "      <td>13 days</td>\n",
       "      <td>1.5</td>\n",
       "    </tr>\n",
       "    <tr>\n",
       "      <th>2</th>\n",
       "      <td>3</td>\n",
       "      <td>2020-04-18</td>\n",
       "      <td>Mulher</td>\n",
       "      <td>52</td>\n",
       "      <td>anos</td>\n",
       "      <td>Sem comorbidade</td>\n",
       "      <td>4</td>\n",
       "      <td>18 days</td>\n",
       "      <td>2.5</td>\n",
       "    </tr>\n",
       "    <tr>\n",
       "      <th>3</th>\n",
       "      <td>4</td>\n",
       "      <td>2020-04-21</td>\n",
       "      <td>Homem</td>\n",
       "      <td>64</td>\n",
       "      <td>anos</td>\n",
       "      <td>Com comorbidades</td>\n",
       "      <td>4</td>\n",
       "      <td>21 days</td>\n",
       "      <td>3.5</td>\n",
       "    </tr>\n",
       "    <tr>\n",
       "      <th>4</th>\n",
       "      <td>5</td>\n",
       "      <td>2020-04-24</td>\n",
       "      <td>Mulher</td>\n",
       "      <td>61</td>\n",
       "      <td>anos</td>\n",
       "      <td>Com comorbidades</td>\n",
       "      <td>4</td>\n",
       "      <td>24 days</td>\n",
       "      <td>4.5</td>\n",
       "    </tr>\n",
       "    <tr>\n",
       "      <th>5</th>\n",
       "      <td>6</td>\n",
       "      <td>2020-05-02</td>\n",
       "      <td>Mulher</td>\n",
       "      <td>83</td>\n",
       "      <td>anos</td>\n",
       "      <td>Com comorbidades</td>\n",
       "      <td>5</td>\n",
       "      <td>32 days</td>\n",
       "      <td>5.5</td>\n",
       "    </tr>\n",
       "    <tr>\n",
       "      <th>6</th>\n",
       "      <td>7</td>\n",
       "      <td>2020-05-06</td>\n",
       "      <td>Homem</td>\n",
       "      <td>38</td>\n",
       "      <td>anos</td>\n",
       "      <td>Com comorbidades</td>\n",
       "      <td>5</td>\n",
       "      <td>36 days</td>\n",
       "      <td>6.5</td>\n",
       "    </tr>\n",
       "    <tr>\n",
       "      <th>7</th>\n",
       "      <td>8</td>\n",
       "      <td>2020-05-06</td>\n",
       "      <td>Homem</td>\n",
       "      <td>76</td>\n",
       "      <td>anos</td>\n",
       "      <td>Com comorbidades</td>\n",
       "      <td>5</td>\n",
       "      <td>36 days</td>\n",
       "      <td>7.5</td>\n",
       "    </tr>\n",
       "    <tr>\n",
       "      <th>8</th>\n",
       "      <td>9</td>\n",
       "      <td>2020-05-07</td>\n",
       "      <td>Homem</td>\n",
       "      <td>30</td>\n",
       "      <td>anos</td>\n",
       "      <td>Com comorbidades</td>\n",
       "      <td>5</td>\n",
       "      <td>37 days</td>\n",
       "      <td>8.5</td>\n",
       "    </tr>\n",
       "    <tr>\n",
       "      <th>9</th>\n",
       "      <td>10</td>\n",
       "      <td>2020-05-07</td>\n",
       "      <td>Homem</td>\n",
       "      <td>55</td>\n",
       "      <td>anos</td>\n",
       "      <td>Sem comorbidade</td>\n",
       "      <td>5</td>\n",
       "      <td>37 days</td>\n",
       "      <td>9.5</td>\n",
       "    </tr>\n",
       "    <tr>\n",
       "      <th>10</th>\n",
       "      <td>11</td>\n",
       "      <td>2020-05-10</td>\n",
       "      <td>Homem</td>\n",
       "      <td>74</td>\n",
       "      <td>anos</td>\n",
       "      <td>Com comorbidades</td>\n",
       "      <td>5</td>\n",
       "      <td>40 days</td>\n",
       "      <td>10.5</td>\n",
       "    </tr>\n",
       "    <tr>\n",
       "      <th>11</th>\n",
       "      <td>12</td>\n",
       "      <td>2020-05-12</td>\n",
       "      <td>Homem</td>\n",
       "      <td>75</td>\n",
       "      <td>anos</td>\n",
       "      <td>Sem comorbidade</td>\n",
       "      <td>5</td>\n",
       "      <td>42 days</td>\n",
       "      <td>11.5</td>\n",
       "    </tr>\n",
       "    <tr>\n",
       "      <th>12</th>\n",
       "      <td>13</td>\n",
       "      <td>2020-05-15</td>\n",
       "      <td>Mulher</td>\n",
       "      <td>77</td>\n",
       "      <td>anos</td>\n",
       "      <td>Com comorbidades</td>\n",
       "      <td>5</td>\n",
       "      <td>45 days</td>\n",
       "      <td>12.5</td>\n",
       "    </tr>\n",
       "    <tr>\n",
       "      <th>13</th>\n",
       "      <td>14</td>\n",
       "      <td>2020-05-17</td>\n",
       "      <td>Homem</td>\n",
       "      <td>68</td>\n",
       "      <td>anos</td>\n",
       "      <td>Com comorbidades</td>\n",
       "      <td>5</td>\n",
       "      <td>47 days</td>\n",
       "      <td>13.5</td>\n",
       "    </tr>\n",
       "    <tr>\n",
       "      <th>14</th>\n",
       "      <td>15</td>\n",
       "      <td>2020-05-18</td>\n",
       "      <td>Homem</td>\n",
       "      <td>90</td>\n",
       "      <td>anos</td>\n",
       "      <td>Com comorbidades</td>\n",
       "      <td>5</td>\n",
       "      <td>48 days</td>\n",
       "      <td>14.5</td>\n",
       "    </tr>\n",
       "    <tr>\n",
       "      <th>15</th>\n",
       "      <td>16</td>\n",
       "      <td>2020-05-21</td>\n",
       "      <td>Homem</td>\n",
       "      <td>71</td>\n",
       "      <td>anos</td>\n",
       "      <td>Com comorbidades</td>\n",
       "      <td>5</td>\n",
       "      <td>51 days</td>\n",
       "      <td>15.5</td>\n",
       "    </tr>\n",
       "    <tr>\n",
       "      <th>16</th>\n",
       "      <td>17</td>\n",
       "      <td>2020-05-23</td>\n",
       "      <td>Mulher</td>\n",
       "      <td>58</td>\n",
       "      <td>anos</td>\n",
       "      <td>Com comorbidades</td>\n",
       "      <td>5</td>\n",
       "      <td>53 days</td>\n",
       "      <td>16.5</td>\n",
       "    </tr>\n",
       "    <tr>\n",
       "      <th>17</th>\n",
       "      <td>18</td>\n",
       "      <td>2020-05-23</td>\n",
       "      <td>Homem</td>\n",
       "      <td>67</td>\n",
       "      <td>anos</td>\n",
       "      <td>Com comorbidades</td>\n",
       "      <td>5</td>\n",
       "      <td>53 days</td>\n",
       "      <td>17.5</td>\n",
       "    </tr>\n",
       "    <tr>\n",
       "      <th>18</th>\n",
       "      <td>19</td>\n",
       "      <td>2020-05-24</td>\n",
       "      <td>Mulher</td>\n",
       "      <td>71</td>\n",
       "      <td>anos</td>\n",
       "      <td>Com comorbidades</td>\n",
       "      <td>5</td>\n",
       "      <td>54 days</td>\n",
       "      <td>18.5</td>\n",
       "    </tr>\n",
       "    <tr>\n",
       "      <th>19</th>\n",
       "      <td>20</td>\n",
       "      <td>2020-05-24</td>\n",
       "      <td>Homem</td>\n",
       "      <td>88</td>\n",
       "      <td>anos</td>\n",
       "      <td>Com comorbidades</td>\n",
       "      <td>5</td>\n",
       "      <td>54 days</td>\n",
       "      <td>19.5</td>\n",
       "    </tr>\n",
       "    <tr>\n",
       "      <th>20</th>\n",
       "      <td>21</td>\n",
       "      <td>2020-05-24</td>\n",
       "      <td>Homem</td>\n",
       "      <td>62</td>\n",
       "      <td>anos</td>\n",
       "      <td>Com comorbidades</td>\n",
       "      <td>5</td>\n",
       "      <td>54 days</td>\n",
       "      <td>20.5</td>\n",
       "    </tr>\n",
       "    <tr>\n",
       "      <th>21</th>\n",
       "      <td>22</td>\n",
       "      <td>2020-05-26</td>\n",
       "      <td>Homem</td>\n",
       "      <td>76</td>\n",
       "      <td>anos</td>\n",
       "      <td>Com comorbidades</td>\n",
       "      <td>5</td>\n",
       "      <td>56 days</td>\n",
       "      <td>21.5</td>\n",
       "    </tr>\n",
       "    <tr>\n",
       "      <th>22</th>\n",
       "      <td>23</td>\n",
       "      <td>2020-05-27</td>\n",
       "      <td>Homem</td>\n",
       "      <td>69</td>\n",
       "      <td>anos</td>\n",
       "      <td>Sem comorbidade</td>\n",
       "      <td>5</td>\n",
       "      <td>57 days</td>\n",
       "      <td>22.5</td>\n",
       "    </tr>\n",
       "    <tr>\n",
       "      <th>23</th>\n",
       "      <td>24</td>\n",
       "      <td>2020-05-28</td>\n",
       "      <td>Mulher</td>\n",
       "      <td>67</td>\n",
       "      <td>anos</td>\n",
       "      <td>Com comorbidades</td>\n",
       "      <td>5</td>\n",
       "      <td>58 days</td>\n",
       "      <td>23.5</td>\n",
       "    </tr>\n",
       "    <tr>\n",
       "      <th>24</th>\n",
       "      <td>25</td>\n",
       "      <td>2020-05-28</td>\n",
       "      <td>Mulher</td>\n",
       "      <td>67</td>\n",
       "      <td>anos</td>\n",
       "      <td>Com comorbidades</td>\n",
       "      <td>5</td>\n",
       "      <td>58 days</td>\n",
       "      <td>24.5</td>\n",
       "    </tr>\n",
       "    <tr>\n",
       "      <th>25</th>\n",
       "      <td>26</td>\n",
       "      <td>2020-05-30</td>\n",
       "      <td>Homem</td>\n",
       "      <td>70</td>\n",
       "      <td>anos</td>\n",
       "      <td>Com comorbidades</td>\n",
       "      <td>5</td>\n",
       "      <td>60 days</td>\n",
       "      <td>25.5</td>\n",
       "    </tr>\n",
       "    <tr>\n",
       "      <th>26</th>\n",
       "      <td>27</td>\n",
       "      <td>2020-05-31</td>\n",
       "      <td>Mulher</td>\n",
       "      <td>86</td>\n",
       "      <td>anos</td>\n",
       "      <td>Com comorbidades</td>\n",
       "      <td>5</td>\n",
       "      <td>61 days</td>\n",
       "      <td>26.5</td>\n",
       "    </tr>\n",
       "    <tr>\n",
       "      <th>27</th>\n",
       "      <td>28</td>\n",
       "      <td>2020-06-03</td>\n",
       "      <td>Mulher</td>\n",
       "      <td>86</td>\n",
       "      <td>anos</td>\n",
       "      <td>Sem comorbidade</td>\n",
       "      <td>6</td>\n",
       "      <td>64 days</td>\n",
       "      <td>27.5</td>\n",
       "    </tr>\n",
       "    <tr>\n",
       "      <th>28</th>\n",
       "      <td>29</td>\n",
       "      <td>2020-06-05</td>\n",
       "      <td>Homem</td>\n",
       "      <td>46</td>\n",
       "      <td>anos</td>\n",
       "      <td>Sem comorbidade</td>\n",
       "      <td>6</td>\n",
       "      <td>66 days</td>\n",
       "      <td>28.5</td>\n",
       "    </tr>\n",
       "    <tr>\n",
       "      <th>29</th>\n",
       "      <td>30</td>\n",
       "      <td>2020-06-06</td>\n",
       "      <td>Homem</td>\n",
       "      <td>78</td>\n",
       "      <td>anos</td>\n",
       "      <td>Com comorbidades</td>\n",
       "      <td>6</td>\n",
       "      <td>67 days</td>\n",
       "      <td>29.5</td>\n",
       "    </tr>\n",
       "    <tr>\n",
       "      <th>30</th>\n",
       "      <td>31</td>\n",
       "      <td>2020-06-07</td>\n",
       "      <td>Homem</td>\n",
       "      <td>42</td>\n",
       "      <td>anos</td>\n",
       "      <td>Sem comorbidade</td>\n",
       "      <td>6</td>\n",
       "      <td>68 days</td>\n",
       "      <td>30.5</td>\n",
       "    </tr>\n",
       "    <tr>\n",
       "      <th>31</th>\n",
       "      <td>32</td>\n",
       "      <td>2020-06-07</td>\n",
       "      <td>Homem</td>\n",
       "      <td>86</td>\n",
       "      <td>anos</td>\n",
       "      <td>Com comorbidades</td>\n",
       "      <td>6</td>\n",
       "      <td>68 days</td>\n",
       "      <td>31.5</td>\n",
       "    </tr>\n",
       "    <tr>\n",
       "      <th>32</th>\n",
       "      <td>33</td>\n",
       "      <td>2020-06-07</td>\n",
       "      <td>Mulher</td>\n",
       "      <td>55</td>\n",
       "      <td>anos</td>\n",
       "      <td>Com comorbidades</td>\n",
       "      <td>6</td>\n",
       "      <td>68 days</td>\n",
       "      <td>32.5</td>\n",
       "    </tr>\n",
       "    <tr>\n",
       "      <th>33</th>\n",
       "      <td>34</td>\n",
       "      <td>2020-06-07</td>\n",
       "      <td>Mulher</td>\n",
       "      <td>61</td>\n",
       "      <td>anos</td>\n",
       "      <td>Com comorbidades</td>\n",
       "      <td>6</td>\n",
       "      <td>68 days</td>\n",
       "      <td>33.5</td>\n",
       "    </tr>\n",
       "    <tr>\n",
       "      <th>34</th>\n",
       "      <td>35</td>\n",
       "      <td>2020-06-08</td>\n",
       "      <td>Homem</td>\n",
       "      <td>69</td>\n",
       "      <td>anos</td>\n",
       "      <td>Com comorbidades</td>\n",
       "      <td>6</td>\n",
       "      <td>69 days</td>\n",
       "      <td>34.5</td>\n",
       "    </tr>\n",
       "    <tr>\n",
       "      <th>35</th>\n",
       "      <td>36</td>\n",
       "      <td>2020-06-08</td>\n",
       "      <td>Mulher</td>\n",
       "      <td>52</td>\n",
       "      <td>anos</td>\n",
       "      <td>Com comorbidades</td>\n",
       "      <td>6</td>\n",
       "      <td>69 days</td>\n",
       "      <td>35.5</td>\n",
       "    </tr>\n",
       "    <tr>\n",
       "      <th>36</th>\n",
       "      <td>37</td>\n",
       "      <td>2020-06-08</td>\n",
       "      <td>Mulher</td>\n",
       "      <td>48</td>\n",
       "      <td>anos</td>\n",
       "      <td>Com comorbidades</td>\n",
       "      <td>6</td>\n",
       "      <td>69 days</td>\n",
       "      <td>36.5</td>\n",
       "    </tr>\n",
       "    <tr>\n",
       "      <th>37</th>\n",
       "      <td>38</td>\n",
       "      <td>2020-06-09</td>\n",
       "      <td>Mulher</td>\n",
       "      <td>67</td>\n",
       "      <td>anos</td>\n",
       "      <td>Com comorbidades</td>\n",
       "      <td>6</td>\n",
       "      <td>70 days</td>\n",
       "      <td>37.5</td>\n",
       "    </tr>\n",
       "    <tr>\n",
       "      <th>38</th>\n",
       "      <td>39</td>\n",
       "      <td>2020-06-10</td>\n",
       "      <td>Mulher</td>\n",
       "      <td>71</td>\n",
       "      <td>anos</td>\n",
       "      <td>Com comorbidades</td>\n",
       "      <td>6</td>\n",
       "      <td>71 days</td>\n",
       "      <td>38.5</td>\n",
       "    </tr>\n",
       "    <tr>\n",
       "      <th>39</th>\n",
       "      <td>40</td>\n",
       "      <td>2020-06-12</td>\n",
       "      <td>Mulher</td>\n",
       "      <td>40</td>\n",
       "      <td>anos</td>\n",
       "      <td>Sem comorbidade</td>\n",
       "      <td>6</td>\n",
       "      <td>73 days</td>\n",
       "      <td>39.5</td>\n",
       "    </tr>\n",
       "    <tr>\n",
       "      <th>40</th>\n",
       "      <td>41</td>\n",
       "      <td>2020-06-12</td>\n",
       "      <td>Homem</td>\n",
       "      <td>86</td>\n",
       "      <td>anos</td>\n",
       "      <td>Sem comorbidade</td>\n",
       "      <td>6</td>\n",
       "      <td>73 days</td>\n",
       "      <td>40.5</td>\n",
       "    </tr>\n",
       "    <tr>\n",
       "      <th>41</th>\n",
       "      <td>42</td>\n",
       "      <td>2020-06-13</td>\n",
       "      <td>Homem</td>\n",
       "      <td>91</td>\n",
       "      <td>anos</td>\n",
       "      <td>Com comorbidades</td>\n",
       "      <td>6</td>\n",
       "      <td>74 days</td>\n",
       "      <td>41.5</td>\n",
       "    </tr>\n",
       "    <tr>\n",
       "      <th>42</th>\n",
       "      <td>43</td>\n",
       "      <td>2020-06-14</td>\n",
       "      <td>Mulher</td>\n",
       "      <td>66</td>\n",
       "      <td>anos</td>\n",
       "      <td>Com comorbidades</td>\n",
       "      <td>6</td>\n",
       "      <td>75 days</td>\n",
       "      <td>42.5</td>\n",
       "    </tr>\n",
       "    <tr>\n",
       "      <th>43</th>\n",
       "      <td>44</td>\n",
       "      <td>2020-06-14</td>\n",
       "      <td>Homem</td>\n",
       "      <td>44</td>\n",
       "      <td>anos</td>\n",
       "      <td>Sem comorbidade</td>\n",
       "      <td>6</td>\n",
       "      <td>75 days</td>\n",
       "      <td>43.5</td>\n",
       "    </tr>\n",
       "    <tr>\n",
       "      <th>44</th>\n",
       "      <td>45</td>\n",
       "      <td>2020-06-15</td>\n",
       "      <td>Mulher</td>\n",
       "      <td>58</td>\n",
       "      <td>anos</td>\n",
       "      <td>Com comorbidades</td>\n",
       "      <td>6</td>\n",
       "      <td>76 days</td>\n",
       "      <td>44.5</td>\n",
       "    </tr>\n",
       "    <tr>\n",
       "      <th>45</th>\n",
       "      <td>46</td>\n",
       "      <td>2020-06-17</td>\n",
       "      <td>Homem</td>\n",
       "      <td>52</td>\n",
       "      <td>anos</td>\n",
       "      <td>Com comorbidades</td>\n",
       "      <td>6</td>\n",
       "      <td>78 days</td>\n",
       "      <td>45.5</td>\n",
       "    </tr>\n",
       "    <tr>\n",
       "      <th>46</th>\n",
       "      <td>47</td>\n",
       "      <td>2020-06-17</td>\n",
       "      <td>Homem</td>\n",
       "      <td>53</td>\n",
       "      <td>anos</td>\n",
       "      <td>Com comorbidades</td>\n",
       "      <td>6</td>\n",
       "      <td>78 days</td>\n",
       "      <td>46.5</td>\n",
       "    </tr>\n",
       "    <tr>\n",
       "      <th>47</th>\n",
       "      <td>48</td>\n",
       "      <td>2020-06-18</td>\n",
       "      <td>Mulher</td>\n",
       "      <td>87</td>\n",
       "      <td>anos</td>\n",
       "      <td>Sem comorbidade</td>\n",
       "      <td>6</td>\n",
       "      <td>79 days</td>\n",
       "      <td>47.5</td>\n",
       "    </tr>\n",
       "    <tr>\n",
       "      <th>48</th>\n",
       "      <td>49</td>\n",
       "      <td>2020-06-19</td>\n",
       "      <td>Homem</td>\n",
       "      <td>75</td>\n",
       "      <td>anos</td>\n",
       "      <td>Com comorbidades</td>\n",
       "      <td>6</td>\n",
       "      <td>80 days</td>\n",
       "      <td>48.5</td>\n",
       "    </tr>\n",
       "    <tr>\n",
       "      <th>49</th>\n",
       "      <td>50</td>\n",
       "      <td>2020-06-19</td>\n",
       "      <td>Mulher</td>\n",
       "      <td>62</td>\n",
       "      <td>anos</td>\n",
       "      <td>Com comorbidades</td>\n",
       "      <td>6</td>\n",
       "      <td>80 days</td>\n",
       "      <td>49.5</td>\n",
       "    </tr>\n",
       "    <tr>\n",
       "      <th>50</th>\n",
       "      <td>51</td>\n",
       "      <td>2020-06-20</td>\n",
       "      <td>Homem</td>\n",
       "      <td>41</td>\n",
       "      <td>anos</td>\n",
       "      <td>Sem comorbidade</td>\n",
       "      <td>6</td>\n",
       "      <td>81 days</td>\n",
       "      <td>50.5</td>\n",
       "    </tr>\n",
       "    <tr>\n",
       "      <th>51</th>\n",
       "      <td>52</td>\n",
       "      <td>2020-06-21</td>\n",
       "      <td>Homem</td>\n",
       "      <td>82</td>\n",
       "      <td>anos</td>\n",
       "      <td>Com comorbidades</td>\n",
       "      <td>6</td>\n",
       "      <td>82 days</td>\n",
       "      <td>51.5</td>\n",
       "    </tr>\n",
       "    <tr>\n",
       "      <th>52</th>\n",
       "      <td>53</td>\n",
       "      <td>2020-06-22</td>\n",
       "      <td>Homem</td>\n",
       "      <td>65</td>\n",
       "      <td>anos</td>\n",
       "      <td>Com comorbidades</td>\n",
       "      <td>6</td>\n",
       "      <td>83 days</td>\n",
       "      <td>52.5</td>\n",
       "    </tr>\n",
       "    <tr>\n",
       "      <th>53</th>\n",
       "      <td>54</td>\n",
       "      <td>2020-06-22</td>\n",
       "      <td>Homem</td>\n",
       "      <td>72</td>\n",
       "      <td>anos</td>\n",
       "      <td>Com comorbidades</td>\n",
       "      <td>6</td>\n",
       "      <td>83 days</td>\n",
       "      <td>53.5</td>\n",
       "    </tr>\n",
       "    <tr>\n",
       "      <th>54</th>\n",
       "      <td>55</td>\n",
       "      <td>2020-06-24</td>\n",
       "      <td>Mulher</td>\n",
       "      <td>56</td>\n",
       "      <td>anos</td>\n",
       "      <td>Sem comorbidade</td>\n",
       "      <td>6</td>\n",
       "      <td>85 days</td>\n",
       "      <td>54.5</td>\n",
       "    </tr>\n",
       "    <tr>\n",
       "      <th>55</th>\n",
       "      <td>56</td>\n",
       "      <td>2020-06-24</td>\n",
       "      <td>Homem</td>\n",
       "      <td>54</td>\n",
       "      <td>anos</td>\n",
       "      <td>Sem comorbidade</td>\n",
       "      <td>6</td>\n",
       "      <td>85 days</td>\n",
       "      <td>55.5</td>\n",
       "    </tr>\n",
       "    <tr>\n",
       "      <th>56</th>\n",
       "      <td>57</td>\n",
       "      <td>2020-06-25</td>\n",
       "      <td>Homem</td>\n",
       "      <td>65</td>\n",
       "      <td>anos</td>\n",
       "      <td>Com comorbidades</td>\n",
       "      <td>6</td>\n",
       "      <td>86 days</td>\n",
       "      <td>56.5</td>\n",
       "    </tr>\n",
       "  </tbody>\n",
       "</table>\n",
       "</div>"
      ],
      "text/plain": [
       "    Obitos       Data     Sexo  Idade  anos       Comorbidade  MesMorte  \\\n",
       "0        1 2020-03-31    Homem     64  anos  Com comorbidades         3   \n",
       "1        2 2020-04-13   Mulher     50  anos  Com comorbidades         4   \n",
       "2        3 2020-04-18   Mulher     52  anos   Sem comorbidade         4   \n",
       "3        4 2020-04-21    Homem     64  anos  Com comorbidades         4   \n",
       "4        5 2020-04-24   Mulher     61  anos  Com comorbidades         4   \n",
       "5        6 2020-05-02   Mulher     83  anos  Com comorbidades         5   \n",
       "6        7 2020-05-06    Homem     38  anos  Com comorbidades         5   \n",
       "7        8 2020-05-06    Homem     76  anos  Com comorbidades         5   \n",
       "8        9 2020-05-07    Homem     30  anos  Com comorbidades         5   \n",
       "9       10 2020-05-07    Homem     55  anos   Sem comorbidade         5   \n",
       "10      11 2020-05-10    Homem     74  anos  Com comorbidades         5   \n",
       "11      12 2020-05-12    Homem     75  anos   Sem comorbidade         5   \n",
       "12      13 2020-05-15   Mulher     77  anos  Com comorbidades         5   \n",
       "13      14 2020-05-17    Homem     68  anos  Com comorbidades         5   \n",
       "14      15 2020-05-18    Homem     90  anos  Com comorbidades         5   \n",
       "15      16 2020-05-21    Homem     71  anos  Com comorbidades         5   \n",
       "16      17 2020-05-23   Mulher     58  anos  Com comorbidades         5   \n",
       "17      18 2020-05-23    Homem     67  anos  Com comorbidades         5   \n",
       "18      19 2020-05-24   Mulher     71  anos  Com comorbidades         5   \n",
       "19      20 2020-05-24    Homem     88  anos  Com comorbidades         5   \n",
       "20      21 2020-05-24    Homem     62  anos  Com comorbidades         5   \n",
       "21      22 2020-05-26    Homem     76  anos  Com comorbidades         5   \n",
       "22      23 2020-05-27    Homem     69  anos   Sem comorbidade         5   \n",
       "23      24 2020-05-28   Mulher     67  anos  Com comorbidades         5   \n",
       "24      25 2020-05-28   Mulher     67  anos  Com comorbidades         5   \n",
       "25      26 2020-05-30    Homem     70  anos  Com comorbidades         5   \n",
       "26      27 2020-05-31   Mulher     86  anos  Com comorbidades         5   \n",
       "27      28 2020-06-03   Mulher     86  anos   Sem comorbidade         6   \n",
       "28      29 2020-06-05    Homem     46  anos   Sem comorbidade         6   \n",
       "29      30 2020-06-06    Homem     78  anos  Com comorbidades         6   \n",
       "30      31 2020-06-07    Homem     42  anos   Sem comorbidade         6   \n",
       "31      32 2020-06-07    Homem     86  anos  Com comorbidades         6   \n",
       "32      33 2020-06-07   Mulher     55  anos  Com comorbidades         6   \n",
       "33      34 2020-06-07   Mulher     61  anos  Com comorbidades         6   \n",
       "34      35 2020-06-08    Homem     69  anos  Com comorbidades         6   \n",
       "35      36 2020-06-08   Mulher     52  anos  Com comorbidades         6   \n",
       "36      37 2020-06-08   Mulher     48  anos  Com comorbidades         6   \n",
       "37      38 2020-06-09   Mulher     67  anos  Com comorbidades         6   \n",
       "38      39 2020-06-10   Mulher     71  anos  Com comorbidades         6   \n",
       "39      40 2020-06-12   Mulher     40  anos   Sem comorbidade         6   \n",
       "40      41 2020-06-12    Homem     86  anos   Sem comorbidade         6   \n",
       "41      42 2020-06-13    Homem     91  anos  Com comorbidades         6   \n",
       "42      43 2020-06-14   Mulher     66  anos  Com comorbidades         6   \n",
       "43      44 2020-06-14    Homem     44  anos   Sem comorbidade         6   \n",
       "44      45 2020-06-15   Mulher     58  anos  Com comorbidades         6   \n",
       "45      46 2020-06-17    Homem     52  anos  Com comorbidades         6   \n",
       "46      47 2020-06-17    Homem     53  anos  Com comorbidades         6   \n",
       "47      48 2020-06-18   Mulher     87  anos   Sem comorbidade         6   \n",
       "48      49 2020-06-19    Homem     75  anos  Com comorbidades         6   \n",
       "49      50 2020-06-19   Mulher     62  anos  Com comorbidades         6   \n",
       "50      51 2020-06-20    Homem     41  anos   Sem comorbidade         6   \n",
       "51      52 2020-06-21    Homem     82  anos  Com comorbidades         6   \n",
       "52      53 2020-06-22    Homem     65  anos  Com comorbidades         6   \n",
       "53      54 2020-06-22    Homem     72  anos  Com comorbidades         6   \n",
       "54      55 2020-06-24   Mulher     56  anos   Sem comorbidade         6   \n",
       "55      56 2020-06-24    Homem     54  anos   Sem comorbidade         6   \n",
       "56      57 2020-06-25    Homem     65  anos  Com comorbidades         6   \n",
       "\n",
       "   diferencaDias  MédiaMovel  \n",
       "0         0 days         NaN  \n",
       "1        13 days         1.5  \n",
       "2        18 days         2.5  \n",
       "3        21 days         3.5  \n",
       "4        24 days         4.5  \n",
       "5        32 days         5.5  \n",
       "6        36 days         6.5  \n",
       "7        36 days         7.5  \n",
       "8        37 days         8.5  \n",
       "9        37 days         9.5  \n",
       "10       40 days        10.5  \n",
       "11       42 days        11.5  \n",
       "12       45 days        12.5  \n",
       "13       47 days        13.5  \n",
       "14       48 days        14.5  \n",
       "15       51 days        15.5  \n",
       "16       53 days        16.5  \n",
       "17       53 days        17.5  \n",
       "18       54 days        18.5  \n",
       "19       54 days        19.5  \n",
       "20       54 days        20.5  \n",
       "21       56 days        21.5  \n",
       "22       57 days        22.5  \n",
       "23       58 days        23.5  \n",
       "24       58 days        24.5  \n",
       "25       60 days        25.5  \n",
       "26       61 days        26.5  \n",
       "27       64 days        27.5  \n",
       "28       66 days        28.5  \n",
       "29       67 days        29.5  \n",
       "30       68 days        30.5  \n",
       "31       68 days        31.5  \n",
       "32       68 days        32.5  \n",
       "33       68 days        33.5  \n",
       "34       69 days        34.5  \n",
       "35       69 days        35.5  \n",
       "36       69 days        36.5  \n",
       "37       70 days        37.5  \n",
       "38       71 days        38.5  \n",
       "39       73 days        39.5  \n",
       "40       73 days        40.5  \n",
       "41       74 days        41.5  \n",
       "42       75 days        42.5  \n",
       "43       75 days        43.5  \n",
       "44       76 days        44.5  \n",
       "45       78 days        45.5  \n",
       "46       78 days        46.5  \n",
       "47       79 days        47.5  \n",
       "48       80 days        48.5  \n",
       "49       80 days        49.5  \n",
       "50       81 days        50.5  \n",
       "51       82 days        51.5  \n",
       "52       83 days        52.5  \n",
       "53       83 days        53.5  \n",
       "54       85 days        54.5  \n",
       "55       85 days        55.5  \n",
       "56       86 days        56.5  "
      ]
     },
     "execution_count": 69,
     "metadata": {},
     "output_type": "execute_result"
    }
   ],
   "source": [
    "base.groupby(base['Data'].dt.month)['Obitos'].sum()\n",
    "base['MesMorte'] = base['Data'].dt.month\n",
    "base['diferencaDias'] = base['Data'] - base['Data'].min()\n",
    "base['MédiaMovel'] = base['Obitos'].rolling(2).mean()\n",
    "base"
   ]
  },
  {
   "cell_type": "code",
   "execution_count": 8,
   "metadata": {},
   "outputs": [
    {
     "data": {
      "text/html": [
       "<div>\n",
       "<style scoped>\n",
       "    .dataframe tbody tr th:only-of-type {\n",
       "        vertical-align: middle;\n",
       "    }\n",
       "\n",
       "    .dataframe tbody tr th {\n",
       "        vertical-align: top;\n",
       "    }\n",
       "\n",
       "    .dataframe thead th {\n",
       "        text-align: right;\n",
       "    }\n",
       "</style>\n",
       "<table border=\"1\" class=\"dataframe\">\n",
       "  <thead>\n",
       "    <tr style=\"text-align: right;\">\n",
       "      <th>Sexo</th>\n",
       "      <th>Mulher</th>\n",
       "      <th>Homem</th>\n",
       "    </tr>\n",
       "    <tr>\n",
       "      <th>Sexo</th>\n",
       "      <th></th>\n",
       "      <th></th>\n",
       "    </tr>\n",
       "  </thead>\n",
       "  <tbody>\n",
       "    <tr>\n",
       "      <th>Mulher</th>\n",
       "      <td>23</td>\n",
       "      <td>0</td>\n",
       "    </tr>\n",
       "    <tr>\n",
       "      <th>Homem</th>\n",
       "      <td>0</td>\n",
       "      <td>34</td>\n",
       "    </tr>\n",
       "  </tbody>\n",
       "</table>\n",
       "</div>"
      ],
      "text/plain": [
       "Sexo      Mulher  Homem\n",
       "Sexo                   \n",
       " Mulher       23      0\n",
       "Homem          0     34"
      ]
     },
     "execution_count": 8,
     "metadata": {},
     "output_type": "execute_result"
    }
   ],
   "source": [
    "pd.crosstab(base['Sexo'],base['Sexo'])"
   ]
  },
  {
   "cell_type": "code",
   "execution_count": 9,
   "metadata": {},
   "outputs": [
    {
     "data": {
      "text/plain": [
       "<matplotlib.axes._subplots.AxesSubplot at 0x11f547eee48>"
      ]
     },
     "execution_count": 9,
     "metadata": {},
     "output_type": "execute_result"
    },
    {
     "data": {
      "image/png": "[encoded data removed]",
      "text/plain": [
       "<Figure size 720x720 with 1 Axes>"
      ]
     },
     "metadata": {},
     "output_type": "display_data"
    }
   ],
   "source": [
    "base['Sexo'].value_counts().plot(kind = \"pie\", figsize = (10,10))"
   ]
  },
  {
   "cell_type": "code",
   "execution_count": 10,
   "metadata": {},
   "outputs": [
    {
     "data": {
      "text/plain": [
       "Data\n",
       "3     1\n",
       "4     4\n",
       "5    22\n",
       "6    30\n",
       "Name: Obitos, dtype: int64"
      ]
     },
     "execution_count": 10,
     "metadata": {},
     "output_type": "execute_result"
    }
   ],
   "source": [
    "df = base.groupby(base['Data'].dt.month)['Obitos'].count()\n",
    "df"
   ]
  },
  {
   "cell_type": "code",
   "execution_count": 83,
   "metadata": {},
   "outputs": [
    {
     "data": {
      "text/plain": [
       "<matplotlib.axes._subplots.AxesSubplot at 0x11f55edcf28>"
      ]
     },
     "execution_count": 83,
     "metadata": {},
     "output_type": "execute_result"
    },
    {
     "data": {
      "image/png": "[encoded data removed]",
      "text/plain": [
       "<Figure size 720x360 with 1 Axes>"
      ]
     },
     "metadata": {
      "needs_background": "light"
     },
     "output_type": "display_data"
    }
   ],
   "source": [
    "df.plot(kind = \"bar\", figsize = (10,5))"
   ]
  },
  {
   "cell_type": "code",
   "execution_count": 84,
   "metadata": {},
   "outputs": [
    {
     "data": {
      "text/plain": [
       "52   83 days\n",
       "53   83 days\n",
       "54   85 days\n",
       "55   85 days\n",
       "56   86 days\n",
       "Name: Data, dtype: timedelta64[ns]"
      ]
     },
     "execution_count": 84,
     "metadata": {},
     "output_type": "execute_result"
    }
   ],
   "source": [
    "a = base['diferencaDias'] = base['Data'] - base['Data'].min()\n",
    "a.tail()"
   ]
  },
  {
   "cell_type": "code",
   "execution_count": 13,
   "metadata": {},
   "outputs": [
    {
     "data": {
      "text/html": [
       "<div>\n",
       "<style scoped>\n",
       "    .dataframe tbody tr th:only-of-type {\n",
       "        vertical-align: middle;\n",
       "    }\n",
       "\n",
       "    .dataframe tbody tr th {\n",
       "        vertical-align: top;\n",
       "    }\n",
       "\n",
       "    .dataframe thead th {\n",
       "        text-align: right;\n",
       "    }\n",
       "</style>\n",
       "<table border=\"1\" class=\"dataframe\">\n",
       "  <thead>\n",
       "    <tr style=\"text-align: right;\">\n",
       "      <th>Comorbidade</th>\n",
       "      <th>Com comorbidades</th>\n",
       "      <th>Sem comorbidade</th>\n",
       "    </tr>\n",
       "    <tr>\n",
       "      <th>Comorbidade</th>\n",
       "      <th></th>\n",
       "      <th></th>\n",
       "    </tr>\n",
       "  </thead>\n",
       "  <tbody>\n",
       "    <tr>\n",
       "      <th>Com comorbidades</th>\n",
       "      <td>43</td>\n",
       "      <td>0</td>\n",
       "    </tr>\n",
       "    <tr>\n",
       "      <th>Sem comorbidade</th>\n",
       "      <td>0</td>\n",
       "      <td>14</td>\n",
       "    </tr>\n",
       "  </tbody>\n",
       "</table>\n",
       "</div>"
      ],
      "text/plain": [
       "Comorbidade       Com comorbidades  Sem comorbidade\n",
       "Comorbidade                                        \n",
       "Com comorbidades                43                0\n",
       "Sem comorbidade                  0               14"
      ]
     },
     "execution_count": 13,
     "metadata": {},
     "output_type": "execute_result"
    }
   ],
   "source": [
    "pd.crosstab(base['Comorbidade'],base['Comorbidade'])"
   ]
  },
  {
   "cell_type": "code",
   "execution_count": 14,
   "metadata": {},
   "outputs": [
    {
     "data": {
      "text/plain": [
       "<matplotlib.axes._subplots.AxesSubplot at 0x11f54c9a278>"
      ]
     },
     "execution_count": 14,
     "metadata": {},
     "output_type": "execute_result"
    },
    {
     "data": {
      "image/png": "[encoded data removed]",
      "text/plain": [
       "<Figure size 432x432 with 1 Axes>"
      ]
     },
     "metadata": {
      "needs_background": "light"
     },
     "output_type": "display_data"
    }
   ],
   "source": [
    "base['Comorbidade'].value_counts().head().plot(kind = \"barh\", figsize = (6,6))"
   ]
  },
  {
   "cell_type": "code",
   "execution_count": 15,
   "metadata": {},
   "outputs": [
    {
     "data": {
      "image/png": "[encoded data removed]",
      "text/plain": [
       "<Figure size 720x432 with 1 Axes>"
      ]
     },
     "metadata": {
      "needs_background": "light"
     },
     "output_type": "display_data"
    }
   ],
   "source": [
    "base.plot(x='Data', y='Obitos', figsize=(10,6));\n",
    "plt.title('Óbitos em Indaiatuba')\n",
    "plt.ylabel('Obitos')\n",
    "plt.xlabel('Data')\n",
    "plt.show()"
   ]
  },
  {
   "cell_type": "code",
   "execution_count": 16,
   "metadata": {},
   "outputs": [
    {
     "data": {
      "text/plain": [
       "65.24561403508773"
      ]
     },
     "execution_count": 16,
     "metadata": {},
     "output_type": "execute_result"
    }
   ],
   "source": [
    "base['Idade'].mean()"
   ]
  },
  {
   "cell_type": "code",
   "execution_count": 17,
   "metadata": {},
   "outputs": [
    {
     "data": {
      "text/plain": [
       "14.618091410687926"
      ]
     },
     "execution_count": 17,
     "metadata": {},
     "output_type": "execute_result"
    }
   ],
   "source": [
    "base['Idade'].std()"
   ]
  },
  {
   "cell_type": "code",
   "execution_count": 18,
   "metadata": {},
   "outputs": [
    {
     "data": {
      "text/plain": [
       "67.0"
      ]
     },
     "execution_count": 18,
     "metadata": {},
     "output_type": "execute_result"
    }
   ],
   "source": [
    "base['Idade'].median()"
   ]
  },
  {
   "cell_type": "code",
   "execution_count": 19,
   "metadata": {},
   "outputs": [
    {
     "data": {
      "text/plain": [
       "0    67\n",
       "1    86\n",
       "dtype: int64"
      ]
     },
     "execution_count": 19,
     "metadata": {},
     "output_type": "execute_result"
    }
   ],
   "source": [
    "base['Idade'].mode()"
   ]
  },
  {
   "cell_type": "code",
   "execution_count": 20,
   "metadata": {},
   "outputs": [
    {
     "data": {
      "text/plain": [
       "<matplotlib.axes._subplots.AxesSubplot at 0x11f54ef5a20>"
      ]
     },
     "execution_count": 20,
     "metadata": {},
     "output_type": "execute_result"
    },
    {
     "data": {
      "image/png": "[encoded data removed]",
      "text/plain": [
       "<Figure size 720x360 with 1 Axes>"
      ]
     },
     "metadata": {
      "needs_background": "light"
     },
     "output_type": "display_data"
    }
   ],
   "source": [
    "base['Idade'].value_counts().plot(kind='bar',figsize = (10,5), title='Mortes/Idade')"
   ]
  },
  {
   "cell_type": "code",
   "execution_count": 21,
   "metadata": {},
   "outputs": [],
   "source": [
    "log_returns = np.log(1 + base['Obitos'].pct_change())"
   ]
  },
  {
   "cell_type": "code",
   "execution_count": 22,
   "metadata": {},
   "outputs": [
    {
     "data": {
      "text/plain": [
       "52    53\n",
       "53    54\n",
       "54    55\n",
       "55    56\n",
       "56    57\n",
       "Name: Obitos, dtype: int64"
      ]
     },
     "execution_count": 22,
     "metadata": {},
     "output_type": "execute_result"
    }
   ],
   "source": [
    "base['Obitos'].tail()"
   ]
  },
  {
   "cell_type": "code",
   "execution_count": 24,
   "metadata": {},
   "outputs": [
    {
     "data": {
      "text/plain": [
       "<matplotlib.axes._subplots.AxesSubplot at 0x11f5501d630>"
      ]
     },
     "execution_count": 24,
     "metadata": {},
     "output_type": "execute_result"
    },
    {
     "data": {
      "image/png": "[encoded data removed]",
      "text/plain": [
       "<Figure size 720x432 with 1 Axes>"
      ]
     },
     "metadata": {
      "needs_background": "light"
     },
     "output_type": "display_data"
    }
   ],
   "source": [
    "log_returns.plot(figsize=(10,6))"
   ]
  },
  {
   "cell_type": "code",
   "execution_count": 25,
   "metadata": {},
   "outputs": [
    {
     "data": {
      "text/plain": [
       "0.0721973440684741"
      ]
     },
     "execution_count": 25,
     "metadata": {},
     "output_type": "execute_result"
    }
   ],
   "source": [
    "u = log_returns.mean()\n",
    "u"
   ]
  },
  {
   "cell_type": "code",
   "execution_count": 26,
   "metadata": {},
   "outputs": [
    {
     "data": {
      "text/plain": [
       "0.012140871093276887"
      ]
     },
     "execution_count": 26,
     "metadata": {},
     "output_type": "execute_result"
    }
   ],
   "source": [
    "var = log_returns.var()\n",
    "var"
   ]
  },
  {
   "cell_type": "code",
   "execution_count": 27,
   "metadata": {},
   "outputs": [
    {
     "data": {
      "text/plain": [
       "0.06612690852183566"
      ]
     },
     "execution_count": 27,
     "metadata": {},
     "output_type": "execute_result"
    }
   ],
   "source": [
    "drift = u - (0.5 * var)\n",
    "drift"
   ]
  },
  {
   "cell_type": "code",
   "execution_count": 28,
   "metadata": {},
   "outputs": [
    {
     "data": {
      "text/plain": [
       "0.11018562108223054"
      ]
     },
     "execution_count": 28,
     "metadata": {},
     "output_type": "execute_result"
    }
   ],
   "source": [
    "stdev = log_returns.std()\n",
    "stdev"
   ]
  },
  {
   "cell_type": "code",
   "execution_count": 29,
   "metadata": {},
   "outputs": [
    {
     "data": {
      "text/plain": [
       "float"
      ]
     },
     "execution_count": 29,
     "metadata": {},
     "output_type": "execute_result"
    }
   ],
   "source": [
    "type(drift)"
   ]
  },
  {
   "cell_type": "code",
   "execution_count": 30,
   "metadata": {},
   "outputs": [
    {
     "data": {
      "text/plain": [
       "float"
      ]
     },
     "execution_count": 30,
     "metadata": {},
     "output_type": "execute_result"
    }
   ],
   "source": [
    "type(stdev)"
   ]
  },
  {
   "cell_type": "code",
   "execution_count": 31,
   "metadata": {},
   "outputs": [
    {
     "data": {
      "text/plain": [
       "array(0.06612691)"
      ]
     },
     "execution_count": 31,
     "metadata": {},
     "output_type": "execute_result"
    }
   ],
   "source": [
    "np.array(drift)"
   ]
  },
  {
   "cell_type": "code",
   "execution_count": 32,
   "metadata": {},
   "outputs": [
    {
     "data": {
      "text/plain": [
       "0.06612690852183566"
      ]
     },
     "execution_count": 32,
     "metadata": {},
     "output_type": "execute_result"
    }
   ],
   "source": [
    "drift"
   ]
  },
  {
   "cell_type": "code",
   "execution_count": 33,
   "metadata": {},
   "outputs": [
    {
     "data": {
      "text/plain": [
       "0.11018562108223054"
      ]
     },
     "execution_count": 33,
     "metadata": {},
     "output_type": "execute_result"
    }
   ],
   "source": [
    "stdev"
   ]
  },
  {
   "cell_type": "code",
   "execution_count": 34,
   "metadata": {},
   "outputs": [
    {
     "data": {
      "text/plain": [
       "1.6448536269514722"
      ]
     },
     "execution_count": 34,
     "metadata": {},
     "output_type": "execute_result"
    }
   ],
   "source": [
    "norm.ppf(0.95)"
   ]
  },
  {
   "cell_type": "code",
   "execution_count": 35,
   "metadata": {},
   "outputs": [
    {
     "data": {
      "text/plain": [
       "array([[0.75030627, 0.75190313],\n",
       "       [0.343546  , 0.46159153],\n",
       "       [0.82969488, 0.06713685],\n",
       "       [0.93492491, 0.20264718],\n",
       "       [0.38655558, 0.38916089],\n",
       "       [0.77555909, 0.72012139],\n",
       "       [0.49521864, 0.51787661],\n",
       "       [0.12422126, 0.3110612 ],\n",
       "       [0.43872436, 0.43323823],\n",
       "       [0.56671411, 0.2281612 ]])"
      ]
     },
     "execution_count": 35,
     "metadata": {},
     "output_type": "execute_result"
    }
   ],
   "source": [
    "x = np.random.rand(10,2)\n",
    "x"
   ]
  },
  {
   "cell_type": "code",
   "execution_count": 36,
   "metadata": {},
   "outputs": [
    {
     "data": {
      "text/plain": [
       "array([[ 0.67545385,  0.68049082],\n",
       "       [-0.40280457, -0.09642497],\n",
       "       [ 0.9529602 , -1.49745962],\n",
       "       [ 1.5135099 , -0.83220302],\n",
       "       [-0.28830777, -0.28150672],\n",
       "       [ 0.75728053,  0.58320215],\n",
       "       [-0.01198537,  0.04482502],\n",
       "       [-1.15414061, -0.49284459],\n",
       "       [-0.15420422, -0.16813578],\n",
       "       [ 0.16801461, -0.74491616]])"
      ]
     },
     "execution_count": 36,
     "metadata": {},
     "output_type": "execute_result"
    }
   ],
   "source": [
    "norm.ppf(x)"
   ]
  },
  {
   "cell_type": "code",
   "execution_count": 37,
   "metadata": {},
   "outputs": [
    {
     "data": {
      "text/plain": [
       "array([[ 0.34056234,  0.34223784, -0.1659126 ,  0.98430769],\n",
       "       [-0.29150402, -0.72873962,  1.36278304,  1.27932379],\n",
       "       [ 0.25856209, -0.35694135, -0.56029461,  0.13305609],\n",
       "       [ 0.18128105, -1.32758742, -1.57225685,  1.0513249 ],\n",
       "       [ 0.1812735 ,  0.83296858,  0.1130386 , -0.83604076],\n",
       "       [ 0.18822952,  0.86158004, -1.31787235,  1.30356586],\n",
       "       [ 0.92759784, -0.72061622, -0.22789129,  0.75016693],\n",
       "       [-0.61426513,  0.49357836, -0.89552792, -0.42384674],\n",
       "       [-1.14445594, -1.69270774, -0.75206976, -1.51278872],\n",
       "       [ 1.67213389,  0.45505306,  0.30829156, -1.27696367]])"
      ]
     },
     "execution_count": 37,
     "metadata": {},
     "output_type": "execute_result"
    }
   ],
   "source": [
    "z= norm.ppf(np.random.rand(10,4))\n",
    "z"
   ]
  },
  {
   "cell_type": "code",
   "execution_count": 38,
   "metadata": {},
   "outputs": [],
   "source": [
    "t_intervals = 30\n",
    "iterations = 10"
   ]
  },
  {
   "cell_type": "code",
   "execution_count": 39,
   "metadata": {},
   "outputs": [],
   "source": [
    "daily_returns = np.exp(drift + stdev * norm.ppf(np.random.rand(t_intervals, iterations)))"
   ]
  },
  {
   "cell_type": "code",
   "execution_count": 40,
   "metadata": {},
   "outputs": [
    {
     "data": {
      "text/plain": [
       "array([[0.92879788, 0.9034412 , 1.06967015, 1.13423677, 0.9399556 ,\n",
       "        1.04023521, 0.99961486, 1.19076436, 1.13206431, 1.21946968],\n",
       "       [1.1675056 , 1.06798408, 1.09011322, 0.86326002, 1.08302025,\n",
       "        1.07063996, 1.05076037, 0.97616803, 1.12446399, 1.02738216],\n",
       "       [1.17430173, 0.97768352, 1.28279065, 0.8974375 , 1.02873712,\n",
       "        1.07970877, 1.11986796, 1.04815102, 1.31810627, 0.94108621],\n",
       "       [0.95000325, 1.08212382, 1.13478148, 1.05972647, 1.11421509,\n",
       "        1.14350933, 0.97569898, 1.00557975, 1.11700994, 0.88259595],\n",
       "       [1.04065959, 1.05916746, 1.12651802, 1.20940158, 0.88845804,\n",
       "        1.0483108 , 1.12942335, 1.19318272, 0.99228466, 0.94237755],\n",
       "       [1.04965048, 1.1033311 , 1.04561869, 0.99962584, 1.06561285,\n",
       "        1.06281277, 0.94430187, 0.98473705, 1.13625861, 0.75899324],\n",
       "       [1.1983627 , 0.9707989 , 1.06604554, 1.0504962 , 0.97189433,\n",
       "        1.39750055, 0.90083733, 0.9703113 , 1.12421057, 1.19708513],\n",
       "       [1.18018431, 0.95897624, 1.20145037, 0.99735148, 1.21658262,\n",
       "        0.93828731, 1.12711246, 1.04929123, 1.47415861, 1.03965691],\n",
       "       [0.87687516, 0.90042318, 1.20500898, 0.88912276, 1.13213765,\n",
       "        1.16389535, 0.97417413, 1.21591287, 0.96044888, 0.88394067],\n",
       "       [1.00702324, 1.09798399, 0.91764291, 0.93723235, 0.9424038 ,\n",
       "        1.14268658, 1.10583274, 0.92123413, 1.08493777, 1.16284136],\n",
       "       [0.9599215 , 1.08208885, 0.91472773, 1.0275718 , 0.9999757 ,\n",
       "        0.99079249, 1.16368359, 0.91486424, 0.99637121, 1.14164783],\n",
       "       [1.07992069, 0.82868956, 1.16725797, 1.12169013, 0.85144082,\n",
       "        1.03519486, 0.94417165, 0.92042658, 1.04113854, 0.98925492],\n",
       "       [0.81812144, 1.09828199, 1.07774952, 1.06410255, 0.93587216,\n",
       "        1.08184356, 0.95009743, 1.01994907, 1.03419717, 1.20856843],\n",
       "       [0.99492625, 1.05189657, 1.04605963, 1.09711075, 1.18405539,\n",
       "        1.02724146, 1.10224207, 1.09236445, 1.08729485, 1.1082166 ],\n",
       "       [1.07861712, 1.05806173, 1.0131195 , 1.30305858, 1.11396967,\n",
       "        1.22419508, 0.97268376, 0.98631591, 0.91261483, 1.14154607],\n",
       "       [1.08659844, 1.18934475, 0.86263491, 1.04687137, 1.0295946 ,\n",
       "        1.02283584, 1.00229038, 1.21328702, 0.96908388, 1.17194856],\n",
       "       [1.00415536, 1.09686864, 0.85834425, 1.12063282, 0.78785187,\n",
       "        1.05334926, 0.99145049, 1.02479412, 1.1241262 , 0.98878986],\n",
       "       [0.96733937, 1.21664045, 1.06778454, 0.96829023, 0.88572899,\n",
       "        1.22538328, 1.00783929, 0.98768289, 1.10906789, 1.01965648],\n",
       "       [1.28462823, 1.21284749, 1.21639336, 0.88423385, 1.17202336,\n",
       "        1.17039836, 0.9531742 , 1.15774392, 1.04333436, 1.43352254],\n",
       "       [0.98234706, 1.13224112, 1.11953411, 1.12593226, 1.18572996,\n",
       "        0.8336451 , 1.18313399, 1.02006363, 0.92533309, 1.05187344],\n",
       "       [1.12222299, 1.06993371, 1.11530094, 1.13214197, 0.95747903,\n",
       "        1.11908458, 1.20323863, 1.08551827, 1.22147518, 1.11171607],\n",
       "       [1.09673533, 0.96626554, 0.89810798, 1.05500035, 0.9371021 ,\n",
       "        0.98083382, 1.09006822, 1.11017757, 0.97157466, 0.79626029],\n",
       "       [1.04696314, 0.96328328, 0.96945332, 0.84777492, 0.84875246,\n",
       "        0.9990178 , 1.08024176, 1.09509194, 0.85109309, 0.98875528],\n",
       "       [0.92594633, 1.16289149, 1.10145437, 0.96322343, 1.06328706,\n",
       "        0.86837185, 1.24366104, 1.07482725, 1.06859593, 0.9224029 ],\n",
       "       [0.9167007 , 0.97877351, 1.19109958, 0.90694081, 1.14898357,\n",
       "        1.06218356, 1.06159752, 1.07334634, 1.08733283, 0.87243168],\n",
       "       [1.13853616, 1.3081465 , 1.01391993, 1.11358806, 1.04159202,\n",
       "        1.13921023, 0.85478647, 1.11668847, 1.12268245, 1.05533467],\n",
       "       [1.03142628, 1.13145582, 1.10834026, 1.16900568, 0.8944111 ,\n",
       "        1.16866976, 0.97756217, 1.00721045, 1.21868477, 1.08047917],\n",
       "       [0.86517023, 0.81765202, 1.06485691, 1.20867835, 1.3050937 ,\n",
       "        1.00245174, 1.22775813, 1.22763299, 1.0923766 , 1.09353804],\n",
       "       [1.23899563, 0.94888861, 1.11892696, 1.19991023, 0.98025346,\n",
       "        0.86796283, 1.05798908, 1.26633322, 0.98054152, 1.14619739],\n",
       "       [0.84787132, 0.96473069, 0.84555216, 1.17636566, 1.03830893,\n",
       "        0.88509214, 1.03259818, 1.02990446, 1.00139492, 1.06452191]])"
      ]
     },
     "execution_count": 40,
     "metadata": {},
     "output_type": "execute_result"
    }
   ],
   "source": [
    "daily_returns"
   ]
  },
  {
   "cell_type": "code",
   "execution_count": 41,
   "metadata": {},
   "outputs": [
    {
     "data": {
      "text/plain": [
       "57"
      ]
     },
     "execution_count": 41,
     "metadata": {},
     "output_type": "execute_result"
    }
   ],
   "source": [
    "S0 = base['Obitos'].iloc[-1]\n",
    "S0"
   ]
  },
  {
   "cell_type": "code",
   "execution_count": 42,
   "metadata": {},
   "outputs": [],
   "source": [
    "price_list = np.zeros_like(daily_returns)"
   ]
  },
  {
   "cell_type": "code",
   "execution_count": 43,
   "metadata": {},
   "outputs": [
    {
     "data": {
      "text/plain": [
       "array([[0., 0., 0., 0., 0., 0., 0., 0., 0., 0.],\n",
       "       [0., 0., 0., 0., 0., 0., 0., 0., 0., 0.],\n",
       "       [0., 0., 0., 0., 0., 0., 0., 0., 0., 0.],\n",
       "       [0., 0., 0., 0., 0., 0., 0., 0., 0., 0.],\n",
       "       [0., 0., 0., 0., 0., 0., 0., 0., 0., 0.],\n",
       "       [0., 0., 0., 0., 0., 0., 0., 0., 0., 0.],\n",
       "       [0., 0., 0., 0., 0., 0., 0., 0., 0., 0.],\n",
       "       [0., 0., 0., 0., 0., 0., 0., 0., 0., 0.],\n",
       "       [0., 0., 0., 0., 0., 0., 0., 0., 0., 0.],\n",
       "       [0., 0., 0., 0., 0., 0., 0., 0., 0., 0.],\n",
       "       [0., 0., 0., 0., 0., 0., 0., 0., 0., 0.],\n",
       "       [0., 0., 0., 0., 0., 0., 0., 0., 0., 0.],\n",
       "       [0., 0., 0., 0., 0., 0., 0., 0., 0., 0.],\n",
       "       [0., 0., 0., 0., 0., 0., 0., 0., 0., 0.],\n",
       "       [0., 0., 0., 0., 0., 0., 0., 0., 0., 0.],\n",
       "       [0., 0., 0., 0., 0., 0., 0., 0., 0., 0.],\n",
       "       [0., 0., 0., 0., 0., 0., 0., 0., 0., 0.],\n",
       "       [0., 0., 0., 0., 0., 0., 0., 0., 0., 0.],\n",
       "       [0., 0., 0., 0., 0., 0., 0., 0., 0., 0.],\n",
       "       [0., 0., 0., 0., 0., 0., 0., 0., 0., 0.],\n",
       "       [0., 0., 0., 0., 0., 0., 0., 0., 0., 0.],\n",
       "       [0., 0., 0., 0., 0., 0., 0., 0., 0., 0.],\n",
       "       [0., 0., 0., 0., 0., 0., 0., 0., 0., 0.],\n",
       "       [0., 0., 0., 0., 0., 0., 0., 0., 0., 0.],\n",
       "       [0., 0., 0., 0., 0., 0., 0., 0., 0., 0.],\n",
       "       [0., 0., 0., 0., 0., 0., 0., 0., 0., 0.],\n",
       "       [0., 0., 0., 0., 0., 0., 0., 0., 0., 0.],\n",
       "       [0., 0., 0., 0., 0., 0., 0., 0., 0., 0.],\n",
       "       [0., 0., 0., 0., 0., 0., 0., 0., 0., 0.],\n",
       "       [0., 0., 0., 0., 0., 0., 0., 0., 0., 0.]])"
      ]
     },
     "execution_count": 43,
     "metadata": {},
     "output_type": "execute_result"
    }
   ],
   "source": [
    "price_list"
   ]
  },
  {
   "cell_type": "code",
   "execution_count": 44,
   "metadata": {},
   "outputs": [
    {
     "data": {
      "text/plain": [
       "array([[57., 57., 57., 57., 57., 57., 57., 57., 57., 57.],\n",
       "       [ 0.,  0.,  0.,  0.,  0.,  0.,  0.,  0.,  0.,  0.],\n",
       "       [ 0.,  0.,  0.,  0.,  0.,  0.,  0.,  0.,  0.,  0.],\n",
       "       [ 0.,  0.,  0.,  0.,  0.,  0.,  0.,  0.,  0.,  0.],\n",
       "       [ 0.,  0.,  0.,  0.,  0.,  0.,  0.,  0.,  0.,  0.],\n",
       "       [ 0.,  0.,  0.,  0.,  0.,  0.,  0.,  0.,  0.,  0.],\n",
       "       [ 0.,  0.,  0.,  0.,  0.,  0.,  0.,  0.,  0.,  0.],\n",
       "       [ 0.,  0.,  0.,  0.,  0.,  0.,  0.,  0.,  0.,  0.],\n",
       "       [ 0.,  0.,  0.,  0.,  0.,  0.,  0.,  0.,  0.,  0.],\n",
       "       [ 0.,  0.,  0.,  0.,  0.,  0.,  0.,  0.,  0.,  0.],\n",
       "       [ 0.,  0.,  0.,  0.,  0.,  0.,  0.,  0.,  0.,  0.],\n",
       "       [ 0.,  0.,  0.,  0.,  0.,  0.,  0.,  0.,  0.,  0.],\n",
       "       [ 0.,  0.,  0.,  0.,  0.,  0.,  0.,  0.,  0.,  0.],\n",
       "       [ 0.,  0.,  0.,  0.,  0.,  0.,  0.,  0.,  0.,  0.],\n",
       "       [ 0.,  0.,  0.,  0.,  0.,  0.,  0.,  0.,  0.,  0.],\n",
       "       [ 0.,  0.,  0.,  0.,  0.,  0.,  0.,  0.,  0.,  0.],\n",
       "       [ 0.,  0.,  0.,  0.,  0.,  0.,  0.,  0.,  0.,  0.],\n",
       "       [ 0.,  0.,  0.,  0.,  0.,  0.,  0.,  0.,  0.,  0.],\n",
       "       [ 0.,  0.,  0.,  0.,  0.,  0.,  0.,  0.,  0.,  0.],\n",
       "       [ 0.,  0.,  0.,  0.,  0.,  0.,  0.,  0.,  0.,  0.],\n",
       "       [ 0.,  0.,  0.,  0.,  0.,  0.,  0.,  0.,  0.,  0.],\n",
       "       [ 0.,  0.,  0.,  0.,  0.,  0.,  0.,  0.,  0.,  0.],\n",
       "       [ 0.,  0.,  0.,  0.,  0.,  0.,  0.,  0.,  0.,  0.],\n",
       "       [ 0.,  0.,  0.,  0.,  0.,  0.,  0.,  0.,  0.,  0.],\n",
       "       [ 0.,  0.,  0.,  0.,  0.,  0.,  0.,  0.,  0.,  0.],\n",
       "       [ 0.,  0.,  0.,  0.,  0.,  0.,  0.,  0.,  0.,  0.],\n",
       "       [ 0.,  0.,  0.,  0.,  0.,  0.,  0.,  0.,  0.,  0.],\n",
       "       [ 0.,  0.,  0.,  0.,  0.,  0.,  0.,  0.,  0.,  0.],\n",
       "       [ 0.,  0.,  0.,  0.,  0.,  0.,  0.,  0.,  0.,  0.],\n",
       "       [ 0.,  0.,  0.,  0.,  0.,  0.,  0.,  0.,  0.,  0.]])"
      ]
     },
     "execution_count": 44,
     "metadata": {},
     "output_type": "execute_result"
    }
   ],
   "source": [
    "price_list[0] = S0\n",
    "price_list"
   ]
  },
  {
   "cell_type": "code",
   "execution_count": 45,
   "metadata": {},
   "outputs": [],
   "source": [
    "for t in range (1, t_intervals):\n",
    "    price_list[t] = price_list[t-1]* daily_returns[t]"
   ]
  },
  {
   "cell_type": "code",
   "execution_count": 46,
   "metadata": {},
   "outputs": [
    {
     "data": {
      "text/plain": [
       "array([[ 57.        ,  57.        ,  57.        ,  57.        ,\n",
       "         57.        ,  57.        ,  57.        ,  57.        ,\n",
       "         57.        ,  57.        ],\n",
       "       [ 66.54781916,  60.87509271,  62.13645364,  49.20582108,\n",
       "         61.73215413,  61.02647757,  59.89334119,  55.64157785,\n",
       "         64.09444769,  58.5607832 ],\n",
       "       [ 78.14721903,  59.51657488,  79.70806172,  44.15914917,\n",
       "         63.50615869,  65.89082329,  67.07263374,  58.32077637,\n",
       "         84.48329362,  55.11074526],\n",
       "       [ 74.24011187,  64.40430345,  90.45123233,  46.7966192 ,\n",
       "         70.75952064,  75.34677108,  65.44270048,  58.64619146,\n",
       "         94.36867866,  48.64052047],\n",
       "       [ 77.25868447,  68.2149424 , 101.89494328,  56.59590533,\n",
       "         62.86686497,  78.98683417,  73.9125141 ,  69.97562216,\n",
       "         93.64059243,  45.83773452],\n",
       "       [ 81.09461534,  75.26366734, 106.54325722,  56.57472918,\n",
       "         66.99173892,  83.94821572,  69.79572526,  68.90758798,\n",
       "        106.39992917,  34.79053044],\n",
       "       [ 97.18076226,  73.06588532, 113.5799643 ,  59.43153804,\n",
       "         65.10889097, 117.31767758,  62.87459472,  66.86181132,\n",
       "        119.61592465,  41.64722653],\n",
       "       [114.69121092,  70.06844764, 136.46069021,  59.27413231,\n",
       "         79.21034501, 110.07768828,  70.866739  ,  70.15751229,\n",
       "        176.33284559,  43.29882696],\n",
       "       [100.5698735 ,  63.09125471, 164.43635678,  52.70197997,\n",
       "         89.6770138 , 128.11890924,  69.0365435 ,  85.30542181,\n",
       "        169.35868431,  38.27359417],\n",
       "       [101.27619976,  69.2731878 , 150.89385723,  49.39400051,\n",
       "         84.51195889, 146.39975847,  76.3428703 ,  78.58626585,\n",
       "        183.74363352,  44.50611829],\n",
       "       [ 97.21720126,  74.95974431, 138.02679594,  50.75588185,\n",
       "         84.50990528, 145.0517816 ,  88.83894567,  71.89576446,\n",
       "        183.07686733,  50.81031339],\n",
       "       [104.98686685,  62.1183578 , 161.11287824,  56.93237172,\n",
       "         71.95518265, 150.15685944,  83.8792136 ,  66.17477237,\n",
       "        190.60838275,  50.26435268],\n",
       "       [ 85.89200669,  68.22347335, 173.63932723,  60.58188185,\n",
       "         67.34085214, 162.44623192,  79.69342555,  67.49489725,\n",
       "        197.1266508 ,  60.74790976],\n",
       "       [ 85.45621187,  71.76403741, 181.63709097,  66.46503398,\n",
       "         79.7352988 , 166.87150422,  87.84144603,  73.72902621,\n",
       "        214.33479276,  67.32184186],\n",
       "       [ 92.17453351,  75.9307816 , 184.02007881,  86.60783308,\n",
       "         88.82270431, 204.28327469,  85.44194768,  72.72011186,\n",
       "        195.6051094 ,  76.85098412],\n",
       "       [100.15670438,  90.30787634, 158.74214365,  90.66726127,\n",
       "         91.4513767 , 208.9482554 ,  85.63764207,  88.23036809,\n",
       "        189.55775891,  90.06540056],\n",
       "       [100.5728911 ,  99.05587762, 136.25540545, 101.60470896,\n",
       "         72.05013796, 220.09549042,  84.90548254,  90.41796274,\n",
       "        213.08684397,  89.05575487],\n",
       "       [ 97.28811702, 120.51538706, 145.49141535,  98.38284667,\n",
       "         63.81689602, 269.7013344 ,  85.57108131,  89.30427467,\n",
       "        236.3277772 ,  90.80627766],\n",
       "       [124.97906122, 146.16678457, 176.97479146,  86.99344285,\n",
       "         74.79489311, 315.65799936,  81.56414686, 103.39148113,\n",
       "        246.56888953, 130.17284589],\n",
       "       [122.77281293, 165.49604414, 198.12931618,  97.94872355,\n",
       "         88.68654585, 263.14674488,  96.50131492, 105.46588908,\n",
       "        228.15835218, 136.92535912],\n",
       "       [137.77847267, 177.0697957 , 220.9738127 , 110.8918609 ,\n",
       "         84.91550765, 294.48346455, 116.11410963, 114.48514998,\n",
       "        278.68976499, 152.22212211],\n",
       "       [151.10651866, 171.0964425 , 198.45834533, 116.99095207,\n",
       "         79.57450073, 288.83934059, 126.57230079, 127.09884599,\n",
       "        270.76791238, 121.20843101],\n",
       "       [158.20295558, 164.81434183, 192.39610267,  99.18199471,\n",
       "         67.53905288, 288.55564376, 136.72868503, 139.18492153,\n",
       "        230.44870054, 119.84547633],\n",
       "       [146.48744691, 191.66119621, 211.91552888,  95.53442108,\n",
       "         71.81340111, 250.57359863, 170.04413924, 149.59974583,\n",
       "        246.25654452, 110.54581441],\n",
       "       [134.28514478, 187.59290257, 252.41249698,  86.64406565,\n",
       "         82.51241828, 266.155158  , 180.51843616, 160.57233983,\n",
       "        267.7628256 ,  96.44367104],\n",
       "       [152.88849285, 245.39899877, 255.92606003,  96.48579714,\n",
       "         85.94427678, 303.20667897, 154.30471679, 179.30928082,\n",
       "        300.61262584, 101.78034933],\n",
       "       [157.69320913, 277.65812549, 283.65315706, 112.79244531,\n",
       "         76.86951537, 354.3484753 , 150.84245378, 180.60218138,\n",
       "        366.35202765, 109.97154771],\n",
       "       [136.43146961, 227.0277268 , 302.05002354, 136.32978653,\n",
       "        100.32192007, 355.21724412, 185.19804932, 221.71319622,\n",
       "        400.19438315, 120.25807068],\n",
       "       [169.0379952 , 215.42402484, 337.97191449, 163.58350506,\n",
       "         98.34090877, 308.31536515, 195.93751402, 280.76278556,\n",
       "        392.40720756, 137.83948649],\n",
       "       [143.32246788, 207.82616712, 285.77288265, 192.43401798,\n",
       "        102.10824364, 272.88750495, 202.32472089, 289.15884548,\n",
       "        392.95458565, 146.73315411]])"
      ]
     },
     "execution_count": 46,
     "metadata": {},
     "output_type": "execute_result"
    }
   ],
   "source": [
    "price_list"
   ]
  },
  {
   "cell_type": "code",
   "execution_count": 47,
   "metadata": {},
   "outputs": [
    {
     "data": {
      "text/plain": [
       "34.79053043882298"
      ]
     },
     "execution_count": 47,
     "metadata": {},
     "output_type": "execute_result"
    }
   ],
   "source": [
    "price_list.min()"
   ]
  },
  {
   "cell_type": "code",
   "execution_count": 48,
   "metadata": {},
   "outputs": [
    {
     "data": {
      "text/plain": [
       "400.1943831483372"
      ]
     },
     "execution_count": 48,
     "metadata": {},
     "output_type": "execute_result"
    }
   ],
   "source": [
    "price_list.max()"
   ]
  },
  {
   "cell_type": "code",
   "execution_count": 49,
   "metadata": {},
   "outputs": [
    {
     "data": {
      "text/plain": [
       "128.67210738979517"
      ]
     },
     "execution_count": 49,
     "metadata": {},
     "output_type": "execute_result"
    }
   ],
   "source": [
    "price_list.mean()"
   ]
  },
  {
   "cell_type": "code",
   "execution_count": 50,
   "metadata": {},
   "outputs": [
    {
     "data": {
      "text/plain": [
       "76.44186020929172"
      ]
     },
     "execution_count": 50,
     "metadata": {},
     "output_type": "execute_result"
    }
   ],
   "source": [
    "price_list.std()"
   ]
  },
  {
   "cell_type": "code",
   "execution_count": 51,
   "metadata": {},
   "outputs": [
    {
     "data": {
      "text/plain": [
       "98.71936214797574"
      ]
     },
     "execution_count": 51,
     "metadata": {},
     "output_type": "execute_result"
    }
   ],
   "source": [
    "np.median(price_list)"
   ]
  },
  {
   "cell_type": "code",
   "execution_count": 52,
   "metadata": {},
   "outputs": [
    {
     "data": {
      "image/png": "[encoded data removed]",
      "text/plain": [
       "<Figure size 1368x648 with 1 Axes>"
      ]
     },
     "metadata": {
      "needs_background": "light"
     },
     "output_type": "display_data"
    }
   ],
   "source": [
    "plt.figure(figsize=(19,9))\n",
    "plt.plot(price_list);\n",
    "plt.title('SIMULAÇÃO DE MONTE CARLO');\n",
    "plt.xlabel('REPETIÇÕES'); #definindo nome do eixo X\n",
    "plt.ylabel('Número de Mortes'); #definindo nome do eixo Y\n"
   ]
  },
  {
   "cell_type": "code",
   "execution_count": 53,
   "metadata": {},
   "outputs": [
    {
     "name": "stdout",
     "output_type": "stream",
     "text": [
      "Óbitos mínimos, 35 pessoas\n",
      "Óbitos mediana, 99 pessoas\n",
      "Óbitos médio, 129 pessoas\n",
      "Óbitos máximo, 400 pessoas\n",
      "Óbitos atual, 57 pessoas\n"
     ]
    }
   ],
   "source": [
    "print(f'Óbitos mínimos, {price_list.min():.0f}'' pessoas')\n",
    "print(f'Óbitos mediana, {np.median(price_list):.0f}'' pessoas')\n",
    "print(f'Óbitos médio, {price_list.mean():.0f}'' pessoas')\n",
    "print(f'Óbitos máximo, {price_list.max():.0f}'' pessoas')\n",
    "print('Óbitos atual,',(str(round(base['Obitos'].iloc[-1]))),'pessoas') #informar o ticker"
   ]
  },
  {
   "cell_type": "code",
   "execution_count": 54,
   "metadata": {},
   "outputs": [
    {
     "data": {
      "text/plain": [
       "57"
      ]
     },
     "execution_count": 54,
     "metadata": {},
     "output_type": "execute_result"
    }
   ],
   "source": [
    "S0"
   ]
  },
  {
   "cell_type": "code",
   "execution_count": 55,
   "metadata": {},
   "outputs": [],
   "source": [
    "diferencaDias = base['diferencaDias'] = base['Data'] - base['Data'].min()"
   ]
  },
  {
   "cell_type": "code",
   "execution_count": 56,
   "metadata": {},
   "outputs": [],
   "source": [
    "d = a.loc[56:].astype('timedelta64[D]')"
   ]
  },
  {
   "cell_type": "code",
   "execution_count": 57,
   "metadata": {},
   "outputs": [
    {
     "data": {
      "text/plain": [
       "56    86.0\n",
       "Name: Data, dtype: float64"
      ]
     },
     "execution_count": 57,
     "metadata": {},
     "output_type": "execute_result"
    }
   ],
   "source": [
    "d"
   ]
  },
  {
   "cell_type": "code",
   "execution_count": 58,
   "metadata": {},
   "outputs": [],
   "source": [
    "MortesDia = S0/d"
   ]
  },
  {
   "cell_type": "code",
   "execution_count": 59,
   "metadata": {},
   "outputs": [
    {
     "data": {
      "text/plain": [
       "56    0.662791\n",
       "Name: Data, dtype: float64"
      ]
     },
     "execution_count": 59,
     "metadata": {},
     "output_type": "execute_result"
    }
   ],
   "source": [
    "MortesDia"
   ]
  }
 ],
 "metadata": {
  "kernelspec": {
   "display_name": "Python 3.7.3 64-bit ('base': conda)",
   "language": "python",
   "name": "python37364bitbasecondac3187a33bb6b4b858aad71feb598639b"
  },
  "language_info": {
   "codemirror_mode": {
    "name": "ipython",
    "version": 3
   },
   "file_extension": ".py",
   "mimetype": "text/x-python",
   "name": "python",
   "nbconvert_exporter": "python",
   "pygments_lexer": "ipython3",
   "version": "3.7.3"
  }
 },
 "nbformat": 4,
 "nbformat_minor": 2
}
