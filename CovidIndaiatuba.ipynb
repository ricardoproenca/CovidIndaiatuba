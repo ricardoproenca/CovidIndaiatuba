{
 "cells": [
  {
   "cell_type": "markdown",
   "metadata": {},
   "source": [
    "# Análise dos casos de óbito de Covid-19 em Indaiatuba"
   ]
  },
  {
   "cell_type": "code",
   "execution_count": 1,
   "metadata": {},
   "outputs": [],
   "source": [
    "import pandas as pd\n",
    "import seaborn as sns\n",
    "import matplotlib.pyplot as plt\n",
    "import numpy as np\n",
    "from pandas_datareader import data as wb\n",
    "from scipy.stats import norm\n",
    "from datetime import datetime"
   ]
  },
  {
   "cell_type": "markdown",
   "metadata": {},
   "source": [
    "# 1. Extração dos dados \n",
    "Fonte: G1 - Campinas\n",
    "\n",
    "https://g1.globo.com/sp/campinas-regiao/noticia/2020/06/28/coronavirus-prefeituras-da-regiao-de-campinas-confirmam-novos-casos-neste-domingo-28-de-junho.ghtml"
   ]
  },
  {
   "cell_type": "code",
   "execution_count": 2,
   "metadata": {},
   "outputs": [
    {
     "name": "stdout",
     "output_type": "stream",
     "text": [
      "Última atualização dos dados em: 29/06/2020 14:18\n"
     ]
    }
   ],
   "source": [
    "data_atual = datetime.now()\n",
    "data_em_texto = data_atual.strftime('%d/%m/%Y %H:%M')\n",
    "print(\"Última atualização dos dados em: \" + str(data_em_texto))"
   ]
  },
  {
   "cell_type": "code",
   "execution_count": 3,
   "metadata": {},
   "outputs": [],
   "source": [
    "base = pd.read_excel(\"CovidIndaiatuba.xlsx\")"
   ]
  },
  {
   "cell_type": "code",
   "execution_count": 4,
   "metadata": {},
   "outputs": [
    {
     "data": {
      "text/html": [
       "<div>\n",
       "<style scoped>\n",
       "    .dataframe tbody tr th:only-of-type {\n",
       "        vertical-align: middle;\n",
       "    }\n",
       "\n",
       "    .dataframe tbody tr th {\n",
       "        vertical-align: top;\n",
       "    }\n",
       "\n",
       "    .dataframe thead th {\n",
       "        text-align: right;\n",
       "    }\n",
       "</style>\n",
       "<table border=\"1\" class=\"dataframe\">\n",
       "  <thead>\n",
       "    <tr style=\"text-align: right;\">\n",
       "      <th></th>\n",
       "      <th>Obitos</th>\n",
       "      <th>Data</th>\n",
       "      <th>Sexo</th>\n",
       "      <th>Idade</th>\n",
       "      <th>anos</th>\n",
       "      <th>Comorbidade</th>\n",
       "    </tr>\n",
       "  </thead>\n",
       "  <tbody>\n",
       "    <tr>\n",
       "      <th>55</th>\n",
       "      <td>56</td>\n",
       "      <td>2020-06-24</td>\n",
       "      <td>Homem</td>\n",
       "      <td>54</td>\n",
       "      <td>anos,</td>\n",
       "      <td>Sem Comorbidade, ex-tabagista.</td>\n",
       "    </tr>\n",
       "    <tr>\n",
       "      <th>56</th>\n",
       "      <td>57</td>\n",
       "      <td>2020-06-24</td>\n",
       "      <td>Homem</td>\n",
       "      <td>65</td>\n",
       "      <td>anos,</td>\n",
       "      <td>Com Comorbidades</td>\n",
       "    </tr>\n",
       "    <tr>\n",
       "      <th>57</th>\n",
       "      <td>58</td>\n",
       "      <td>2020-06-25</td>\n",
       "      <td>Homem</td>\n",
       "      <td>59</td>\n",
       "      <td>anos,</td>\n",
       "      <td>Sem Comorbidade</td>\n",
       "    </tr>\n",
       "    <tr>\n",
       "      <th>58</th>\n",
       "      <td>59</td>\n",
       "      <td>2020-06-26</td>\n",
       "      <td>Homem</td>\n",
       "      <td>53</td>\n",
       "      <td>anos,</td>\n",
       "      <td>Com Comorbidades</td>\n",
       "    </tr>\n",
       "    <tr>\n",
       "      <th>59</th>\n",
       "      <td>60</td>\n",
       "      <td>2020-06-27</td>\n",
       "      <td>Homem</td>\n",
       "      <td>74</td>\n",
       "      <td>anos,</td>\n",
       "      <td>Com Comorbidades</td>\n",
       "    </tr>\n",
       "  </tbody>\n",
       "</table>\n",
       "</div>"
      ],
      "text/plain": [
       "    Obitos       Data   Sexo  Idade   anos                     Comorbidade\n",
       "55      56 2020-06-24  Homem     54  anos,  Sem Comorbidade, ex-tabagista.\n",
       "56      57 2020-06-24  Homem     65  anos,                Com Comorbidades\n",
       "57      58 2020-06-25  Homem     59  anos,                 Sem Comorbidade\n",
       "58      59 2020-06-26  Homem     53  anos,                Com Comorbidades\n",
       "59      60 2020-06-27  Homem     74  anos,                Com Comorbidades"
      ]
     },
     "execution_count": 4,
     "metadata": {},
     "output_type": "execute_result"
    }
   ],
   "source": [
    "base.tail()"
   ]
  },
  {
   "cell_type": "markdown",
   "metadata": {},
   "source": [
    "# 2. Criação das colunas: MesMorte, diferençaDias e MédiaMovel - concatenação "
   ]
  },
  {
   "cell_type": "code",
   "execution_count": 5,
   "metadata": {},
   "outputs": [
    {
     "data": {
      "text/html": [
       "<div>\n",
       "<style scoped>\n",
       "    .dataframe tbody tr th:only-of-type {\n",
       "        vertical-align: middle;\n",
       "    }\n",
       "\n",
       "    .dataframe tbody tr th {\n",
       "        vertical-align: top;\n",
       "    }\n",
       "\n",
       "    .dataframe thead th {\n",
       "        text-align: right;\n",
       "    }\n",
       "</style>\n",
       "<table border=\"1\" class=\"dataframe\">\n",
       "  <thead>\n",
       "    <tr style=\"text-align: right;\">\n",
       "      <th></th>\n",
       "      <th>Obitos</th>\n",
       "      <th>Data</th>\n",
       "      <th>Sexo</th>\n",
       "      <th>Idade</th>\n",
       "      <th>anos</th>\n",
       "      <th>Comorbidade</th>\n",
       "      <th>MesMorte</th>\n",
       "      <th>diferencaDias</th>\n",
       "      <th>MédiaMovel</th>\n",
       "    </tr>\n",
       "  </thead>\n",
       "  <tbody>\n",
       "    <tr>\n",
       "      <th>0</th>\n",
       "      <td>1</td>\n",
       "      <td>2020-03-31</td>\n",
       "      <td>Homem</td>\n",
       "      <td>64</td>\n",
       "      <td>anos,</td>\n",
       "      <td>Com Comorbidades</td>\n",
       "      <td>3</td>\n",
       "      <td>0 days</td>\n",
       "      <td>NaN</td>\n",
       "    </tr>\n",
       "    <tr>\n",
       "      <th>1</th>\n",
       "      <td>2</td>\n",
       "      <td>2020-04-13</td>\n",
       "      <td>Mulher</td>\n",
       "      <td>50</td>\n",
       "      <td>anos,</td>\n",
       "      <td>Com Comorbidades</td>\n",
       "      <td>4</td>\n",
       "      <td>13 days</td>\n",
       "      <td>1.5</td>\n",
       "    </tr>\n",
       "    <tr>\n",
       "      <th>2</th>\n",
       "      <td>3</td>\n",
       "      <td>2020-04-18</td>\n",
       "      <td>Mulher</td>\n",
       "      <td>52</td>\n",
       "      <td>anos,</td>\n",
       "      <td>Sem Comorbidade</td>\n",
       "      <td>4</td>\n",
       "      <td>18 days</td>\n",
       "      <td>2.5</td>\n",
       "    </tr>\n",
       "    <tr>\n",
       "      <th>3</th>\n",
       "      <td>4</td>\n",
       "      <td>2020-04-21</td>\n",
       "      <td>Homem</td>\n",
       "      <td>64</td>\n",
       "      <td>anos,</td>\n",
       "      <td>Com Comorbidades</td>\n",
       "      <td>4</td>\n",
       "      <td>21 days</td>\n",
       "      <td>3.5</td>\n",
       "    </tr>\n",
       "    <tr>\n",
       "      <th>4</th>\n",
       "      <td>5</td>\n",
       "      <td>2020-04-24</td>\n",
       "      <td>Mulher</td>\n",
       "      <td>61</td>\n",
       "      <td>anos,</td>\n",
       "      <td>Com Comorbidades</td>\n",
       "      <td>4</td>\n",
       "      <td>24 days</td>\n",
       "      <td>4.5</td>\n",
       "    </tr>\n",
       "    <tr>\n",
       "      <th>5</th>\n",
       "      <td>6</td>\n",
       "      <td>2020-05-02</td>\n",
       "      <td>Mulher</td>\n",
       "      <td>83</td>\n",
       "      <td>anos,</td>\n",
       "      <td>Com Comorbidades</td>\n",
       "      <td>5</td>\n",
       "      <td>32 days</td>\n",
       "      <td>5.5</td>\n",
       "    </tr>\n",
       "    <tr>\n",
       "      <th>6</th>\n",
       "      <td>7</td>\n",
       "      <td>2020-05-06</td>\n",
       "      <td>Homem</td>\n",
       "      <td>38</td>\n",
       "      <td>anos,</td>\n",
       "      <td>Com Comorbidades</td>\n",
       "      <td>5</td>\n",
       "      <td>36 days</td>\n",
       "      <td>6.5</td>\n",
       "    </tr>\n",
       "    <tr>\n",
       "      <th>7</th>\n",
       "      <td>8</td>\n",
       "      <td>2020-05-06</td>\n",
       "      <td>Homem</td>\n",
       "      <td>76</td>\n",
       "      <td>anos,</td>\n",
       "      <td>Com Comorbidades</td>\n",
       "      <td>5</td>\n",
       "      <td>36 days</td>\n",
       "      <td>7.5</td>\n",
       "    </tr>\n",
       "    <tr>\n",
       "      <th>8</th>\n",
       "      <td>9</td>\n",
       "      <td>2020-05-07</td>\n",
       "      <td>Homem</td>\n",
       "      <td>30</td>\n",
       "      <td>anos,</td>\n",
       "      <td>Com Comorbidades</td>\n",
       "      <td>5</td>\n",
       "      <td>37 days</td>\n",
       "      <td>8.5</td>\n",
       "    </tr>\n",
       "    <tr>\n",
       "      <th>9</th>\n",
       "      <td>10</td>\n",
       "      <td>2020-05-07</td>\n",
       "      <td>Homem</td>\n",
       "      <td>55</td>\n",
       "      <td>anos,</td>\n",
       "      <td>Sem Comorbidade, ex-tabagista.</td>\n",
       "      <td>5</td>\n",
       "      <td>37 days</td>\n",
       "      <td>9.5</td>\n",
       "    </tr>\n",
       "    <tr>\n",
       "      <th>10</th>\n",
       "      <td>11</td>\n",
       "      <td>2020-05-10</td>\n",
       "      <td>Homem</td>\n",
       "      <td>74</td>\n",
       "      <td>anos,</td>\n",
       "      <td>Com Comorbidades</td>\n",
       "      <td>5</td>\n",
       "      <td>40 days</td>\n",
       "      <td>10.5</td>\n",
       "    </tr>\n",
       "    <tr>\n",
       "      <th>11</th>\n",
       "      <td>12</td>\n",
       "      <td>2020-05-12</td>\n",
       "      <td>Homem</td>\n",
       "      <td>75</td>\n",
       "      <td>anos,</td>\n",
       "      <td>Sem Comorbidade</td>\n",
       "      <td>5</td>\n",
       "      <td>42 days</td>\n",
       "      <td>11.5</td>\n",
       "    </tr>\n",
       "    <tr>\n",
       "      <th>12</th>\n",
       "      <td>13</td>\n",
       "      <td>2020-05-15</td>\n",
       "      <td>Mulher</td>\n",
       "      <td>77</td>\n",
       "      <td>anos,</td>\n",
       "      <td>Com Comorbidades</td>\n",
       "      <td>5</td>\n",
       "      <td>45 days</td>\n",
       "      <td>12.5</td>\n",
       "    </tr>\n",
       "    <tr>\n",
       "      <th>13</th>\n",
       "      <td>14</td>\n",
       "      <td>2020-05-17</td>\n",
       "      <td>Homem</td>\n",
       "      <td>68</td>\n",
       "      <td>anos,</td>\n",
       "      <td>Com Comorbidades</td>\n",
       "      <td>5</td>\n",
       "      <td>47 days</td>\n",
       "      <td>13.5</td>\n",
       "    </tr>\n",
       "    <tr>\n",
       "      <th>14</th>\n",
       "      <td>15</td>\n",
       "      <td>2020-05-18</td>\n",
       "      <td>Homem</td>\n",
       "      <td>90</td>\n",
       "      <td>anos,</td>\n",
       "      <td>Com Comorbidades</td>\n",
       "      <td>5</td>\n",
       "      <td>48 days</td>\n",
       "      <td>14.5</td>\n",
       "    </tr>\n",
       "    <tr>\n",
       "      <th>15</th>\n",
       "      <td>16</td>\n",
       "      <td>2020-05-21</td>\n",
       "      <td>Homem</td>\n",
       "      <td>71</td>\n",
       "      <td>anos,</td>\n",
       "      <td>Com Comorbidades</td>\n",
       "      <td>5</td>\n",
       "      <td>51 days</td>\n",
       "      <td>15.5</td>\n",
       "    </tr>\n",
       "    <tr>\n",
       "      <th>16</th>\n",
       "      <td>17</td>\n",
       "      <td>2020-05-23</td>\n",
       "      <td>Mulher</td>\n",
       "      <td>58</td>\n",
       "      <td>anos,</td>\n",
       "      <td>Com Comorbidades</td>\n",
       "      <td>5</td>\n",
       "      <td>53 days</td>\n",
       "      <td>16.5</td>\n",
       "    </tr>\n",
       "    <tr>\n",
       "      <th>17</th>\n",
       "      <td>18</td>\n",
       "      <td>2020-05-23</td>\n",
       "      <td>Homem</td>\n",
       "      <td>67</td>\n",
       "      <td>anos,</td>\n",
       "      <td>Com Comorbidades</td>\n",
       "      <td>5</td>\n",
       "      <td>53 days</td>\n",
       "      <td>17.5</td>\n",
       "    </tr>\n",
       "    <tr>\n",
       "      <th>18</th>\n",
       "      <td>19</td>\n",
       "      <td>2020-05-24</td>\n",
       "      <td>Mulher</td>\n",
       "      <td>71</td>\n",
       "      <td>anos,</td>\n",
       "      <td>Com Comorbidades</td>\n",
       "      <td>5</td>\n",
       "      <td>54 days</td>\n",
       "      <td>18.5</td>\n",
       "    </tr>\n",
       "    <tr>\n",
       "      <th>19</th>\n",
       "      <td>20</td>\n",
       "      <td>2020-05-24</td>\n",
       "      <td>Homem</td>\n",
       "      <td>88</td>\n",
       "      <td>anos,</td>\n",
       "      <td>Com Comorbidades</td>\n",
       "      <td>5</td>\n",
       "      <td>54 days</td>\n",
       "      <td>19.5</td>\n",
       "    </tr>\n",
       "    <tr>\n",
       "      <th>20</th>\n",
       "      <td>21</td>\n",
       "      <td>2020-05-24</td>\n",
       "      <td>Homem</td>\n",
       "      <td>62</td>\n",
       "      <td>anos,</td>\n",
       "      <td>Com Comorbidades</td>\n",
       "      <td>5</td>\n",
       "      <td>54 days</td>\n",
       "      <td>20.5</td>\n",
       "    </tr>\n",
       "    <tr>\n",
       "      <th>21</th>\n",
       "      <td>22</td>\n",
       "      <td>2020-05-26</td>\n",
       "      <td>Homem</td>\n",
       "      <td>76</td>\n",
       "      <td>anos,</td>\n",
       "      <td>Com Comorbidades</td>\n",
       "      <td>5</td>\n",
       "      <td>56 days</td>\n",
       "      <td>21.5</td>\n",
       "    </tr>\n",
       "    <tr>\n",
       "      <th>22</th>\n",
       "      <td>23</td>\n",
       "      <td>2020-05-27</td>\n",
       "      <td>Homem</td>\n",
       "      <td>69</td>\n",
       "      <td>anos,</td>\n",
       "      <td>Sem Comorbidade</td>\n",
       "      <td>5</td>\n",
       "      <td>57 days</td>\n",
       "      <td>22.5</td>\n",
       "    </tr>\n",
       "    <tr>\n",
       "      <th>23</th>\n",
       "      <td>24</td>\n",
       "      <td>2020-05-28</td>\n",
       "      <td>Mulher</td>\n",
       "      <td>67</td>\n",
       "      <td>anos,</td>\n",
       "      <td>Com Comorbidades</td>\n",
       "      <td>5</td>\n",
       "      <td>58 days</td>\n",
       "      <td>23.5</td>\n",
       "    </tr>\n",
       "    <tr>\n",
       "      <th>24</th>\n",
       "      <td>25</td>\n",
       "      <td>2020-05-28</td>\n",
       "      <td>Mulher</td>\n",
       "      <td>67</td>\n",
       "      <td>anos,</td>\n",
       "      <td>Com Comorbidades</td>\n",
       "      <td>5</td>\n",
       "      <td>58 days</td>\n",
       "      <td>24.5</td>\n",
       "    </tr>\n",
       "    <tr>\n",
       "      <th>25</th>\n",
       "      <td>26</td>\n",
       "      <td>2020-05-30</td>\n",
       "      <td>Homem</td>\n",
       "      <td>70</td>\n",
       "      <td>anos,</td>\n",
       "      <td>Com Comorbidades</td>\n",
       "      <td>5</td>\n",
       "      <td>60 days</td>\n",
       "      <td>25.5</td>\n",
       "    </tr>\n",
       "    <tr>\n",
       "      <th>26</th>\n",
       "      <td>27</td>\n",
       "      <td>2020-05-31</td>\n",
       "      <td>Mulher</td>\n",
       "      <td>86</td>\n",
       "      <td>anos,</td>\n",
       "      <td>Com Comorbidades</td>\n",
       "      <td>5</td>\n",
       "      <td>61 days</td>\n",
       "      <td>26.5</td>\n",
       "    </tr>\n",
       "    <tr>\n",
       "      <th>27</th>\n",
       "      <td>28</td>\n",
       "      <td>2020-06-03</td>\n",
       "      <td>Mulher</td>\n",
       "      <td>86</td>\n",
       "      <td>anos,</td>\n",
       "      <td>Sem Comorbidade</td>\n",
       "      <td>6</td>\n",
       "      <td>64 days</td>\n",
       "      <td>27.5</td>\n",
       "    </tr>\n",
       "    <tr>\n",
       "      <th>28</th>\n",
       "      <td>29</td>\n",
       "      <td>2020-06-05</td>\n",
       "      <td>Homem</td>\n",
       "      <td>46</td>\n",
       "      <td>anos,</td>\n",
       "      <td>Sem Comorbidade</td>\n",
       "      <td>6</td>\n",
       "      <td>66 days</td>\n",
       "      <td>28.5</td>\n",
       "    </tr>\n",
       "    <tr>\n",
       "      <th>29</th>\n",
       "      <td>30</td>\n",
       "      <td>2020-06-06</td>\n",
       "      <td>Homem</td>\n",
       "      <td>78</td>\n",
       "      <td>anos,</td>\n",
       "      <td>Com Comorbidades</td>\n",
       "      <td>6</td>\n",
       "      <td>67 days</td>\n",
       "      <td>29.5</td>\n",
       "    </tr>\n",
       "    <tr>\n",
       "      <th>30</th>\n",
       "      <td>31</td>\n",
       "      <td>2020-06-07</td>\n",
       "      <td>Homem</td>\n",
       "      <td>42</td>\n",
       "      <td>anos,</td>\n",
       "      <td>Sem Comorbidade</td>\n",
       "      <td>6</td>\n",
       "      <td>68 days</td>\n",
       "      <td>30.5</td>\n",
       "    </tr>\n",
       "    <tr>\n",
       "      <th>31</th>\n",
       "      <td>32</td>\n",
       "      <td>2020-06-07</td>\n",
       "      <td>Homem</td>\n",
       "      <td>86</td>\n",
       "      <td>anos,</td>\n",
       "      <td>Com Comorbidades</td>\n",
       "      <td>6</td>\n",
       "      <td>68 days</td>\n",
       "      <td>31.5</td>\n",
       "    </tr>\n",
       "    <tr>\n",
       "      <th>32</th>\n",
       "      <td>33</td>\n",
       "      <td>2020-06-07</td>\n",
       "      <td>Mulher</td>\n",
       "      <td>55</td>\n",
       "      <td>anos,</td>\n",
       "      <td>Com Comorbidades</td>\n",
       "      <td>6</td>\n",
       "      <td>68 days</td>\n",
       "      <td>32.5</td>\n",
       "    </tr>\n",
       "    <tr>\n",
       "      <th>33</th>\n",
       "      <td>34</td>\n",
       "      <td>2020-06-07</td>\n",
       "      <td>Mulher</td>\n",
       "      <td>61</td>\n",
       "      <td>anos,</td>\n",
       "      <td>Com Comorbidades</td>\n",
       "      <td>6</td>\n",
       "      <td>68 days</td>\n",
       "      <td>33.5</td>\n",
       "    </tr>\n",
       "    <tr>\n",
       "      <th>34</th>\n",
       "      <td>35</td>\n",
       "      <td>2020-06-08</td>\n",
       "      <td>Homem</td>\n",
       "      <td>69</td>\n",
       "      <td>anos,</td>\n",
       "      <td>Com Comorbidades</td>\n",
       "      <td>6</td>\n",
       "      <td>69 days</td>\n",
       "      <td>34.5</td>\n",
       "    </tr>\n",
       "    <tr>\n",
       "      <th>35</th>\n",
       "      <td>36</td>\n",
       "      <td>2020-06-08</td>\n",
       "      <td>Mulher</td>\n",
       "      <td>52</td>\n",
       "      <td>anos,</td>\n",
       "      <td>Com Comorbidades</td>\n",
       "      <td>6</td>\n",
       "      <td>69 days</td>\n",
       "      <td>35.5</td>\n",
       "    </tr>\n",
       "    <tr>\n",
       "      <th>36</th>\n",
       "      <td>37</td>\n",
       "      <td>2020-06-08</td>\n",
       "      <td>Mulher</td>\n",
       "      <td>48</td>\n",
       "      <td>anos,</td>\n",
       "      <td>Com Comorbidades</td>\n",
       "      <td>6</td>\n",
       "      <td>69 days</td>\n",
       "      <td>36.5</td>\n",
       "    </tr>\n",
       "    <tr>\n",
       "      <th>37</th>\n",
       "      <td>38</td>\n",
       "      <td>2020-06-09</td>\n",
       "      <td>Mulher</td>\n",
       "      <td>67</td>\n",
       "      <td>anos,</td>\n",
       "      <td>Com Comorbidades</td>\n",
       "      <td>6</td>\n",
       "      <td>70 days</td>\n",
       "      <td>37.5</td>\n",
       "    </tr>\n",
       "    <tr>\n",
       "      <th>38</th>\n",
       "      <td>39</td>\n",
       "      <td>2020-06-10</td>\n",
       "      <td>Mulher</td>\n",
       "      <td>71</td>\n",
       "      <td>anos,</td>\n",
       "      <td>Com Comorbidades</td>\n",
       "      <td>6</td>\n",
       "      <td>71 days</td>\n",
       "      <td>38.5</td>\n",
       "    </tr>\n",
       "    <tr>\n",
       "      <th>39</th>\n",
       "      <td>40</td>\n",
       "      <td>2020-06-12</td>\n",
       "      <td>Mulher</td>\n",
       "      <td>40</td>\n",
       "      <td>anos,</td>\n",
       "      <td>Sem Comorbidade</td>\n",
       "      <td>6</td>\n",
       "      <td>73 days</td>\n",
       "      <td>39.5</td>\n",
       "    </tr>\n",
       "    <tr>\n",
       "      <th>40</th>\n",
       "      <td>41</td>\n",
       "      <td>2020-06-12</td>\n",
       "      <td>Homem</td>\n",
       "      <td>86</td>\n",
       "      <td>anos,</td>\n",
       "      <td>Sem Comorbidade</td>\n",
       "      <td>6</td>\n",
       "      <td>73 days</td>\n",
       "      <td>40.5</td>\n",
       "    </tr>\n",
       "    <tr>\n",
       "      <th>41</th>\n",
       "      <td>42</td>\n",
       "      <td>2020-06-13</td>\n",
       "      <td>Homem</td>\n",
       "      <td>91</td>\n",
       "      <td>anos,</td>\n",
       "      <td>Com Comorbidades</td>\n",
       "      <td>6</td>\n",
       "      <td>74 days</td>\n",
       "      <td>41.5</td>\n",
       "    </tr>\n",
       "    <tr>\n",
       "      <th>42</th>\n",
       "      <td>43</td>\n",
       "      <td>2020-06-14</td>\n",
       "      <td>Mulher</td>\n",
       "      <td>66</td>\n",
       "      <td>anos,</td>\n",
       "      <td>Com Comorbidades</td>\n",
       "      <td>6</td>\n",
       "      <td>75 days</td>\n",
       "      <td>42.5</td>\n",
       "    </tr>\n",
       "    <tr>\n",
       "      <th>43</th>\n",
       "      <td>44</td>\n",
       "      <td>2020-06-14</td>\n",
       "      <td>Homem</td>\n",
       "      <td>44</td>\n",
       "      <td>anos,</td>\n",
       "      <td>Sem Comorbidade</td>\n",
       "      <td>6</td>\n",
       "      <td>75 days</td>\n",
       "      <td>43.5</td>\n",
       "    </tr>\n",
       "    <tr>\n",
       "      <th>44</th>\n",
       "      <td>45</td>\n",
       "      <td>2020-06-15</td>\n",
       "      <td>Mulher</td>\n",
       "      <td>58</td>\n",
       "      <td>anos,</td>\n",
       "      <td>Com Comorbidades</td>\n",
       "      <td>6</td>\n",
       "      <td>76 days</td>\n",
       "      <td>44.5</td>\n",
       "    </tr>\n",
       "    <tr>\n",
       "      <th>45</th>\n",
       "      <td>46</td>\n",
       "      <td>2020-06-17</td>\n",
       "      <td>Homem</td>\n",
       "      <td>52</td>\n",
       "      <td>anos,</td>\n",
       "      <td>Com Comorbidades</td>\n",
       "      <td>6</td>\n",
       "      <td>78 days</td>\n",
       "      <td>45.5</td>\n",
       "    </tr>\n",
       "    <tr>\n",
       "      <th>46</th>\n",
       "      <td>47</td>\n",
       "      <td>2020-06-17</td>\n",
       "      <td>Homem</td>\n",
       "      <td>53</td>\n",
       "      <td>anos,</td>\n",
       "      <td>Com Comorbidades</td>\n",
       "      <td>6</td>\n",
       "      <td>78 days</td>\n",
       "      <td>46.5</td>\n",
       "    </tr>\n",
       "    <tr>\n",
       "      <th>47</th>\n",
       "      <td>48</td>\n",
       "      <td>2020-06-18</td>\n",
       "      <td>Mulher</td>\n",
       "      <td>87</td>\n",
       "      <td>anos,</td>\n",
       "      <td>Sem Comorbidade</td>\n",
       "      <td>6</td>\n",
       "      <td>79 days</td>\n",
       "      <td>47.5</td>\n",
       "    </tr>\n",
       "    <tr>\n",
       "      <th>48</th>\n",
       "      <td>49</td>\n",
       "      <td>2020-06-19</td>\n",
       "      <td>Homem</td>\n",
       "      <td>75</td>\n",
       "      <td>anos,</td>\n",
       "      <td>Com Comorbidades</td>\n",
       "      <td>6</td>\n",
       "      <td>80 days</td>\n",
       "      <td>48.5</td>\n",
       "    </tr>\n",
       "    <tr>\n",
       "      <th>49</th>\n",
       "      <td>50</td>\n",
       "      <td>2020-06-19</td>\n",
       "      <td>Mulher</td>\n",
       "      <td>62</td>\n",
       "      <td>anos,</td>\n",
       "      <td>Com Comorbidades</td>\n",
       "      <td>6</td>\n",
       "      <td>80 days</td>\n",
       "      <td>49.5</td>\n",
       "    </tr>\n",
       "    <tr>\n",
       "      <th>50</th>\n",
       "      <td>51</td>\n",
       "      <td>2020-06-20</td>\n",
       "      <td>Homem</td>\n",
       "      <td>41</td>\n",
       "      <td>anos,</td>\n",
       "      <td>Sem Comorbidade</td>\n",
       "      <td>6</td>\n",
       "      <td>81 days</td>\n",
       "      <td>50.5</td>\n",
       "    </tr>\n",
       "    <tr>\n",
       "      <th>51</th>\n",
       "      <td>52</td>\n",
       "      <td>2020-06-21</td>\n",
       "      <td>Homem</td>\n",
       "      <td>82</td>\n",
       "      <td>anos,</td>\n",
       "      <td>Com Comorbidades</td>\n",
       "      <td>6</td>\n",
       "      <td>82 days</td>\n",
       "      <td>51.5</td>\n",
       "    </tr>\n",
       "    <tr>\n",
       "      <th>52</th>\n",
       "      <td>53</td>\n",
       "      <td>2020-06-22</td>\n",
       "      <td>Homem</td>\n",
       "      <td>65</td>\n",
       "      <td>anos,</td>\n",
       "      <td>Com Comorbidades</td>\n",
       "      <td>6</td>\n",
       "      <td>83 days</td>\n",
       "      <td>52.5</td>\n",
       "    </tr>\n",
       "    <tr>\n",
       "      <th>53</th>\n",
       "      <td>54</td>\n",
       "      <td>2020-06-22</td>\n",
       "      <td>Homem</td>\n",
       "      <td>72</td>\n",
       "      <td>anos,</td>\n",
       "      <td>Com Comorbidades</td>\n",
       "      <td>6</td>\n",
       "      <td>83 days</td>\n",
       "      <td>53.5</td>\n",
       "    </tr>\n",
       "    <tr>\n",
       "      <th>54</th>\n",
       "      <td>55</td>\n",
       "      <td>2020-06-24</td>\n",
       "      <td>Mulher</td>\n",
       "      <td>56</td>\n",
       "      <td>anos,</td>\n",
       "      <td>Sem Comorbidade</td>\n",
       "      <td>6</td>\n",
       "      <td>85 days</td>\n",
       "      <td>54.5</td>\n",
       "    </tr>\n",
       "    <tr>\n",
       "      <th>55</th>\n",
       "      <td>56</td>\n",
       "      <td>2020-06-24</td>\n",
       "      <td>Homem</td>\n",
       "      <td>54</td>\n",
       "      <td>anos,</td>\n",
       "      <td>Sem Comorbidade, ex-tabagista.</td>\n",
       "      <td>6</td>\n",
       "      <td>85 days</td>\n",
       "      <td>55.5</td>\n",
       "    </tr>\n",
       "    <tr>\n",
       "      <th>56</th>\n",
       "      <td>57</td>\n",
       "      <td>2020-06-24</td>\n",
       "      <td>Homem</td>\n",
       "      <td>65</td>\n",
       "      <td>anos,</td>\n",
       "      <td>Com Comorbidades</td>\n",
       "      <td>6</td>\n",
       "      <td>85 days</td>\n",
       "      <td>56.5</td>\n",
       "    </tr>\n",
       "    <tr>\n",
       "      <th>57</th>\n",
       "      <td>58</td>\n",
       "      <td>2020-06-25</td>\n",
       "      <td>Homem</td>\n",
       "      <td>59</td>\n",
       "      <td>anos,</td>\n",
       "      <td>Sem Comorbidade</td>\n",
       "      <td>6</td>\n",
       "      <td>86 days</td>\n",
       "      <td>57.5</td>\n",
       "    </tr>\n",
       "    <tr>\n",
       "      <th>58</th>\n",
       "      <td>59</td>\n",
       "      <td>2020-06-26</td>\n",
       "      <td>Homem</td>\n",
       "      <td>53</td>\n",
       "      <td>anos,</td>\n",
       "      <td>Com Comorbidades</td>\n",
       "      <td>6</td>\n",
       "      <td>87 days</td>\n",
       "      <td>58.5</td>\n",
       "    </tr>\n",
       "    <tr>\n",
       "      <th>59</th>\n",
       "      <td>60</td>\n",
       "      <td>2020-06-27</td>\n",
       "      <td>Homem</td>\n",
       "      <td>74</td>\n",
       "      <td>anos,</td>\n",
       "      <td>Com Comorbidades</td>\n",
       "      <td>6</td>\n",
       "      <td>88 days</td>\n",
       "      <td>59.5</td>\n",
       "    </tr>\n",
       "  </tbody>\n",
       "</table>\n",
       "</div>"
      ],
      "text/plain": [
       "    Obitos       Data    Sexo  Idade   anos                     Comorbidade  \\\n",
       "0        1 2020-03-31   Homem     64  anos,                Com Comorbidades   \n",
       "1        2 2020-04-13  Mulher     50  anos,                Com Comorbidades   \n",
       "2        3 2020-04-18  Mulher     52  anos,                 Sem Comorbidade   \n",
       "3        4 2020-04-21   Homem     64  anos,                Com Comorbidades   \n",
       "4        5 2020-04-24  Mulher     61  anos,                Com Comorbidades   \n",
       "5        6 2020-05-02  Mulher     83  anos,                Com Comorbidades   \n",
       "6        7 2020-05-06   Homem     38  anos,                Com Comorbidades   \n",
       "7        8 2020-05-06   Homem     76  anos,                Com Comorbidades   \n",
       "8        9 2020-05-07   Homem     30  anos,                Com Comorbidades   \n",
       "9       10 2020-05-07   Homem     55  anos,  Sem Comorbidade, ex-tabagista.   \n",
       "10      11 2020-05-10   Homem     74  anos,                Com Comorbidades   \n",
       "11      12 2020-05-12   Homem     75  anos,                 Sem Comorbidade   \n",
       "12      13 2020-05-15  Mulher     77  anos,                Com Comorbidades   \n",
       "13      14 2020-05-17   Homem     68  anos,                Com Comorbidades   \n",
       "14      15 2020-05-18   Homem     90  anos,                Com Comorbidades   \n",
       "15      16 2020-05-21   Homem     71  anos,                Com Comorbidades   \n",
       "16      17 2020-05-23  Mulher     58  anos,                Com Comorbidades   \n",
       "17      18 2020-05-23   Homem     67  anos,                Com Comorbidades   \n",
       "18      19 2020-05-24  Mulher     71  anos,                Com Comorbidades   \n",
       "19      20 2020-05-24   Homem     88  anos,                Com Comorbidades   \n",
       "20      21 2020-05-24   Homem     62  anos,                Com Comorbidades   \n",
       "21      22 2020-05-26   Homem     76  anos,                Com Comorbidades   \n",
       "22      23 2020-05-27   Homem     69  anos,                 Sem Comorbidade   \n",
       "23      24 2020-05-28  Mulher     67  anos,                Com Comorbidades   \n",
       "24      25 2020-05-28  Mulher     67  anos,                Com Comorbidades   \n",
       "25      26 2020-05-30   Homem     70  anos,                Com Comorbidades   \n",
       "26      27 2020-05-31  Mulher     86  anos,                Com Comorbidades   \n",
       "27      28 2020-06-03  Mulher     86  anos,                 Sem Comorbidade   \n",
       "28      29 2020-06-05   Homem     46  anos,                 Sem Comorbidade   \n",
       "29      30 2020-06-06   Homem     78  anos,                Com Comorbidades   \n",
       "30      31 2020-06-07   Homem     42  anos,                 Sem Comorbidade   \n",
       "31      32 2020-06-07   Homem     86  anos,                Com Comorbidades   \n",
       "32      33 2020-06-07  Mulher     55  anos,                Com Comorbidades   \n",
       "33      34 2020-06-07  Mulher     61  anos,                Com Comorbidades   \n",
       "34      35 2020-06-08   Homem     69  anos,                Com Comorbidades   \n",
       "35      36 2020-06-08  Mulher     52  anos,                Com Comorbidades   \n",
       "36      37 2020-06-08  Mulher     48  anos,                Com Comorbidades   \n",
       "37      38 2020-06-09  Mulher     67  anos,                Com Comorbidades   \n",
       "38      39 2020-06-10  Mulher     71  anos,                Com Comorbidades   \n",
       "39      40 2020-06-12  Mulher     40  anos,                 Sem Comorbidade   \n",
       "40      41 2020-06-12   Homem     86  anos,                 Sem Comorbidade   \n",
       "41      42 2020-06-13   Homem     91  anos,                Com Comorbidades   \n",
       "42      43 2020-06-14  Mulher     66  anos,                Com Comorbidades   \n",
       "43      44 2020-06-14   Homem     44  anos,                 Sem Comorbidade   \n",
       "44      45 2020-06-15  Mulher     58  anos,                Com Comorbidades   \n",
       "45      46 2020-06-17   Homem     52  anos,                Com Comorbidades   \n",
       "46      47 2020-06-17   Homem     53  anos,                Com Comorbidades   \n",
       "47      48 2020-06-18  Mulher     87  anos,                 Sem Comorbidade   \n",
       "48      49 2020-06-19   Homem     75  anos,                Com Comorbidades   \n",
       "49      50 2020-06-19  Mulher     62  anos,                Com Comorbidades   \n",
       "50      51 2020-06-20   Homem     41  anos,                 Sem Comorbidade   \n",
       "51      52 2020-06-21   Homem     82  anos,                Com Comorbidades   \n",
       "52      53 2020-06-22   Homem     65  anos,                Com Comorbidades   \n",
       "53      54 2020-06-22   Homem     72  anos,                Com Comorbidades   \n",
       "54      55 2020-06-24  Mulher     56  anos,                 Sem Comorbidade   \n",
       "55      56 2020-06-24   Homem     54  anos,  Sem Comorbidade, ex-tabagista.   \n",
       "56      57 2020-06-24   Homem     65  anos,                Com Comorbidades   \n",
       "57      58 2020-06-25   Homem     59  anos,                 Sem Comorbidade   \n",
       "58      59 2020-06-26   Homem     53  anos,                Com Comorbidades   \n",
       "59      60 2020-06-27   Homem     74  anos,                Com Comorbidades   \n",
       "\n",
       "    MesMorte diferencaDias  MédiaMovel  \n",
       "0          3        0 days         NaN  \n",
       "1          4       13 days         1.5  \n",
       "2          4       18 days         2.5  \n",
       "3          4       21 days         3.5  \n",
       "4          4       24 days         4.5  \n",
       "5          5       32 days         5.5  \n",
       "6          5       36 days         6.5  \n",
       "7          5       36 days         7.5  \n",
       "8          5       37 days         8.5  \n",
       "9          5       37 days         9.5  \n",
       "10         5       40 days        10.5  \n",
       "11         5       42 days        11.5  \n",
       "12         5       45 days        12.5  \n",
       "13         5       47 days        13.5  \n",
       "14         5       48 days        14.5  \n",
       "15         5       51 days        15.5  \n",
       "16         5       53 days        16.5  \n",
       "17         5       53 days        17.5  \n",
       "18         5       54 days        18.5  \n",
       "19         5       54 days        19.5  \n",
       "20         5       54 days        20.5  \n",
       "21         5       56 days        21.5  \n",
       "22         5       57 days        22.5  \n",
       "23         5       58 days        23.5  \n",
       "24         5       58 days        24.5  \n",
       "25         5       60 days        25.5  \n",
       "26         5       61 days        26.5  \n",
       "27         6       64 days        27.5  \n",
       "28         6       66 days        28.5  \n",
       "29         6       67 days        29.5  \n",
       "30         6       68 days        30.5  \n",
       "31         6       68 days        31.5  \n",
       "32         6       68 days        32.5  \n",
       "33         6       68 days        33.5  \n",
       "34         6       69 days        34.5  \n",
       "35         6       69 days        35.5  \n",
       "36         6       69 days        36.5  \n",
       "37         6       70 days        37.5  \n",
       "38         6       71 days        38.5  \n",
       "39         6       73 days        39.5  \n",
       "40         6       73 days        40.5  \n",
       "41         6       74 days        41.5  \n",
       "42         6       75 days        42.5  \n",
       "43         6       75 days        43.5  \n",
       "44         6       76 days        44.5  \n",
       "45         6       78 days        45.5  \n",
       "46         6       78 days        46.5  \n",
       "47         6       79 days        47.5  \n",
       "48         6       80 days        48.5  \n",
       "49         6       80 days        49.5  \n",
       "50         6       81 days        50.5  \n",
       "51         6       82 days        51.5  \n",
       "52         6       83 days        52.5  \n",
       "53         6       83 days        53.5  \n",
       "54         6       85 days        54.5  \n",
       "55         6       85 days        55.5  \n",
       "56         6       85 days        56.5  \n",
       "57         6       86 days        57.5  \n",
       "58         6       87 days        58.5  \n",
       "59         6       88 days        59.5  "
      ]
     },
     "execution_count": 5,
     "metadata": {},
     "output_type": "execute_result"
    }
   ],
   "source": [
    "base.groupby(base['Data'].dt.month)['Obitos'].sum()\n",
    "base['MesMorte'] = base['Data'].dt.month\n",
    "base['diferencaDias'] = base['Data'] - base['Data'].min()\n",
    "base['MédiaMovel'] = base['Obitos'].rolling(2).mean()\n",
    "base"
   ]
  },
  {
   "cell_type": "markdown",
   "metadata": {},
   "source": [
    "# 3. Cálculo por Sexo"
   ]
  },
  {
   "cell_type": "code",
   "execution_count": 6,
   "metadata": {},
   "outputs": [
    {
     "data": {
      "text/html": [
       "<div>\n",
       "<style scoped>\n",
       "    .dataframe tbody tr th:only-of-type {\n",
       "        vertical-align: middle;\n",
       "    }\n",
       "\n",
       "    .dataframe tbody tr th {\n",
       "        vertical-align: top;\n",
       "    }\n",
       "\n",
       "    .dataframe thead th {\n",
       "        text-align: right;\n",
       "    }\n",
       "</style>\n",
       "<table border=\"1\" class=\"dataframe\">\n",
       "  <thead>\n",
       "    <tr style=\"text-align: right;\">\n",
       "      <th>Sexo</th>\n",
       "      <th>Homem</th>\n",
       "      <th>Mulher</th>\n",
       "    </tr>\n",
       "    <tr>\n",
       "      <th>Sexo</th>\n",
       "      <th></th>\n",
       "      <th></th>\n",
       "    </tr>\n",
       "  </thead>\n",
       "  <tbody>\n",
       "    <tr>\n",
       "      <th>Homem</th>\n",
       "      <td>37</td>\n",
       "      <td>0</td>\n",
       "    </tr>\n",
       "    <tr>\n",
       "      <th>Mulher</th>\n",
       "      <td>0</td>\n",
       "      <td>23</td>\n",
       "    </tr>\n",
       "  </tbody>\n",
       "</table>\n",
       "</div>"
      ],
      "text/plain": [
       "Sexo    Homem  Mulher\n",
       "Sexo                 \n",
       "Homem      37       0\n",
       "Mulher      0      23"
      ]
     },
     "execution_count": 6,
     "metadata": {},
     "output_type": "execute_result"
    }
   ],
   "source": [
    "pd.crosstab(base['Sexo'],base['Sexo'])"
   ]
  },
  {
   "cell_type": "code",
   "execution_count": 7,
   "metadata": {
    "scrolled": true
   },
   "outputs": [
    {
     "name": "stdout",
     "output_type": "stream",
     "text": [
      "Sexo em %\n",
      "Homem     61.67\n",
      "Mulher    38.33\n",
      "Name: Sexo, dtype: float64\n"
     ]
    }
   ],
   "source": [
    "print ('Sexo em %')\n",
    "Afetados = base['Sexo'].value_counts(normalize=True)\n",
    "print (str(round(Afetados, 4) *100)) "
   ]
  },
  {
   "cell_type": "code",
   "execution_count": 8,
   "metadata": {
    "scrolled": true
   },
   "outputs": [
    {
     "data": {
      "text/plain": [
       "<matplotlib.axes._subplots.AxesSubplot at 0x1c1fa181940>"
      ]
     },
     "execution_count": 8,
     "metadata": {},
     "output_type": "execute_result"
    },
    {
     "data": {
      "image/png": "[encoded data removed]",
      "text/plain": [
       "<Figure size 432x432 with 1 Axes>"
      ]
     },
     "metadata": {},
     "output_type": "display_data"
    }
   ],
   "source": [
    "base['Sexo'].value_counts().plot(kind = \"pie\", figsize = (6,6))"
   ]
  },
  {
   "cell_type": "markdown",
   "metadata": {},
   "source": [
    "# 4. Agrupando os dados pelo mês do óbito"
   ]
  },
  {
   "cell_type": "code",
   "execution_count": 9,
   "metadata": {},
   "outputs": [
    {
     "data": {
      "text/plain": [
       "Data\n",
       "3     1\n",
       "4     4\n",
       "5    22\n",
       "6    33\n",
       "Name: Obitos, dtype: int64"
      ]
     },
     "execution_count": 9,
     "metadata": {},
     "output_type": "execute_result"
    }
   ],
   "source": [
    "ObitosMes = base.groupby(base['Data'].dt.month)['Obitos'].count()\n",
    "ObitosMes"
   ]
  },
  {
   "cell_type": "code",
   "execution_count": 10,
   "metadata": {},
   "outputs": [
    {
     "data": {
      "text/plain": [
       "<matplotlib.axes._subplots.AxesSubplot at 0x1c1fa4884e0>"
      ]
     },
     "execution_count": 10,
     "metadata": {},
     "output_type": "execute_result"
    },
    {
     "data": {
      "image/png": "[encoded data removed]",
      "text/plain": [
       "<Figure size 720x360 with 1 Axes>"
      ]
     },
     "metadata": {
      "needs_background": "light"
     },
     "output_type": "display_data"
    }
   ],
   "source": [
    "ObitosMes.plot(kind = \"bar\", figsize = (10,5), title='Óbitos por Mês')"
   ]
  },
  {
   "cell_type": "markdown",
   "metadata": {},
   "source": [
    "# 4.1 Variação percentual de óbitos por mês"
   ]
  },
  {
   "cell_type": "code",
   "execution_count": 11,
   "metadata": {},
   "outputs": [],
   "source": [
    "ObitosMes1 = ObitosMes.shift(1)"
   ]
  },
  {
   "cell_type": "code",
   "execution_count": 12,
   "metadata": {},
   "outputs": [
    {
     "data": {
      "text/plain": [
       "Data\n",
       "3      NaN\n",
       "4    300.0\n",
       "5    450.0\n",
       "6     50.0\n",
       "Name: Obitos, dtype: float64"
      ]
     },
     "execution_count": 12,
     "metadata": {},
     "output_type": "execute_result"
    }
   ],
   "source": [
    "variacao = (ObitosMes - ObitosMes1)/ObitosMes1 * 100\n",
    "variacao"
   ]
  },
  {
   "cell_type": "markdown",
   "metadata": {},
   "source": [
    "# 5. Calculando o total de dias desde a primeira morte"
   ]
  },
  {
   "cell_type": "code",
   "execution_count": 13,
   "metadata": {},
   "outputs": [
    {
     "data": {
      "text/plain": [
       "55   85 days\n",
       "56   85 days\n",
       "57   86 days\n",
       "58   87 days\n",
       "59   88 days\n",
       "Name: Data, dtype: timedelta64[ns]"
      ]
     },
     "execution_count": 13,
     "metadata": {},
     "output_type": "execute_result"
    }
   ],
   "source": [
    "a = base['diferencaDias'] = base['Data'] - base['Data'].min()\n",
    "a.tail()"
   ]
  },
  {
   "cell_type": "markdown",
   "metadata": {},
   "source": [
    "# 6. Verifando se com coborbidades ou sem comorbidades"
   ]
  },
  {
   "cell_type": "code",
   "execution_count": 14,
   "metadata": {},
   "outputs": [
    {
     "data": {
      "text/html": [
       "<div>\n",
       "<style scoped>\n",
       "    .dataframe tbody tr th:only-of-type {\n",
       "        vertical-align: middle;\n",
       "    }\n",
       "\n",
       "    .dataframe tbody tr th {\n",
       "        vertical-align: top;\n",
       "    }\n",
       "\n",
       "    .dataframe thead th {\n",
       "        text-align: right;\n",
       "    }\n",
       "</style>\n",
       "<table border=\"1\" class=\"dataframe\">\n",
       "  <thead>\n",
       "    <tr style=\"text-align: right;\">\n",
       "      <th>Comorbidade</th>\n",
       "      <th>Com Comorbidades</th>\n",
       "      <th>Sem Comorbidade</th>\n",
       "      <th>Sem Comorbidade, ex-tabagista.</th>\n",
       "    </tr>\n",
       "    <tr>\n",
       "      <th>Comorbidade</th>\n",
       "      <th></th>\n",
       "      <th></th>\n",
       "      <th></th>\n",
       "    </tr>\n",
       "  </thead>\n",
       "  <tbody>\n",
       "    <tr>\n",
       "      <th>Com Comorbidades</th>\n",
       "      <td>45</td>\n",
       "      <td>0</td>\n",
       "      <td>0</td>\n",
       "    </tr>\n",
       "    <tr>\n",
       "      <th>Sem Comorbidade</th>\n",
       "      <td>0</td>\n",
       "      <td>13</td>\n",
       "      <td>0</td>\n",
       "    </tr>\n",
       "    <tr>\n",
       "      <th>Sem Comorbidade, ex-tabagista.</th>\n",
       "      <td>0</td>\n",
       "      <td>0</td>\n",
       "      <td>2</td>\n",
       "    </tr>\n",
       "  </tbody>\n",
       "</table>\n",
       "</div>"
      ],
      "text/plain": [
       "Comorbidade                     Com Comorbidades  Sem Comorbidade  \\\n",
       "Comorbidade                                                         \n",
       "Com Comorbidades                              45                0   \n",
       "Sem Comorbidade                                0               13   \n",
       "Sem Comorbidade, ex-tabagista.                 0                0   \n",
       "\n",
       "Comorbidade                     Sem Comorbidade, ex-tabagista.  \n",
       "Comorbidade                                                     \n",
       "Com Comorbidades                                             0  \n",
       "Sem Comorbidade                                              0  \n",
       "Sem Comorbidade, ex-tabagista.                               2  "
      ]
     },
     "execution_count": 14,
     "metadata": {},
     "output_type": "execute_result"
    }
   ],
   "source": [
    "pd.crosstab(base['Comorbidade'],base['Comorbidade'])"
   ]
  },
  {
   "cell_type": "code",
   "execution_count": 15,
   "metadata": {},
   "outputs": [
    {
     "data": {
      "text/plain": [
       "<matplotlib.axes._subplots.AxesSubplot at 0x1c1fa5163c8>"
      ]
     },
     "execution_count": 15,
     "metadata": {},
     "output_type": "execute_result"
    },
    {
     "data": {
      "image/png": "[encoded data removed]",
      "text/plain": [
       "<Figure size 432x432 with 1 Axes>"
      ]
     },
     "metadata": {
      "needs_background": "light"
     },
     "output_type": "display_data"
    }
   ],
   "source": [
    "base['Comorbidade'].value_counts().head().plot(kind = \"barh\", figsize = (6,6))"
   ]
  },
  {
   "cell_type": "markdown",
   "metadata": {},
   "source": [
    "# 7. Gráfico com exibição dos Óbitos no tempo"
   ]
  },
  {
   "cell_type": "code",
   "execution_count": 16,
   "metadata": {},
   "outputs": [
    {
     "data": {
      "image/png": "[encoded data removed]",
      "text/plain": [
       "<Figure size 936x432 with 1 Axes>"
      ]
     },
     "metadata": {
      "needs_background": "light"
     },
     "output_type": "display_data"
    }
   ],
   "source": [
    "base.plot(x='Data', y='Obitos', figsize=(13,6));\n",
    "plt.title('Óbitos em Indaiatuba')\n",
    "plt.ylabel('Obitos')\n",
    "plt.xlabel('Data')\n",
    "plt.show()"
   ]
  },
  {
   "cell_type": "markdown",
   "metadata": {},
   "source": [
    "# 8. Média de idades dos óbitos\n"
   ]
  },
  {
   "cell_type": "code",
   "execution_count": 17,
   "metadata": {},
   "outputs": [
    {
     "data": {
      "text/plain": [
       "65.08333333333333"
      ]
     },
     "execution_count": 17,
     "metadata": {},
     "output_type": "execute_result"
    }
   ],
   "source": [
    "base['Idade'].mean()"
   ]
  },
  {
   "cell_type": "markdown",
   "metadata": {},
   "source": [
    "# 9 .Desvio Padrão de idades dos óbitos"
   ]
  },
  {
   "cell_type": "code",
   "execution_count": 18,
   "metadata": {},
   "outputs": [
    {
     "data": {
      "text/plain": [
       "14.397847846079985"
      ]
     },
     "execution_count": 18,
     "metadata": {},
     "output_type": "execute_result"
    }
   ],
   "source": [
    "base['Idade'].std()"
   ]
  },
  {
   "cell_type": "markdown",
   "metadata": {},
   "source": [
    "# 10. Mediana de idades dos óbitos"
   ]
  },
  {
   "cell_type": "code",
   "execution_count": 19,
   "metadata": {},
   "outputs": [
    {
     "data": {
      "text/plain": [
       "66.5"
      ]
     },
     "execution_count": 19,
     "metadata": {},
     "output_type": "execute_result"
    }
   ],
   "source": [
    "base['Idade'].median()"
   ]
  },
  {
   "cell_type": "markdown",
   "metadata": {},
   "source": [
    "# 11. Frequencia de idades dos óbitos"
   ]
  },
  {
   "cell_type": "code",
   "execution_count": 20,
   "metadata": {},
   "outputs": [
    {
     "data": {
      "text/plain": [
       "0    67\n",
       "1    86\n",
       "dtype: int64"
      ]
     },
     "execution_count": 20,
     "metadata": {},
     "output_type": "execute_result"
    }
   ],
   "source": [
    "base['Idade'].mode()"
   ]
  },
  {
   "cell_type": "markdown",
   "metadata": {},
   "source": [
    "# 12. Gráfico com a Frequencia de idade dos óbitos"
   ]
  },
  {
   "cell_type": "code",
   "execution_count": 21,
   "metadata": {},
   "outputs": [
    {
     "data": {
      "text/plain": [
       "<matplotlib.axes._subplots.AxesSubplot at 0x1c1fa5fe898>"
      ]
     },
     "execution_count": 21,
     "metadata": {},
     "output_type": "execute_result"
    },
    {
     "data": {
      "image/png": "[encoded data removed]",
      "text/plain": [
       "<Figure size 720x360 with 1 Axes>"
      ]
     },
     "metadata": {
      "needs_background": "light"
     },
     "output_type": "display_data"
    }
   ],
   "source": [
    "base['Idade'].value_counts().plot(kind='bar',figsize = (10,5), title='Mortes/Idade')"
   ]
  },
  {
   "cell_type": "markdown",
   "metadata": {},
   "source": [
    "# 13. Caculando log para cálculo para simulação"
   ]
  },
  {
   "cell_type": "code",
   "execution_count": 22,
   "metadata": {},
   "outputs": [],
   "source": [
    "log_obitos = np.log(1 + base['Obitos'].pct_change())"
   ]
  },
  {
   "cell_type": "code",
   "execution_count": 23,
   "metadata": {},
   "outputs": [
    {
     "data": {
      "text/plain": [
       "55    56\n",
       "56    57\n",
       "57    58\n",
       "58    59\n",
       "59    60\n",
       "Name: Obitos, dtype: int64"
      ]
     },
     "execution_count": 23,
     "metadata": {},
     "output_type": "execute_result"
    }
   ],
   "source": [
    "base['Obitos'].tail()"
   ]
  },
  {
   "cell_type": "markdown",
   "metadata": {},
   "source": [
    "# 14. Gráfico com log para cálculo da simulção"
   ]
  },
  {
   "cell_type": "code",
   "execution_count": 24,
   "metadata": {},
   "outputs": [
    {
     "data": {
      "text/plain": [
       "<matplotlib.axes._subplots.AxesSubplot at 0x1c1fa6b8278>"
      ]
     },
     "execution_count": 24,
     "metadata": {},
     "output_type": "execute_result"
    },
    {
     "data": {
      "image/png": "[encoded data removed]",
      "text/plain": [
       "<Figure size 720x432 with 1 Axes>"
      ]
     },
     "metadata": {
      "needs_background": "light"
     },
     "output_type": "display_data"
    }
   ],
   "source": [
    "log_obitos.plot(figsize=(10,6))"
   ]
  },
  {
   "cell_type": "code",
   "execution_count": 25,
   "metadata": {},
   "outputs": [
    {
     "data": {
      "text/plain": [
       "0.06939567054613728"
      ]
     },
     "execution_count": 25,
     "metadata": {},
     "output_type": "execute_result"
    }
   ],
   "source": [
    "u = log_obitos.mean()\n",
    "u"
   ]
  },
  {
   "cell_type": "code",
   "execution_count": 26,
   "metadata": {},
   "outputs": [
    {
     "data": {
      "text/plain": [
       "0.011661945842254466"
      ]
     },
     "execution_count": 26,
     "metadata": {},
     "output_type": "execute_result"
    }
   ],
   "source": [
    "var = log_obitos.var()\n",
    "var"
   ]
  },
  {
   "cell_type": "code",
   "execution_count": 27,
   "metadata": {},
   "outputs": [
    {
     "data": {
      "text/plain": [
       "0.06356469762501005"
      ]
     },
     "execution_count": 27,
     "metadata": {},
     "output_type": "execute_result"
    }
   ],
   "source": [
    "drift = u - (0.5 * var)\n",
    "drift"
   ]
  },
  {
   "cell_type": "code",
   "execution_count": 28,
   "metadata": {},
   "outputs": [
    {
     "data": {
      "text/plain": [
       "0.10799048959169721"
      ]
     },
     "execution_count": 28,
     "metadata": {},
     "output_type": "execute_result"
    }
   ],
   "source": [
    "stdev = log_obitos.std()\n",
    "stdev"
   ]
  },
  {
   "cell_type": "code",
   "execution_count": 29,
   "metadata": {},
   "outputs": [
    {
     "data": {
      "text/plain": [
       "float"
      ]
     },
     "execution_count": 29,
     "metadata": {},
     "output_type": "execute_result"
    }
   ],
   "source": [
    "type(drift)"
   ]
  },
  {
   "cell_type": "code",
   "execution_count": 30,
   "metadata": {},
   "outputs": [
    {
     "data": {
      "text/plain": [
       "float"
      ]
     },
     "execution_count": 30,
     "metadata": {},
     "output_type": "execute_result"
    }
   ],
   "source": [
    "type(stdev)"
   ]
  },
  {
   "cell_type": "code",
   "execution_count": 31,
   "metadata": {},
   "outputs": [
    {
     "data": {
      "text/plain": [
       "array(0.0635647)"
      ]
     },
     "execution_count": 31,
     "metadata": {},
     "output_type": "execute_result"
    }
   ],
   "source": [
    "np.array(drift)"
   ]
  },
  {
   "cell_type": "code",
   "execution_count": 32,
   "metadata": {},
   "outputs": [
    {
     "data": {
      "text/plain": [
       "0.06356469762501005"
      ]
     },
     "execution_count": 32,
     "metadata": {},
     "output_type": "execute_result"
    }
   ],
   "source": [
    "drift"
   ]
  },
  {
   "cell_type": "code",
   "execution_count": 33,
   "metadata": {},
   "outputs": [
    {
     "data": {
      "text/plain": [
       "0.10799048959169721"
      ]
     },
     "execution_count": 33,
     "metadata": {},
     "output_type": "execute_result"
    }
   ],
   "source": [
    "stdev"
   ]
  },
  {
   "cell_type": "code",
   "execution_count": 34,
   "metadata": {},
   "outputs": [
    {
     "data": {
      "text/plain": [
       "1.6448536269514722"
      ]
     },
     "execution_count": 34,
     "metadata": {},
     "output_type": "execute_result"
    }
   ],
   "source": [
    "norm.ppf(0.95)"
   ]
  },
  {
   "cell_type": "code",
   "execution_count": 35,
   "metadata": {},
   "outputs": [
    {
     "data": {
      "text/plain": [
       "array([[0.85617809, 0.43725553],\n",
       "       [0.77100308, 0.53869007],\n",
       "       [0.46917038, 0.90542269],\n",
       "       [0.39510415, 0.22314039],\n",
       "       [0.2008048 , 0.10843756],\n",
       "       [0.72290642, 0.39618169],\n",
       "       [0.71764529, 0.17991599],\n",
       "       [0.07957317, 0.17928532],\n",
       "       [0.35208123, 0.89650654],\n",
       "       [0.29200912, 0.61101671]])"
      ]
     },
     "execution_count": 35,
     "metadata": {},
     "output_type": "execute_result"
    }
   ],
   "source": [
    "x = np.random.rand(10,2)\n",
    "x"
   ]
  },
  {
   "cell_type": "code",
   "execution_count": 36,
   "metadata": {},
   "outputs": [
    {
     "data": {
      "text/plain": [
       "array([[ 1.06330464, -0.15793115],\n",
       "       [ 0.74215431,  0.09713416],\n",
       "       [-0.07735549,  1.31308407],\n",
       "       [-0.26604013, -0.76163014],\n",
       "       [-0.83875002, -1.23488013],\n",
       "       [ 0.59149746, -0.26324289],\n",
       "       [ 0.57586059, -0.91568528],\n",
       "       [-1.40794842, -0.91809213],\n",
       "       [-0.37970763,  1.26189401],\n",
       "       [-0.54752479,  0.28196992]])"
      ]
     },
     "execution_count": 36,
     "metadata": {},
     "output_type": "execute_result"
    }
   ],
   "source": [
    "norm.ppf(x)"
   ]
  },
  {
   "cell_type": "code",
   "execution_count": 37,
   "metadata": {},
   "outputs": [
    {
     "data": {
      "text/plain": [
       "array([[-1.01957878, -1.75654007, -0.55329545, -3.42622422],\n",
       "       [ 0.97295554, -0.64925507,  0.10369867,  1.24756816],\n",
       "       [ 0.9393913 , -0.11101679,  0.83638783, -2.52694884],\n",
       "       [ 0.40723613, -0.19126621, -0.02521133, -1.43383007],\n",
       "       [-0.42085176,  0.01743254, -0.03029381, -1.29733999],\n",
       "       [-1.12749965, -2.02576311, -1.68629454,  0.94370838],\n",
       "       [ 1.15589809, -0.72398839, -0.04179878,  0.31810042],\n",
       "       [ 0.84749714, -0.29600495, -0.36893427,  0.53295362],\n",
       "       [-0.75485782, -0.01422947, -3.79555594,  1.27725822],\n",
       "       [ 0.15745588, -0.4280084 , -0.04394258, -0.49914292]])"
      ]
     },
     "execution_count": 37,
     "metadata": {},
     "output_type": "execute_result"
    }
   ],
   "source": [
    "z= norm.ppf(np.random.rand(10,4))\n",
    "z"
   ]
  },
  {
   "cell_type": "code",
   "execution_count": 38,
   "metadata": {},
   "outputs": [],
   "source": [
    "t_intervals = 30\n",
    "iterations = 10"
   ]
  },
  {
   "cell_type": "code",
   "execution_count": 39,
   "metadata": {},
   "outputs": [
    {
     "data": {
      "text/plain": [
       "array([[1.00966152, 1.09817151, 1.01450495, 0.97452404, 0.94522239,\n",
       "        1.14516023, 1.03306269, 0.99446099, 1.0475903 , 1.153371  ],\n",
       "       [0.83188058, 0.92700035, 1.12126425, 1.10790636, 1.23789508,\n",
       "        1.05317553, 1.07035168, 1.04410715, 0.8838528 , 0.9922975 ],\n",
       "       [0.95326932, 1.02956029, 0.85875581, 1.00965557, 0.98836762,\n",
       "        1.00920421, 0.92073945, 1.19561925, 1.22265362, 1.04528266],\n",
       "       [0.99743423, 0.89772663, 0.94791975, 1.12182751, 0.92755221,\n",
       "        1.22257647, 1.18982653, 1.09173279, 1.05912943, 1.00736076],\n",
       "       [0.97930513, 1.19599483, 1.21344744, 1.16646294, 0.92968217,\n",
       "        1.09836189, 1.2468786 , 1.14925006, 1.01584326, 1.30557415],\n",
       "       [0.84604004, 0.93450249, 1.18800747, 1.27885035, 1.04306247,\n",
       "        1.00957121, 1.13290852, 1.10342261, 1.27799909, 0.92174301],\n",
       "       [0.92132307, 1.17208661, 0.94397445, 0.96694843, 0.95718619,\n",
       "        1.12316164, 1.21050079, 1.05055033, 1.01183795, 1.09333384],\n",
       "       [1.18929842, 1.08028239, 1.13073959, 1.08254508, 1.32588232,\n",
       "        1.22527187, 1.18565085, 0.9319276 , 1.17411524, 1.14585367],\n",
       "       [1.11839177, 1.32038695, 0.93823206, 0.95247608, 0.97196394,\n",
       "        0.92064483, 0.99707319, 1.06053908, 1.03146166, 1.24417019],\n",
       "       [0.98804185, 1.21481033, 0.9342825 , 1.070466  , 1.13969505,\n",
       "        1.06201676, 1.2030984 , 0.99139965, 1.03659388, 1.15874111],\n",
       "       [1.10137233, 1.02722385, 1.04070414, 1.03761299, 1.3413881 ,\n",
       "        1.07295326, 1.04871168, 0.99778472, 1.28963421, 1.2972028 ],\n",
       "       [1.01086347, 1.05460804, 0.99606761, 1.0473444 , 1.07185796,\n",
       "        1.13865532, 0.81615298, 1.11256582, 1.10380447, 1.1897006 ],\n",
       "       [1.11302059, 0.91339398, 1.14322534, 0.97236346, 1.20900688,\n",
       "        1.07872625, 1.01898051, 1.02534629, 1.12129754, 0.87522036],\n",
       "       [0.89797806, 1.13949529, 1.0102667 , 0.93721148, 1.09786568,\n",
       "        1.09088531, 1.0243548 , 1.10581874, 1.02986728, 1.27350241],\n",
       "       [0.97739104, 1.10803245, 1.04698095, 0.97978036, 0.93827984,\n",
       "        1.29235483, 0.9762586 , 1.13436038, 1.23666734, 1.19322614],\n",
       "       [0.90627993, 0.99154863, 1.17031753, 0.94984004, 0.97936882,\n",
       "        1.03637346, 1.02243045, 1.15363521, 1.09991783, 1.0747684 ],\n",
       "       [1.14926399, 1.06288624, 1.02763955, 0.92466447, 1.05722452,\n",
       "        0.97033028, 0.97711219, 1.06039668, 0.95526051, 0.94763754],\n",
       "       [1.06148475, 1.10914767, 0.94670631, 1.12899947, 0.95041032,\n",
       "        1.15289982, 1.29110169, 1.012384  , 0.92742559, 0.91851455],\n",
       "       [1.04989454, 1.17344182, 1.15116859, 1.00817775, 1.33661616,\n",
       "        1.19230595, 1.41024257, 1.13970166, 1.12966321, 1.05870912],\n",
       "       [0.98721133, 0.9439895 , 0.91630526, 1.02678747, 1.02890305,\n",
       "        1.02230542, 1.0101048 , 1.05051004, 1.09300799, 1.06465015],\n",
       "       [1.02579301, 0.99295105, 0.91005382, 1.0316574 , 0.88977522,\n",
       "        1.04873137, 1.10849713, 0.81755676, 1.02099001, 1.13270647],\n",
       "       [0.93103317, 1.00004602, 1.00515783, 0.93795732, 1.22149853,\n",
       "        1.30629374, 1.0282204 , 1.22040717, 1.01435571, 0.98855513],\n",
       "       [1.16252929, 1.25942868, 1.2102972 , 1.13139121, 1.1455242 ,\n",
       "        1.07233672, 1.06221592, 1.06494185, 1.13456011, 1.29911021],\n",
       "       [1.13184961, 1.22919924, 1.01847988, 1.14482908, 0.93149483,\n",
       "        1.09114416, 1.41855527, 1.28278789, 1.1096582 , 0.98599525],\n",
       "       [1.17427089, 1.18704506, 1.20326433, 1.10984396, 0.99521995,\n",
       "        1.32626664, 1.0376367 , 1.01986286, 1.2380572 , 1.18924549],\n",
       "       [1.1583181 , 1.03658394, 1.18013625, 1.13921478, 0.94546236,\n",
       "        0.99019783, 0.8704388 , 1.07059663, 1.07748855, 1.01673042],\n",
       "       [1.26919363, 1.29195382, 0.95203182, 0.89362622, 0.97151316,\n",
       "        1.05523612, 1.12478644, 0.99944633, 0.87539824, 1.22669043],\n",
       "       [1.09008995, 0.93594134, 1.30557504, 0.94314219, 1.02321304,\n",
       "        1.10246663, 1.14230832, 1.07640179, 1.19859627, 1.20972141],\n",
       "       [1.02127803, 1.11543751, 0.88642273, 1.04544885, 1.29629395,\n",
       "        1.06075347, 1.11378101, 1.12138108, 0.97270059, 0.99137379],\n",
       "       [1.15364046, 1.21010356, 1.05446123, 1.14867643, 1.03677229,\n",
       "        0.93528675, 0.88285936, 1.24471138, 0.82650069, 0.94303378]])"
      ]
     },
     "execution_count": 39,
     "metadata": {},
     "output_type": "execute_result"
    }
   ],
   "source": [
    "daily_obitos = np.exp(drift + stdev * norm.ppf(np.random.rand(t_intervals, iterations)))\n",
    "daily_obitos"
   ]
  },
  {
   "cell_type": "code",
   "execution_count": null,
   "metadata": {},
   "outputs": [],
   "source": []
  },
  {
   "cell_type": "code",
   "execution_count": 40,
   "metadata": {},
   "outputs": [
    {
     "data": {
      "text/plain": [
       "60"
      ]
     },
     "execution_count": 40,
     "metadata": {},
     "output_type": "execute_result"
    }
   ],
   "source": [
    "last_data = base['Obitos'].iloc[-1]\n",
    "last_data"
   ]
  },
  {
   "cell_type": "code",
   "execution_count": 41,
   "metadata": {},
   "outputs": [
    {
     "data": {
      "text/plain": [
       "array([[0., 0., 0., 0., 0., 0., 0., 0., 0., 0.],\n",
       "       [0., 0., 0., 0., 0., 0., 0., 0., 0., 0.],\n",
       "       [0., 0., 0., 0., 0., 0., 0., 0., 0., 0.],\n",
       "       [0., 0., 0., 0., 0., 0., 0., 0., 0., 0.],\n",
       "       [0., 0., 0., 0., 0., 0., 0., 0., 0., 0.],\n",
       "       [0., 0., 0., 0., 0., 0., 0., 0., 0., 0.],\n",
       "       [0., 0., 0., 0., 0., 0., 0., 0., 0., 0.],\n",
       "       [0., 0., 0., 0., 0., 0., 0., 0., 0., 0.],\n",
       "       [0., 0., 0., 0., 0., 0., 0., 0., 0., 0.],\n",
       "       [0., 0., 0., 0., 0., 0., 0., 0., 0., 0.],\n",
       "       [0., 0., 0., 0., 0., 0., 0., 0., 0., 0.],\n",
       "       [0., 0., 0., 0., 0., 0., 0., 0., 0., 0.],\n",
       "       [0., 0., 0., 0., 0., 0., 0., 0., 0., 0.],\n",
       "       [0., 0., 0., 0., 0., 0., 0., 0., 0., 0.],\n",
       "       [0., 0., 0., 0., 0., 0., 0., 0., 0., 0.],\n",
       "       [0., 0., 0., 0., 0., 0., 0., 0., 0., 0.],\n",
       "       [0., 0., 0., 0., 0., 0., 0., 0., 0., 0.],\n",
       "       [0., 0., 0., 0., 0., 0., 0., 0., 0., 0.],\n",
       "       [0., 0., 0., 0., 0., 0., 0., 0., 0., 0.],\n",
       "       [0., 0., 0., 0., 0., 0., 0., 0., 0., 0.],\n",
       "       [0., 0., 0., 0., 0., 0., 0., 0., 0., 0.],\n",
       "       [0., 0., 0., 0., 0., 0., 0., 0., 0., 0.],\n",
       "       [0., 0., 0., 0., 0., 0., 0., 0., 0., 0.],\n",
       "       [0., 0., 0., 0., 0., 0., 0., 0., 0., 0.],\n",
       "       [0., 0., 0., 0., 0., 0., 0., 0., 0., 0.],\n",
       "       [0., 0., 0., 0., 0., 0., 0., 0., 0., 0.],\n",
       "       [0., 0., 0., 0., 0., 0., 0., 0., 0., 0.],\n",
       "       [0., 0., 0., 0., 0., 0., 0., 0., 0., 0.],\n",
       "       [0., 0., 0., 0., 0., 0., 0., 0., 0., 0.],\n",
       "       [0., 0., 0., 0., 0., 0., 0., 0., 0., 0.]])"
      ]
     },
     "execution_count": 41,
     "metadata": {},
     "output_type": "execute_result"
    }
   ],
   "source": [
    "obito_list = np.zeros_like(daily_obitos)\n",
    "obito_list"
   ]
  },
  {
   "cell_type": "code",
   "execution_count": 42,
   "metadata": {},
   "outputs": [
    {
     "data": {
      "text/plain": [
       "array([[60., 60., 60., 60., 60., 60., 60., 60., 60., 60.],\n",
       "       [ 0.,  0.,  0.,  0.,  0.,  0.,  0.,  0.,  0.,  0.],\n",
       "       [ 0.,  0.,  0.,  0.,  0.,  0.,  0.,  0.,  0.,  0.],\n",
       "       [ 0.,  0.,  0.,  0.,  0.,  0.,  0.,  0.,  0.,  0.],\n",
       "       [ 0.,  0.,  0.,  0.,  0.,  0.,  0.,  0.,  0.,  0.],\n",
       "       [ 0.,  0.,  0.,  0.,  0.,  0.,  0.,  0.,  0.,  0.],\n",
       "       [ 0.,  0.,  0.,  0.,  0.,  0.,  0.,  0.,  0.,  0.],\n",
       "       [ 0.,  0.,  0.,  0.,  0.,  0.,  0.,  0.,  0.,  0.],\n",
       "       [ 0.,  0.,  0.,  0.,  0.,  0.,  0.,  0.,  0.,  0.],\n",
       "       [ 0.,  0.,  0.,  0.,  0.,  0.,  0.,  0.,  0.,  0.],\n",
       "       [ 0.,  0.,  0.,  0.,  0.,  0.,  0.,  0.,  0.,  0.],\n",
       "       [ 0.,  0.,  0.,  0.,  0.,  0.,  0.,  0.,  0.,  0.],\n",
       "       [ 0.,  0.,  0.,  0.,  0.,  0.,  0.,  0.,  0.,  0.],\n",
       "       [ 0.,  0.,  0.,  0.,  0.,  0.,  0.,  0.,  0.,  0.],\n",
       "       [ 0.,  0.,  0.,  0.,  0.,  0.,  0.,  0.,  0.,  0.],\n",
       "       [ 0.,  0.,  0.,  0.,  0.,  0.,  0.,  0.,  0.,  0.],\n",
       "       [ 0.,  0.,  0.,  0.,  0.,  0.,  0.,  0.,  0.,  0.],\n",
       "       [ 0.,  0.,  0.,  0.,  0.,  0.,  0.,  0.,  0.,  0.],\n",
       "       [ 0.,  0.,  0.,  0.,  0.,  0.,  0.,  0.,  0.,  0.],\n",
       "       [ 0.,  0.,  0.,  0.,  0.,  0.,  0.,  0.,  0.,  0.],\n",
       "       [ 0.,  0.,  0.,  0.,  0.,  0.,  0.,  0.,  0.,  0.],\n",
       "       [ 0.,  0.,  0.,  0.,  0.,  0.,  0.,  0.,  0.,  0.],\n",
       "       [ 0.,  0.,  0.,  0.,  0.,  0.,  0.,  0.,  0.,  0.],\n",
       "       [ 0.,  0.,  0.,  0.,  0.,  0.,  0.,  0.,  0.,  0.],\n",
       "       [ 0.,  0.,  0.,  0.,  0.,  0.,  0.,  0.,  0.,  0.],\n",
       "       [ 0.,  0.,  0.,  0.,  0.,  0.,  0.,  0.,  0.,  0.],\n",
       "       [ 0.,  0.,  0.,  0.,  0.,  0.,  0.,  0.,  0.,  0.],\n",
       "       [ 0.,  0.,  0.,  0.,  0.,  0.,  0.,  0.,  0.,  0.],\n",
       "       [ 0.,  0.,  0.,  0.,  0.,  0.,  0.,  0.,  0.,  0.],\n",
       "       [ 0.,  0.,  0.,  0.,  0.,  0.,  0.,  0.,  0.,  0.]])"
      ]
     },
     "execution_count": 42,
     "metadata": {},
     "output_type": "execute_result"
    }
   ],
   "source": [
    "obito_list[0] = last_data\n",
    "obito_list"
   ]
  },
  {
   "cell_type": "code",
   "execution_count": 43,
   "metadata": {},
   "outputs": [],
   "source": [
    "for t in range (1, t_intervals):\n",
    "    obito_list[t] = obito_list[t-1]* daily_obitos[t]"
   ]
  },
  {
   "cell_type": "code",
   "execution_count": 44,
   "metadata": {},
   "outputs": [
    {
     "data": {
      "text/plain": [
       "array([[ 60.        ,  60.        ,  60.        ,  60.        ,\n",
       "         60.        ,  60.        ,  60.        ,  60.        ,\n",
       "         60.        ,  60.        ],\n",
       "       [ 49.91283466,  55.62002092,  67.27585493,  66.47438156,\n",
       "         74.27370482,  63.19053201,  64.22110102,  62.64642903,\n",
       "         53.03116795,  59.53785005],\n",
       "       [ 47.58037409,  57.264165  ,  57.77353107,  67.11622979,\n",
       "         73.40972493,  63.7721512 ,  59.13090097,  74.9012762 ,\n",
       "         64.83874957,  62.23388227],\n",
       "       [ 47.4582938 ,  51.40756573,  54.76467094,  75.29283314,\n",
       "         68.09135267,  77.96633151,  70.3555149 ,  81.77217956,\n",
       "         68.67262763,  62.6919707 ],\n",
       "       [ 46.47615057,  61.48318258,  66.45404953,  87.82629918,\n",
       "         63.30331667,  85.63524705,  87.72478575,  93.9766825 ,\n",
       "         69.76062587,  81.84901613],\n",
       "       [ 39.32068439,  57.45618701,  78.94790747, 112.31669308,\n",
       "         66.02931391,  86.45488017,  99.38415751, 103.69599658,\n",
       "         89.15401653,  75.44375882],\n",
       "       [ 36.2270535 ,  67.3436277 ,  74.52480724, 108.60445042,\n",
       "         63.20234724,  97.10280496, 120.30460149, 108.9378636 ,\n",
       "         90.20941746,  82.48521458],\n",
       "       [ 43.08477744,  72.75013518,  84.26814997, 117.56921353,\n",
       "         83.79887504, 118.97733588, 142.63925318, 101.5222015 ,\n",
       "        105.9162522 ,  94.51598559],\n",
       "       [ 48.18566069,  96.05832921,  79.06307963, 111.98186305,\n",
       "         81.44948457, 109.53586951, 142.22177518, 107.66826191,\n",
       "        109.24855315, 117.5939718 ],\n",
       "       [ 47.60944909, 116.69265045,  73.86725204, 119.87277684,\n",
       "         92.82757433, 116.32892927, 171.10678983, 106.74227755,\n",
       "        113.24638182, 136.26097   ],\n",
       "       [ 52.43572991, 119.869474  ,  76.87395479, 124.38155051,\n",
       "        124.51780351, 124.81550433, 179.44168869, 106.50581308,\n",
       "        146.0464085 , 176.75811172],\n",
       "       [ 53.00536409, 126.41531123,  76.57165609, 130.27032051,\n",
       "        133.4653994 , 142.12183834, 146.45186852, 118.49472768,\n",
       "        161.20667885, 210.28923212],\n",
       "       [ 58.99606178, 115.46698463,  87.5386576 , 126.67009904,\n",
       "        161.36058634, 153.31055709, 149.23160004, 121.49812933,\n",
       "        180.76065194, 184.04941776],\n",
       "       [ 52.97716916, 131.57408469,  88.43739074, 118.71667084,\n",
       "        177.15224928, 167.24423416, 152.86610583, 134.35490842,\n",
       "        186.15948178, 234.38737757],\n",
       "       [ 51.7794105 , 145.788355  ,  92.59226311, 116.31626207,\n",
       "        166.21838462, 216.13889429, 149.23685019, 152.40688546,\n",
       "        230.21735114, 279.67714627],\n",
       "       [ 46.92664057, 144.55624368, 108.36234837, 110.48184331,\n",
       "        162.78910302, 224.00061435, 152.58430028, 175.82194988,\n",
       "        253.22016821, 300.58815947],\n",
       "       [ 53.93109818, 153.64684271, 111.35743471, 102.15863491,\n",
       "        172.10463181, 217.35457964, 149.09197968, 186.44101159,\n",
       "        241.89122821, 284.84862438],\n",
       "       [ 57.24703832, 170.41703749, 105.4227857 , 115.33704515,\n",
       "        163.57001858, 250.58805587, 192.49290657, 188.7498968 ,\n",
       "        224.33611517, 261.63760678],\n",
       "       [ 60.10335324, 199.97447933, 121.35939914, 116.28024309,\n",
       "        218.63033046, 298.77763008, 271.46169053, 215.11857055,\n",
       "        253.42425552, 276.9981212 ],\n",
       "       [ 59.33471108, 188.77380974, 111.20225635, 119.39509614,\n",
       "        224.94941343, 305.44199099, 274.20475683, 225.98421792,\n",
       "        276.99473661, 294.90609253],\n",
       "       [ 60.86513169, 187.4431528 , 101.20003812, 123.1748346 ,\n",
       "        200.15441449, 320.32659871, 303.9551863 , 184.75492502,\n",
       "        282.80885899, 334.04203811],\n",
       "       [ 56.66745647, 187.45177818, 101.72201085, 115.53273819,\n",
       "        244.48832242, 418.44062923, 312.5329244 , 225.4762361 ,\n",
       "        286.86878028, 330.2189695 ],\n",
       "       [ 65.87757778, 236.08214554, 123.11386499, 130.71272397,\n",
       "        280.06729087, 448.70925249, 331.97744685, 240.11908032,\n",
       "        325.46987512, 428.99083351],\n",
       "       [ 74.56351083, 290.19199287, 125.38899406, 149.64372803,\n",
       "        260.88123415, 489.60648   , 470.92835705, 308.02184815,\n",
       "        361.16031632, 422.98292279],\n",
       "       [ 87.55776001, 344.4709716 , 150.87610423, 166.081187  ,\n",
       "        259.63420844, 649.34874327, 488.65254728, 314.14004317,\n",
       "        447.13712883, 503.03053504],\n",
       "       [101.41973818, 357.0730784 , 178.05435928, 189.20214232,\n",
       "        245.4743727 , 642.9837136 , 425.34213923, 336.31727143,\n",
       "        481.78513584, 511.4464487 ],\n",
       "       [128.72128601, 461.32192651, 169.51341607, 169.07599464,\n",
       "        238.48158391, 678.49964227, 478.41907191, 336.13106194,\n",
       "        421.75385829, 627.38646376],\n",
       "       [140.31778002, 431.77026393, 221.31248573, 159.46270408,\n",
       "        244.01746592, 748.02321479, 546.50208692, 361.81207807,\n",
       "        505.51260112, 758.96283906],\n",
       "       [143.3034665 , 481.61274692, 196.17641686, 166.71010094,\n",
       "        316.31836388, 793.46822237, 608.68364665, 405.72921903,\n",
       "        491.71240364, 752.41586372],\n",
       "       [165.32067661, 582.80129831, 206.86042564, 191.49596388,\n",
       "        327.95011408, 742.12031491, 537.38205643, 505.01577767,\n",
       "        406.40064199, 709.55357437]])"
      ]
     },
     "execution_count": 44,
     "metadata": {},
     "output_type": "execute_result"
    }
   ],
   "source": [
    "obito_list"
   ]
  },
  {
   "cell_type": "code",
   "execution_count": 45,
   "metadata": {},
   "outputs": [
    {
     "data": {
      "text/plain": [
       "36.22705350045721"
      ]
     },
     "execution_count": 45,
     "metadata": {},
     "output_type": "execute_result"
    }
   ],
   "source": [
    "obito_list.min()"
   ]
  },
  {
   "cell_type": "code",
   "execution_count": 46,
   "metadata": {},
   "outputs": [
    {
     "data": {
      "text/plain": [
       "793.468222368929"
      ]
     },
     "execution_count": 46,
     "metadata": {},
     "output_type": "execute_result"
    }
   ],
   "source": [
    "obito_list.max()"
   ]
  },
  {
   "cell_type": "code",
   "execution_count": 47,
   "metadata": {},
   "outputs": [
    {
     "data": {
      "text/plain": [
       "191.51974141436713"
      ]
     },
     "execution_count": 47,
     "metadata": {},
     "output_type": "execute_result"
    }
   ],
   "source": [
    "obito_list.mean()"
   ]
  },
  {
   "cell_type": "code",
   "execution_count": 48,
   "metadata": {},
   "outputs": [
    {
     "data": {
      "text/plain": [
       "155.95265802565328"
      ]
     },
     "execution_count": 48,
     "metadata": {},
     "output_type": "execute_result"
    }
   ],
   "source": [
    "obito_list.std()"
   ]
  },
  {
   "cell_type": "code",
   "execution_count": 49,
   "metadata": {},
   "outputs": [
    {
     "data": {
      "text/plain": [
       "133.91015391266598"
      ]
     },
     "execution_count": 49,
     "metadata": {},
     "output_type": "execute_result"
    }
   ],
   "source": [
    "np.median(obito_list)"
   ]
  },
  {
   "cell_type": "markdown",
   "metadata": {},
   "source": [
    "# 15. Simulação de Monte Carlo para os óbitos em Indaiatuba"
   ]
  },
  {
   "cell_type": "code",
   "execution_count": 50,
   "metadata": {},
   "outputs": [
    {
     "data": {
      "image/png": "[encoded data removed]",
      "text/plain": [
       "<Figure size 1368x648 with 1 Axes>"
      ]
     },
     "metadata": {
      "needs_background": "light"
     },
     "output_type": "display_data"
    }
   ],
   "source": [
    "plt.figure(figsize=(19,9))\n",
    "plt.plot(obito_list);\n",
    "plt.title('SIMULAÇÃO DE MONTE CARLO');\n",
    "plt.xlabel('REPETIÇÕES'); #definindo nome do eixo X\n",
    "plt.ylabel('Número de Óbitos'); #definindo nome do eixo Y\n"
   ]
  },
  {
   "cell_type": "code",
   "execution_count": 51,
   "metadata": {},
   "outputs": [
    {
     "name": "stdout",
     "output_type": "stream",
     "text": [
      "Óbitos mínimos, 36 pessoas\n",
      "Óbitos mediana, 134 pessoas\n",
      "Óbitos médio, 192 pessoas\n",
      "Óbitos máximo, 793 pessoas\n",
      "Óbitos atual, 60 pessoas\n"
     ]
    }
   ],
   "source": [
    "print(f'Óbitos mínimos, {obito_list.min():.0f}'' pessoas')\n",
    "print(f'Óbitos mediana, {np.median(obito_list):.0f}'' pessoas')\n",
    "print(f'Óbitos médio, {obito_list.mean():.0f}'' pessoas')\n",
    "print(f'Óbitos máximo, {obito_list.max():.0f}'' pessoas')\n",
    "print('Óbitos atual,',(str(round(base['Obitos'].iloc[-1]))),'pessoas') #informar o ticker"
   ]
  },
  {
   "cell_type": "markdown",
   "metadata": {},
   "source": [
    "# 16. Cálculo de mortes por dia"
   ]
  },
  {
   "cell_type": "code",
   "execution_count": 52,
   "metadata": {},
   "outputs": [
    {
     "data": {
      "text/plain": [
       "55   85 days\n",
       "56   85 days\n",
       "57   86 days\n",
       "58   87 days\n",
       "59   88 days\n",
       "Name: Data, dtype: timedelta64[ns]"
      ]
     },
     "execution_count": 52,
     "metadata": {},
     "output_type": "execute_result"
    }
   ],
   "source": [
    "diferencaDias = base['diferencaDias'] = base['Data'] - base['Data'].min()\n",
    "diferencaDias.tail()"
   ]
  },
  {
   "cell_type": "code",
   "execution_count": 53,
   "metadata": {},
   "outputs": [
    {
     "data": {
      "text/plain": [
       "60"
      ]
     },
     "execution_count": 53,
     "metadata": {},
     "output_type": "execute_result"
    }
   ],
   "source": [
    "last_data"
   ]
  },
  {
   "cell_type": "code",
   "execution_count": 54,
   "metadata": {},
   "outputs": [],
   "source": [
    "diasCorridos = a.loc[59:].astype('timedelta64[D]') #atualizar com índice da última data = last_data"
   ]
  },
  {
   "cell_type": "code",
   "execution_count": 55,
   "metadata": {},
   "outputs": [
    {
     "data": {
      "text/plain": [
       "59    88.0\n",
       "Name: Data, dtype: float64"
      ]
     },
     "execution_count": 55,
     "metadata": {},
     "output_type": "execute_result"
    }
   ],
   "source": [
    "diasCorridos"
   ]
  },
  {
   "cell_type": "code",
   "execution_count": 56,
   "metadata": {},
   "outputs": [
    {
     "data": {
      "text/plain": [
       "59    0.681818\n",
       "Name: Data, dtype: float64"
      ]
     },
     "execution_count": 56,
     "metadata": {},
     "output_type": "execute_result"
    }
   ],
   "source": [
    "ObitosDia = last_data/diasCorridos\n",
    "ObitosDia"
   ]
  },
  {
   "cell_type": "markdown",
   "metadata": {},
   "source": [
    "# Principais Conclusões\n",
    "\n",
    "1 A cada dois dias uma pessoa vem a óbito\n",
    "\n",
    "2 Predominância do sexo masculino\n",
    "\n",
    "3 O viés é ascendente"
   ]
  }
 ],
 "metadata": {
  "kernelspec": {
   "display_name": "Python 3.7.3 64-bit ('base': conda)",
   "language": "python",
   "name": "python37364bitbasecondac3187a33bb6b4b858aad71feb598639b"
  },
  "language_info": {
   "codemirror_mode": {
    "name": "ipython",
    "version": 3
   },
   "file_extension": ".py",
   "mimetype": "text/x-python",
   "name": "python",
   "nbconvert_exporter": "python",
   "pygments_lexer": "ipython3",
   "version": "3.7.3"
  }
 },
 "nbformat": 4,
 "nbformat_minor": 2
}
