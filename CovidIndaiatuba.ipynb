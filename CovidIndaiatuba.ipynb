{
 "cells": [
  {
   "cell_type": "markdown",
   "metadata": {},
   "source": [
    "# Análise dos casos de óbito de Covid-19 em Indaiatuba"
   ]
  },
  {
   "cell_type": "code",
   "execution_count": 1,
   "metadata": {},
   "outputs": [],
   "source": [
    "import pandas as pd\n",
    "import seaborn as sns\n",
    "import matplotlib.pyplot as plt\n",
    "import numpy as np\n",
    "from pandas_datareader import data as wb\n",
    "from scipy.stats import norm"
   ]
  },
  {
   "cell_type": "markdown",
   "metadata": {},
   "source": [
    "# 1. Extração dos dados \n",
    "Fonte: G1 - Campinas\n",
    "\n",
    "https://g1.globo.com/sp/campinas-regiao/noticia/2020/06/28/coronavirus-prefeituras-da-regiao-de-campinas-confirmam-novos-casos-neste-domingo-28-de-junho.ghtml"
   ]
  },
  {
   "cell_type": "code",
   "execution_count": 2,
   "metadata": {},
   "outputs": [],
   "source": [
    "base = pd.read_excel(\"CovidIndaiatuba.xlsx\")"
   ]
  },
  {
   "cell_type": "code",
   "execution_count": 3,
   "metadata": {},
   "outputs": [
    {
     "data": {
      "text/html": [
       "<div>\n",
       "<style scoped>\n",
       "    .dataframe tbody tr th:only-of-type {\n",
       "        vertical-align: middle;\n",
       "    }\n",
       "\n",
       "    .dataframe tbody tr th {\n",
       "        vertical-align: top;\n",
       "    }\n",
       "\n",
       "    .dataframe thead th {\n",
       "        text-align: right;\n",
       "    }\n",
       "</style>\n",
       "<table border=\"1\" class=\"dataframe\">\n",
       "  <thead>\n",
       "    <tr style=\"text-align: right;\">\n",
       "      <th></th>\n",
       "      <th>Obitos</th>\n",
       "      <th>Data</th>\n",
       "      <th>Sexo</th>\n",
       "      <th>Idade</th>\n",
       "      <th>anos</th>\n",
       "      <th>Comorbidade</th>\n",
       "    </tr>\n",
       "  </thead>\n",
       "  <tbody>\n",
       "    <tr>\n",
       "      <th>55</th>\n",
       "      <td>56</td>\n",
       "      <td>2020-06-24</td>\n",
       "      <td>Homem</td>\n",
       "      <td>54</td>\n",
       "      <td>anos,</td>\n",
       "      <td>Sem Comorbidade, ex-tabagista.</td>\n",
       "    </tr>\n",
       "    <tr>\n",
       "      <th>56</th>\n",
       "      <td>57</td>\n",
       "      <td>2020-06-24</td>\n",
       "      <td>Homem</td>\n",
       "      <td>65</td>\n",
       "      <td>anos,</td>\n",
       "      <td>Com Comorbidades</td>\n",
       "    </tr>\n",
       "    <tr>\n",
       "      <th>57</th>\n",
       "      <td>58</td>\n",
       "      <td>2020-06-25</td>\n",
       "      <td>Homem</td>\n",
       "      <td>59</td>\n",
       "      <td>anos,</td>\n",
       "      <td>Sem Comorbidade</td>\n",
       "    </tr>\n",
       "    <tr>\n",
       "      <th>58</th>\n",
       "      <td>59</td>\n",
       "      <td>2020-06-26</td>\n",
       "      <td>Homem</td>\n",
       "      <td>53</td>\n",
       "      <td>anos,</td>\n",
       "      <td>Com Comorbidades</td>\n",
       "    </tr>\n",
       "    <tr>\n",
       "      <th>59</th>\n",
       "      <td>60</td>\n",
       "      <td>2020-06-27</td>\n",
       "      <td>Homem</td>\n",
       "      <td>74</td>\n",
       "      <td>anos,</td>\n",
       "      <td>Com Comorbidades</td>\n",
       "    </tr>\n",
       "  </tbody>\n",
       "</table>\n",
       "</div>"
      ],
      "text/plain": [
       "    Obitos       Data   Sexo  Idade   anos                     Comorbidade\n",
       "55      56 2020-06-24  Homem     54  anos,  Sem Comorbidade, ex-tabagista.\n",
       "56      57 2020-06-24  Homem     65  anos,                Com Comorbidades\n",
       "57      58 2020-06-25  Homem     59  anos,                 Sem Comorbidade\n",
       "58      59 2020-06-26  Homem     53  anos,                Com Comorbidades\n",
       "59      60 2020-06-27  Homem     74  anos,                Com Comorbidades"
      ]
     },
     "execution_count": 3,
     "metadata": {},
     "output_type": "execute_result"
    }
   ],
   "source": [
    "base.tail()"
   ]
  },
  {
   "cell_type": "markdown",
   "metadata": {},
   "source": [
    "# 2. Criação das colunas: MesMorte, diferençaDias e MédiaMovel - concatenação "
   ]
  },
  {
   "cell_type": "code",
   "execution_count": 4,
   "metadata": {},
   "outputs": [
    {
     "data": {
      "text/html": [
       "<div>\n",
       "<style scoped>\n",
       "    .dataframe tbody tr th:only-of-type {\n",
       "        vertical-align: middle;\n",
       "    }\n",
       "\n",
       "    .dataframe tbody tr th {\n",
       "        vertical-align: top;\n",
       "    }\n",
       "\n",
       "    .dataframe thead th {\n",
       "        text-align: right;\n",
       "    }\n",
       "</style>\n",
       "<table border=\"1\" class=\"dataframe\">\n",
       "  <thead>\n",
       "    <tr style=\"text-align: right;\">\n",
       "      <th></th>\n",
       "      <th>Obitos</th>\n",
       "      <th>Data</th>\n",
       "      <th>Sexo</th>\n",
       "      <th>Idade</th>\n",
       "      <th>anos</th>\n",
       "      <th>Comorbidade</th>\n",
       "      <th>MesMorte</th>\n",
       "      <th>diferencaDias</th>\n",
       "      <th>MédiaMovel</th>\n",
       "    </tr>\n",
       "  </thead>\n",
       "  <tbody>\n",
       "    <tr>\n",
       "      <th>0</th>\n",
       "      <td>1</td>\n",
       "      <td>2020-03-31</td>\n",
       "      <td>Homem</td>\n",
       "      <td>64</td>\n",
       "      <td>anos,</td>\n",
       "      <td>Com Comorbidades</td>\n",
       "      <td>3</td>\n",
       "      <td>0 days</td>\n",
       "      <td>NaN</td>\n",
       "    </tr>\n",
       "    <tr>\n",
       "      <th>1</th>\n",
       "      <td>2</td>\n",
       "      <td>2020-04-13</td>\n",
       "      <td>Mulher</td>\n",
       "      <td>50</td>\n",
       "      <td>anos,</td>\n",
       "      <td>Com Comorbidades</td>\n",
       "      <td>4</td>\n",
       "      <td>13 days</td>\n",
       "      <td>1.5</td>\n",
       "    </tr>\n",
       "    <tr>\n",
       "      <th>2</th>\n",
       "      <td>3</td>\n",
       "      <td>2020-04-18</td>\n",
       "      <td>Mulher</td>\n",
       "      <td>52</td>\n",
       "      <td>anos,</td>\n",
       "      <td>Sem Comorbidade</td>\n",
       "      <td>4</td>\n",
       "      <td>18 days</td>\n",
       "      <td>2.5</td>\n",
       "    </tr>\n",
       "    <tr>\n",
       "      <th>3</th>\n",
       "      <td>4</td>\n",
       "      <td>2020-04-21</td>\n",
       "      <td>Homem</td>\n",
       "      <td>64</td>\n",
       "      <td>anos,</td>\n",
       "      <td>Com Comorbidades</td>\n",
       "      <td>4</td>\n",
       "      <td>21 days</td>\n",
       "      <td>3.5</td>\n",
       "    </tr>\n",
       "    <tr>\n",
       "      <th>4</th>\n",
       "      <td>5</td>\n",
       "      <td>2020-04-24</td>\n",
       "      <td>Mulher</td>\n",
       "      <td>61</td>\n",
       "      <td>anos,</td>\n",
       "      <td>Com Comorbidades</td>\n",
       "      <td>4</td>\n",
       "      <td>24 days</td>\n",
       "      <td>4.5</td>\n",
       "    </tr>\n",
       "    <tr>\n",
       "      <th>5</th>\n",
       "      <td>6</td>\n",
       "      <td>2020-05-02</td>\n",
       "      <td>Mulher</td>\n",
       "      <td>83</td>\n",
       "      <td>anos,</td>\n",
       "      <td>Com Comorbidades</td>\n",
       "      <td>5</td>\n",
       "      <td>32 days</td>\n",
       "      <td>5.5</td>\n",
       "    </tr>\n",
       "    <tr>\n",
       "      <th>6</th>\n",
       "      <td>7</td>\n",
       "      <td>2020-05-06</td>\n",
       "      <td>Homem</td>\n",
       "      <td>38</td>\n",
       "      <td>anos,</td>\n",
       "      <td>Com Comorbidades</td>\n",
       "      <td>5</td>\n",
       "      <td>36 days</td>\n",
       "      <td>6.5</td>\n",
       "    </tr>\n",
       "    <tr>\n",
       "      <th>7</th>\n",
       "      <td>8</td>\n",
       "      <td>2020-05-06</td>\n",
       "      <td>Homem</td>\n",
       "      <td>76</td>\n",
       "      <td>anos,</td>\n",
       "      <td>Com Comorbidades</td>\n",
       "      <td>5</td>\n",
       "      <td>36 days</td>\n",
       "      <td>7.5</td>\n",
       "    </tr>\n",
       "    <tr>\n",
       "      <th>8</th>\n",
       "      <td>9</td>\n",
       "      <td>2020-05-07</td>\n",
       "      <td>Homem</td>\n",
       "      <td>30</td>\n",
       "      <td>anos,</td>\n",
       "      <td>Com Comorbidades</td>\n",
       "      <td>5</td>\n",
       "      <td>37 days</td>\n",
       "      <td>8.5</td>\n",
       "    </tr>\n",
       "    <tr>\n",
       "      <th>9</th>\n",
       "      <td>10</td>\n",
       "      <td>2020-05-07</td>\n",
       "      <td>Homem</td>\n",
       "      <td>55</td>\n",
       "      <td>anos,</td>\n",
       "      <td>Sem Comorbidade, ex-tabagista.</td>\n",
       "      <td>5</td>\n",
       "      <td>37 days</td>\n",
       "      <td>9.5</td>\n",
       "    </tr>\n",
       "    <tr>\n",
       "      <th>10</th>\n",
       "      <td>11</td>\n",
       "      <td>2020-05-10</td>\n",
       "      <td>Homem</td>\n",
       "      <td>74</td>\n",
       "      <td>anos,</td>\n",
       "      <td>Com Comorbidades</td>\n",
       "      <td>5</td>\n",
       "      <td>40 days</td>\n",
       "      <td>10.5</td>\n",
       "    </tr>\n",
       "    <tr>\n",
       "      <th>11</th>\n",
       "      <td>12</td>\n",
       "      <td>2020-05-12</td>\n",
       "      <td>Homem</td>\n",
       "      <td>75</td>\n",
       "      <td>anos,</td>\n",
       "      <td>Sem Comorbidade</td>\n",
       "      <td>5</td>\n",
       "      <td>42 days</td>\n",
       "      <td>11.5</td>\n",
       "    </tr>\n",
       "    <tr>\n",
       "      <th>12</th>\n",
       "      <td>13</td>\n",
       "      <td>2020-05-15</td>\n",
       "      <td>Mulher</td>\n",
       "      <td>77</td>\n",
       "      <td>anos,</td>\n",
       "      <td>Com Comorbidades</td>\n",
       "      <td>5</td>\n",
       "      <td>45 days</td>\n",
       "      <td>12.5</td>\n",
       "    </tr>\n",
       "    <tr>\n",
       "      <th>13</th>\n",
       "      <td>14</td>\n",
       "      <td>2020-05-17</td>\n",
       "      <td>Homem</td>\n",
       "      <td>68</td>\n",
       "      <td>anos,</td>\n",
       "      <td>Com Comorbidades</td>\n",
       "      <td>5</td>\n",
       "      <td>47 days</td>\n",
       "      <td>13.5</td>\n",
       "    </tr>\n",
       "    <tr>\n",
       "      <th>14</th>\n",
       "      <td>15</td>\n",
       "      <td>2020-05-18</td>\n",
       "      <td>Homem</td>\n",
       "      <td>90</td>\n",
       "      <td>anos,</td>\n",
       "      <td>Com Comorbidades</td>\n",
       "      <td>5</td>\n",
       "      <td>48 days</td>\n",
       "      <td>14.5</td>\n",
       "    </tr>\n",
       "    <tr>\n",
       "      <th>15</th>\n",
       "      <td>16</td>\n",
       "      <td>2020-05-21</td>\n",
       "      <td>Homem</td>\n",
       "      <td>71</td>\n",
       "      <td>anos,</td>\n",
       "      <td>Com Comorbidades</td>\n",
       "      <td>5</td>\n",
       "      <td>51 days</td>\n",
       "      <td>15.5</td>\n",
       "    </tr>\n",
       "    <tr>\n",
       "      <th>16</th>\n",
       "      <td>17</td>\n",
       "      <td>2020-05-23</td>\n",
       "      <td>Mulher</td>\n",
       "      <td>58</td>\n",
       "      <td>anos,</td>\n",
       "      <td>Com Comorbidades</td>\n",
       "      <td>5</td>\n",
       "      <td>53 days</td>\n",
       "      <td>16.5</td>\n",
       "    </tr>\n",
       "    <tr>\n",
       "      <th>17</th>\n",
       "      <td>18</td>\n",
       "      <td>2020-05-23</td>\n",
       "      <td>Homem</td>\n",
       "      <td>67</td>\n",
       "      <td>anos,</td>\n",
       "      <td>Com Comorbidades</td>\n",
       "      <td>5</td>\n",
       "      <td>53 days</td>\n",
       "      <td>17.5</td>\n",
       "    </tr>\n",
       "    <tr>\n",
       "      <th>18</th>\n",
       "      <td>19</td>\n",
       "      <td>2020-05-24</td>\n",
       "      <td>Mulher</td>\n",
       "      <td>71</td>\n",
       "      <td>anos,</td>\n",
       "      <td>Com Comorbidades</td>\n",
       "      <td>5</td>\n",
       "      <td>54 days</td>\n",
       "      <td>18.5</td>\n",
       "    </tr>\n",
       "    <tr>\n",
       "      <th>19</th>\n",
       "      <td>20</td>\n",
       "      <td>2020-05-24</td>\n",
       "      <td>Homem</td>\n",
       "      <td>88</td>\n",
       "      <td>anos,</td>\n",
       "      <td>Com Comorbidades</td>\n",
       "      <td>5</td>\n",
       "      <td>54 days</td>\n",
       "      <td>19.5</td>\n",
       "    </tr>\n",
       "    <tr>\n",
       "      <th>20</th>\n",
       "      <td>21</td>\n",
       "      <td>2020-05-24</td>\n",
       "      <td>Homem</td>\n",
       "      <td>62</td>\n",
       "      <td>anos,</td>\n",
       "      <td>Com Comorbidades</td>\n",
       "      <td>5</td>\n",
       "      <td>54 days</td>\n",
       "      <td>20.5</td>\n",
       "    </tr>\n",
       "    <tr>\n",
       "      <th>21</th>\n",
       "      <td>22</td>\n",
       "      <td>2020-05-26</td>\n",
       "      <td>Homem</td>\n",
       "      <td>76</td>\n",
       "      <td>anos,</td>\n",
       "      <td>Com Comorbidades</td>\n",
       "      <td>5</td>\n",
       "      <td>56 days</td>\n",
       "      <td>21.5</td>\n",
       "    </tr>\n",
       "    <tr>\n",
       "      <th>22</th>\n",
       "      <td>23</td>\n",
       "      <td>2020-05-27</td>\n",
       "      <td>Homem</td>\n",
       "      <td>69</td>\n",
       "      <td>anos,</td>\n",
       "      <td>Sem Comorbidade</td>\n",
       "      <td>5</td>\n",
       "      <td>57 days</td>\n",
       "      <td>22.5</td>\n",
       "    </tr>\n",
       "    <tr>\n",
       "      <th>23</th>\n",
       "      <td>24</td>\n",
       "      <td>2020-05-28</td>\n",
       "      <td>Mulher</td>\n",
       "      <td>67</td>\n",
       "      <td>anos,</td>\n",
       "      <td>Com Comorbidades</td>\n",
       "      <td>5</td>\n",
       "      <td>58 days</td>\n",
       "      <td>23.5</td>\n",
       "    </tr>\n",
       "    <tr>\n",
       "      <th>24</th>\n",
       "      <td>25</td>\n",
       "      <td>2020-05-28</td>\n",
       "      <td>Mulher</td>\n",
       "      <td>67</td>\n",
       "      <td>anos,</td>\n",
       "      <td>Com Comorbidades</td>\n",
       "      <td>5</td>\n",
       "      <td>58 days</td>\n",
       "      <td>24.5</td>\n",
       "    </tr>\n",
       "    <tr>\n",
       "      <th>25</th>\n",
       "      <td>26</td>\n",
       "      <td>2020-05-30</td>\n",
       "      <td>Homem</td>\n",
       "      <td>70</td>\n",
       "      <td>anos,</td>\n",
       "      <td>Com Comorbidades</td>\n",
       "      <td>5</td>\n",
       "      <td>60 days</td>\n",
       "      <td>25.5</td>\n",
       "    </tr>\n",
       "    <tr>\n",
       "      <th>26</th>\n",
       "      <td>27</td>\n",
       "      <td>2020-05-31</td>\n",
       "      <td>Mulher</td>\n",
       "      <td>86</td>\n",
       "      <td>anos,</td>\n",
       "      <td>Com Comorbidades</td>\n",
       "      <td>5</td>\n",
       "      <td>61 days</td>\n",
       "      <td>26.5</td>\n",
       "    </tr>\n",
       "    <tr>\n",
       "      <th>27</th>\n",
       "      <td>28</td>\n",
       "      <td>2020-06-03</td>\n",
       "      <td>Mulher</td>\n",
       "      <td>86</td>\n",
       "      <td>anos,</td>\n",
       "      <td>Sem Comorbidade</td>\n",
       "      <td>6</td>\n",
       "      <td>64 days</td>\n",
       "      <td>27.5</td>\n",
       "    </tr>\n",
       "    <tr>\n",
       "      <th>28</th>\n",
       "      <td>29</td>\n",
       "      <td>2020-06-05</td>\n",
       "      <td>Homem</td>\n",
       "      <td>46</td>\n",
       "      <td>anos,</td>\n",
       "      <td>Sem Comorbidade</td>\n",
       "      <td>6</td>\n",
       "      <td>66 days</td>\n",
       "      <td>28.5</td>\n",
       "    </tr>\n",
       "    <tr>\n",
       "      <th>29</th>\n",
       "      <td>30</td>\n",
       "      <td>2020-06-06</td>\n",
       "      <td>Homem</td>\n",
       "      <td>78</td>\n",
       "      <td>anos,</td>\n",
       "      <td>Com Comorbidades</td>\n",
       "      <td>6</td>\n",
       "      <td>67 days</td>\n",
       "      <td>29.5</td>\n",
       "    </tr>\n",
       "    <tr>\n",
       "      <th>30</th>\n",
       "      <td>31</td>\n",
       "      <td>2020-06-07</td>\n",
       "      <td>Homem</td>\n",
       "      <td>42</td>\n",
       "      <td>anos,</td>\n",
       "      <td>Sem Comorbidade</td>\n",
       "      <td>6</td>\n",
       "      <td>68 days</td>\n",
       "      <td>30.5</td>\n",
       "    </tr>\n",
       "    <tr>\n",
       "      <th>31</th>\n",
       "      <td>32</td>\n",
       "      <td>2020-06-07</td>\n",
       "      <td>Homem</td>\n",
       "      <td>86</td>\n",
       "      <td>anos,</td>\n",
       "      <td>Com Comorbidades</td>\n",
       "      <td>6</td>\n",
       "      <td>68 days</td>\n",
       "      <td>31.5</td>\n",
       "    </tr>\n",
       "    <tr>\n",
       "      <th>32</th>\n",
       "      <td>33</td>\n",
       "      <td>2020-06-07</td>\n",
       "      <td>Mulher</td>\n",
       "      <td>55</td>\n",
       "      <td>anos,</td>\n",
       "      <td>Com Comorbidades</td>\n",
       "      <td>6</td>\n",
       "      <td>68 days</td>\n",
       "      <td>32.5</td>\n",
       "    </tr>\n",
       "    <tr>\n",
       "      <th>33</th>\n",
       "      <td>34</td>\n",
       "      <td>2020-06-07</td>\n",
       "      <td>Mulher</td>\n",
       "      <td>61</td>\n",
       "      <td>anos,</td>\n",
       "      <td>Com Comorbidades</td>\n",
       "      <td>6</td>\n",
       "      <td>68 days</td>\n",
       "      <td>33.5</td>\n",
       "    </tr>\n",
       "    <tr>\n",
       "      <th>34</th>\n",
       "      <td>35</td>\n",
       "      <td>2020-06-08</td>\n",
       "      <td>Homem</td>\n",
       "      <td>69</td>\n",
       "      <td>anos,</td>\n",
       "      <td>Com Comorbidades</td>\n",
       "      <td>6</td>\n",
       "      <td>69 days</td>\n",
       "      <td>34.5</td>\n",
       "    </tr>\n",
       "    <tr>\n",
       "      <th>35</th>\n",
       "      <td>36</td>\n",
       "      <td>2020-06-08</td>\n",
       "      <td>Mulher</td>\n",
       "      <td>52</td>\n",
       "      <td>anos,</td>\n",
       "      <td>Com Comorbidades</td>\n",
       "      <td>6</td>\n",
       "      <td>69 days</td>\n",
       "      <td>35.5</td>\n",
       "    </tr>\n",
       "    <tr>\n",
       "      <th>36</th>\n",
       "      <td>37</td>\n",
       "      <td>2020-06-08</td>\n",
       "      <td>Mulher</td>\n",
       "      <td>48</td>\n",
       "      <td>anos,</td>\n",
       "      <td>Com Comorbidades</td>\n",
       "      <td>6</td>\n",
       "      <td>69 days</td>\n",
       "      <td>36.5</td>\n",
       "    </tr>\n",
       "    <tr>\n",
       "      <th>37</th>\n",
       "      <td>38</td>\n",
       "      <td>2020-06-09</td>\n",
       "      <td>Mulher</td>\n",
       "      <td>67</td>\n",
       "      <td>anos,</td>\n",
       "      <td>Com Comorbidades</td>\n",
       "      <td>6</td>\n",
       "      <td>70 days</td>\n",
       "      <td>37.5</td>\n",
       "    </tr>\n",
       "    <tr>\n",
       "      <th>38</th>\n",
       "      <td>39</td>\n",
       "      <td>2020-06-10</td>\n",
       "      <td>Mulher</td>\n",
       "      <td>71</td>\n",
       "      <td>anos,</td>\n",
       "      <td>Com Comorbidades</td>\n",
       "      <td>6</td>\n",
       "      <td>71 days</td>\n",
       "      <td>38.5</td>\n",
       "    </tr>\n",
       "    <tr>\n",
       "      <th>39</th>\n",
       "      <td>40</td>\n",
       "      <td>2020-06-12</td>\n",
       "      <td>Mulher</td>\n",
       "      <td>40</td>\n",
       "      <td>anos,</td>\n",
       "      <td>Sem Comorbidade</td>\n",
       "      <td>6</td>\n",
       "      <td>73 days</td>\n",
       "      <td>39.5</td>\n",
       "    </tr>\n",
       "    <tr>\n",
       "      <th>40</th>\n",
       "      <td>41</td>\n",
       "      <td>2020-06-12</td>\n",
       "      <td>Homem</td>\n",
       "      <td>86</td>\n",
       "      <td>anos,</td>\n",
       "      <td>Sem Comorbidade</td>\n",
       "      <td>6</td>\n",
       "      <td>73 days</td>\n",
       "      <td>40.5</td>\n",
       "    </tr>\n",
       "    <tr>\n",
       "      <th>41</th>\n",
       "      <td>42</td>\n",
       "      <td>2020-06-13</td>\n",
       "      <td>Homem</td>\n",
       "      <td>91</td>\n",
       "      <td>anos,</td>\n",
       "      <td>Com Comorbidades</td>\n",
       "      <td>6</td>\n",
       "      <td>74 days</td>\n",
       "      <td>41.5</td>\n",
       "    </tr>\n",
       "    <tr>\n",
       "      <th>42</th>\n",
       "      <td>43</td>\n",
       "      <td>2020-06-14</td>\n",
       "      <td>Mulher</td>\n",
       "      <td>66</td>\n",
       "      <td>anos,</td>\n",
       "      <td>Com Comorbidades</td>\n",
       "      <td>6</td>\n",
       "      <td>75 days</td>\n",
       "      <td>42.5</td>\n",
       "    </tr>\n",
       "    <tr>\n",
       "      <th>43</th>\n",
       "      <td>44</td>\n",
       "      <td>2020-06-14</td>\n",
       "      <td>Homem</td>\n",
       "      <td>44</td>\n",
       "      <td>anos,</td>\n",
       "      <td>Sem Comorbidade</td>\n",
       "      <td>6</td>\n",
       "      <td>75 days</td>\n",
       "      <td>43.5</td>\n",
       "    </tr>\n",
       "    <tr>\n",
       "      <th>44</th>\n",
       "      <td>45</td>\n",
       "      <td>2020-06-15</td>\n",
       "      <td>Mulher</td>\n",
       "      <td>58</td>\n",
       "      <td>anos,</td>\n",
       "      <td>Com Comorbidades</td>\n",
       "      <td>6</td>\n",
       "      <td>76 days</td>\n",
       "      <td>44.5</td>\n",
       "    </tr>\n",
       "    <tr>\n",
       "      <th>45</th>\n",
       "      <td>46</td>\n",
       "      <td>2020-06-17</td>\n",
       "      <td>Homem</td>\n",
       "      <td>52</td>\n",
       "      <td>anos,</td>\n",
       "      <td>Com Comorbidades</td>\n",
       "      <td>6</td>\n",
       "      <td>78 days</td>\n",
       "      <td>45.5</td>\n",
       "    </tr>\n",
       "    <tr>\n",
       "      <th>46</th>\n",
       "      <td>47</td>\n",
       "      <td>2020-06-17</td>\n",
       "      <td>Homem</td>\n",
       "      <td>53</td>\n",
       "      <td>anos,</td>\n",
       "      <td>Com Comorbidades</td>\n",
       "      <td>6</td>\n",
       "      <td>78 days</td>\n",
       "      <td>46.5</td>\n",
       "    </tr>\n",
       "    <tr>\n",
       "      <th>47</th>\n",
       "      <td>48</td>\n",
       "      <td>2020-06-18</td>\n",
       "      <td>Mulher</td>\n",
       "      <td>87</td>\n",
       "      <td>anos,</td>\n",
       "      <td>Sem Comorbidade</td>\n",
       "      <td>6</td>\n",
       "      <td>79 days</td>\n",
       "      <td>47.5</td>\n",
       "    </tr>\n",
       "    <tr>\n",
       "      <th>48</th>\n",
       "      <td>49</td>\n",
       "      <td>2020-06-19</td>\n",
       "      <td>Homem</td>\n",
       "      <td>75</td>\n",
       "      <td>anos,</td>\n",
       "      <td>Com Comorbidades</td>\n",
       "      <td>6</td>\n",
       "      <td>80 days</td>\n",
       "      <td>48.5</td>\n",
       "    </tr>\n",
       "    <tr>\n",
       "      <th>49</th>\n",
       "      <td>50</td>\n",
       "      <td>2020-06-19</td>\n",
       "      <td>Mulher</td>\n",
       "      <td>62</td>\n",
       "      <td>anos,</td>\n",
       "      <td>Com Comorbidades</td>\n",
       "      <td>6</td>\n",
       "      <td>80 days</td>\n",
       "      <td>49.5</td>\n",
       "    </tr>\n",
       "    <tr>\n",
       "      <th>50</th>\n",
       "      <td>51</td>\n",
       "      <td>2020-06-20</td>\n",
       "      <td>Homem</td>\n",
       "      <td>41</td>\n",
       "      <td>anos,</td>\n",
       "      <td>Sem Comorbidade</td>\n",
       "      <td>6</td>\n",
       "      <td>81 days</td>\n",
       "      <td>50.5</td>\n",
       "    </tr>\n",
       "    <tr>\n",
       "      <th>51</th>\n",
       "      <td>52</td>\n",
       "      <td>2020-06-21</td>\n",
       "      <td>Homem</td>\n",
       "      <td>82</td>\n",
       "      <td>anos,</td>\n",
       "      <td>Com Comorbidades</td>\n",
       "      <td>6</td>\n",
       "      <td>82 days</td>\n",
       "      <td>51.5</td>\n",
       "    </tr>\n",
       "    <tr>\n",
       "      <th>52</th>\n",
       "      <td>53</td>\n",
       "      <td>2020-06-22</td>\n",
       "      <td>Homem</td>\n",
       "      <td>65</td>\n",
       "      <td>anos,</td>\n",
       "      <td>Com Comorbidades</td>\n",
       "      <td>6</td>\n",
       "      <td>83 days</td>\n",
       "      <td>52.5</td>\n",
       "    </tr>\n",
       "    <tr>\n",
       "      <th>53</th>\n",
       "      <td>54</td>\n",
       "      <td>2020-06-22</td>\n",
       "      <td>Homem</td>\n",
       "      <td>72</td>\n",
       "      <td>anos,</td>\n",
       "      <td>Com Comorbidades</td>\n",
       "      <td>6</td>\n",
       "      <td>83 days</td>\n",
       "      <td>53.5</td>\n",
       "    </tr>\n",
       "    <tr>\n",
       "      <th>54</th>\n",
       "      <td>55</td>\n",
       "      <td>2020-06-24</td>\n",
       "      <td>Mulher</td>\n",
       "      <td>56</td>\n",
       "      <td>anos,</td>\n",
       "      <td>Sem Comorbidade</td>\n",
       "      <td>6</td>\n",
       "      <td>85 days</td>\n",
       "      <td>54.5</td>\n",
       "    </tr>\n",
       "    <tr>\n",
       "      <th>55</th>\n",
       "      <td>56</td>\n",
       "      <td>2020-06-24</td>\n",
       "      <td>Homem</td>\n",
       "      <td>54</td>\n",
       "      <td>anos,</td>\n",
       "      <td>Sem Comorbidade, ex-tabagista.</td>\n",
       "      <td>6</td>\n",
       "      <td>85 days</td>\n",
       "      <td>55.5</td>\n",
       "    </tr>\n",
       "    <tr>\n",
       "      <th>56</th>\n",
       "      <td>57</td>\n",
       "      <td>2020-06-24</td>\n",
       "      <td>Homem</td>\n",
       "      <td>65</td>\n",
       "      <td>anos,</td>\n",
       "      <td>Com Comorbidades</td>\n",
       "      <td>6</td>\n",
       "      <td>85 days</td>\n",
       "      <td>56.5</td>\n",
       "    </tr>\n",
       "    <tr>\n",
       "      <th>57</th>\n",
       "      <td>58</td>\n",
       "      <td>2020-06-25</td>\n",
       "      <td>Homem</td>\n",
       "      <td>59</td>\n",
       "      <td>anos,</td>\n",
       "      <td>Sem Comorbidade</td>\n",
       "      <td>6</td>\n",
       "      <td>86 days</td>\n",
       "      <td>57.5</td>\n",
       "    </tr>\n",
       "    <tr>\n",
       "      <th>58</th>\n",
       "      <td>59</td>\n",
       "      <td>2020-06-26</td>\n",
       "      <td>Homem</td>\n",
       "      <td>53</td>\n",
       "      <td>anos,</td>\n",
       "      <td>Com Comorbidades</td>\n",
       "      <td>6</td>\n",
       "      <td>87 days</td>\n",
       "      <td>58.5</td>\n",
       "    </tr>\n",
       "    <tr>\n",
       "      <th>59</th>\n",
       "      <td>60</td>\n",
       "      <td>2020-06-27</td>\n",
       "      <td>Homem</td>\n",
       "      <td>74</td>\n",
       "      <td>anos,</td>\n",
       "      <td>Com Comorbidades</td>\n",
       "      <td>6</td>\n",
       "      <td>88 days</td>\n",
       "      <td>59.5</td>\n",
       "    </tr>\n",
       "  </tbody>\n",
       "</table>\n",
       "</div>"
      ],
      "text/plain": [
       "    Obitos       Data    Sexo  Idade   anos                     Comorbidade  \\\n",
       "0        1 2020-03-31   Homem     64  anos,                Com Comorbidades   \n",
       "1        2 2020-04-13  Mulher     50  anos,                Com Comorbidades   \n",
       "2        3 2020-04-18  Mulher     52  anos,                 Sem Comorbidade   \n",
       "3        4 2020-04-21   Homem     64  anos,                Com Comorbidades   \n",
       "4        5 2020-04-24  Mulher     61  anos,                Com Comorbidades   \n",
       "5        6 2020-05-02  Mulher     83  anos,                Com Comorbidades   \n",
       "6        7 2020-05-06   Homem     38  anos,                Com Comorbidades   \n",
       "7        8 2020-05-06   Homem     76  anos,                Com Comorbidades   \n",
       "8        9 2020-05-07   Homem     30  anos,                Com Comorbidades   \n",
       "9       10 2020-05-07   Homem     55  anos,  Sem Comorbidade, ex-tabagista.   \n",
       "10      11 2020-05-10   Homem     74  anos,                Com Comorbidades   \n",
       "11      12 2020-05-12   Homem     75  anos,                 Sem Comorbidade   \n",
       "12      13 2020-05-15  Mulher     77  anos,                Com Comorbidades   \n",
       "13      14 2020-05-17   Homem     68  anos,                Com Comorbidades   \n",
       "14      15 2020-05-18   Homem     90  anos,                Com Comorbidades   \n",
       "15      16 2020-05-21   Homem     71  anos,                Com Comorbidades   \n",
       "16      17 2020-05-23  Mulher     58  anos,                Com Comorbidades   \n",
       "17      18 2020-05-23   Homem     67  anos,                Com Comorbidades   \n",
       "18      19 2020-05-24  Mulher     71  anos,                Com Comorbidades   \n",
       "19      20 2020-05-24   Homem     88  anos,                Com Comorbidades   \n",
       "20      21 2020-05-24   Homem     62  anos,                Com Comorbidades   \n",
       "21      22 2020-05-26   Homem     76  anos,                Com Comorbidades   \n",
       "22      23 2020-05-27   Homem     69  anos,                 Sem Comorbidade   \n",
       "23      24 2020-05-28  Mulher     67  anos,                Com Comorbidades   \n",
       "24      25 2020-05-28  Mulher     67  anos,                Com Comorbidades   \n",
       "25      26 2020-05-30   Homem     70  anos,                Com Comorbidades   \n",
       "26      27 2020-05-31  Mulher     86  anos,                Com Comorbidades   \n",
       "27      28 2020-06-03  Mulher     86  anos,                 Sem Comorbidade   \n",
       "28      29 2020-06-05   Homem     46  anos,                 Sem Comorbidade   \n",
       "29      30 2020-06-06   Homem     78  anos,                Com Comorbidades   \n",
       "30      31 2020-06-07   Homem     42  anos,                 Sem Comorbidade   \n",
       "31      32 2020-06-07   Homem     86  anos,                Com Comorbidades   \n",
       "32      33 2020-06-07  Mulher     55  anos,                Com Comorbidades   \n",
       "33      34 2020-06-07  Mulher     61  anos,                Com Comorbidades   \n",
       "34      35 2020-06-08   Homem     69  anos,                Com Comorbidades   \n",
       "35      36 2020-06-08  Mulher     52  anos,                Com Comorbidades   \n",
       "36      37 2020-06-08  Mulher     48  anos,                Com Comorbidades   \n",
       "37      38 2020-06-09  Mulher     67  anos,                Com Comorbidades   \n",
       "38      39 2020-06-10  Mulher     71  anos,                Com Comorbidades   \n",
       "39      40 2020-06-12  Mulher     40  anos,                 Sem Comorbidade   \n",
       "40      41 2020-06-12   Homem     86  anos,                 Sem Comorbidade   \n",
       "41      42 2020-06-13   Homem     91  anos,                Com Comorbidades   \n",
       "42      43 2020-06-14  Mulher     66  anos,                Com Comorbidades   \n",
       "43      44 2020-06-14   Homem     44  anos,                 Sem Comorbidade   \n",
       "44      45 2020-06-15  Mulher     58  anos,                Com Comorbidades   \n",
       "45      46 2020-06-17   Homem     52  anos,                Com Comorbidades   \n",
       "46      47 2020-06-17   Homem     53  anos,                Com Comorbidades   \n",
       "47      48 2020-06-18  Mulher     87  anos,                 Sem Comorbidade   \n",
       "48      49 2020-06-19   Homem     75  anos,                Com Comorbidades   \n",
       "49      50 2020-06-19  Mulher     62  anos,                Com Comorbidades   \n",
       "50      51 2020-06-20   Homem     41  anos,                 Sem Comorbidade   \n",
       "51      52 2020-06-21   Homem     82  anos,                Com Comorbidades   \n",
       "52      53 2020-06-22   Homem     65  anos,                Com Comorbidades   \n",
       "53      54 2020-06-22   Homem     72  anos,                Com Comorbidades   \n",
       "54      55 2020-06-24  Mulher     56  anos,                 Sem Comorbidade   \n",
       "55      56 2020-06-24   Homem     54  anos,  Sem Comorbidade, ex-tabagista.   \n",
       "56      57 2020-06-24   Homem     65  anos,                Com Comorbidades   \n",
       "57      58 2020-06-25   Homem     59  anos,                 Sem Comorbidade   \n",
       "58      59 2020-06-26   Homem     53  anos,                Com Comorbidades   \n",
       "59      60 2020-06-27   Homem     74  anos,                Com Comorbidades   \n",
       "\n",
       "    MesMorte diferencaDias  MédiaMovel  \n",
       "0          3        0 days         NaN  \n",
       "1          4       13 days         1.5  \n",
       "2          4       18 days         2.5  \n",
       "3          4       21 days         3.5  \n",
       "4          4       24 days         4.5  \n",
       "5          5       32 days         5.5  \n",
       "6          5       36 days         6.5  \n",
       "7          5       36 days         7.5  \n",
       "8          5       37 days         8.5  \n",
       "9          5       37 days         9.5  \n",
       "10         5       40 days        10.5  \n",
       "11         5       42 days        11.5  \n",
       "12         5       45 days        12.5  \n",
       "13         5       47 days        13.5  \n",
       "14         5       48 days        14.5  \n",
       "15         5       51 days        15.5  \n",
       "16         5       53 days        16.5  \n",
       "17         5       53 days        17.5  \n",
       "18         5       54 days        18.5  \n",
       "19         5       54 days        19.5  \n",
       "20         5       54 days        20.5  \n",
       "21         5       56 days        21.5  \n",
       "22         5       57 days        22.5  \n",
       "23         5       58 days        23.5  \n",
       "24         5       58 days        24.5  \n",
       "25         5       60 days        25.5  \n",
       "26         5       61 days        26.5  \n",
       "27         6       64 days        27.5  \n",
       "28         6       66 days        28.5  \n",
       "29         6       67 days        29.5  \n",
       "30         6       68 days        30.5  \n",
       "31         6       68 days        31.5  \n",
       "32         6       68 days        32.5  \n",
       "33         6       68 days        33.5  \n",
       "34         6       69 days        34.5  \n",
       "35         6       69 days        35.5  \n",
       "36         6       69 days        36.5  \n",
       "37         6       70 days        37.5  \n",
       "38         6       71 days        38.5  \n",
       "39         6       73 days        39.5  \n",
       "40         6       73 days        40.5  \n",
       "41         6       74 days        41.5  \n",
       "42         6       75 days        42.5  \n",
       "43         6       75 days        43.5  \n",
       "44         6       76 days        44.5  \n",
       "45         6       78 days        45.5  \n",
       "46         6       78 days        46.5  \n",
       "47         6       79 days        47.5  \n",
       "48         6       80 days        48.5  \n",
       "49         6       80 days        49.5  \n",
       "50         6       81 days        50.5  \n",
       "51         6       82 days        51.5  \n",
       "52         6       83 days        52.5  \n",
       "53         6       83 days        53.5  \n",
       "54         6       85 days        54.5  \n",
       "55         6       85 days        55.5  \n",
       "56         6       85 days        56.5  \n",
       "57         6       86 days        57.5  \n",
       "58         6       87 days        58.5  \n",
       "59         6       88 days        59.5  "
      ]
     },
     "execution_count": 4,
     "metadata": {},
     "output_type": "execute_result"
    }
   ],
   "source": [
    "base.groupby(base['Data'].dt.month)['Obitos'].sum()\n",
    "base['MesMorte'] = base['Data'].dt.month\n",
    "base['diferencaDias'] = base['Data'] - base['Data'].min()\n",
    "base['MédiaMovel'] = base['Obitos'].rolling(2).mean()\n",
    "base"
   ]
  },
  {
   "cell_type": "markdown",
   "metadata": {},
   "source": [
    "# 3. Cálculo por Sexo"
   ]
  },
  {
   "cell_type": "code",
   "execution_count": 5,
   "metadata": {},
   "outputs": [
    {
     "data": {
      "text/html": [
       "<div>\n",
       "<style scoped>\n",
       "    .dataframe tbody tr th:only-of-type {\n",
       "        vertical-align: middle;\n",
       "    }\n",
       "\n",
       "    .dataframe tbody tr th {\n",
       "        vertical-align: top;\n",
       "    }\n",
       "\n",
       "    .dataframe thead th {\n",
       "        text-align: right;\n",
       "    }\n",
       "</style>\n",
       "<table border=\"1\" class=\"dataframe\">\n",
       "  <thead>\n",
       "    <tr style=\"text-align: right;\">\n",
       "      <th>Sexo</th>\n",
       "      <th>Homem</th>\n",
       "      <th>Mulher</th>\n",
       "    </tr>\n",
       "    <tr>\n",
       "      <th>Sexo</th>\n",
       "      <th></th>\n",
       "      <th></th>\n",
       "    </tr>\n",
       "  </thead>\n",
       "  <tbody>\n",
       "    <tr>\n",
       "      <th>Homem</th>\n",
       "      <td>37</td>\n",
       "      <td>0</td>\n",
       "    </tr>\n",
       "    <tr>\n",
       "      <th>Mulher</th>\n",
       "      <td>0</td>\n",
       "      <td>23</td>\n",
       "    </tr>\n",
       "  </tbody>\n",
       "</table>\n",
       "</div>"
      ],
      "text/plain": [
       "Sexo    Homem  Mulher\n",
       "Sexo                 \n",
       "Homem      37       0\n",
       "Mulher      0      23"
      ]
     },
     "execution_count": 5,
     "metadata": {},
     "output_type": "execute_result"
    }
   ],
   "source": [
    "pd.crosstab(base['Sexo'],base['Sexo'])"
   ]
  },
  {
   "cell_type": "code",
   "execution_count": 6,
   "metadata": {
    "scrolled": true
   },
   "outputs": [
    {
     "name": "stdout",
     "output_type": "stream",
     "text": [
      "Sexo em %\n",
      "Homem     61.67\n",
      "Mulher    38.33\n",
      "Name: Sexo, dtype: float64\n"
     ]
    }
   ],
   "source": [
    "print ('Sexo em %')\n",
    "Afetados = base['Sexo'].value_counts(normalize=True)\n",
    "print (str(round(Afetados, 4) *100)) "
   ]
  },
  {
   "cell_type": "code",
   "execution_count": 50,
   "metadata": {
    "scrolled": true
   },
   "outputs": [
    {
     "data": {
      "text/plain": [
       "<matplotlib.axes._subplots.AxesSubplot at 0x27469955a90>"
      ]
     },
     "execution_count": 50,
     "metadata": {},
     "output_type": "execute_result"
    },
    {
     "data": {
      "image/png": "[encoded data removed]",
      "text/plain": [
       "<Figure size 432x432 with 1 Axes>"
      ]
     },
     "metadata": {},
     "output_type": "display_data"
    }
   ],
   "source": [
    "base['Sexo'].value_counts().plot(kind = \"pie\", figsize = (6,6))"
   ]
  },
  {
   "cell_type": "markdown",
   "metadata": {},
   "source": [
    "# 4. Agrupando os dados pelo mês do óbito"
   ]
  },
  {
   "cell_type": "code",
   "execution_count": 67,
   "metadata": {},
   "outputs": [
    {
     "data": {
      "text/plain": [
       "Data\n",
       "3     1\n",
       "4     4\n",
       "5    22\n",
       "6    33\n",
       "Name: Obitos, dtype: int64"
      ]
     },
     "execution_count": 67,
     "metadata": {},
     "output_type": "execute_result"
    }
   ],
   "source": [
    "ObitosMes = base.groupby(base['Data'].dt.month)['Obitos'].count()\n",
    "ObitosMes"
   ]
  },
  {
   "cell_type": "code",
   "execution_count": 65,
   "metadata": {},
   "outputs": [
    {
     "data": {
      "text/plain": [
       "<matplotlib.axes._subplots.AxesSubplot at 0x2746a086208>"
      ]
     },
     "execution_count": 65,
     "metadata": {},
     "output_type": "execute_result"
    },
    {
     "data": {
      "image/png": "[encoded data removed]",
      "text/plain": [
       "<Figure size 720x360 with 1 Axes>"
      ]
     },
     "metadata": {
      "needs_background": "light"
     },
     "output_type": "display_data"
    }
   ],
   "source": [
    "ObitosMes.plot(kind = \"bar\", figsize = (10,5), title='Óbitos por Mês')"
   ]
  },
  {
   "cell_type": "markdown",
   "metadata": {},
   "source": [
    "# 4.1 Variação percentual de óbitos por mês"
   ]
  },
  {
   "cell_type": "code",
   "execution_count": 70,
   "metadata": {},
   "outputs": [],
   "source": [
    "ObitosMes1 = ObitosMes.shift(1)"
   ]
  },
  {
   "cell_type": "code",
   "execution_count": 62,
   "metadata": {},
   "outputs": [
    {
     "data": {
      "text/plain": [
       "Data\n",
       "3      NaN\n",
       "4    300.0\n",
       "5    450.0\n",
       "6     50.0\n",
       "Name: Obitos, dtype: float64"
      ]
     },
     "execution_count": 62,
     "metadata": {},
     "output_type": "execute_result"
    }
   ],
   "source": [
    "variacao = (df - df1)/df1 * 100\n",
    "variacao"
   ]
  },
  {
   "cell_type": "markdown",
   "metadata": {},
   "source": [
    "# 5. Calculando o total de dias desde a primeira morte"
   ]
  },
  {
   "cell_type": "code",
   "execution_count": null,
   "metadata": {},
   "outputs": [],
   "source": [
    "a = base['diferencaDias'] = base['Data'] - base['Data'].min()\n",
    "a.tail()"
   ]
  },
  {
   "cell_type": "markdown",
   "metadata": {},
   "source": [
    "# 6. Verifando se com coborbidades ou sem comorbidades"
   ]
  },
  {
   "cell_type": "code",
   "execution_count": null,
   "metadata": {},
   "outputs": [],
   "source": [
    "pd.crosstab(base['Comorbidade'],base['Comorbidade'])"
   ]
  },
  {
   "cell_type": "code",
   "execution_count": null,
   "metadata": {},
   "outputs": [],
   "source": [
    "base['Comorbidade'].value_counts().head().plot(kind = \"barh\", figsize = (6,6))"
   ]
  },
  {
   "cell_type": "markdown",
   "metadata": {},
   "source": [
    "# 7. Gráfico com exibição dos Óbitos no tempo"
   ]
  },
  {
   "cell_type": "code",
   "execution_count": null,
   "metadata": {},
   "outputs": [],
   "source": [
    "base.plot(x='Data', y='Obitos', figsize=(13,6));\n",
    "plt.title('Óbitos em Indaiatuba')\n",
    "plt.ylabel('Obitos')\n",
    "plt.xlabel('Data')\n",
    "plt.show()"
   ]
  },
  {
   "cell_type": "markdown",
   "metadata": {},
   "source": [
    "# 8. Média de idades dos óbitos\n"
   ]
  },
  {
   "cell_type": "code",
   "execution_count": null,
   "metadata": {},
   "outputs": [],
   "source": [
    "base['Idade'].mean()"
   ]
  },
  {
   "cell_type": "markdown",
   "metadata": {},
   "source": [
    "# 9 .Desvio Padrão de idades dos óbitos"
   ]
  },
  {
   "cell_type": "code",
   "execution_count": null,
   "metadata": {},
   "outputs": [],
   "source": [
    "base['Idade'].std()"
   ]
  },
  {
   "cell_type": "markdown",
   "metadata": {},
   "source": [
    "# 10. Mediana de idades dos óbitos"
   ]
  },
  {
   "cell_type": "code",
   "execution_count": null,
   "metadata": {},
   "outputs": [],
   "source": [
    "base['Idade'].median()"
   ]
  },
  {
   "cell_type": "markdown",
   "metadata": {},
   "source": [
    "# 11. Frequencia de idades dos óbitos"
   ]
  },
  {
   "cell_type": "code",
   "execution_count": null,
   "metadata": {},
   "outputs": [],
   "source": [
    "base['Idade'].mode()"
   ]
  },
  {
   "cell_type": "markdown",
   "metadata": {},
   "source": [
    "# 12. Gráfico com a Frequencia de idade dos óbitos"
   ]
  },
  {
   "cell_type": "code",
   "execution_count": null,
   "metadata": {},
   "outputs": [],
   "source": [
    "base['Idade'].value_counts().plot(kind='bar',figsize = (10,5), title='Mortes/Idade')"
   ]
  },
  {
   "cell_type": "markdown",
   "metadata": {},
   "source": [
    "# 13. Caculando log para cálculo para simulação"
   ]
  },
  {
   "cell_type": "code",
   "execution_count": null,
   "metadata": {},
   "outputs": [],
   "source": [
    "log_obitos = np.log(1 + base['Obitos'].pct_change())"
   ]
  },
  {
   "cell_type": "code",
   "execution_count": null,
   "metadata": {},
   "outputs": [],
   "source": [
    "base['Obitos'].tail()"
   ]
  },
  {
   "cell_type": "markdown",
   "metadata": {},
   "source": [
    "# 14. Gráfico com log para cálculo da simulção"
   ]
  },
  {
   "cell_type": "code",
   "execution_count": null,
   "metadata": {},
   "outputs": [],
   "source": [
    "log_obitos.plot(figsize=(10,6))"
   ]
  },
  {
   "cell_type": "code",
   "execution_count": null,
   "metadata": {},
   "outputs": [],
   "source": [
    "u = log_obitos.mean()\n",
    "u"
   ]
  },
  {
   "cell_type": "code",
   "execution_count": null,
   "metadata": {},
   "outputs": [],
   "source": [
    "var = log_obitos.var()\n",
    "var"
   ]
  },
  {
   "cell_type": "code",
   "execution_count": null,
   "metadata": {},
   "outputs": [],
   "source": [
    "drift = u - (0.5 * var)\n",
    "drift"
   ]
  },
  {
   "cell_type": "code",
   "execution_count": null,
   "metadata": {},
   "outputs": [],
   "source": [
    "stdev = log_obitos.std()\n",
    "stdev"
   ]
  },
  {
   "cell_type": "code",
   "execution_count": null,
   "metadata": {},
   "outputs": [],
   "source": [
    "type(drift)"
   ]
  },
  {
   "cell_type": "code",
   "execution_count": null,
   "metadata": {},
   "outputs": [],
   "source": [
    "type(stdev)"
   ]
  },
  {
   "cell_type": "code",
   "execution_count": null,
   "metadata": {},
   "outputs": [],
   "source": [
    "np.array(drift)"
   ]
  },
  {
   "cell_type": "code",
   "execution_count": null,
   "metadata": {},
   "outputs": [],
   "source": [
    "drift"
   ]
  },
  {
   "cell_type": "code",
   "execution_count": null,
   "metadata": {},
   "outputs": [],
   "source": [
    "stdev"
   ]
  },
  {
   "cell_type": "code",
   "execution_count": null,
   "metadata": {},
   "outputs": [],
   "source": [
    "norm.ppf(0.95)"
   ]
  },
  {
   "cell_type": "code",
   "execution_count": null,
   "metadata": {},
   "outputs": [],
   "source": [
    "x = np.random.rand(10,2)\n",
    "x"
   ]
  },
  {
   "cell_type": "code",
   "execution_count": null,
   "metadata": {},
   "outputs": [],
   "source": [
    "norm.ppf(x)"
   ]
  },
  {
   "cell_type": "code",
   "execution_count": null,
   "metadata": {},
   "outputs": [],
   "source": [
    "z= norm.ppf(np.random.rand(10,4))\n",
    "z"
   ]
  },
  {
   "cell_type": "code",
   "execution_count": null,
   "metadata": {},
   "outputs": [],
   "source": [
    "t_intervals = 30\n",
    "iterations = 10"
   ]
  },
  {
   "cell_type": "code",
   "execution_count": null,
   "metadata": {},
   "outputs": [],
   "source": [
    "daily_obitos = np.exp(drift + stdev * norm.ppf(np.random.rand(t_intervals, iterations)))\n",
    "daily_obitos"
   ]
  },
  {
   "cell_type": "code",
   "execution_count": null,
   "metadata": {},
   "outputs": [],
   "source": []
  },
  {
   "cell_type": "code",
   "execution_count": null,
   "metadata": {},
   "outputs": [],
   "source": [
    "last_data = base['Obitos'].iloc[-1]\n",
    "last_data"
   ]
  },
  {
   "cell_type": "code",
   "execution_count": null,
   "metadata": {},
   "outputs": [],
   "source": [
    "obito_list = np.zeros_like(daily_obitos)\n",
    "obito_list"
   ]
  },
  {
   "cell_type": "code",
   "execution_count": null,
   "metadata": {},
   "outputs": [],
   "source": [
    "obito_list[0] = last_data\n",
    "obito_list"
   ]
  },
  {
   "cell_type": "code",
   "execution_count": null,
   "metadata": {},
   "outputs": [],
   "source": [
    "for t in range (1, t_intervals):\n",
    "    obito_list[t] = obito_list[t-1]* daily_obitos[t]"
   ]
  },
  {
   "cell_type": "code",
   "execution_count": null,
   "metadata": {},
   "outputs": [],
   "source": [
    "obito_list"
   ]
  },
  {
   "cell_type": "code",
   "execution_count": null,
   "metadata": {},
   "outputs": [],
   "source": [
    "obito_list.min()"
   ]
  },
  {
   "cell_type": "code",
   "execution_count": null,
   "metadata": {},
   "outputs": [],
   "source": [
    "obito_list.max()"
   ]
  },
  {
   "cell_type": "code",
   "execution_count": null,
   "metadata": {},
   "outputs": [],
   "source": [
    "obito_list.mean()"
   ]
  },
  {
   "cell_type": "code",
   "execution_count": null,
   "metadata": {},
   "outputs": [],
   "source": [
    "obito_list.std()"
   ]
  },
  {
   "cell_type": "code",
   "execution_count": null,
   "metadata": {},
   "outputs": [],
   "source": [
    "np.median(obito_list)"
   ]
  },
  {
   "cell_type": "markdown",
   "metadata": {},
   "source": [
    "# 15. Simulação de Monte Carlo para os óbitos em Indaiatuba"
   ]
  },
  {
   "cell_type": "code",
   "execution_count": null,
   "metadata": {},
   "outputs": [],
   "source": [
    "plt.figure(figsize=(19,9))\n",
    "plt.plot(obito_list);\n",
    "plt.title('SIMULAÇÃO DE MONTE CARLO');\n",
    "plt.xlabel('REPETIÇÕES'); #definindo nome do eixo X\n",
    "plt.ylabel('Número de Óbitos'); #definindo nome do eixo Y\n"
   ]
  },
  {
   "cell_type": "code",
   "execution_count": null,
   "metadata": {},
   "outputs": [],
   "source": [
    "print(f'Óbitos mínimos, {obito_list.min():.0f}'' pessoas')\n",
    "print(f'Óbitos mediana, {np.median(obito_list):.0f}'' pessoas')\n",
    "print(f'Óbitos médio, {obito_list.mean():.0f}'' pessoas')\n",
    "print(f'Óbitos máximo, {obito_list.max():.0f}'' pessoas')\n",
    "print('Óbitos atual,',(str(round(base['Obitos'].iloc[-1]))),'pessoas') #informar o ticker"
   ]
  },
  {
   "cell_type": "markdown",
   "metadata": {},
   "source": [
    "# 16. Cálculo de mortes por dia"
   ]
  },
  {
   "cell_type": "code",
   "execution_count": null,
   "metadata": {},
   "outputs": [],
   "source": [
    "diferencaDias = base['diferencaDias'] = base['Data'] - base['Data'].min()\n",
    "diferencaDias.tail()"
   ]
  },
  {
   "cell_type": "code",
   "execution_count": null,
   "metadata": {},
   "outputs": [],
   "source": [
    "last_data"
   ]
  },
  {
   "cell_type": "code",
   "execution_count": null,
   "metadata": {},
   "outputs": [],
   "source": [
    "diasCorridos = a.loc[59:].astype('timedelta64[D]') #atualizar com índice da última data = last_data"
   ]
  },
  {
   "cell_type": "code",
   "execution_count": null,
   "metadata": {},
   "outputs": [],
   "source": [
    "diasCorridos"
   ]
  },
  {
   "cell_type": "code",
   "execution_count": null,
   "metadata": {},
   "outputs": [],
   "source": [
    "ObitosDia = last_data/diasCorridos\n",
    "ObitosDia"
   ]
  },
  {
   "cell_type": "markdown",
   "metadata": {},
   "source": [
    "# Principais Conclusões\n",
    "\n",
    "1 A cada dois dias uma pessoa vem a óbito\n",
    "\n",
    "2 Predominância do sexo masculino\n",
    "\n",
    "3 O viés é ascendente"
   ]
  }
 ],
 "metadata": {
  "kernelspec": {
   "display_name": "Python 3.7.3 64-bit ('base': conda)",
   "language": "python",
   "name": "python37364bitbasecondac3187a33bb6b4b858aad71feb598639b"
  },
  "language_info": {
   "codemirror_mode": {
    "name": "ipython",
    "version": 3
   },
   "file_extension": ".py",
   "mimetype": "text/x-python",
   "name": "python",
   "nbconvert_exporter": "python",
   "pygments_lexer": "ipython3",
   "version": "3.7.3"
  }
 },
 "nbformat": 4,
 "nbformat_minor": 2
}
