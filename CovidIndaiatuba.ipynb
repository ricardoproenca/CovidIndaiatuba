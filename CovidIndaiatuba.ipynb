{
 "cells": [
  {
   "cell_type": "markdown",
   "metadata": {},
   "source": [
    "# Análise dos casos de óbito de Covid-19 em Indaiatuba"
   ]
  },
  {
   "cell_type": "code",
   "execution_count": 1,
   "metadata": {},
   "outputs": [],
   "source": [
    "import pandas as pd\n",
    "import seaborn as sns\n",
    "import matplotlib.pyplot as plt\n",
    "import numpy as np\n",
    "from pandas_datareader import data as wb\n",
    "from scipy.stats import norm"
   ]
  },
  {
   "cell_type": "markdown",
   "metadata": {},
   "source": [
    "# 1. Extração dos dados \n",
    "Fonte: G1 - Campinas\n",
    "\n",
    "https://g1.globo.com/sp/campinas-regiao/noticia/2020/06/28/coronavirus-prefeituras-da-regiao-de-campinas-confirmam-novos-casos-neste-domingo-28-de-junho.ghtml"
   ]
  },
  {
   "cell_type": "code",
   "execution_count": 2,
   "metadata": {},
   "outputs": [],
   "source": [
    "base = pd.read_excel(\"CovidIndaiatuba.xlsx\")"
   ]
  },
  {
   "cell_type": "code",
   "execution_count": 3,
   "metadata": {},
   "outputs": [
    {
     "data": {
      "text/html": [
       "<div>\n",
       "<style scoped>\n",
       "    .dataframe tbody tr th:only-of-type {\n",
       "        vertical-align: middle;\n",
       "    }\n",
       "\n",
       "    .dataframe tbody tr th {\n",
       "        vertical-align: top;\n",
       "    }\n",
       "\n",
       "    .dataframe thead th {\n",
       "        text-align: right;\n",
       "    }\n",
       "</style>\n",
       "<table border=\"1\" class=\"dataframe\">\n",
       "  <thead>\n",
       "    <tr style=\"text-align: right;\">\n",
       "      <th></th>\n",
       "      <th>Obitos</th>\n",
       "      <th>Data</th>\n",
       "      <th>Sexo</th>\n",
       "      <th>Idade</th>\n",
       "      <th>anos</th>\n",
       "      <th>Comorbidade</th>\n",
       "    </tr>\n",
       "  </thead>\n",
       "  <tbody>\n",
       "    <tr>\n",
       "      <th>55</th>\n",
       "      <td>56</td>\n",
       "      <td>2020-06-24</td>\n",
       "      <td>Homem</td>\n",
       "      <td>54</td>\n",
       "      <td>anos,</td>\n",
       "      <td>Sem Comorbidade, ex-tabagista.</td>\n",
       "    </tr>\n",
       "    <tr>\n",
       "      <th>56</th>\n",
       "      <td>57</td>\n",
       "      <td>2020-06-24</td>\n",
       "      <td>Homem</td>\n",
       "      <td>65</td>\n",
       "      <td>anos,</td>\n",
       "      <td>Com Comorbidades</td>\n",
       "    </tr>\n",
       "    <tr>\n",
       "      <th>57</th>\n",
       "      <td>58</td>\n",
       "      <td>2020-06-25</td>\n",
       "      <td>Homem</td>\n",
       "      <td>59</td>\n",
       "      <td>anos,</td>\n",
       "      <td>Sem Comorbidade</td>\n",
       "    </tr>\n",
       "    <tr>\n",
       "      <th>58</th>\n",
       "      <td>59</td>\n",
       "      <td>2020-06-26</td>\n",
       "      <td>Homem</td>\n",
       "      <td>53</td>\n",
       "      <td>anos,</td>\n",
       "      <td>Com Comorbidades</td>\n",
       "    </tr>\n",
       "    <tr>\n",
       "      <th>59</th>\n",
       "      <td>60</td>\n",
       "      <td>2020-06-27</td>\n",
       "      <td>Homem</td>\n",
       "      <td>74</td>\n",
       "      <td>anos,</td>\n",
       "      <td>Com Comorbidades</td>\n",
       "    </tr>\n",
       "  </tbody>\n",
       "</table>\n",
       "</div>"
      ],
      "text/plain": [
       "    Obitos       Data   Sexo  Idade   anos                     Comorbidade\n",
       "55      56 2020-06-24  Homem     54  anos,  Sem Comorbidade, ex-tabagista.\n",
       "56      57 2020-06-24  Homem     65  anos,                Com Comorbidades\n",
       "57      58 2020-06-25  Homem     59  anos,                 Sem Comorbidade\n",
       "58      59 2020-06-26  Homem     53  anos,                Com Comorbidades\n",
       "59      60 2020-06-27  Homem     74  anos,                Com Comorbidades"
      ]
     },
     "execution_count": 3,
     "metadata": {},
     "output_type": "execute_result"
    }
   ],
   "source": [
    "base.tail()"
   ]
  },
  {
   "cell_type": "markdown",
   "metadata": {},
   "source": [
    "# 2. Criação das colunas: MesMorte, diferençaDias e MédiaMovel - concatenação "
   ]
  },
  {
   "cell_type": "code",
   "execution_count": 4,
   "metadata": {},
   "outputs": [
    {
     "data": {
      "text/html": [
       "<div>\n",
       "<style scoped>\n",
       "    .dataframe tbody tr th:only-of-type {\n",
       "        vertical-align: middle;\n",
       "    }\n",
       "\n",
       "    .dataframe tbody tr th {\n",
       "        vertical-align: top;\n",
       "    }\n",
       "\n",
       "    .dataframe thead th {\n",
       "        text-align: right;\n",
       "    }\n",
       "</style>\n",
       "<table border=\"1\" class=\"dataframe\">\n",
       "  <thead>\n",
       "    <tr style=\"text-align: right;\">\n",
       "      <th></th>\n",
       "      <th>Obitos</th>\n",
       "      <th>Data</th>\n",
       "      <th>Sexo</th>\n",
       "      <th>Idade</th>\n",
       "      <th>anos</th>\n",
       "      <th>Comorbidade</th>\n",
       "      <th>MesMorte</th>\n",
       "      <th>diferencaDias</th>\n",
       "      <th>MédiaMovel</th>\n",
       "    </tr>\n",
       "  </thead>\n",
       "  <tbody>\n",
       "    <tr>\n",
       "      <th>0</th>\n",
       "      <td>1</td>\n",
       "      <td>2020-03-31</td>\n",
       "      <td>Homem</td>\n",
       "      <td>64</td>\n",
       "      <td>anos,</td>\n",
       "      <td>Com Comorbidades</td>\n",
       "      <td>3</td>\n",
       "      <td>0 days</td>\n",
       "      <td>NaN</td>\n",
       "    </tr>\n",
       "    <tr>\n",
       "      <th>1</th>\n",
       "      <td>2</td>\n",
       "      <td>2020-04-13</td>\n",
       "      <td>Mulher</td>\n",
       "      <td>50</td>\n",
       "      <td>anos,</td>\n",
       "      <td>Com Comorbidades</td>\n",
       "      <td>4</td>\n",
       "      <td>13 days</td>\n",
       "      <td>1.5</td>\n",
       "    </tr>\n",
       "    <tr>\n",
       "      <th>2</th>\n",
       "      <td>3</td>\n",
       "      <td>2020-04-18</td>\n",
       "      <td>Mulher</td>\n",
       "      <td>52</td>\n",
       "      <td>anos,</td>\n",
       "      <td>Sem Comorbidade</td>\n",
       "      <td>4</td>\n",
       "      <td>18 days</td>\n",
       "      <td>2.5</td>\n",
       "    </tr>\n",
       "    <tr>\n",
       "      <th>3</th>\n",
       "      <td>4</td>\n",
       "      <td>2020-04-21</td>\n",
       "      <td>Homem</td>\n",
       "      <td>64</td>\n",
       "      <td>anos,</td>\n",
       "      <td>Com Comorbidades</td>\n",
       "      <td>4</td>\n",
       "      <td>21 days</td>\n",
       "      <td>3.5</td>\n",
       "    </tr>\n",
       "    <tr>\n",
       "      <th>4</th>\n",
       "      <td>5</td>\n",
       "      <td>2020-04-24</td>\n",
       "      <td>Mulher</td>\n",
       "      <td>61</td>\n",
       "      <td>anos,</td>\n",
       "      <td>Com Comorbidades</td>\n",
       "      <td>4</td>\n",
       "      <td>24 days</td>\n",
       "      <td>4.5</td>\n",
       "    </tr>\n",
       "    <tr>\n",
       "      <th>5</th>\n",
       "      <td>6</td>\n",
       "      <td>2020-05-02</td>\n",
       "      <td>Mulher</td>\n",
       "      <td>83</td>\n",
       "      <td>anos,</td>\n",
       "      <td>Com Comorbidades</td>\n",
       "      <td>5</td>\n",
       "      <td>32 days</td>\n",
       "      <td>5.5</td>\n",
       "    </tr>\n",
       "    <tr>\n",
       "      <th>6</th>\n",
       "      <td>7</td>\n",
       "      <td>2020-05-06</td>\n",
       "      <td>Homem</td>\n",
       "      <td>38</td>\n",
       "      <td>anos,</td>\n",
       "      <td>Com Comorbidades</td>\n",
       "      <td>5</td>\n",
       "      <td>36 days</td>\n",
       "      <td>6.5</td>\n",
       "    </tr>\n",
       "    <tr>\n",
       "      <th>7</th>\n",
       "      <td>8</td>\n",
       "      <td>2020-05-06</td>\n",
       "      <td>Homem</td>\n",
       "      <td>76</td>\n",
       "      <td>anos,</td>\n",
       "      <td>Com Comorbidades</td>\n",
       "      <td>5</td>\n",
       "      <td>36 days</td>\n",
       "      <td>7.5</td>\n",
       "    </tr>\n",
       "    <tr>\n",
       "      <th>8</th>\n",
       "      <td>9</td>\n",
       "      <td>2020-05-07</td>\n",
       "      <td>Homem</td>\n",
       "      <td>30</td>\n",
       "      <td>anos,</td>\n",
       "      <td>Com Comorbidades</td>\n",
       "      <td>5</td>\n",
       "      <td>37 days</td>\n",
       "      <td>8.5</td>\n",
       "    </tr>\n",
       "    <tr>\n",
       "      <th>9</th>\n",
       "      <td>10</td>\n",
       "      <td>2020-05-07</td>\n",
       "      <td>Homem</td>\n",
       "      <td>55</td>\n",
       "      <td>anos,</td>\n",
       "      <td>Sem Comorbidade, ex-tabagista.</td>\n",
       "      <td>5</td>\n",
       "      <td>37 days</td>\n",
       "      <td>9.5</td>\n",
       "    </tr>\n",
       "    <tr>\n",
       "      <th>10</th>\n",
       "      <td>11</td>\n",
       "      <td>2020-05-10</td>\n",
       "      <td>Homem</td>\n",
       "      <td>74</td>\n",
       "      <td>anos,</td>\n",
       "      <td>Com Comorbidades</td>\n",
       "      <td>5</td>\n",
       "      <td>40 days</td>\n",
       "      <td>10.5</td>\n",
       "    </tr>\n",
       "    <tr>\n",
       "      <th>11</th>\n",
       "      <td>12</td>\n",
       "      <td>2020-05-12</td>\n",
       "      <td>Homem</td>\n",
       "      <td>75</td>\n",
       "      <td>anos,</td>\n",
       "      <td>Sem Comorbidade</td>\n",
       "      <td>5</td>\n",
       "      <td>42 days</td>\n",
       "      <td>11.5</td>\n",
       "    </tr>\n",
       "    <tr>\n",
       "      <th>12</th>\n",
       "      <td>13</td>\n",
       "      <td>2020-05-15</td>\n",
       "      <td>Mulher</td>\n",
       "      <td>77</td>\n",
       "      <td>anos,</td>\n",
       "      <td>Com Comorbidades</td>\n",
       "      <td>5</td>\n",
       "      <td>45 days</td>\n",
       "      <td>12.5</td>\n",
       "    </tr>\n",
       "    <tr>\n",
       "      <th>13</th>\n",
       "      <td>14</td>\n",
       "      <td>2020-05-17</td>\n",
       "      <td>Homem</td>\n",
       "      <td>68</td>\n",
       "      <td>anos,</td>\n",
       "      <td>Com Comorbidades</td>\n",
       "      <td>5</td>\n",
       "      <td>47 days</td>\n",
       "      <td>13.5</td>\n",
       "    </tr>\n",
       "    <tr>\n",
       "      <th>14</th>\n",
       "      <td>15</td>\n",
       "      <td>2020-05-18</td>\n",
       "      <td>Homem</td>\n",
       "      <td>90</td>\n",
       "      <td>anos,</td>\n",
       "      <td>Com Comorbidades</td>\n",
       "      <td>5</td>\n",
       "      <td>48 days</td>\n",
       "      <td>14.5</td>\n",
       "    </tr>\n",
       "    <tr>\n",
       "      <th>15</th>\n",
       "      <td>16</td>\n",
       "      <td>2020-05-21</td>\n",
       "      <td>Homem</td>\n",
       "      <td>71</td>\n",
       "      <td>anos,</td>\n",
       "      <td>Com Comorbidades</td>\n",
       "      <td>5</td>\n",
       "      <td>51 days</td>\n",
       "      <td>15.5</td>\n",
       "    </tr>\n",
       "    <tr>\n",
       "      <th>16</th>\n",
       "      <td>17</td>\n",
       "      <td>2020-05-23</td>\n",
       "      <td>Mulher</td>\n",
       "      <td>58</td>\n",
       "      <td>anos,</td>\n",
       "      <td>Com Comorbidades</td>\n",
       "      <td>5</td>\n",
       "      <td>53 days</td>\n",
       "      <td>16.5</td>\n",
       "    </tr>\n",
       "    <tr>\n",
       "      <th>17</th>\n",
       "      <td>18</td>\n",
       "      <td>2020-05-23</td>\n",
       "      <td>Homem</td>\n",
       "      <td>67</td>\n",
       "      <td>anos,</td>\n",
       "      <td>Com Comorbidades</td>\n",
       "      <td>5</td>\n",
       "      <td>53 days</td>\n",
       "      <td>17.5</td>\n",
       "    </tr>\n",
       "    <tr>\n",
       "      <th>18</th>\n",
       "      <td>19</td>\n",
       "      <td>2020-05-24</td>\n",
       "      <td>Mulher</td>\n",
       "      <td>71</td>\n",
       "      <td>anos,</td>\n",
       "      <td>Com Comorbidades</td>\n",
       "      <td>5</td>\n",
       "      <td>54 days</td>\n",
       "      <td>18.5</td>\n",
       "    </tr>\n",
       "    <tr>\n",
       "      <th>19</th>\n",
       "      <td>20</td>\n",
       "      <td>2020-05-24</td>\n",
       "      <td>Homem</td>\n",
       "      <td>88</td>\n",
       "      <td>anos,</td>\n",
       "      <td>Com Comorbidades</td>\n",
       "      <td>5</td>\n",
       "      <td>54 days</td>\n",
       "      <td>19.5</td>\n",
       "    </tr>\n",
       "    <tr>\n",
       "      <th>20</th>\n",
       "      <td>21</td>\n",
       "      <td>2020-05-24</td>\n",
       "      <td>Homem</td>\n",
       "      <td>62</td>\n",
       "      <td>anos,</td>\n",
       "      <td>Com Comorbidades</td>\n",
       "      <td>5</td>\n",
       "      <td>54 days</td>\n",
       "      <td>20.5</td>\n",
       "    </tr>\n",
       "    <tr>\n",
       "      <th>21</th>\n",
       "      <td>22</td>\n",
       "      <td>2020-05-26</td>\n",
       "      <td>Homem</td>\n",
       "      <td>76</td>\n",
       "      <td>anos,</td>\n",
       "      <td>Com Comorbidades</td>\n",
       "      <td>5</td>\n",
       "      <td>56 days</td>\n",
       "      <td>21.5</td>\n",
       "    </tr>\n",
       "    <tr>\n",
       "      <th>22</th>\n",
       "      <td>23</td>\n",
       "      <td>2020-05-27</td>\n",
       "      <td>Homem</td>\n",
       "      <td>69</td>\n",
       "      <td>anos,</td>\n",
       "      <td>Sem Comorbidade</td>\n",
       "      <td>5</td>\n",
       "      <td>57 days</td>\n",
       "      <td>22.5</td>\n",
       "    </tr>\n",
       "    <tr>\n",
       "      <th>23</th>\n",
       "      <td>24</td>\n",
       "      <td>2020-05-28</td>\n",
       "      <td>Mulher</td>\n",
       "      <td>67</td>\n",
       "      <td>anos,</td>\n",
       "      <td>Com Comorbidades</td>\n",
       "      <td>5</td>\n",
       "      <td>58 days</td>\n",
       "      <td>23.5</td>\n",
       "    </tr>\n",
       "    <tr>\n",
       "      <th>24</th>\n",
       "      <td>25</td>\n",
       "      <td>2020-05-28</td>\n",
       "      <td>Mulher</td>\n",
       "      <td>67</td>\n",
       "      <td>anos,</td>\n",
       "      <td>Com Comorbidades</td>\n",
       "      <td>5</td>\n",
       "      <td>58 days</td>\n",
       "      <td>24.5</td>\n",
       "    </tr>\n",
       "    <tr>\n",
       "      <th>25</th>\n",
       "      <td>26</td>\n",
       "      <td>2020-05-30</td>\n",
       "      <td>Homem</td>\n",
       "      <td>70</td>\n",
       "      <td>anos,</td>\n",
       "      <td>Com Comorbidades</td>\n",
       "      <td>5</td>\n",
       "      <td>60 days</td>\n",
       "      <td>25.5</td>\n",
       "    </tr>\n",
       "    <tr>\n",
       "      <th>26</th>\n",
       "      <td>27</td>\n",
       "      <td>2020-05-31</td>\n",
       "      <td>Mulher</td>\n",
       "      <td>86</td>\n",
       "      <td>anos,</td>\n",
       "      <td>Com Comorbidades</td>\n",
       "      <td>5</td>\n",
       "      <td>61 days</td>\n",
       "      <td>26.5</td>\n",
       "    </tr>\n",
       "    <tr>\n",
       "      <th>27</th>\n",
       "      <td>28</td>\n",
       "      <td>2020-06-03</td>\n",
       "      <td>Mulher</td>\n",
       "      <td>86</td>\n",
       "      <td>anos,</td>\n",
       "      <td>Sem Comorbidade</td>\n",
       "      <td>6</td>\n",
       "      <td>64 days</td>\n",
       "      <td>27.5</td>\n",
       "    </tr>\n",
       "    <tr>\n",
       "      <th>28</th>\n",
       "      <td>29</td>\n",
       "      <td>2020-06-05</td>\n",
       "      <td>Homem</td>\n",
       "      <td>46</td>\n",
       "      <td>anos,</td>\n",
       "      <td>Sem Comorbidade</td>\n",
       "      <td>6</td>\n",
       "      <td>66 days</td>\n",
       "      <td>28.5</td>\n",
       "    </tr>\n",
       "    <tr>\n",
       "      <th>29</th>\n",
       "      <td>30</td>\n",
       "      <td>2020-06-06</td>\n",
       "      <td>Homem</td>\n",
       "      <td>78</td>\n",
       "      <td>anos,</td>\n",
       "      <td>Com Comorbidades</td>\n",
       "      <td>6</td>\n",
       "      <td>67 days</td>\n",
       "      <td>29.5</td>\n",
       "    </tr>\n",
       "    <tr>\n",
       "      <th>30</th>\n",
       "      <td>31</td>\n",
       "      <td>2020-06-07</td>\n",
       "      <td>Homem</td>\n",
       "      <td>42</td>\n",
       "      <td>anos,</td>\n",
       "      <td>Sem Comorbidade</td>\n",
       "      <td>6</td>\n",
       "      <td>68 days</td>\n",
       "      <td>30.5</td>\n",
       "    </tr>\n",
       "    <tr>\n",
       "      <th>31</th>\n",
       "      <td>32</td>\n",
       "      <td>2020-06-07</td>\n",
       "      <td>Homem</td>\n",
       "      <td>86</td>\n",
       "      <td>anos,</td>\n",
       "      <td>Com Comorbidades</td>\n",
       "      <td>6</td>\n",
       "      <td>68 days</td>\n",
       "      <td>31.5</td>\n",
       "    </tr>\n",
       "    <tr>\n",
       "      <th>32</th>\n",
       "      <td>33</td>\n",
       "      <td>2020-06-07</td>\n",
       "      <td>Mulher</td>\n",
       "      <td>55</td>\n",
       "      <td>anos,</td>\n",
       "      <td>Com Comorbidades</td>\n",
       "      <td>6</td>\n",
       "      <td>68 days</td>\n",
       "      <td>32.5</td>\n",
       "    </tr>\n",
       "    <tr>\n",
       "      <th>33</th>\n",
       "      <td>34</td>\n",
       "      <td>2020-06-07</td>\n",
       "      <td>Mulher</td>\n",
       "      <td>61</td>\n",
       "      <td>anos,</td>\n",
       "      <td>Com Comorbidades</td>\n",
       "      <td>6</td>\n",
       "      <td>68 days</td>\n",
       "      <td>33.5</td>\n",
       "    </tr>\n",
       "    <tr>\n",
       "      <th>34</th>\n",
       "      <td>35</td>\n",
       "      <td>2020-06-08</td>\n",
       "      <td>Homem</td>\n",
       "      <td>69</td>\n",
       "      <td>anos,</td>\n",
       "      <td>Com Comorbidades</td>\n",
       "      <td>6</td>\n",
       "      <td>69 days</td>\n",
       "      <td>34.5</td>\n",
       "    </tr>\n",
       "    <tr>\n",
       "      <th>35</th>\n",
       "      <td>36</td>\n",
       "      <td>2020-06-08</td>\n",
       "      <td>Mulher</td>\n",
       "      <td>52</td>\n",
       "      <td>anos,</td>\n",
       "      <td>Com Comorbidades</td>\n",
       "      <td>6</td>\n",
       "      <td>69 days</td>\n",
       "      <td>35.5</td>\n",
       "    </tr>\n",
       "    <tr>\n",
       "      <th>36</th>\n",
       "      <td>37</td>\n",
       "      <td>2020-06-08</td>\n",
       "      <td>Mulher</td>\n",
       "      <td>48</td>\n",
       "      <td>anos,</td>\n",
       "      <td>Com Comorbidades</td>\n",
       "      <td>6</td>\n",
       "      <td>69 days</td>\n",
       "      <td>36.5</td>\n",
       "    </tr>\n",
       "    <tr>\n",
       "      <th>37</th>\n",
       "      <td>38</td>\n",
       "      <td>2020-06-09</td>\n",
       "      <td>Mulher</td>\n",
       "      <td>67</td>\n",
       "      <td>anos,</td>\n",
       "      <td>Com Comorbidades</td>\n",
       "      <td>6</td>\n",
       "      <td>70 days</td>\n",
       "      <td>37.5</td>\n",
       "    </tr>\n",
       "    <tr>\n",
       "      <th>38</th>\n",
       "      <td>39</td>\n",
       "      <td>2020-06-10</td>\n",
       "      <td>Mulher</td>\n",
       "      <td>71</td>\n",
       "      <td>anos,</td>\n",
       "      <td>Com Comorbidades</td>\n",
       "      <td>6</td>\n",
       "      <td>71 days</td>\n",
       "      <td>38.5</td>\n",
       "    </tr>\n",
       "    <tr>\n",
       "      <th>39</th>\n",
       "      <td>40</td>\n",
       "      <td>2020-06-12</td>\n",
       "      <td>Mulher</td>\n",
       "      <td>40</td>\n",
       "      <td>anos,</td>\n",
       "      <td>Sem Comorbidade</td>\n",
       "      <td>6</td>\n",
       "      <td>73 days</td>\n",
       "      <td>39.5</td>\n",
       "    </tr>\n",
       "    <tr>\n",
       "      <th>40</th>\n",
       "      <td>41</td>\n",
       "      <td>2020-06-12</td>\n",
       "      <td>Homem</td>\n",
       "      <td>86</td>\n",
       "      <td>anos,</td>\n",
       "      <td>Sem Comorbidade</td>\n",
       "      <td>6</td>\n",
       "      <td>73 days</td>\n",
       "      <td>40.5</td>\n",
       "    </tr>\n",
       "    <tr>\n",
       "      <th>41</th>\n",
       "      <td>42</td>\n",
       "      <td>2020-06-13</td>\n",
       "      <td>Homem</td>\n",
       "      <td>91</td>\n",
       "      <td>anos,</td>\n",
       "      <td>Com Comorbidades</td>\n",
       "      <td>6</td>\n",
       "      <td>74 days</td>\n",
       "      <td>41.5</td>\n",
       "    </tr>\n",
       "    <tr>\n",
       "      <th>42</th>\n",
       "      <td>43</td>\n",
       "      <td>2020-06-14</td>\n",
       "      <td>Mulher</td>\n",
       "      <td>66</td>\n",
       "      <td>anos,</td>\n",
       "      <td>Com Comorbidades</td>\n",
       "      <td>6</td>\n",
       "      <td>75 days</td>\n",
       "      <td>42.5</td>\n",
       "    </tr>\n",
       "    <tr>\n",
       "      <th>43</th>\n",
       "      <td>44</td>\n",
       "      <td>2020-06-14</td>\n",
       "      <td>Homem</td>\n",
       "      <td>44</td>\n",
       "      <td>anos,</td>\n",
       "      <td>Sem Comorbidade</td>\n",
       "      <td>6</td>\n",
       "      <td>75 days</td>\n",
       "      <td>43.5</td>\n",
       "    </tr>\n",
       "    <tr>\n",
       "      <th>44</th>\n",
       "      <td>45</td>\n",
       "      <td>2020-06-15</td>\n",
       "      <td>Mulher</td>\n",
       "      <td>58</td>\n",
       "      <td>anos,</td>\n",
       "      <td>Com Comorbidades</td>\n",
       "      <td>6</td>\n",
       "      <td>76 days</td>\n",
       "      <td>44.5</td>\n",
       "    </tr>\n",
       "    <tr>\n",
       "      <th>45</th>\n",
       "      <td>46</td>\n",
       "      <td>2020-06-17</td>\n",
       "      <td>Homem</td>\n",
       "      <td>52</td>\n",
       "      <td>anos,</td>\n",
       "      <td>Com Comorbidades</td>\n",
       "      <td>6</td>\n",
       "      <td>78 days</td>\n",
       "      <td>45.5</td>\n",
       "    </tr>\n",
       "    <tr>\n",
       "      <th>46</th>\n",
       "      <td>47</td>\n",
       "      <td>2020-06-17</td>\n",
       "      <td>Homem</td>\n",
       "      <td>53</td>\n",
       "      <td>anos,</td>\n",
       "      <td>Com Comorbidades</td>\n",
       "      <td>6</td>\n",
       "      <td>78 days</td>\n",
       "      <td>46.5</td>\n",
       "    </tr>\n",
       "    <tr>\n",
       "      <th>47</th>\n",
       "      <td>48</td>\n",
       "      <td>2020-06-18</td>\n",
       "      <td>Mulher</td>\n",
       "      <td>87</td>\n",
       "      <td>anos,</td>\n",
       "      <td>Sem Comorbidade</td>\n",
       "      <td>6</td>\n",
       "      <td>79 days</td>\n",
       "      <td>47.5</td>\n",
       "    </tr>\n",
       "    <tr>\n",
       "      <th>48</th>\n",
       "      <td>49</td>\n",
       "      <td>2020-06-19</td>\n",
       "      <td>Homem</td>\n",
       "      <td>75</td>\n",
       "      <td>anos,</td>\n",
       "      <td>Com Comorbidades</td>\n",
       "      <td>6</td>\n",
       "      <td>80 days</td>\n",
       "      <td>48.5</td>\n",
       "    </tr>\n",
       "    <tr>\n",
       "      <th>49</th>\n",
       "      <td>50</td>\n",
       "      <td>2020-06-19</td>\n",
       "      <td>Mulher</td>\n",
       "      <td>62</td>\n",
       "      <td>anos,</td>\n",
       "      <td>Com Comorbidades</td>\n",
       "      <td>6</td>\n",
       "      <td>80 days</td>\n",
       "      <td>49.5</td>\n",
       "    </tr>\n",
       "    <tr>\n",
       "      <th>50</th>\n",
       "      <td>51</td>\n",
       "      <td>2020-06-20</td>\n",
       "      <td>Homem</td>\n",
       "      <td>41</td>\n",
       "      <td>anos,</td>\n",
       "      <td>Sem Comorbidade</td>\n",
       "      <td>6</td>\n",
       "      <td>81 days</td>\n",
       "      <td>50.5</td>\n",
       "    </tr>\n",
       "    <tr>\n",
       "      <th>51</th>\n",
       "      <td>52</td>\n",
       "      <td>2020-06-21</td>\n",
       "      <td>Homem</td>\n",
       "      <td>82</td>\n",
       "      <td>anos,</td>\n",
       "      <td>Com Comorbidades</td>\n",
       "      <td>6</td>\n",
       "      <td>82 days</td>\n",
       "      <td>51.5</td>\n",
       "    </tr>\n",
       "    <tr>\n",
       "      <th>52</th>\n",
       "      <td>53</td>\n",
       "      <td>2020-06-22</td>\n",
       "      <td>Homem</td>\n",
       "      <td>65</td>\n",
       "      <td>anos,</td>\n",
       "      <td>Com Comorbidades</td>\n",
       "      <td>6</td>\n",
       "      <td>83 days</td>\n",
       "      <td>52.5</td>\n",
       "    </tr>\n",
       "    <tr>\n",
       "      <th>53</th>\n",
       "      <td>54</td>\n",
       "      <td>2020-06-22</td>\n",
       "      <td>Homem</td>\n",
       "      <td>72</td>\n",
       "      <td>anos,</td>\n",
       "      <td>Com Comorbidades</td>\n",
       "      <td>6</td>\n",
       "      <td>83 days</td>\n",
       "      <td>53.5</td>\n",
       "    </tr>\n",
       "    <tr>\n",
       "      <th>54</th>\n",
       "      <td>55</td>\n",
       "      <td>2020-06-24</td>\n",
       "      <td>Mulher</td>\n",
       "      <td>56</td>\n",
       "      <td>anos,</td>\n",
       "      <td>Sem Comorbidade</td>\n",
       "      <td>6</td>\n",
       "      <td>85 days</td>\n",
       "      <td>54.5</td>\n",
       "    </tr>\n",
       "    <tr>\n",
       "      <th>55</th>\n",
       "      <td>56</td>\n",
       "      <td>2020-06-24</td>\n",
       "      <td>Homem</td>\n",
       "      <td>54</td>\n",
       "      <td>anos,</td>\n",
       "      <td>Sem Comorbidade, ex-tabagista.</td>\n",
       "      <td>6</td>\n",
       "      <td>85 days</td>\n",
       "      <td>55.5</td>\n",
       "    </tr>\n",
       "    <tr>\n",
       "      <th>56</th>\n",
       "      <td>57</td>\n",
       "      <td>2020-06-24</td>\n",
       "      <td>Homem</td>\n",
       "      <td>65</td>\n",
       "      <td>anos,</td>\n",
       "      <td>Com Comorbidades</td>\n",
       "      <td>6</td>\n",
       "      <td>85 days</td>\n",
       "      <td>56.5</td>\n",
       "    </tr>\n",
       "    <tr>\n",
       "      <th>57</th>\n",
       "      <td>58</td>\n",
       "      <td>2020-06-25</td>\n",
       "      <td>Homem</td>\n",
       "      <td>59</td>\n",
       "      <td>anos,</td>\n",
       "      <td>Sem Comorbidade</td>\n",
       "      <td>6</td>\n",
       "      <td>86 days</td>\n",
       "      <td>57.5</td>\n",
       "    </tr>\n",
       "    <tr>\n",
       "      <th>58</th>\n",
       "      <td>59</td>\n",
       "      <td>2020-06-26</td>\n",
       "      <td>Homem</td>\n",
       "      <td>53</td>\n",
       "      <td>anos,</td>\n",
       "      <td>Com Comorbidades</td>\n",
       "      <td>6</td>\n",
       "      <td>87 days</td>\n",
       "      <td>58.5</td>\n",
       "    </tr>\n",
       "    <tr>\n",
       "      <th>59</th>\n",
       "      <td>60</td>\n",
       "      <td>2020-06-27</td>\n",
       "      <td>Homem</td>\n",
       "      <td>74</td>\n",
       "      <td>anos,</td>\n",
       "      <td>Com Comorbidades</td>\n",
       "      <td>6</td>\n",
       "      <td>88 days</td>\n",
       "      <td>59.5</td>\n",
       "    </tr>\n",
       "  </tbody>\n",
       "</table>\n",
       "</div>"
      ],
      "text/plain": [
       "    Obitos       Data    Sexo  Idade   anos                     Comorbidade  \\\n",
       "0        1 2020-03-31   Homem     64  anos,                Com Comorbidades   \n",
       "1        2 2020-04-13  Mulher     50  anos,                Com Comorbidades   \n",
       "2        3 2020-04-18  Mulher     52  anos,                 Sem Comorbidade   \n",
       "3        4 2020-04-21   Homem     64  anos,                Com Comorbidades   \n",
       "4        5 2020-04-24  Mulher     61  anos,                Com Comorbidades   \n",
       "5        6 2020-05-02  Mulher     83  anos,                Com Comorbidades   \n",
       "6        7 2020-05-06   Homem     38  anos,                Com Comorbidades   \n",
       "7        8 2020-05-06   Homem     76  anos,                Com Comorbidades   \n",
       "8        9 2020-05-07   Homem     30  anos,                Com Comorbidades   \n",
       "9       10 2020-05-07   Homem     55  anos,  Sem Comorbidade, ex-tabagista.   \n",
       "10      11 2020-05-10   Homem     74  anos,                Com Comorbidades   \n",
       "11      12 2020-05-12   Homem     75  anos,                 Sem Comorbidade   \n",
       "12      13 2020-05-15  Mulher     77  anos,                Com Comorbidades   \n",
       "13      14 2020-05-17   Homem     68  anos,                Com Comorbidades   \n",
       "14      15 2020-05-18   Homem     90  anos,                Com Comorbidades   \n",
       "15      16 2020-05-21   Homem     71  anos,                Com Comorbidades   \n",
       "16      17 2020-05-23  Mulher     58  anos,                Com Comorbidades   \n",
       "17      18 2020-05-23   Homem     67  anos,                Com Comorbidades   \n",
       "18      19 2020-05-24  Mulher     71  anos,                Com Comorbidades   \n",
       "19      20 2020-05-24   Homem     88  anos,                Com Comorbidades   \n",
       "20      21 2020-05-24   Homem     62  anos,                Com Comorbidades   \n",
       "21      22 2020-05-26   Homem     76  anos,                Com Comorbidades   \n",
       "22      23 2020-05-27   Homem     69  anos,                 Sem Comorbidade   \n",
       "23      24 2020-05-28  Mulher     67  anos,                Com Comorbidades   \n",
       "24      25 2020-05-28  Mulher     67  anos,                Com Comorbidades   \n",
       "25      26 2020-05-30   Homem     70  anos,                Com Comorbidades   \n",
       "26      27 2020-05-31  Mulher     86  anos,                Com Comorbidades   \n",
       "27      28 2020-06-03  Mulher     86  anos,                 Sem Comorbidade   \n",
       "28      29 2020-06-05   Homem     46  anos,                 Sem Comorbidade   \n",
       "29      30 2020-06-06   Homem     78  anos,                Com Comorbidades   \n",
       "30      31 2020-06-07   Homem     42  anos,                 Sem Comorbidade   \n",
       "31      32 2020-06-07   Homem     86  anos,                Com Comorbidades   \n",
       "32      33 2020-06-07  Mulher     55  anos,                Com Comorbidades   \n",
       "33      34 2020-06-07  Mulher     61  anos,                Com Comorbidades   \n",
       "34      35 2020-06-08   Homem     69  anos,                Com Comorbidades   \n",
       "35      36 2020-06-08  Mulher     52  anos,                Com Comorbidades   \n",
       "36      37 2020-06-08  Mulher     48  anos,                Com Comorbidades   \n",
       "37      38 2020-06-09  Mulher     67  anos,                Com Comorbidades   \n",
       "38      39 2020-06-10  Mulher     71  anos,                Com Comorbidades   \n",
       "39      40 2020-06-12  Mulher     40  anos,                 Sem Comorbidade   \n",
       "40      41 2020-06-12   Homem     86  anos,                 Sem Comorbidade   \n",
       "41      42 2020-06-13   Homem     91  anos,                Com Comorbidades   \n",
       "42      43 2020-06-14  Mulher     66  anos,                Com Comorbidades   \n",
       "43      44 2020-06-14   Homem     44  anos,                 Sem Comorbidade   \n",
       "44      45 2020-06-15  Mulher     58  anos,                Com Comorbidades   \n",
       "45      46 2020-06-17   Homem     52  anos,                Com Comorbidades   \n",
       "46      47 2020-06-17   Homem     53  anos,                Com Comorbidades   \n",
       "47      48 2020-06-18  Mulher     87  anos,                 Sem Comorbidade   \n",
       "48      49 2020-06-19   Homem     75  anos,                Com Comorbidades   \n",
       "49      50 2020-06-19  Mulher     62  anos,                Com Comorbidades   \n",
       "50      51 2020-06-20   Homem     41  anos,                 Sem Comorbidade   \n",
       "51      52 2020-06-21   Homem     82  anos,                Com Comorbidades   \n",
       "52      53 2020-06-22   Homem     65  anos,                Com Comorbidades   \n",
       "53      54 2020-06-22   Homem     72  anos,                Com Comorbidades   \n",
       "54      55 2020-06-24  Mulher     56  anos,                 Sem Comorbidade   \n",
       "55      56 2020-06-24   Homem     54  anos,  Sem Comorbidade, ex-tabagista.   \n",
       "56      57 2020-06-24   Homem     65  anos,                Com Comorbidades   \n",
       "57      58 2020-06-25   Homem     59  anos,                 Sem Comorbidade   \n",
       "58      59 2020-06-26   Homem     53  anos,                Com Comorbidades   \n",
       "59      60 2020-06-27   Homem     74  anos,                Com Comorbidades   \n",
       "\n",
       "    MesMorte diferencaDias  MédiaMovel  \n",
       "0          3        0 days         NaN  \n",
       "1          4       13 days         1.5  \n",
       "2          4       18 days         2.5  \n",
       "3          4       21 days         3.5  \n",
       "4          4       24 days         4.5  \n",
       "5          5       32 days         5.5  \n",
       "6          5       36 days         6.5  \n",
       "7          5       36 days         7.5  \n",
       "8          5       37 days         8.5  \n",
       "9          5       37 days         9.5  \n",
       "10         5       40 days        10.5  \n",
       "11         5       42 days        11.5  \n",
       "12         5       45 days        12.5  \n",
       "13         5       47 days        13.5  \n",
       "14         5       48 days        14.5  \n",
       "15         5       51 days        15.5  \n",
       "16         5       53 days        16.5  \n",
       "17         5       53 days        17.5  \n",
       "18         5       54 days        18.5  \n",
       "19         5       54 days        19.5  \n",
       "20         5       54 days        20.5  \n",
       "21         5       56 days        21.5  \n",
       "22         5       57 days        22.5  \n",
       "23         5       58 days        23.5  \n",
       "24         5       58 days        24.5  \n",
       "25         5       60 days        25.5  \n",
       "26         5       61 days        26.5  \n",
       "27         6       64 days        27.5  \n",
       "28         6       66 days        28.5  \n",
       "29         6       67 days        29.5  \n",
       "30         6       68 days        30.5  \n",
       "31         6       68 days        31.5  \n",
       "32         6       68 days        32.5  \n",
       "33         6       68 days        33.5  \n",
       "34         6       69 days        34.5  \n",
       "35         6       69 days        35.5  \n",
       "36         6       69 days        36.5  \n",
       "37         6       70 days        37.5  \n",
       "38         6       71 days        38.5  \n",
       "39         6       73 days        39.5  \n",
       "40         6       73 days        40.5  \n",
       "41         6       74 days        41.5  \n",
       "42         6       75 days        42.5  \n",
       "43         6       75 days        43.5  \n",
       "44         6       76 days        44.5  \n",
       "45         6       78 days        45.5  \n",
       "46         6       78 days        46.5  \n",
       "47         6       79 days        47.5  \n",
       "48         6       80 days        48.5  \n",
       "49         6       80 days        49.5  \n",
       "50         6       81 days        50.5  \n",
       "51         6       82 days        51.5  \n",
       "52         6       83 days        52.5  \n",
       "53         6       83 days        53.5  \n",
       "54         6       85 days        54.5  \n",
       "55         6       85 days        55.5  \n",
       "56         6       85 days        56.5  \n",
       "57         6       86 days        57.5  \n",
       "58         6       87 days        58.5  \n",
       "59         6       88 days        59.5  "
      ]
     },
     "execution_count": 4,
     "metadata": {},
     "output_type": "execute_result"
    }
   ],
   "source": [
    "base.groupby(base['Data'].dt.month)['Obitos'].sum()\n",
    "base['MesMorte'] = base['Data'].dt.month\n",
    "base['diferencaDias'] = base['Data'] - base['Data'].min()\n",
    "base['MédiaMovel'] = base['Obitos'].rolling(2).mean()\n",
    "base"
   ]
  },
  {
   "cell_type": "markdown",
   "metadata": {},
   "source": [
    "# 3. Cálculo por Sexo"
   ]
  },
  {
   "cell_type": "code",
   "execution_count": 5,
   "metadata": {},
   "outputs": [
    {
     "data": {
      "text/html": [
       "<div>\n",
       "<style scoped>\n",
       "    .dataframe tbody tr th:only-of-type {\n",
       "        vertical-align: middle;\n",
       "    }\n",
       "\n",
       "    .dataframe tbody tr th {\n",
       "        vertical-align: top;\n",
       "    }\n",
       "\n",
       "    .dataframe thead th {\n",
       "        text-align: right;\n",
       "    }\n",
       "</style>\n",
       "<table border=\"1\" class=\"dataframe\">\n",
       "  <thead>\n",
       "    <tr style=\"text-align: right;\">\n",
       "      <th>Sexo</th>\n",
       "      <th>Homem</th>\n",
       "      <th>Mulher</th>\n",
       "    </tr>\n",
       "    <tr>\n",
       "      <th>Sexo</th>\n",
       "      <th></th>\n",
       "      <th></th>\n",
       "    </tr>\n",
       "  </thead>\n",
       "  <tbody>\n",
       "    <tr>\n",
       "      <th>Homem</th>\n",
       "      <td>37</td>\n",
       "      <td>0</td>\n",
       "    </tr>\n",
       "    <tr>\n",
       "      <th>Mulher</th>\n",
       "      <td>0</td>\n",
       "      <td>23</td>\n",
       "    </tr>\n",
       "  </tbody>\n",
       "</table>\n",
       "</div>"
      ],
      "text/plain": [
       "Sexo    Homem  Mulher\n",
       "Sexo                 \n",
       "Homem      37       0\n",
       "Mulher      0      23"
      ]
     },
     "execution_count": 5,
     "metadata": {},
     "output_type": "execute_result"
    }
   ],
   "source": [
    "pd.crosstab(base['Sexo'],base['Sexo'])"
   ]
  },
  {
   "cell_type": "code",
   "execution_count": 6,
   "metadata": {
    "scrolled": true
   },
   "outputs": [
    {
     "name": "stdout",
     "output_type": "stream",
     "text": [
      "Sexo em %\n",
      "Homem     61.67\n",
      "Mulher    38.33\n",
      "Name: Sexo, dtype: float64\n"
     ]
    }
   ],
   "source": [
    "print ('Sexo em %')\n",
    "Afetados = base['Sexo'].value_counts(normalize=True)\n",
    "print (str(round(Afetados, 4) *100)) "
   ]
  },
  {
   "cell_type": "code",
   "execution_count": 7,
   "metadata": {
    "scrolled": true
   },
   "outputs": [
    {
     "data": {
      "text/plain": [
       "<matplotlib.axes._subplots.AxesSubplot at 0x1a714de0b00>"
      ]
     },
     "execution_count": 7,
     "metadata": {},
     "output_type": "execute_result"
    },
    {
     "data": {
      "image/png": "[encoded data removed]",
      "text/plain": [
       "<Figure size 360x360 with 1 Axes>"
      ]
     },
     "metadata": {},
     "output_type": "display_data"
    }
   ],
   "source": [
    "base['Sexo'].value_counts().plot(kind = \"pie\", figsize = (5,5))"
   ]
  },
  {
   "cell_type": "markdown",
   "metadata": {},
   "source": [
    "# 4. Agrupando os dados pelo mês do óbito"
   ]
  },
  {
   "cell_type": "code",
   "execution_count": 8,
   "metadata": {},
   "outputs": [
    {
     "data": {
      "text/plain": [
       "Data\n",
       "3     1\n",
       "4     4\n",
       "5    22\n",
       "6    33\n",
       "Name: Obitos, dtype: int64"
      ]
     },
     "execution_count": 8,
     "metadata": {},
     "output_type": "execute_result"
    }
   ],
   "source": [
    "df = base.groupby(base['Data'].dt.month)['Obitos'].count()\n",
    "df"
   ]
  },
  {
   "cell_type": "code",
   "execution_count": 9,
   "metadata": {},
   "outputs": [
    {
     "data": {
      "text/plain": [
       "<matplotlib.axes._subplots.AxesSubplot at 0x1a7150e24a8>"
      ]
     },
     "execution_count": 9,
     "metadata": {},
     "output_type": "execute_result"
    },
    {
     "data": {
      "image/png": "[encoded data removed]",
      "text/plain": [
       "<Figure size 720x360 with 1 Axes>"
      ]
     },
     "metadata": {
      "needs_background": "light"
     },
     "output_type": "display_data"
    }
   ],
   "source": [
    "df.plot(kind = \"bar\", figsize = (10,5))"
   ]
  },
  {
   "cell_type": "markdown",
   "metadata": {},
   "source": [
    "# 5. Calculando o total de dias desde a primeira morte"
   ]
  },
  {
   "cell_type": "code",
   "execution_count": 10,
   "metadata": {},
   "outputs": [
    {
     "data": {
      "text/plain": [
       "55   85 days\n",
       "56   85 days\n",
       "57   86 days\n",
       "58   87 days\n",
       "59   88 days\n",
       "Name: Data, dtype: timedelta64[ns]"
      ]
     },
     "execution_count": 10,
     "metadata": {},
     "output_type": "execute_result"
    }
   ],
   "source": [
    "a = base['diferencaDias'] = base['Data'] - base['Data'].min()\n",
    "a.tail()"
   ]
  },
  {
   "cell_type": "markdown",
   "metadata": {},
   "source": [
    "# 6. Verifando se com coborbidades ou sem comorbidades"
   ]
  },
  {
   "cell_type": "code",
   "execution_count": 11,
   "metadata": {},
   "outputs": [
    {
     "data": {
      "text/html": [
       "<div>\n",
       "<style scoped>\n",
       "    .dataframe tbody tr th:only-of-type {\n",
       "        vertical-align: middle;\n",
       "    }\n",
       "\n",
       "    .dataframe tbody tr th {\n",
       "        vertical-align: top;\n",
       "    }\n",
       "\n",
       "    .dataframe thead th {\n",
       "        text-align: right;\n",
       "    }\n",
       "</style>\n",
       "<table border=\"1\" class=\"dataframe\">\n",
       "  <thead>\n",
       "    <tr style=\"text-align: right;\">\n",
       "      <th>Comorbidade</th>\n",
       "      <th>Com Comorbidades</th>\n",
       "      <th>Sem Comorbidade</th>\n",
       "      <th>Sem Comorbidade, ex-tabagista.</th>\n",
       "    </tr>\n",
       "    <tr>\n",
       "      <th>Comorbidade</th>\n",
       "      <th></th>\n",
       "      <th></th>\n",
       "      <th></th>\n",
       "    </tr>\n",
       "  </thead>\n",
       "  <tbody>\n",
       "    <tr>\n",
       "      <th>Com Comorbidades</th>\n",
       "      <td>45</td>\n",
       "      <td>0</td>\n",
       "      <td>0</td>\n",
       "    </tr>\n",
       "    <tr>\n",
       "      <th>Sem Comorbidade</th>\n",
       "      <td>0</td>\n",
       "      <td>13</td>\n",
       "      <td>0</td>\n",
       "    </tr>\n",
       "    <tr>\n",
       "      <th>Sem Comorbidade, ex-tabagista.</th>\n",
       "      <td>0</td>\n",
       "      <td>0</td>\n",
       "      <td>2</td>\n",
       "    </tr>\n",
       "  </tbody>\n",
       "</table>\n",
       "</div>"
      ],
      "text/plain": [
       "Comorbidade                     Com Comorbidades  Sem Comorbidade  \\\n",
       "Comorbidade                                                         \n",
       "Com Comorbidades                              45                0   \n",
       "Sem Comorbidade                                0               13   \n",
       "Sem Comorbidade, ex-tabagista.                 0                0   \n",
       "\n",
       "Comorbidade                     Sem Comorbidade, ex-tabagista.  \n",
       "Comorbidade                                                     \n",
       "Com Comorbidades                                             0  \n",
       "Sem Comorbidade                                              0  \n",
       "Sem Comorbidade, ex-tabagista.                               2  "
      ]
     },
     "execution_count": 11,
     "metadata": {},
     "output_type": "execute_result"
    }
   ],
   "source": [
    "pd.crosstab(base['Comorbidade'],base['Comorbidade'])"
   ]
  },
  {
   "cell_type": "code",
   "execution_count": 12,
   "metadata": {},
   "outputs": [
    {
     "data": {
      "text/plain": [
       "<matplotlib.axes._subplots.AxesSubplot at 0x1a71516d7b8>"
      ]
     },
     "execution_count": 12,
     "metadata": {},
     "output_type": "execute_result"
    },
    {
     "data": {
      "image/png": "[encoded data removed]",
      "text/plain": [
       "<Figure size 432x432 with 1 Axes>"
      ]
     },
     "metadata": {
      "needs_background": "light"
     },
     "output_type": "display_data"
    }
   ],
   "source": [
    "base['Comorbidade'].value_counts().head().plot(kind = \"barh\", figsize = (6,6))"
   ]
  },
  {
   "cell_type": "markdown",
   "metadata": {},
   "source": [
    "# 7. Gráfico com exibição dos Óbitos no tempo"
   ]
  },
  {
   "cell_type": "code",
   "execution_count": 13,
   "metadata": {},
   "outputs": [
    {
     "data": {
      "image/png": "[encoded data removed]",
      "text/plain": [
       "<Figure size 936x432 with 1 Axes>"
      ]
     },
     "metadata": {
      "needs_background": "light"
     },
     "output_type": "display_data"
    }
   ],
   "source": [
    "base.plot(x='Data', y='Obitos', figsize=(13,6));\n",
    "plt.title('Óbitos em Indaiatuba')\n",
    "plt.ylabel('Obitos')\n",
    "plt.xlabel('Data')\n",
    "plt.show()"
   ]
  },
  {
   "cell_type": "markdown",
   "metadata": {},
   "source": [
    "# 8. Média de idades dos óbitos\n"
   ]
  },
  {
   "cell_type": "code",
   "execution_count": 14,
   "metadata": {},
   "outputs": [
    {
     "data": {
      "text/plain": [
       "65.08333333333333"
      ]
     },
     "execution_count": 14,
     "metadata": {},
     "output_type": "execute_result"
    }
   ],
   "source": [
    "base['Idade'].mean()"
   ]
  },
  {
   "cell_type": "markdown",
   "metadata": {},
   "source": [
    "# 9 .Desvio Padrão de idades dos óbitos"
   ]
  },
  {
   "cell_type": "code",
   "execution_count": 15,
   "metadata": {},
   "outputs": [
    {
     "data": {
      "text/plain": [
       "14.397847846079985"
      ]
     },
     "execution_count": 15,
     "metadata": {},
     "output_type": "execute_result"
    }
   ],
   "source": [
    "base['Idade'].std()"
   ]
  },
  {
   "cell_type": "markdown",
   "metadata": {},
   "source": [
    "# 10. Mediana de idades dos óbitos"
   ]
  },
  {
   "cell_type": "code",
   "execution_count": 16,
   "metadata": {},
   "outputs": [
    {
     "data": {
      "text/plain": [
       "66.5"
      ]
     },
     "execution_count": 16,
     "metadata": {},
     "output_type": "execute_result"
    }
   ],
   "source": [
    "base['Idade'].median()"
   ]
  },
  {
   "cell_type": "markdown",
   "metadata": {},
   "source": [
    "# 11. Frequencia de idades dos óbitos"
   ]
  },
  {
   "cell_type": "code",
   "execution_count": 17,
   "metadata": {},
   "outputs": [
    {
     "data": {
      "text/plain": [
       "0    67\n",
       "1    86\n",
       "dtype: int64"
      ]
     },
     "execution_count": 17,
     "metadata": {},
     "output_type": "execute_result"
    }
   ],
   "source": [
    "base['Idade'].mode()"
   ]
  },
  {
   "cell_type": "markdown",
   "metadata": {},
   "source": [
    "# 12. Gráfico com a Frequencia de idade dos óbitos"
   ]
  },
  {
   "cell_type": "code",
   "execution_count": 18,
   "metadata": {},
   "outputs": [
    {
     "data": {
      "text/plain": [
       "<matplotlib.axes._subplots.AxesSubplot at 0x1a7153f6898>"
      ]
     },
     "execution_count": 18,
     "metadata": {},
     "output_type": "execute_result"
    },
    {
     "data": {
      "image/png": "[encoded data removed]",
      "text/plain": [
       "<Figure size 720x360 with 1 Axes>"
      ]
     },
     "metadata": {
      "needs_background": "light"
     },
     "output_type": "display_data"
    }
   ],
   "source": [
    "base['Idade'].value_counts().plot(kind='bar',figsize = (10,5), title='Mortes/Idade')"
   ]
  },
  {
   "cell_type": "markdown",
   "metadata": {},
   "source": [
    "# 13. Caculando log para cálculo para simulação"
   ]
  },
  {
   "cell_type": "code",
   "execution_count": 19,
   "metadata": {},
   "outputs": [],
   "source": [
    "log_obitos = np.log(1 + base['Obitos'].pct_change())"
   ]
  },
  {
   "cell_type": "code",
   "execution_count": 20,
   "metadata": {},
   "outputs": [
    {
     "data": {
      "text/plain": [
       "55    56\n",
       "56    57\n",
       "57    58\n",
       "58    59\n",
       "59    60\n",
       "Name: Obitos, dtype: int64"
      ]
     },
     "execution_count": 20,
     "metadata": {},
     "output_type": "execute_result"
    }
   ],
   "source": [
    "base['Obitos'].tail()"
   ]
  },
  {
   "cell_type": "markdown",
   "metadata": {},
   "source": [
    "# 14. Gráfico com log para cálculo da simulção"
   ]
  },
  {
   "cell_type": "code",
   "execution_count": 21,
   "metadata": {},
   "outputs": [
    {
     "data": {
      "text/plain": [
       "<matplotlib.axes._subplots.AxesSubplot at 0x1a7151f8860>"
      ]
     },
     "execution_count": 21,
     "metadata": {},
     "output_type": "execute_result"
    },
    {
     "data": {
      "image/png": "[encoded data removed]",
      "text/plain": [
       "<Figure size 720x432 with 1 Axes>"
      ]
     },
     "metadata": {
      "needs_background": "light"
     },
     "output_type": "display_data"
    }
   ],
   "source": [
    "log_obitos.plot(figsize=(10,6))"
   ]
  },
  {
   "cell_type": "code",
   "execution_count": 22,
   "metadata": {},
   "outputs": [
    {
     "data": {
      "text/plain": [
       "0.06939567054613728"
      ]
     },
     "execution_count": 22,
     "metadata": {},
     "output_type": "execute_result"
    }
   ],
   "source": [
    "u = log_obitos.mean()\n",
    "u"
   ]
  },
  {
   "cell_type": "code",
   "execution_count": 23,
   "metadata": {},
   "outputs": [
    {
     "data": {
      "text/plain": [
       "0.011661945842254466"
      ]
     },
     "execution_count": 23,
     "metadata": {},
     "output_type": "execute_result"
    }
   ],
   "source": [
    "var = log_obitos.var()\n",
    "var"
   ]
  },
  {
   "cell_type": "code",
   "execution_count": 24,
   "metadata": {},
   "outputs": [
    {
     "data": {
      "text/plain": [
       "0.06356469762501005"
      ]
     },
     "execution_count": 24,
     "metadata": {},
     "output_type": "execute_result"
    }
   ],
   "source": [
    "drift = u - (0.5 * var)\n",
    "drift"
   ]
  },
  {
   "cell_type": "code",
   "execution_count": 25,
   "metadata": {},
   "outputs": [
    {
     "data": {
      "text/plain": [
       "0.10799048959169721"
      ]
     },
     "execution_count": 25,
     "metadata": {},
     "output_type": "execute_result"
    }
   ],
   "source": [
    "stdev = log_obitos.std()\n",
    "stdev"
   ]
  },
  {
   "cell_type": "code",
   "execution_count": 26,
   "metadata": {},
   "outputs": [
    {
     "data": {
      "text/plain": [
       "float"
      ]
     },
     "execution_count": 26,
     "metadata": {},
     "output_type": "execute_result"
    }
   ],
   "source": [
    "type(drift)"
   ]
  },
  {
   "cell_type": "code",
   "execution_count": 27,
   "metadata": {},
   "outputs": [
    {
     "data": {
      "text/plain": [
       "float"
      ]
     },
     "execution_count": 27,
     "metadata": {},
     "output_type": "execute_result"
    }
   ],
   "source": [
    "type(stdev)"
   ]
  },
  {
   "cell_type": "code",
   "execution_count": 28,
   "metadata": {},
   "outputs": [
    {
     "data": {
      "text/plain": [
       "array(0.0635647)"
      ]
     },
     "execution_count": 28,
     "metadata": {},
     "output_type": "execute_result"
    }
   ],
   "source": [
    "np.array(drift)"
   ]
  },
  {
   "cell_type": "code",
   "execution_count": 29,
   "metadata": {},
   "outputs": [
    {
     "data": {
      "text/plain": [
       "0.06356469762501005"
      ]
     },
     "execution_count": 29,
     "metadata": {},
     "output_type": "execute_result"
    }
   ],
   "source": [
    "drift"
   ]
  },
  {
   "cell_type": "code",
   "execution_count": 30,
   "metadata": {},
   "outputs": [
    {
     "data": {
      "text/plain": [
       "0.10799048959169721"
      ]
     },
     "execution_count": 30,
     "metadata": {},
     "output_type": "execute_result"
    }
   ],
   "source": [
    "stdev"
   ]
  },
  {
   "cell_type": "code",
   "execution_count": 31,
   "metadata": {},
   "outputs": [
    {
     "data": {
      "text/plain": [
       "1.6448536269514722"
      ]
     },
     "execution_count": 31,
     "metadata": {},
     "output_type": "execute_result"
    }
   ],
   "source": [
    "norm.ppf(0.95)"
   ]
  },
  {
   "cell_type": "code",
   "execution_count": 32,
   "metadata": {},
   "outputs": [
    {
     "data": {
      "text/plain": [
       "array([[0.98989504, 0.94508473],\n",
       "       [0.87346674, 0.25509575],\n",
       "       [0.01951348, 0.66902115],\n",
       "       [0.60763922, 0.26189717],\n",
       "       [0.17470253, 0.6794326 ],\n",
       "       [0.92026637, 0.55810521],\n",
       "       [0.05658742, 0.57492767],\n",
       "       [0.74330935, 0.97473563],\n",
       "       [0.33437776, 0.01786223],\n",
       "       [0.43012154, 0.0590192 ]])"
      ]
     },
     "execution_count": 32,
     "metadata": {},
     "output_type": "execute_result"
    }
   ],
   "source": [
    "x = np.random.rand(10,2)\n",
    "x"
   ]
  },
  {
   "cell_type": "code",
   "execution_count": 33,
   "metadata": {},
   "outputs": [
    {
     "data": {
      "text/plain": [
       "array([[ 2.32242779,  1.59895528],\n",
       "       [ 1.14293272, -0.65853954],\n",
       "       [-2.06390254,  0.43721188],\n",
       "       [ 0.27317128, -0.63750749],\n",
       "       [-0.93574389,  0.46611276],\n",
       "       [ 1.40686557,  0.14616696],\n",
       "       [-1.58408301,  0.18893386],\n",
       "       [ 0.65358176,  1.95546053],\n",
       "       [-0.4278566 , -2.10004975],\n",
       "       [-0.17606475, -1.56306035]])"
      ]
     },
     "execution_count": 33,
     "metadata": {},
     "output_type": "execute_result"
    }
   ],
   "source": [
    "norm.ppf(x)"
   ]
  },
  {
   "cell_type": "code",
   "execution_count": 34,
   "metadata": {},
   "outputs": [
    {
     "data": {
      "text/plain": [
       "array([[ 0.85849885,  0.55204135, -0.50432473, -0.04642231],\n",
       "       [-0.10430731,  2.05797553,  0.29621856,  0.39688233],\n",
       "       [ 0.32702683, -1.68800369,  0.33015478, -0.95820978],\n",
       "       [-0.90932773,  0.22731684,  0.51254852,  0.25782036],\n",
       "       [-0.2418919 ,  0.62453851,  0.24783136, -0.41220034],\n",
       "       [ 0.16886352,  1.15024217, -0.92038686, -1.56675143],\n",
       "       [-0.59488058, -0.2547554 ,  0.41077445, -0.26676343],\n",
       "       [-0.95884686,  0.33461022,  1.43502671, -1.26476823],\n",
       "       [ 0.63533758, -0.26477408,  0.67364128,  0.09662826],\n",
       "       [ 0.31623609, -1.0881468 , -2.07192003, -0.01811269]])"
      ]
     },
     "execution_count": 34,
     "metadata": {},
     "output_type": "execute_result"
    }
   ],
   "source": [
    "z= norm.ppf(np.random.rand(10,4))\n",
    "z"
   ]
  },
  {
   "cell_type": "code",
   "execution_count": 35,
   "metadata": {},
   "outputs": [],
   "source": [
    "t_intervals = 30\n",
    "iterations = 10"
   ]
  },
  {
   "cell_type": "code",
   "execution_count": 36,
   "metadata": {},
   "outputs": [
    {
     "data": {
      "text/plain": [
       "array([[0.83030033, 1.11851434, 1.09339445, 0.78691578, 0.92634946,\n",
       "        1.08620772, 0.95300866, 1.16164065, 0.960198  , 1.15926193],\n",
       "       [0.93852469, 0.90788823, 1.00342608, 1.04864313, 1.0010668 ,\n",
       "        1.09119616, 1.02223515, 1.08829003, 1.18888694, 1.20521948],\n",
       "       [1.09690598, 1.18557548, 1.01197487, 1.09108137, 1.11672635,\n",
       "        1.07115455, 1.00973716, 1.1488649 , 1.16515476, 0.99176455],\n",
       "       [1.1427163 , 1.20155092, 0.91075777, 1.03137942, 1.13799818,\n",
       "        1.10731902, 1.11561238, 0.97933326, 1.18621528, 1.06741425],\n",
       "       [1.08541168, 1.0872245 , 1.08359836, 1.08877452, 1.21261224,\n",
       "        1.16087071, 1.25732441, 0.98778126, 1.06713572, 1.22730468],\n",
       "       [1.16061892, 1.10524147, 0.93291805, 1.10239711, 1.04306613,\n",
       "        1.1250267 , 1.04152315, 0.93914171, 1.07809881, 1.05402553],\n",
       "       [1.20281881, 1.16010693, 1.27465416, 1.03570318, 1.09152973,\n",
       "        1.11382774, 1.01229828, 1.0747088 , 0.91333428, 0.97897123],\n",
       "       [1.1125814 , 1.09110414, 1.23690255, 1.1193057 , 1.18613971,\n",
       "        1.32851998, 1.15546345, 1.01844813, 1.15289283, 1.17776766],\n",
       "       [0.94835628, 1.04333522, 1.3799698 , 1.09206636, 0.98358154,\n",
       "        1.09909337, 1.19417878, 1.07547264, 0.93602087, 1.15257374],\n",
       "       [1.02666727, 1.07206479, 1.22221289, 1.12124057, 1.22187644,\n",
       "        0.99016303, 1.06467693, 1.09137482, 1.0112178 , 1.09087578],\n",
       "       [1.35643666, 0.96869175, 0.97869534, 1.15958524, 1.09913588,\n",
       "        1.14852666, 1.06929277, 1.17973624, 0.94169039, 1.02324233],\n",
       "       [1.04763479, 0.95833397, 1.10682837, 0.87347275, 0.92125406,\n",
       "        1.01329754, 0.91923367, 1.18858474, 0.86580326, 1.15806908],\n",
       "       [1.16297979, 1.09030093, 1.09216461, 1.04338626, 0.86522878,\n",
       "        0.92139151, 0.94720347, 1.17032317, 0.86381184, 0.9523249 ],\n",
       "       [1.02472662, 1.18105724, 1.25470567, 1.10446527, 1.17873662,\n",
       "        0.82386546, 1.25205713, 1.07408709, 1.32545345, 1.00099005],\n",
       "       [1.10913567, 0.85596447, 0.93099206, 1.26039813, 1.14745502,\n",
       "        1.05368986, 1.10196718, 0.93637163, 1.09909919, 0.98479182],\n",
       "       [0.8785115 , 0.94053381, 1.09765484, 1.08505194, 1.07577846,\n",
       "        1.21831601, 1.05855329, 1.22203091, 1.09071494, 1.09788616],\n",
       "       [1.27124676, 0.8967115 , 1.05085483, 0.99688037, 1.32068798,\n",
       "        0.9855679 , 1.21535831, 1.27358319, 1.10215763, 1.06245752],\n",
       "       [1.04102815, 1.13091129, 1.00449287, 1.16644497, 1.06786802,\n",
       "        1.03688255, 1.00932631, 1.48913126, 1.12012621, 0.96060847],\n",
       "       [0.99402764, 0.87614274, 0.99178508, 0.97412431, 1.01553189,\n",
       "        0.92791297, 1.11433815, 1.09897691, 0.95633119, 1.1186349 ],\n",
       "       [1.09776693, 1.2165581 , 1.10591965, 1.05885138, 0.89495176,\n",
       "        1.19294195, 1.02591739, 1.17643478, 1.00333577, 1.2465014 ],\n",
       "       [1.14763988, 1.05197025, 1.02994833, 1.01339646, 1.0818175 ,\n",
       "        1.11769704, 1.08554614, 1.14409238, 1.08480566, 1.18116867],\n",
       "       [0.9612966 , 0.93355193, 1.08576062, 1.08392437, 1.0476801 ,\n",
       "        0.94167147, 1.32740375, 0.85329976, 1.0503264 , 0.88426913],\n",
       "       [1.05900955, 1.10800843, 1.22246995, 1.00821397, 1.05680181,\n",
       "        1.06513704, 1.18641407, 1.1526353 , 0.97913842, 1.02288392],\n",
       "       [0.91130751, 1.21632833, 1.00302488, 1.02892626, 0.91583285,\n",
       "        0.96294484, 0.90034348, 1.21618061, 1.03459754, 1.11961528],\n",
       "       [1.33150678, 1.10488168, 1.39945098, 1.17884945, 1.08795953,\n",
       "        0.99636718, 1.13655171, 1.03845238, 0.90621858, 1.0051428 ],\n",
       "       [1.20386717, 0.96353238, 1.05342004, 0.94150941, 1.19760766,\n",
       "        0.98122355, 1.15228235, 0.98644428, 0.9754616 , 1.19313297],\n",
       "       [0.94901371, 1.033601  , 0.9571096 , 1.09114239, 0.98638758,\n",
       "        1.36752656, 0.83719545, 0.93738863, 1.00434298, 1.16184517],\n",
       "       [1.05628932, 1.22663249, 1.02543894, 0.85312795, 1.14021624,\n",
       "        1.04975592, 1.18398073, 1.07333895, 0.92205307, 1.06956687],\n",
       "       [1.03840793, 1.18172004, 0.99031414, 1.02125673, 1.08241415,\n",
       "        0.94103147, 1.14898427, 1.0922426 , 1.02681528, 1.00617922],\n",
       "       [1.00391355, 0.99554798, 0.99820587, 1.23374058, 1.12438289,\n",
       "        1.15342099, 1.02322714, 1.11620005, 1.16764985, 1.06093827]])"
      ]
     },
     "execution_count": 36,
     "metadata": {},
     "output_type": "execute_result"
    }
   ],
   "source": [
    "daily_obitos = np.exp(drift + stdev * norm.ppf(np.random.rand(t_intervals, iterations)))\n",
    "daily_obitos"
   ]
  },
  {
   "cell_type": "code",
   "execution_count": null,
   "metadata": {},
   "outputs": [],
   "source": []
  },
  {
   "cell_type": "code",
   "execution_count": 37,
   "metadata": {},
   "outputs": [
    {
     "data": {
      "text/plain": [
       "60"
      ]
     },
     "execution_count": 37,
     "metadata": {},
     "output_type": "execute_result"
    }
   ],
   "source": [
    "last_data = base['Obitos'].iloc[-1]\n",
    "last_data"
   ]
  },
  {
   "cell_type": "code",
   "execution_count": 38,
   "metadata": {},
   "outputs": [
    {
     "data": {
      "text/plain": [
       "array([[0., 0., 0., 0., 0., 0., 0., 0., 0., 0.],\n",
       "       [0., 0., 0., 0., 0., 0., 0., 0., 0., 0.],\n",
       "       [0., 0., 0., 0., 0., 0., 0., 0., 0., 0.],\n",
       "       [0., 0., 0., 0., 0., 0., 0., 0., 0., 0.],\n",
       "       [0., 0., 0., 0., 0., 0., 0., 0., 0., 0.],\n",
       "       [0., 0., 0., 0., 0., 0., 0., 0., 0., 0.],\n",
       "       [0., 0., 0., 0., 0., 0., 0., 0., 0., 0.],\n",
       "       [0., 0., 0., 0., 0., 0., 0., 0., 0., 0.],\n",
       "       [0., 0., 0., 0., 0., 0., 0., 0., 0., 0.],\n",
       "       [0., 0., 0., 0., 0., 0., 0., 0., 0., 0.],\n",
       "       [0., 0., 0., 0., 0., 0., 0., 0., 0., 0.],\n",
       "       [0., 0., 0., 0., 0., 0., 0., 0., 0., 0.],\n",
       "       [0., 0., 0., 0., 0., 0., 0., 0., 0., 0.],\n",
       "       [0., 0., 0., 0., 0., 0., 0., 0., 0., 0.],\n",
       "       [0., 0., 0., 0., 0., 0., 0., 0., 0., 0.],\n",
       "       [0., 0., 0., 0., 0., 0., 0., 0., 0., 0.],\n",
       "       [0., 0., 0., 0., 0., 0., 0., 0., 0., 0.],\n",
       "       [0., 0., 0., 0., 0., 0., 0., 0., 0., 0.],\n",
       "       [0., 0., 0., 0., 0., 0., 0., 0., 0., 0.],\n",
       "       [0., 0., 0., 0., 0., 0., 0., 0., 0., 0.],\n",
       "       [0., 0., 0., 0., 0., 0., 0., 0., 0., 0.],\n",
       "       [0., 0., 0., 0., 0., 0., 0., 0., 0., 0.],\n",
       "       [0., 0., 0., 0., 0., 0., 0., 0., 0., 0.],\n",
       "       [0., 0., 0., 0., 0., 0., 0., 0., 0., 0.],\n",
       "       [0., 0., 0., 0., 0., 0., 0., 0., 0., 0.],\n",
       "       [0., 0., 0., 0., 0., 0., 0., 0., 0., 0.],\n",
       "       [0., 0., 0., 0., 0., 0., 0., 0., 0., 0.],\n",
       "       [0., 0., 0., 0., 0., 0., 0., 0., 0., 0.],\n",
       "       [0., 0., 0., 0., 0., 0., 0., 0., 0., 0.],\n",
       "       [0., 0., 0., 0., 0., 0., 0., 0., 0., 0.]])"
      ]
     },
     "execution_count": 38,
     "metadata": {},
     "output_type": "execute_result"
    }
   ],
   "source": [
    "obito_list = np.zeros_like(daily_obitos)\n",
    "obito_list"
   ]
  },
  {
   "cell_type": "code",
   "execution_count": 39,
   "metadata": {},
   "outputs": [
    {
     "data": {
      "text/plain": [
       "array([[60., 60., 60., 60., 60., 60., 60., 60., 60., 60.],\n",
       "       [ 0.,  0.,  0.,  0.,  0.,  0.,  0.,  0.,  0.,  0.],\n",
       "       [ 0.,  0.,  0.,  0.,  0.,  0.,  0.,  0.,  0.,  0.],\n",
       "       [ 0.,  0.,  0.,  0.,  0.,  0.,  0.,  0.,  0.,  0.],\n",
       "       [ 0.,  0.,  0.,  0.,  0.,  0.,  0.,  0.,  0.,  0.],\n",
       "       [ 0.,  0.,  0.,  0.,  0.,  0.,  0.,  0.,  0.,  0.],\n",
       "       [ 0.,  0.,  0.,  0.,  0.,  0.,  0.,  0.,  0.,  0.],\n",
       "       [ 0.,  0.,  0.,  0.,  0.,  0.,  0.,  0.,  0.,  0.],\n",
       "       [ 0.,  0.,  0.,  0.,  0.,  0.,  0.,  0.,  0.,  0.],\n",
       "       [ 0.,  0.,  0.,  0.,  0.,  0.,  0.,  0.,  0.,  0.],\n",
       "       [ 0.,  0.,  0.,  0.,  0.,  0.,  0.,  0.,  0.,  0.],\n",
       "       [ 0.,  0.,  0.,  0.,  0.,  0.,  0.,  0.,  0.,  0.],\n",
       "       [ 0.,  0.,  0.,  0.,  0.,  0.,  0.,  0.,  0.,  0.],\n",
       "       [ 0.,  0.,  0.,  0.,  0.,  0.,  0.,  0.,  0.,  0.],\n",
       "       [ 0.,  0.,  0.,  0.,  0.,  0.,  0.,  0.,  0.,  0.],\n",
       "       [ 0.,  0.,  0.,  0.,  0.,  0.,  0.,  0.,  0.,  0.],\n",
       "       [ 0.,  0.,  0.,  0.,  0.,  0.,  0.,  0.,  0.,  0.],\n",
       "       [ 0.,  0.,  0.,  0.,  0.,  0.,  0.,  0.,  0.,  0.],\n",
       "       [ 0.,  0.,  0.,  0.,  0.,  0.,  0.,  0.,  0.,  0.],\n",
       "       [ 0.,  0.,  0.,  0.,  0.,  0.,  0.,  0.,  0.,  0.],\n",
       "       [ 0.,  0.,  0.,  0.,  0.,  0.,  0.,  0.,  0.,  0.],\n",
       "       [ 0.,  0.,  0.,  0.,  0.,  0.,  0.,  0.,  0.,  0.],\n",
       "       [ 0.,  0.,  0.,  0.,  0.,  0.,  0.,  0.,  0.,  0.],\n",
       "       [ 0.,  0.,  0.,  0.,  0.,  0.,  0.,  0.,  0.,  0.],\n",
       "       [ 0.,  0.,  0.,  0.,  0.,  0.,  0.,  0.,  0.,  0.],\n",
       "       [ 0.,  0.,  0.,  0.,  0.,  0.,  0.,  0.,  0.,  0.],\n",
       "       [ 0.,  0.,  0.,  0.,  0.,  0.,  0.,  0.,  0.,  0.],\n",
       "       [ 0.,  0.,  0.,  0.,  0.,  0.,  0.,  0.,  0.,  0.],\n",
       "       [ 0.,  0.,  0.,  0.,  0.,  0.,  0.,  0.,  0.,  0.],\n",
       "       [ 0.,  0.,  0.,  0.,  0.,  0.,  0.,  0.,  0.,  0.]])"
      ]
     },
     "execution_count": 39,
     "metadata": {},
     "output_type": "execute_result"
    }
   ],
   "source": [
    "obito_list[0] = last_data\n",
    "obito_list"
   ]
  },
  {
   "cell_type": "code",
   "execution_count": 40,
   "metadata": {},
   "outputs": [],
   "source": [
    "for t in range (1, t_intervals):\n",
    "    obito_list[t] = obito_list[t-1]* daily_obitos[t]"
   ]
  },
  {
   "cell_type": "code",
   "execution_count": 41,
   "metadata": {},
   "outputs": [
    {
     "data": {
      "text/plain": [
       "array([[ 60.        ,  60.        ,  60.        ,  60.        ,\n",
       "         60.        ,  60.        ,  60.        ,  60.        ,\n",
       "         60.        ,  60.        ],\n",
       "       [ 56.31148145,  54.47329385,  60.20556471,  62.91858776,\n",
       "         60.06400793,  65.47176933,  61.33410907,  65.29740194,\n",
       "         71.3332164 ,  72.31316862],\n",
       "       [ 61.76840103,  64.58220142,  60.92651864,  68.64929865,\n",
       "         67.07506008,  70.13038355,  61.93132882,  75.01789344,\n",
       "         83.11423694,  71.71763737],\n",
       "       [ 70.58375865,  77.59880367,  55.4893001 ,  70.80347398,\n",
       "         76.33129657,  77.65670758,  69.09135744,  73.46751851,\n",
       "         98.59137752,  76.55242821],\n",
       "       [ 76.61243612,  84.36732018,  60.12811435,  77.08901849,\n",
       "         92.56026486,  90.14939744,  86.87024994,  72.5698378 ,\n",
       "        105.2103806 ,  93.95315344],\n",
       "       [ 88.91784257,  93.24626111,  56.09460335,  84.98271145,\n",
       "         96.54647717, 101.42047871,  90.4773763 ,  68.15336152,\n",
       "        113.4271864 ,  99.02902242],\n",
       "       [106.952054  , 108.17563413,  71.50121961,  88.01686412,\n",
       "        105.3833502 , 112.96494237,  91.59009275,  73.24501731,\n",
       "        103.5969374 ,  96.94656354],\n",
       "       [118.99286577, 118.03088189,  88.44004122,  98.51777744,\n",
       "        124.99937684, 150.07618349, 105.82900447,  74.59625096,\n",
       "        119.43616681, 114.18052719],\n",
       "       [112.8476312 , 123.14577602, 122.04458587, 107.5879506 ,\n",
       "        122.94708002, 164.94773802, 126.37875102,  80.22622664,\n",
       "        111.79474528, 131.60147681],\n",
       "       [115.85696995, 132.02025106, 149.16446651, 120.63197516,\n",
       "        150.22614066, 163.3251514 , 134.55254029,  87.55688396,\n",
       "        113.04883631, 143.56086307],\n",
       "       [157.15264141, 127.88692825, 145.98656801, 139.88305761,\n",
       "        165.11894143, 187.58329106, 143.87605807, 103.2940293 ,\n",
       "        106.45700242, 146.89755148],\n",
       "       [164.63857504, 122.5583879 , 161.58207523, 122.184039  ,\n",
       "        152.11649487, 190.07768821, 132.25571721, 122.77370733,\n",
       "         92.17081942, 170.1175118 ],\n",
       "       [191.47133605, 133.62552482, 176.47422497, 127.48514808,\n",
       "        131.61556925, 175.13596911, 125.27307431, 143.68491438,\n",
       "         79.61824544, 162.00714169],\n",
       "       [196.20577508, 157.81939317, 221.42321077, 140.80291888,\n",
       "        155.14009073, 144.28847516, 156.84904603, 154.33011216,\n",
       "        105.53027775, 162.16753673],\n",
       "       [217.61882295, 135.08779284, 206.14325044, 177.46773567,\n",
       "        178.01627536, 152.03530383, 172.84250113, 144.51033937,\n",
       "        115.98824331, 159.70126321],\n",
       "       [191.18063911, 127.05463582, 226.27413751, 192.5617105 ,\n",
       "        191.50607449, 185.22704412, 182.96299826, 176.59610164,\n",
       "        126.51011009, 175.33380594],\n",
       "       [243.03776808, 113.93135249, 237.7812694 , 191.96099017,\n",
       "        252.91977062, 182.55382949, 222.36560121, 224.90982581,\n",
       "        139.43408278, 186.28472089],\n",
       "       [253.00915823, 128.84625231, 238.84959069, 223.9119318 ,\n",
       "        270.08493453, 189.28688086, 224.43945128, 334.9202514 ,\n",
       "        156.18377084, 178.94668057],\n",
       "       [251.49809544, 112.88770817, 236.88746035, 218.11805583,\n",
       "        274.27986341, 175.64175215, 250.10144275, 368.06962463,\n",
       "        149.36341218, 200.17600157],\n",
       "       [276.08629193, 137.33445521, 261.97849772, 230.95460501,\n",
       "        245.46724684, 209.53041446, 256.58341833, 433.0099088 ,\n",
       "        149.8616546 , 249.51966683],\n",
       "       [316.84763906, 144.47176062, 269.82431526, 234.04858013,\n",
       "        265.55076276, 234.19152451, 278.53313832, 495.40333889,\n",
       "        162.5707704 , 294.72481413],\n",
       "       [304.58455736, 134.87189154, 292.96461504, 253.69095974,\n",
       "        278.21225035, 220.53147747, 369.72593121, 422.7275501 ,\n",
       "        170.75237233, 260.6160563 ],\n",
       "       [322.55795619, 149.4391929 , 358.14043712, 255.77477091,\n",
       "        294.0152111 , 234.89624442, 438.64804532, 487.25069794,\n",
       "        167.1902082 , 266.57997261],\n",
       "       [293.94948835, 181.76712468, 359.22376776, 263.17337901,\n",
       "        269.26878832, 226.19212565, 394.93390933, 592.58485067,\n",
       "        172.97457741, 298.46701115],\n",
       "       [391.39573656, 200.83116599, 502.71605414, 310.24179395,\n",
       "        292.95354547, 225.37041102, 448.86281097, 615.37114738,\n",
       "        156.75277659, 300.00196681],\n",
       "       [471.18847958, 193.50733219, 529.5711655 , 292.09556844,\n",
       "        350.84341095, 221.13875484, 517.21669604, 607.02934645,\n",
       "        152.9063138 , 357.9422381 ],\n",
       "       [447.16432849, 200.00937258, 506.85764453, 318.71785761,\n",
       "        346.06758219, 302.41312057, 433.0114664 , 569.0224101 ,\n",
       "        153.57038325, 415.87346174],\n",
       "       [472.33490548, 245.33799424, 519.75156392, 271.90711388,\n",
       "        394.59187874, 317.45996456, 512.67723273, 610.7539138 ,\n",
       "        141.60004338, 444.80447486],\n",
       "       [490.4763111 , 289.92082506, 514.71732431, 277.68697021,\n",
       "        427.11183321, 298.73981604, 589.05807609, 667.09144233,\n",
       "        145.39708886, 447.55301737],\n",
       "       [492.39581495, 288.63009064, 513.79385372, 342.59368408,\n",
       "        480.23723853, 344.57277533, 602.74021148, 744.60749881,\n",
       "        169.77288873, 474.8261253 ]])"
      ]
     },
     "execution_count": 41,
     "metadata": {},
     "output_type": "execute_result"
    }
   ],
   "source": [
    "obito_list"
   ]
  },
  {
   "cell_type": "code",
   "execution_count": 42,
   "metadata": {},
   "outputs": [
    {
     "data": {
      "text/plain": [
       "54.473293850534425"
      ]
     },
     "execution_count": 42,
     "metadata": {},
     "output_type": "execute_result"
    }
   ],
   "source": [
    "obito_list.min()"
   ]
  },
  {
   "cell_type": "code",
   "execution_count": 43,
   "metadata": {},
   "outputs": [
    {
     "data": {
      "text/plain": [
       "744.6074988074362"
      ]
     },
     "execution_count": 43,
     "metadata": {},
     "output_type": "execute_result"
    }
   ],
   "source": [
    "obito_list.max()"
   ]
  },
  {
   "cell_type": "code",
   "execution_count": 44,
   "metadata": {},
   "outputs": [
    {
     "data": {
      "text/plain": [
       "206.61462930730477"
      ]
     },
     "execution_count": 44,
     "metadata": {},
     "output_type": "execute_result"
    }
   ],
   "source": [
    "obito_list.mean()"
   ]
  },
  {
   "cell_type": "code",
   "execution_count": 45,
   "metadata": {},
   "outputs": [
    {
     "data": {
      "text/plain": [
       "138.85453482862988"
      ]
     },
     "execution_count": 45,
     "metadata": {},
     "output_type": "execute_result"
    }
   ],
   "source": [
    "obito_list.std()"
   ]
  },
  {
   "cell_type": "code",
   "execution_count": 46,
   "metadata": {},
   "outputs": [
    {
     "data": {
      "text/plain": [
       "162.08733920742486"
      ]
     },
     "execution_count": 46,
     "metadata": {},
     "output_type": "execute_result"
    }
   ],
   "source": [
    "np.median(obito_list)"
   ]
  },
  {
   "cell_type": "markdown",
   "metadata": {},
   "source": [
    "# 15. Simulação de Monte Carlo para os óbitos em Indaiatuba"
   ]
  },
  {
   "cell_type": "code",
   "execution_count": 47,
   "metadata": {},
   "outputs": [
    {
     "data": {
      "image/png": "[encoded data removed]",
      "text/plain": [
       "<Figure size 1368x648 with 1 Axes>"
      ]
     },
     "metadata": {
      "needs_background": "light"
     },
     "output_type": "display_data"
    }
   ],
   "source": [
    "plt.figure(figsize=(19,9))\n",
    "plt.plot(obito_list);\n",
    "plt.title('SIMULAÇÃO DE MONTE CARLO');\n",
    "plt.xlabel('REPETIÇÕES'); #definindo nome do eixo X\n",
    "plt.ylabel('Número de Óbitos'); #definindo nome do eixo Y\n"
   ]
  },
  {
   "cell_type": "code",
   "execution_count": 48,
   "metadata": {},
   "outputs": [
    {
     "name": "stdout",
     "output_type": "stream",
     "text": [
      "Óbitos mínimos, 54 pessoas\n",
      "Óbitos mediana, 162 pessoas\n",
      "Óbitos médio, 207 pessoas\n",
      "Óbitos máximo, 745 pessoas\n",
      "Óbitos atual, 60 pessoas\n"
     ]
    }
   ],
   "source": [
    "print(f'Óbitos mínimos, {obito_list.min():.0f}'' pessoas')\n",
    "print(f'Óbitos mediana, {np.median(obito_list):.0f}'' pessoas')\n",
    "print(f'Óbitos médio, {obito_list.mean():.0f}'' pessoas')\n",
    "print(f'Óbitos máximo, {obito_list.max():.0f}'' pessoas')\n",
    "print('Óbitos atual,',(str(round(base['Obitos'].iloc[-1]))),'pessoas') #informar o ticker"
   ]
  },
  {
   "cell_type": "markdown",
   "metadata": {},
   "source": [
    "# 16. Cálculo de mortes por dia"
   ]
  },
  {
   "cell_type": "code",
   "execution_count": 49,
   "metadata": {},
   "outputs": [
    {
     "data": {
      "text/plain": [
       "55   85 days\n",
       "56   85 days\n",
       "57   86 days\n",
       "58   87 days\n",
       "59   88 days\n",
       "Name: Data, dtype: timedelta64[ns]"
      ]
     },
     "execution_count": 49,
     "metadata": {},
     "output_type": "execute_result"
    }
   ],
   "source": [
    "diferencaDias = base['diferencaDias'] = base['Data'] - base['Data'].min()\n",
    "diferencaDias.tail()"
   ]
  },
  {
   "cell_type": "code",
   "execution_count": 50,
   "metadata": {},
   "outputs": [
    {
     "data": {
      "text/plain": [
       "60"
      ]
     },
     "execution_count": 50,
     "metadata": {},
     "output_type": "execute_result"
    }
   ],
   "source": [
    "last_data"
   ]
  },
  {
   "cell_type": "code",
   "execution_count": 51,
   "metadata": {},
   "outputs": [],
   "source": [
    "diasCorridos = a.loc[59:].astype('timedelta64[D]') #atualizar com índice da última data = last_data"
   ]
  },
  {
   "cell_type": "code",
   "execution_count": 52,
   "metadata": {},
   "outputs": [
    {
     "data": {
      "text/plain": [
       "59    88.0\n",
       "Name: Data, dtype: float64"
      ]
     },
     "execution_count": 52,
     "metadata": {},
     "output_type": "execute_result"
    }
   ],
   "source": [
    "diasCorridos"
   ]
  },
  {
   "cell_type": "code",
   "execution_count": 53,
   "metadata": {},
   "outputs": [
    {
     "data": {
      "text/plain": [
       "59    0.681818\n",
       "Name: Data, dtype: float64"
      ]
     },
     "execution_count": 53,
     "metadata": {},
     "output_type": "execute_result"
    }
   ],
   "source": [
    "ObitosDia = last_data/diasCorridos\n",
    "ObitosDia"
   ]
  },
  {
   "cell_type": "markdown",
   "metadata": {},
   "source": [
    "# Principais Conclusões\n",
    "\n",
    "1 A cada dois dias uma pessoa vem a óbito\n",
    "\n",
    "2 Predominância do sexo masculino\n",
    "\n",
    "3 O viés é ascendente"
   ]
  }
 ],
 "metadata": {
  "kernelspec": {
   "display_name": "Python 3.7.3 64-bit ('base': conda)",
   "language": "python",
   "name": "python37364bitbasecondac3187a33bb6b4b858aad71feb598639b"
  },
  "language_info": {
   "codemirror_mode": {
    "name": "ipython",
    "version": 3
   },
   "file_extension": ".py",
   "mimetype": "text/x-python",
   "name": "python",
   "nbconvert_exporter": "python",
   "pygments_lexer": "ipython3",
   "version": "3.7.3"
  }
 },
 "nbformat": 4,
 "nbformat_minor": 2
}
