{
 "cells": [
  {
   "cell_type": "markdown",
   "metadata": {},
   "source": [
    "# Análise dos casos de óbito de Covid-19 em Indaiatuba"
   ]
  },
  {
   "cell_type": "code",
   "execution_count": 1,
   "metadata": {},
   "outputs": [],
   "source": [
    "import pandas as pd\n",
    "import seaborn as sns\n",
    "import matplotlib.pyplot as plt\n",
    "import numpy as np\n",
    "from pandas_datareader import data as wb\n",
    "from scipy.stats import norm"
   ]
  },
  {
   "cell_type": "code",
   "execution_count": 2,
   "metadata": {},
   "outputs": [],
   "source": [
    "base = pd.read_excel(\"CovidIndaiatuba.xlsx\")"
   ]
  },
  {
   "cell_type": "code",
   "execution_count": 3,
   "metadata": {},
   "outputs": [
    {
     "data": {
      "text/html": [
       "<div>\n",
       "<style scoped>\n",
       "    .dataframe tbody tr th:only-of-type {\n",
       "        vertical-align: middle;\n",
       "    }\n",
       "\n",
       "    .dataframe tbody tr th {\n",
       "        vertical-align: top;\n",
       "    }\n",
       "\n",
       "    .dataframe thead th {\n",
       "        text-align: right;\n",
       "    }\n",
       "</style>\n",
       "<table border=\"1\" class=\"dataframe\">\n",
       "  <thead>\n",
       "    <tr style=\"text-align: right;\">\n",
       "      <th></th>\n",
       "      <th>Obitos</th>\n",
       "      <th>Data</th>\n",
       "      <th>Sexo</th>\n",
       "      <th>Idade</th>\n",
       "      <th>anos</th>\n",
       "      <th>Comorbidade</th>\n",
       "    </tr>\n",
       "  </thead>\n",
       "  <tbody>\n",
       "    <tr>\n",
       "      <th>0</th>\n",
       "      <td>1</td>\n",
       "      <td>2020-03-31</td>\n",
       "      <td>Homem</td>\n",
       "      <td>64</td>\n",
       "      <td>anos</td>\n",
       "      <td>Com comorbidades</td>\n",
       "    </tr>\n",
       "    <tr>\n",
       "      <th>1</th>\n",
       "      <td>2</td>\n",
       "      <td>2020-04-13</td>\n",
       "      <td>Mulher</td>\n",
       "      <td>50</td>\n",
       "      <td>anos</td>\n",
       "      <td>Com comorbidades</td>\n",
       "    </tr>\n",
       "    <tr>\n",
       "      <th>2</th>\n",
       "      <td>3</td>\n",
       "      <td>2020-04-18</td>\n",
       "      <td>Mulher</td>\n",
       "      <td>52</td>\n",
       "      <td>anos</td>\n",
       "      <td>Sem comorbidade</td>\n",
       "    </tr>\n",
       "    <tr>\n",
       "      <th>3</th>\n",
       "      <td>4</td>\n",
       "      <td>2020-04-21</td>\n",
       "      <td>Homem</td>\n",
       "      <td>64</td>\n",
       "      <td>anos</td>\n",
       "      <td>Com comorbidades</td>\n",
       "    </tr>\n",
       "    <tr>\n",
       "      <th>4</th>\n",
       "      <td>5</td>\n",
       "      <td>2020-04-24</td>\n",
       "      <td>Mulher</td>\n",
       "      <td>61</td>\n",
       "      <td>anos</td>\n",
       "      <td>Com comorbidades</td>\n",
       "    </tr>\n",
       "  </tbody>\n",
       "</table>\n",
       "</div>"
      ],
      "text/plain": [
       "   Obitos       Data    Sexo  Idade  anos       Comorbidade\n",
       "0       1 2020-03-31   Homem     64  anos  Com comorbidades\n",
       "1       2 2020-04-13  Mulher     50  anos  Com comorbidades\n",
       "2       3 2020-04-18  Mulher     52  anos   Sem comorbidade\n",
       "3       4 2020-04-21   Homem     64  anos  Com comorbidades\n",
       "4       5 2020-04-24  Mulher     61  anos  Com comorbidades"
      ]
     },
     "execution_count": 3,
     "metadata": {},
     "output_type": "execute_result"
    }
   ],
   "source": [
    "base.head()"
   ]
  },
  {
   "cell_type": "code",
   "execution_count": 4,
   "metadata": {},
   "outputs": [
    {
     "data": {
      "text/html": [
       "<div>\n",
       "<style scoped>\n",
       "    .dataframe tbody tr th:only-of-type {\n",
       "        vertical-align: middle;\n",
       "    }\n",
       "\n",
       "    .dataframe tbody tr th {\n",
       "        vertical-align: top;\n",
       "    }\n",
       "\n",
       "    .dataframe thead th {\n",
       "        text-align: right;\n",
       "    }\n",
       "</style>\n",
       "<table border=\"1\" class=\"dataframe\">\n",
       "  <thead>\n",
       "    <tr style=\"text-align: right;\">\n",
       "      <th></th>\n",
       "      <th>Obitos</th>\n",
       "      <th>Data</th>\n",
       "      <th>Sexo</th>\n",
       "      <th>Idade</th>\n",
       "      <th>anos</th>\n",
       "      <th>Comorbidade</th>\n",
       "      <th>MesMorte</th>\n",
       "      <th>diferencaDias</th>\n",
       "      <th>MédiaMovel</th>\n",
       "    </tr>\n",
       "  </thead>\n",
       "  <tbody>\n",
       "    <tr>\n",
       "      <th>0</th>\n",
       "      <td>1</td>\n",
       "      <td>2020-03-31</td>\n",
       "      <td>Homem</td>\n",
       "      <td>64</td>\n",
       "      <td>anos</td>\n",
       "      <td>Com comorbidades</td>\n",
       "      <td>3</td>\n",
       "      <td>0 days</td>\n",
       "      <td>NaN</td>\n",
       "    </tr>\n",
       "    <tr>\n",
       "      <th>1</th>\n",
       "      <td>2</td>\n",
       "      <td>2020-04-13</td>\n",
       "      <td>Mulher</td>\n",
       "      <td>50</td>\n",
       "      <td>anos</td>\n",
       "      <td>Com comorbidades</td>\n",
       "      <td>4</td>\n",
       "      <td>13 days</td>\n",
       "      <td>1.5</td>\n",
       "    </tr>\n",
       "    <tr>\n",
       "      <th>2</th>\n",
       "      <td>3</td>\n",
       "      <td>2020-04-18</td>\n",
       "      <td>Mulher</td>\n",
       "      <td>52</td>\n",
       "      <td>anos</td>\n",
       "      <td>Sem comorbidade</td>\n",
       "      <td>4</td>\n",
       "      <td>18 days</td>\n",
       "      <td>2.5</td>\n",
       "    </tr>\n",
       "    <tr>\n",
       "      <th>3</th>\n",
       "      <td>4</td>\n",
       "      <td>2020-04-21</td>\n",
       "      <td>Homem</td>\n",
       "      <td>64</td>\n",
       "      <td>anos</td>\n",
       "      <td>Com comorbidades</td>\n",
       "      <td>4</td>\n",
       "      <td>21 days</td>\n",
       "      <td>3.5</td>\n",
       "    </tr>\n",
       "    <tr>\n",
       "      <th>4</th>\n",
       "      <td>5</td>\n",
       "      <td>2020-04-24</td>\n",
       "      <td>Mulher</td>\n",
       "      <td>61</td>\n",
       "      <td>anos</td>\n",
       "      <td>Com comorbidades</td>\n",
       "      <td>4</td>\n",
       "      <td>24 days</td>\n",
       "      <td>4.5</td>\n",
       "    </tr>\n",
       "    <tr>\n",
       "      <th>5</th>\n",
       "      <td>6</td>\n",
       "      <td>2020-05-02</td>\n",
       "      <td>Mulher</td>\n",
       "      <td>83</td>\n",
       "      <td>anos</td>\n",
       "      <td>Com comorbidades</td>\n",
       "      <td>5</td>\n",
       "      <td>32 days</td>\n",
       "      <td>5.5</td>\n",
       "    </tr>\n",
       "    <tr>\n",
       "      <th>6</th>\n",
       "      <td>7</td>\n",
       "      <td>2020-05-06</td>\n",
       "      <td>Homem</td>\n",
       "      <td>38</td>\n",
       "      <td>anos</td>\n",
       "      <td>Com comorbidades</td>\n",
       "      <td>5</td>\n",
       "      <td>36 days</td>\n",
       "      <td>6.5</td>\n",
       "    </tr>\n",
       "    <tr>\n",
       "      <th>7</th>\n",
       "      <td>8</td>\n",
       "      <td>2020-05-06</td>\n",
       "      <td>Homem</td>\n",
       "      <td>76</td>\n",
       "      <td>anos</td>\n",
       "      <td>Com comorbidades</td>\n",
       "      <td>5</td>\n",
       "      <td>36 days</td>\n",
       "      <td>7.5</td>\n",
       "    </tr>\n",
       "    <tr>\n",
       "      <th>8</th>\n",
       "      <td>9</td>\n",
       "      <td>2020-05-07</td>\n",
       "      <td>Homem</td>\n",
       "      <td>30</td>\n",
       "      <td>anos</td>\n",
       "      <td>Com comorbidades</td>\n",
       "      <td>5</td>\n",
       "      <td>37 days</td>\n",
       "      <td>8.5</td>\n",
       "    </tr>\n",
       "    <tr>\n",
       "      <th>9</th>\n",
       "      <td>10</td>\n",
       "      <td>2020-05-07</td>\n",
       "      <td>Homem</td>\n",
       "      <td>55</td>\n",
       "      <td>anos</td>\n",
       "      <td>Sem comorbidade</td>\n",
       "      <td>5</td>\n",
       "      <td>37 days</td>\n",
       "      <td>9.5</td>\n",
       "    </tr>\n",
       "    <tr>\n",
       "      <th>10</th>\n",
       "      <td>11</td>\n",
       "      <td>2020-05-10</td>\n",
       "      <td>Homem</td>\n",
       "      <td>74</td>\n",
       "      <td>anos</td>\n",
       "      <td>Com comorbidades</td>\n",
       "      <td>5</td>\n",
       "      <td>40 days</td>\n",
       "      <td>10.5</td>\n",
       "    </tr>\n",
       "    <tr>\n",
       "      <th>11</th>\n",
       "      <td>12</td>\n",
       "      <td>2020-05-12</td>\n",
       "      <td>Homem</td>\n",
       "      <td>75</td>\n",
       "      <td>anos</td>\n",
       "      <td>Sem comorbidade</td>\n",
       "      <td>5</td>\n",
       "      <td>42 days</td>\n",
       "      <td>11.5</td>\n",
       "    </tr>\n",
       "    <tr>\n",
       "      <th>12</th>\n",
       "      <td>13</td>\n",
       "      <td>2020-05-15</td>\n",
       "      <td>Mulher</td>\n",
       "      <td>77</td>\n",
       "      <td>anos</td>\n",
       "      <td>Com comorbidades</td>\n",
       "      <td>5</td>\n",
       "      <td>45 days</td>\n",
       "      <td>12.5</td>\n",
       "    </tr>\n",
       "    <tr>\n",
       "      <th>13</th>\n",
       "      <td>14</td>\n",
       "      <td>2020-05-17</td>\n",
       "      <td>Homem</td>\n",
       "      <td>68</td>\n",
       "      <td>anos</td>\n",
       "      <td>Com comorbidades</td>\n",
       "      <td>5</td>\n",
       "      <td>47 days</td>\n",
       "      <td>13.5</td>\n",
       "    </tr>\n",
       "    <tr>\n",
       "      <th>14</th>\n",
       "      <td>15</td>\n",
       "      <td>2020-05-18</td>\n",
       "      <td>Homem</td>\n",
       "      <td>90</td>\n",
       "      <td>anos</td>\n",
       "      <td>Com comorbidades</td>\n",
       "      <td>5</td>\n",
       "      <td>48 days</td>\n",
       "      <td>14.5</td>\n",
       "    </tr>\n",
       "    <tr>\n",
       "      <th>15</th>\n",
       "      <td>16</td>\n",
       "      <td>2020-05-21</td>\n",
       "      <td>Homem</td>\n",
       "      <td>71</td>\n",
       "      <td>anos</td>\n",
       "      <td>Com comorbidades</td>\n",
       "      <td>5</td>\n",
       "      <td>51 days</td>\n",
       "      <td>15.5</td>\n",
       "    </tr>\n",
       "    <tr>\n",
       "      <th>16</th>\n",
       "      <td>17</td>\n",
       "      <td>2020-05-23</td>\n",
       "      <td>Mulher</td>\n",
       "      <td>58</td>\n",
       "      <td>anos</td>\n",
       "      <td>Com comorbidades</td>\n",
       "      <td>5</td>\n",
       "      <td>53 days</td>\n",
       "      <td>16.5</td>\n",
       "    </tr>\n",
       "    <tr>\n",
       "      <th>17</th>\n",
       "      <td>18</td>\n",
       "      <td>2020-05-23</td>\n",
       "      <td>Homem</td>\n",
       "      <td>67</td>\n",
       "      <td>anos</td>\n",
       "      <td>Com comorbidades</td>\n",
       "      <td>5</td>\n",
       "      <td>53 days</td>\n",
       "      <td>17.5</td>\n",
       "    </tr>\n",
       "    <tr>\n",
       "      <th>18</th>\n",
       "      <td>19</td>\n",
       "      <td>2020-05-24</td>\n",
       "      <td>Mulher</td>\n",
       "      <td>71</td>\n",
       "      <td>anos</td>\n",
       "      <td>Com comorbidades</td>\n",
       "      <td>5</td>\n",
       "      <td>54 days</td>\n",
       "      <td>18.5</td>\n",
       "    </tr>\n",
       "    <tr>\n",
       "      <th>19</th>\n",
       "      <td>20</td>\n",
       "      <td>2020-05-24</td>\n",
       "      <td>Homem</td>\n",
       "      <td>88</td>\n",
       "      <td>anos</td>\n",
       "      <td>Com comorbidades</td>\n",
       "      <td>5</td>\n",
       "      <td>54 days</td>\n",
       "      <td>19.5</td>\n",
       "    </tr>\n",
       "    <tr>\n",
       "      <th>20</th>\n",
       "      <td>21</td>\n",
       "      <td>2020-05-24</td>\n",
       "      <td>Homem</td>\n",
       "      <td>62</td>\n",
       "      <td>anos</td>\n",
       "      <td>Com comorbidades</td>\n",
       "      <td>5</td>\n",
       "      <td>54 days</td>\n",
       "      <td>20.5</td>\n",
       "    </tr>\n",
       "    <tr>\n",
       "      <th>21</th>\n",
       "      <td>22</td>\n",
       "      <td>2020-05-26</td>\n",
       "      <td>Homem</td>\n",
       "      <td>76</td>\n",
       "      <td>anos</td>\n",
       "      <td>Com comorbidades</td>\n",
       "      <td>5</td>\n",
       "      <td>56 days</td>\n",
       "      <td>21.5</td>\n",
       "    </tr>\n",
       "    <tr>\n",
       "      <th>22</th>\n",
       "      <td>23</td>\n",
       "      <td>2020-05-27</td>\n",
       "      <td>Homem</td>\n",
       "      <td>69</td>\n",
       "      <td>anos</td>\n",
       "      <td>Sem comorbidade</td>\n",
       "      <td>5</td>\n",
       "      <td>57 days</td>\n",
       "      <td>22.5</td>\n",
       "    </tr>\n",
       "    <tr>\n",
       "      <th>23</th>\n",
       "      <td>24</td>\n",
       "      <td>2020-05-28</td>\n",
       "      <td>Mulher</td>\n",
       "      <td>67</td>\n",
       "      <td>anos</td>\n",
       "      <td>Com comorbidades</td>\n",
       "      <td>5</td>\n",
       "      <td>58 days</td>\n",
       "      <td>23.5</td>\n",
       "    </tr>\n",
       "    <tr>\n",
       "      <th>24</th>\n",
       "      <td>25</td>\n",
       "      <td>2020-05-28</td>\n",
       "      <td>Mulher</td>\n",
       "      <td>67</td>\n",
       "      <td>anos</td>\n",
       "      <td>Com comorbidades</td>\n",
       "      <td>5</td>\n",
       "      <td>58 days</td>\n",
       "      <td>24.5</td>\n",
       "    </tr>\n",
       "    <tr>\n",
       "      <th>25</th>\n",
       "      <td>26</td>\n",
       "      <td>2020-05-30</td>\n",
       "      <td>Homem</td>\n",
       "      <td>70</td>\n",
       "      <td>anos</td>\n",
       "      <td>Com comorbidades</td>\n",
       "      <td>5</td>\n",
       "      <td>60 days</td>\n",
       "      <td>25.5</td>\n",
       "    </tr>\n",
       "    <tr>\n",
       "      <th>26</th>\n",
       "      <td>27</td>\n",
       "      <td>2020-05-31</td>\n",
       "      <td>Mulher</td>\n",
       "      <td>86</td>\n",
       "      <td>anos</td>\n",
       "      <td>Com comorbidades</td>\n",
       "      <td>5</td>\n",
       "      <td>61 days</td>\n",
       "      <td>26.5</td>\n",
       "    </tr>\n",
       "    <tr>\n",
       "      <th>27</th>\n",
       "      <td>28</td>\n",
       "      <td>2020-06-03</td>\n",
       "      <td>Mulher</td>\n",
       "      <td>86</td>\n",
       "      <td>anos</td>\n",
       "      <td>Sem comorbidade</td>\n",
       "      <td>6</td>\n",
       "      <td>64 days</td>\n",
       "      <td>27.5</td>\n",
       "    </tr>\n",
       "    <tr>\n",
       "      <th>28</th>\n",
       "      <td>29</td>\n",
       "      <td>2020-06-05</td>\n",
       "      <td>Homem</td>\n",
       "      <td>46</td>\n",
       "      <td>anos</td>\n",
       "      <td>Sem comorbidade</td>\n",
       "      <td>6</td>\n",
       "      <td>66 days</td>\n",
       "      <td>28.5</td>\n",
       "    </tr>\n",
       "    <tr>\n",
       "      <th>29</th>\n",
       "      <td>30</td>\n",
       "      <td>2020-06-06</td>\n",
       "      <td>Homem</td>\n",
       "      <td>78</td>\n",
       "      <td>anos</td>\n",
       "      <td>Com comorbidades</td>\n",
       "      <td>6</td>\n",
       "      <td>67 days</td>\n",
       "      <td>29.5</td>\n",
       "    </tr>\n",
       "    <tr>\n",
       "      <th>30</th>\n",
       "      <td>31</td>\n",
       "      <td>2020-06-07</td>\n",
       "      <td>Homem</td>\n",
       "      <td>42</td>\n",
       "      <td>anos</td>\n",
       "      <td>Sem comorbidade</td>\n",
       "      <td>6</td>\n",
       "      <td>68 days</td>\n",
       "      <td>30.5</td>\n",
       "    </tr>\n",
       "    <tr>\n",
       "      <th>31</th>\n",
       "      <td>32</td>\n",
       "      <td>2020-06-07</td>\n",
       "      <td>Homem</td>\n",
       "      <td>86</td>\n",
       "      <td>anos</td>\n",
       "      <td>Com comorbidades</td>\n",
       "      <td>6</td>\n",
       "      <td>68 days</td>\n",
       "      <td>31.5</td>\n",
       "    </tr>\n",
       "    <tr>\n",
       "      <th>32</th>\n",
       "      <td>33</td>\n",
       "      <td>2020-06-07</td>\n",
       "      <td>Mulher</td>\n",
       "      <td>55</td>\n",
       "      <td>anos</td>\n",
       "      <td>Com comorbidades</td>\n",
       "      <td>6</td>\n",
       "      <td>68 days</td>\n",
       "      <td>32.5</td>\n",
       "    </tr>\n",
       "    <tr>\n",
       "      <th>33</th>\n",
       "      <td>34</td>\n",
       "      <td>2020-06-07</td>\n",
       "      <td>Mulher</td>\n",
       "      <td>61</td>\n",
       "      <td>anos</td>\n",
       "      <td>Com comorbidades</td>\n",
       "      <td>6</td>\n",
       "      <td>68 days</td>\n",
       "      <td>33.5</td>\n",
       "    </tr>\n",
       "    <tr>\n",
       "      <th>34</th>\n",
       "      <td>35</td>\n",
       "      <td>2020-06-08</td>\n",
       "      <td>Homem</td>\n",
       "      <td>69</td>\n",
       "      <td>anos</td>\n",
       "      <td>Com comorbidades</td>\n",
       "      <td>6</td>\n",
       "      <td>69 days</td>\n",
       "      <td>34.5</td>\n",
       "    </tr>\n",
       "    <tr>\n",
       "      <th>35</th>\n",
       "      <td>36</td>\n",
       "      <td>2020-06-08</td>\n",
       "      <td>Mulher</td>\n",
       "      <td>52</td>\n",
       "      <td>anos</td>\n",
       "      <td>Com comorbidades</td>\n",
       "      <td>6</td>\n",
       "      <td>69 days</td>\n",
       "      <td>35.5</td>\n",
       "    </tr>\n",
       "    <tr>\n",
       "      <th>36</th>\n",
       "      <td>37</td>\n",
       "      <td>2020-06-08</td>\n",
       "      <td>Mulher</td>\n",
       "      <td>48</td>\n",
       "      <td>anos</td>\n",
       "      <td>Com comorbidades</td>\n",
       "      <td>6</td>\n",
       "      <td>69 days</td>\n",
       "      <td>36.5</td>\n",
       "    </tr>\n",
       "    <tr>\n",
       "      <th>37</th>\n",
       "      <td>38</td>\n",
       "      <td>2020-06-09</td>\n",
       "      <td>Mulher</td>\n",
       "      <td>67</td>\n",
       "      <td>anos</td>\n",
       "      <td>Com comorbidades</td>\n",
       "      <td>6</td>\n",
       "      <td>70 days</td>\n",
       "      <td>37.5</td>\n",
       "    </tr>\n",
       "    <tr>\n",
       "      <th>38</th>\n",
       "      <td>39</td>\n",
       "      <td>2020-06-10</td>\n",
       "      <td>Mulher</td>\n",
       "      <td>71</td>\n",
       "      <td>anos</td>\n",
       "      <td>Com comorbidades</td>\n",
       "      <td>6</td>\n",
       "      <td>71 days</td>\n",
       "      <td>38.5</td>\n",
       "    </tr>\n",
       "    <tr>\n",
       "      <th>39</th>\n",
       "      <td>40</td>\n",
       "      <td>2020-06-12</td>\n",
       "      <td>Mulher</td>\n",
       "      <td>40</td>\n",
       "      <td>anos</td>\n",
       "      <td>Sem comorbidade</td>\n",
       "      <td>6</td>\n",
       "      <td>73 days</td>\n",
       "      <td>39.5</td>\n",
       "    </tr>\n",
       "    <tr>\n",
       "      <th>40</th>\n",
       "      <td>41</td>\n",
       "      <td>2020-06-12</td>\n",
       "      <td>Homem</td>\n",
       "      <td>86</td>\n",
       "      <td>anos</td>\n",
       "      <td>Sem comorbidade</td>\n",
       "      <td>6</td>\n",
       "      <td>73 days</td>\n",
       "      <td>40.5</td>\n",
       "    </tr>\n",
       "    <tr>\n",
       "      <th>41</th>\n",
       "      <td>42</td>\n",
       "      <td>2020-06-13</td>\n",
       "      <td>Homem</td>\n",
       "      <td>91</td>\n",
       "      <td>anos</td>\n",
       "      <td>Com comorbidades</td>\n",
       "      <td>6</td>\n",
       "      <td>74 days</td>\n",
       "      <td>41.5</td>\n",
       "    </tr>\n",
       "    <tr>\n",
       "      <th>42</th>\n",
       "      <td>43</td>\n",
       "      <td>2020-06-14</td>\n",
       "      <td>Mulher</td>\n",
       "      <td>66</td>\n",
       "      <td>anos</td>\n",
       "      <td>Com comorbidades</td>\n",
       "      <td>6</td>\n",
       "      <td>75 days</td>\n",
       "      <td>42.5</td>\n",
       "    </tr>\n",
       "    <tr>\n",
       "      <th>43</th>\n",
       "      <td>44</td>\n",
       "      <td>2020-06-14</td>\n",
       "      <td>Homem</td>\n",
       "      <td>44</td>\n",
       "      <td>anos</td>\n",
       "      <td>Sem comorbidade</td>\n",
       "      <td>6</td>\n",
       "      <td>75 days</td>\n",
       "      <td>43.5</td>\n",
       "    </tr>\n",
       "    <tr>\n",
       "      <th>44</th>\n",
       "      <td>45</td>\n",
       "      <td>2020-06-15</td>\n",
       "      <td>Mulher</td>\n",
       "      <td>58</td>\n",
       "      <td>anos</td>\n",
       "      <td>Com comorbidades</td>\n",
       "      <td>6</td>\n",
       "      <td>76 days</td>\n",
       "      <td>44.5</td>\n",
       "    </tr>\n",
       "    <tr>\n",
       "      <th>45</th>\n",
       "      <td>46</td>\n",
       "      <td>2020-06-17</td>\n",
       "      <td>Homem</td>\n",
       "      <td>52</td>\n",
       "      <td>anos</td>\n",
       "      <td>Com comorbidades</td>\n",
       "      <td>6</td>\n",
       "      <td>78 days</td>\n",
       "      <td>45.5</td>\n",
       "    </tr>\n",
       "    <tr>\n",
       "      <th>46</th>\n",
       "      <td>47</td>\n",
       "      <td>2020-06-17</td>\n",
       "      <td>Homem</td>\n",
       "      <td>53</td>\n",
       "      <td>anos</td>\n",
       "      <td>Com comorbidades</td>\n",
       "      <td>6</td>\n",
       "      <td>78 days</td>\n",
       "      <td>46.5</td>\n",
       "    </tr>\n",
       "    <tr>\n",
       "      <th>47</th>\n",
       "      <td>48</td>\n",
       "      <td>2020-06-18</td>\n",
       "      <td>Mulher</td>\n",
       "      <td>87</td>\n",
       "      <td>anos</td>\n",
       "      <td>Sem comorbidade</td>\n",
       "      <td>6</td>\n",
       "      <td>79 days</td>\n",
       "      <td>47.5</td>\n",
       "    </tr>\n",
       "    <tr>\n",
       "      <th>48</th>\n",
       "      <td>49</td>\n",
       "      <td>2020-06-19</td>\n",
       "      <td>Homem</td>\n",
       "      <td>75</td>\n",
       "      <td>anos</td>\n",
       "      <td>Com comorbidades</td>\n",
       "      <td>6</td>\n",
       "      <td>80 days</td>\n",
       "      <td>48.5</td>\n",
       "    </tr>\n",
       "    <tr>\n",
       "      <th>49</th>\n",
       "      <td>50</td>\n",
       "      <td>2020-06-19</td>\n",
       "      <td>Mulher</td>\n",
       "      <td>62</td>\n",
       "      <td>anos</td>\n",
       "      <td>Com comorbidades</td>\n",
       "      <td>6</td>\n",
       "      <td>80 days</td>\n",
       "      <td>49.5</td>\n",
       "    </tr>\n",
       "    <tr>\n",
       "      <th>50</th>\n",
       "      <td>51</td>\n",
       "      <td>2020-06-20</td>\n",
       "      <td>Homem</td>\n",
       "      <td>41</td>\n",
       "      <td>anos</td>\n",
       "      <td>Sem comorbidade</td>\n",
       "      <td>6</td>\n",
       "      <td>81 days</td>\n",
       "      <td>50.5</td>\n",
       "    </tr>\n",
       "    <tr>\n",
       "      <th>51</th>\n",
       "      <td>52</td>\n",
       "      <td>2020-06-21</td>\n",
       "      <td>Homem</td>\n",
       "      <td>82</td>\n",
       "      <td>anos</td>\n",
       "      <td>Com comorbidades</td>\n",
       "      <td>6</td>\n",
       "      <td>82 days</td>\n",
       "      <td>51.5</td>\n",
       "    </tr>\n",
       "    <tr>\n",
       "      <th>52</th>\n",
       "      <td>53</td>\n",
       "      <td>2020-06-22</td>\n",
       "      <td>Homem</td>\n",
       "      <td>65</td>\n",
       "      <td>anos</td>\n",
       "      <td>Com comorbidades</td>\n",
       "      <td>6</td>\n",
       "      <td>83 days</td>\n",
       "      <td>52.5</td>\n",
       "    </tr>\n",
       "    <tr>\n",
       "      <th>53</th>\n",
       "      <td>54</td>\n",
       "      <td>2020-06-22</td>\n",
       "      <td>Homem</td>\n",
       "      <td>72</td>\n",
       "      <td>anos</td>\n",
       "      <td>Com comorbidades</td>\n",
       "      <td>6</td>\n",
       "      <td>83 days</td>\n",
       "      <td>53.5</td>\n",
       "    </tr>\n",
       "    <tr>\n",
       "      <th>54</th>\n",
       "      <td>55</td>\n",
       "      <td>2020-06-24</td>\n",
       "      <td>Mulher</td>\n",
       "      <td>56</td>\n",
       "      <td>anos</td>\n",
       "      <td>Sem comorbidade</td>\n",
       "      <td>6</td>\n",
       "      <td>85 days</td>\n",
       "      <td>54.5</td>\n",
       "    </tr>\n",
       "    <tr>\n",
       "      <th>55</th>\n",
       "      <td>56</td>\n",
       "      <td>2020-06-24</td>\n",
       "      <td>Homem</td>\n",
       "      <td>54</td>\n",
       "      <td>anos</td>\n",
       "      <td>Sem comorbidade</td>\n",
       "      <td>6</td>\n",
       "      <td>85 days</td>\n",
       "      <td>55.5</td>\n",
       "    </tr>\n",
       "    <tr>\n",
       "      <th>56</th>\n",
       "      <td>57</td>\n",
       "      <td>2020-06-25</td>\n",
       "      <td>Homem</td>\n",
       "      <td>65</td>\n",
       "      <td>anos</td>\n",
       "      <td>Com comorbidades</td>\n",
       "      <td>6</td>\n",
       "      <td>86 days</td>\n",
       "      <td>56.5</td>\n",
       "    </tr>\n",
       "  </tbody>\n",
       "</table>\n",
       "</div>"
      ],
      "text/plain": [
       "    Obitos       Data    Sexo  Idade  anos       Comorbidade  MesMorte  \\\n",
       "0        1 2020-03-31   Homem     64  anos  Com comorbidades         3   \n",
       "1        2 2020-04-13  Mulher     50  anos  Com comorbidades         4   \n",
       "2        3 2020-04-18  Mulher     52  anos   Sem comorbidade         4   \n",
       "3        4 2020-04-21   Homem     64  anos  Com comorbidades         4   \n",
       "4        5 2020-04-24  Mulher     61  anos  Com comorbidades         4   \n",
       "5        6 2020-05-02  Mulher     83  anos  Com comorbidades         5   \n",
       "6        7 2020-05-06   Homem     38  anos  Com comorbidades         5   \n",
       "7        8 2020-05-06   Homem     76  anos  Com comorbidades         5   \n",
       "8        9 2020-05-07   Homem     30  anos  Com comorbidades         5   \n",
       "9       10 2020-05-07   Homem     55  anos   Sem comorbidade         5   \n",
       "10      11 2020-05-10   Homem     74  anos  Com comorbidades         5   \n",
       "11      12 2020-05-12   Homem     75  anos   Sem comorbidade         5   \n",
       "12      13 2020-05-15  Mulher     77  anos  Com comorbidades         5   \n",
       "13      14 2020-05-17   Homem     68  anos  Com comorbidades         5   \n",
       "14      15 2020-05-18   Homem     90  anos  Com comorbidades         5   \n",
       "15      16 2020-05-21   Homem     71  anos  Com comorbidades         5   \n",
       "16      17 2020-05-23  Mulher     58  anos  Com comorbidades         5   \n",
       "17      18 2020-05-23   Homem     67  anos  Com comorbidades         5   \n",
       "18      19 2020-05-24  Mulher     71  anos  Com comorbidades         5   \n",
       "19      20 2020-05-24   Homem     88  anos  Com comorbidades         5   \n",
       "20      21 2020-05-24   Homem     62  anos  Com comorbidades         5   \n",
       "21      22 2020-05-26   Homem     76  anos  Com comorbidades         5   \n",
       "22      23 2020-05-27   Homem     69  anos   Sem comorbidade         5   \n",
       "23      24 2020-05-28  Mulher     67  anos  Com comorbidades         5   \n",
       "24      25 2020-05-28  Mulher     67  anos  Com comorbidades         5   \n",
       "25      26 2020-05-30   Homem     70  anos  Com comorbidades         5   \n",
       "26      27 2020-05-31  Mulher     86  anos  Com comorbidades         5   \n",
       "27      28 2020-06-03  Mulher     86  anos   Sem comorbidade         6   \n",
       "28      29 2020-06-05   Homem     46  anos   Sem comorbidade         6   \n",
       "29      30 2020-06-06   Homem     78  anos  Com comorbidades         6   \n",
       "30      31 2020-06-07   Homem     42  anos   Sem comorbidade         6   \n",
       "31      32 2020-06-07   Homem     86  anos  Com comorbidades         6   \n",
       "32      33 2020-06-07  Mulher     55  anos  Com comorbidades         6   \n",
       "33      34 2020-06-07  Mulher     61  anos  Com comorbidades         6   \n",
       "34      35 2020-06-08   Homem     69  anos  Com comorbidades         6   \n",
       "35      36 2020-06-08  Mulher     52  anos  Com comorbidades         6   \n",
       "36      37 2020-06-08  Mulher     48  anos  Com comorbidades         6   \n",
       "37      38 2020-06-09  Mulher     67  anos  Com comorbidades         6   \n",
       "38      39 2020-06-10  Mulher     71  anos  Com comorbidades         6   \n",
       "39      40 2020-06-12  Mulher     40  anos   Sem comorbidade         6   \n",
       "40      41 2020-06-12   Homem     86  anos   Sem comorbidade         6   \n",
       "41      42 2020-06-13   Homem     91  anos  Com comorbidades         6   \n",
       "42      43 2020-06-14  Mulher     66  anos  Com comorbidades         6   \n",
       "43      44 2020-06-14   Homem     44  anos   Sem comorbidade         6   \n",
       "44      45 2020-06-15  Mulher     58  anos  Com comorbidades         6   \n",
       "45      46 2020-06-17   Homem     52  anos  Com comorbidades         6   \n",
       "46      47 2020-06-17   Homem     53  anos  Com comorbidades         6   \n",
       "47      48 2020-06-18  Mulher     87  anos   Sem comorbidade         6   \n",
       "48      49 2020-06-19   Homem     75  anos  Com comorbidades         6   \n",
       "49      50 2020-06-19  Mulher     62  anos  Com comorbidades         6   \n",
       "50      51 2020-06-20   Homem     41  anos   Sem comorbidade         6   \n",
       "51      52 2020-06-21   Homem     82  anos  Com comorbidades         6   \n",
       "52      53 2020-06-22   Homem     65  anos  Com comorbidades         6   \n",
       "53      54 2020-06-22   Homem     72  anos  Com comorbidades         6   \n",
       "54      55 2020-06-24  Mulher     56  anos   Sem comorbidade         6   \n",
       "55      56 2020-06-24   Homem     54  anos   Sem comorbidade         6   \n",
       "56      57 2020-06-25   Homem     65  anos  Com comorbidades         6   \n",
       "\n",
       "   diferencaDias  MédiaMovel  \n",
       "0         0 days         NaN  \n",
       "1        13 days         1.5  \n",
       "2        18 days         2.5  \n",
       "3        21 days         3.5  \n",
       "4        24 days         4.5  \n",
       "5        32 days         5.5  \n",
       "6        36 days         6.5  \n",
       "7        36 days         7.5  \n",
       "8        37 days         8.5  \n",
       "9        37 days         9.5  \n",
       "10       40 days        10.5  \n",
       "11       42 days        11.5  \n",
       "12       45 days        12.5  \n",
       "13       47 days        13.5  \n",
       "14       48 days        14.5  \n",
       "15       51 days        15.5  \n",
       "16       53 days        16.5  \n",
       "17       53 days        17.5  \n",
       "18       54 days        18.5  \n",
       "19       54 days        19.5  \n",
       "20       54 days        20.5  \n",
       "21       56 days        21.5  \n",
       "22       57 days        22.5  \n",
       "23       58 days        23.5  \n",
       "24       58 days        24.5  \n",
       "25       60 days        25.5  \n",
       "26       61 days        26.5  \n",
       "27       64 days        27.5  \n",
       "28       66 days        28.5  \n",
       "29       67 days        29.5  \n",
       "30       68 days        30.5  \n",
       "31       68 days        31.5  \n",
       "32       68 days        32.5  \n",
       "33       68 days        33.5  \n",
       "34       69 days        34.5  \n",
       "35       69 days        35.5  \n",
       "36       69 days        36.5  \n",
       "37       70 days        37.5  \n",
       "38       71 days        38.5  \n",
       "39       73 days        39.5  \n",
       "40       73 days        40.5  \n",
       "41       74 days        41.5  \n",
       "42       75 days        42.5  \n",
       "43       75 days        43.5  \n",
       "44       76 days        44.5  \n",
       "45       78 days        45.5  \n",
       "46       78 days        46.5  \n",
       "47       79 days        47.5  \n",
       "48       80 days        48.5  \n",
       "49       80 days        49.5  \n",
       "50       81 days        50.5  \n",
       "51       82 days        51.5  \n",
       "52       83 days        52.5  \n",
       "53       83 days        53.5  \n",
       "54       85 days        54.5  \n",
       "55       85 days        55.5  \n",
       "56       86 days        56.5  "
      ]
     },
     "execution_count": 4,
     "metadata": {},
     "output_type": "execute_result"
    }
   ],
   "source": [
    "base.groupby(base['Data'].dt.month)['Obitos'].sum()\n",
    "base['MesMorte'] = base['Data'].dt.month\n",
    "base['diferencaDias'] = base['Data'] - base['Data'].min()\n",
    "base['MédiaMovel'] = base['Obitos'].rolling(2).mean()\n",
    "base"
   ]
  },
  {
   "cell_type": "code",
   "execution_count": 5,
   "metadata": {},
   "outputs": [
    {
     "data": {
      "text/html": [
       "<div>\n",
       "<style scoped>\n",
       "    .dataframe tbody tr th:only-of-type {\n",
       "        vertical-align: middle;\n",
       "    }\n",
       "\n",
       "    .dataframe tbody tr th {\n",
       "        vertical-align: top;\n",
       "    }\n",
       "\n",
       "    .dataframe thead th {\n",
       "        text-align: right;\n",
       "    }\n",
       "</style>\n",
       "<table border=\"1\" class=\"dataframe\">\n",
       "  <thead>\n",
       "    <tr style=\"text-align: right;\">\n",
       "      <th>Sexo</th>\n",
       "      <th>Homem</th>\n",
       "      <th>Mulher</th>\n",
       "    </tr>\n",
       "    <tr>\n",
       "      <th>Sexo</th>\n",
       "      <th></th>\n",
       "      <th></th>\n",
       "    </tr>\n",
       "  </thead>\n",
       "  <tbody>\n",
       "    <tr>\n",
       "      <th>Homem</th>\n",
       "      <td>34</td>\n",
       "      <td>0</td>\n",
       "    </tr>\n",
       "    <tr>\n",
       "      <th>Mulher</th>\n",
       "      <td>0</td>\n",
       "      <td>23</td>\n",
       "    </tr>\n",
       "  </tbody>\n",
       "</table>\n",
       "</div>"
      ],
      "text/plain": [
       "Sexo    Homem  Mulher\n",
       "Sexo                 \n",
       "Homem      34       0\n",
       "Mulher      0      23"
      ]
     },
     "execution_count": 5,
     "metadata": {},
     "output_type": "execute_result"
    }
   ],
   "source": [
    "pd.crosstab(base['Sexo'],base['Sexo'])"
   ]
  },
  {
   "cell_type": "code",
   "execution_count": 63,
   "metadata": {
    "scrolled": true
   },
   "outputs": [
    {
     "name": "stdout",
     "output_type": "stream",
     "text": [
      "Sexo em %\n",
      "Homem     59.65\n",
      "Mulher    40.35\n",
      "Name: Sexo, dtype: float64\n"
     ]
    }
   ],
   "source": [
    "print ('Sexo em %')\n",
    "Afetados = base['Sexo'].value_counts(normalize=True)\n",
    "print (str(round(Afetados, 4) *100)) "
   ]
  },
  {
   "cell_type": "code",
   "execution_count": 7,
   "metadata": {
    "scrolled": true
   },
   "outputs": [
    {
     "data": {
      "text/plain": [
       "<matplotlib.axes._subplots.AxesSubplot at 0x1a81339bb70>"
      ]
     },
     "execution_count": 7,
     "metadata": {},
     "output_type": "execute_result"
    },
    {
     "data": {
      "image/png": "[encoded data removed]",
      "text/plain": [
       "<Figure size 720x720 with 1 Axes>"
      ]
     },
     "metadata": {},
     "output_type": "display_data"
    }
   ],
   "source": [
    "base['Sexo'].value_counts().plot(kind = \"pie\", figsize = (10,10))"
   ]
  },
  {
   "cell_type": "code",
   "execution_count": 8,
   "metadata": {},
   "outputs": [
    {
     "data": {
      "text/plain": [
       "Data\n",
       "3     1\n",
       "4     4\n",
       "5    22\n",
       "6    30\n",
       "Name: Obitos, dtype: int64"
      ]
     },
     "execution_count": 8,
     "metadata": {},
     "output_type": "execute_result"
    }
   ],
   "source": [
    "df = base.groupby(base['Data'].dt.month)['Obitos'].count()\n",
    "df"
   ]
  },
  {
   "cell_type": "code",
   "execution_count": 9,
   "metadata": {},
   "outputs": [
    {
     "data": {
      "text/plain": [
       "<matplotlib.axes._subplots.AxesSubplot at 0x1a8138b24a8>"
      ]
     },
     "execution_count": 9,
     "metadata": {},
     "output_type": "execute_result"
    },
    {
     "data": {
      "image/png": "[encoded data removed]",
      "text/plain": [
       "<Figure size 720x360 with 1 Axes>"
      ]
     },
     "metadata": {
      "needs_background": "light"
     },
     "output_type": "display_data"
    }
   ],
   "source": [
    "df.plot(kind = \"bar\", figsize = (10,5))"
   ]
  },
  {
   "cell_type": "code",
   "execution_count": 10,
   "metadata": {},
   "outputs": [
    {
     "data": {
      "text/plain": [
       "52   83 days\n",
       "53   83 days\n",
       "54   85 days\n",
       "55   85 days\n",
       "56   86 days\n",
       "Name: Data, dtype: timedelta64[ns]"
      ]
     },
     "execution_count": 10,
     "metadata": {},
     "output_type": "execute_result"
    }
   ],
   "source": [
    "a = base['diferencaDias'] = base['Data'] - base['Data'].min()\n",
    "a.tail()"
   ]
  },
  {
   "cell_type": "code",
   "execution_count": 11,
   "metadata": {},
   "outputs": [
    {
     "data": {
      "text/html": [
       "<div>\n",
       "<style scoped>\n",
       "    .dataframe tbody tr th:only-of-type {\n",
       "        vertical-align: middle;\n",
       "    }\n",
       "\n",
       "    .dataframe tbody tr th {\n",
       "        vertical-align: top;\n",
       "    }\n",
       "\n",
       "    .dataframe thead th {\n",
       "        text-align: right;\n",
       "    }\n",
       "</style>\n",
       "<table border=\"1\" class=\"dataframe\">\n",
       "  <thead>\n",
       "    <tr style=\"text-align: right;\">\n",
       "      <th>Comorbidade</th>\n",
       "      <th>Com comorbidades</th>\n",
       "      <th>Sem comorbidade</th>\n",
       "    </tr>\n",
       "    <tr>\n",
       "      <th>Comorbidade</th>\n",
       "      <th></th>\n",
       "      <th></th>\n",
       "    </tr>\n",
       "  </thead>\n",
       "  <tbody>\n",
       "    <tr>\n",
       "      <th>Com comorbidades</th>\n",
       "      <td>43</td>\n",
       "      <td>0</td>\n",
       "    </tr>\n",
       "    <tr>\n",
       "      <th>Sem comorbidade</th>\n",
       "      <td>0</td>\n",
       "      <td>14</td>\n",
       "    </tr>\n",
       "  </tbody>\n",
       "</table>\n",
       "</div>"
      ],
      "text/plain": [
       "Comorbidade       Com comorbidades  Sem comorbidade\n",
       "Comorbidade                                        \n",
       "Com comorbidades                43                0\n",
       "Sem comorbidade                  0               14"
      ]
     },
     "execution_count": 11,
     "metadata": {},
     "output_type": "execute_result"
    }
   ],
   "source": [
    "pd.crosstab(base['Comorbidade'],base['Comorbidade'])"
   ]
  },
  {
   "cell_type": "code",
   "execution_count": 12,
   "metadata": {},
   "outputs": [
    {
     "data": {
      "text/plain": [
       "<matplotlib.axes._subplots.AxesSubplot at 0x1a8136b7470>"
      ]
     },
     "execution_count": 12,
     "metadata": {},
     "output_type": "execute_result"
    },
    {
     "data": {
      "image/png": "[encoded data removed]",
      "text/plain": [
       "<Figure size 432x432 with 1 Axes>"
      ]
     },
     "metadata": {
      "needs_background": "light"
     },
     "output_type": "display_data"
    }
   ],
   "source": [
    "base['Comorbidade'].value_counts().head().plot(kind = \"barh\", figsize = (6,6))"
   ]
  },
  {
   "cell_type": "code",
   "execution_count": 13,
   "metadata": {},
   "outputs": [
    {
     "data": {
      "image/png": "[encoded data removed]",
      "text/plain": [
       "<Figure size 720x432 with 1 Axes>"
      ]
     },
     "metadata": {
      "needs_background": "light"
     },
     "output_type": "display_data"
    }
   ],
   "source": [
    "base.plot(x='Data', y='Obitos', figsize=(10,6));\n",
    "plt.title('Óbitos em Indaiatuba')\n",
    "plt.ylabel('Obitos')\n",
    "plt.xlabel('Data')\n",
    "plt.show()"
   ]
  },
  {
   "cell_type": "code",
   "execution_count": 14,
   "metadata": {},
   "outputs": [
    {
     "data": {
      "text/plain": [
       "65.24561403508773"
      ]
     },
     "execution_count": 14,
     "metadata": {},
     "output_type": "execute_result"
    }
   ],
   "source": [
    "base['Idade'].mean()"
   ]
  },
  {
   "cell_type": "code",
   "execution_count": 15,
   "metadata": {},
   "outputs": [
    {
     "data": {
      "text/plain": [
       "14.618091410687926"
      ]
     },
     "execution_count": 15,
     "metadata": {},
     "output_type": "execute_result"
    }
   ],
   "source": [
    "base['Idade'].std()"
   ]
  },
  {
   "cell_type": "code",
   "execution_count": 16,
   "metadata": {},
   "outputs": [
    {
     "data": {
      "text/plain": [
       "67.0"
      ]
     },
     "execution_count": 16,
     "metadata": {},
     "output_type": "execute_result"
    }
   ],
   "source": [
    "base['Idade'].median()"
   ]
  },
  {
   "cell_type": "code",
   "execution_count": 17,
   "metadata": {},
   "outputs": [
    {
     "data": {
      "text/plain": [
       "0    67\n",
       "1    86\n",
       "dtype: int64"
      ]
     },
     "execution_count": 17,
     "metadata": {},
     "output_type": "execute_result"
    }
   ],
   "source": [
    "base['Idade'].mode()"
   ]
  },
  {
   "cell_type": "code",
   "execution_count": 18,
   "metadata": {},
   "outputs": [
    {
     "data": {
      "text/plain": [
       "<matplotlib.axes._subplots.AxesSubplot at 0x1a8137d21d0>"
      ]
     },
     "execution_count": 18,
     "metadata": {},
     "output_type": "execute_result"
    },
    {
     "data": {
      "image/png": "[encoded data removed]",
      "text/plain": [
       "<Figure size 720x360 with 1 Axes>"
      ]
     },
     "metadata": {
      "needs_background": "light"
     },
     "output_type": "display_data"
    }
   ],
   "source": [
    "base['Idade'].value_counts().plot(kind='bar',figsize = (10,5), title='Mortes/Idade')"
   ]
  },
  {
   "cell_type": "code",
   "execution_count": 19,
   "metadata": {},
   "outputs": [],
   "source": [
    "log_returns = np.log(1 + base['Obitos'].pct_change())"
   ]
  },
  {
   "cell_type": "code",
   "execution_count": 20,
   "metadata": {},
   "outputs": [
    {
     "data": {
      "text/plain": [
       "52    53\n",
       "53    54\n",
       "54    55\n",
       "55    56\n",
       "56    57\n",
       "Name: Obitos, dtype: int64"
      ]
     },
     "execution_count": 20,
     "metadata": {},
     "output_type": "execute_result"
    }
   ],
   "source": [
    "base['Obitos'].tail()"
   ]
  },
  {
   "cell_type": "code",
   "execution_count": 21,
   "metadata": {},
   "outputs": [
    {
     "data": {
      "text/plain": [
       "<matplotlib.axes._subplots.AxesSubplot at 0x1a813a9fa90>"
      ]
     },
     "execution_count": 21,
     "metadata": {},
     "output_type": "execute_result"
    },
    {
     "data": {
      "image/png": "[encoded data removed]",
      "text/plain": [
       "<Figure size 720x432 with 1 Axes>"
      ]
     },
     "metadata": {
      "needs_background": "light"
     },
     "output_type": "display_data"
    }
   ],
   "source": [
    "log_returns.plot(figsize=(10,6))"
   ]
  },
  {
   "cell_type": "code",
   "execution_count": 22,
   "metadata": {},
   "outputs": [
    {
     "data": {
      "text/plain": [
       "0.0721973440684741"
      ]
     },
     "execution_count": 22,
     "metadata": {},
     "output_type": "execute_result"
    }
   ],
   "source": [
    "u = log_returns.mean()\n",
    "u"
   ]
  },
  {
   "cell_type": "code",
   "execution_count": 23,
   "metadata": {},
   "outputs": [
    {
     "data": {
      "text/plain": [
       "0.012140871093276887"
      ]
     },
     "execution_count": 23,
     "metadata": {},
     "output_type": "execute_result"
    }
   ],
   "source": [
    "var = log_returns.var()\n",
    "var"
   ]
  },
  {
   "cell_type": "code",
   "execution_count": 24,
   "metadata": {},
   "outputs": [
    {
     "data": {
      "text/plain": [
       "0.06612690852183566"
      ]
     },
     "execution_count": 24,
     "metadata": {},
     "output_type": "execute_result"
    }
   ],
   "source": [
    "drift = u - (0.5 * var)\n",
    "drift"
   ]
  },
  {
   "cell_type": "code",
   "execution_count": 25,
   "metadata": {},
   "outputs": [
    {
     "data": {
      "text/plain": [
       "0.11018562108223054"
      ]
     },
     "execution_count": 25,
     "metadata": {},
     "output_type": "execute_result"
    }
   ],
   "source": [
    "stdev = log_returns.std()\n",
    "stdev"
   ]
  },
  {
   "cell_type": "code",
   "execution_count": 26,
   "metadata": {},
   "outputs": [
    {
     "data": {
      "text/plain": [
       "float"
      ]
     },
     "execution_count": 26,
     "metadata": {},
     "output_type": "execute_result"
    }
   ],
   "source": [
    "type(drift)"
   ]
  },
  {
   "cell_type": "code",
   "execution_count": 27,
   "metadata": {},
   "outputs": [
    {
     "data": {
      "text/plain": [
       "float"
      ]
     },
     "execution_count": 27,
     "metadata": {},
     "output_type": "execute_result"
    }
   ],
   "source": [
    "type(stdev)"
   ]
  },
  {
   "cell_type": "code",
   "execution_count": 28,
   "metadata": {},
   "outputs": [
    {
     "data": {
      "text/plain": [
       "array(0.06612691)"
      ]
     },
     "execution_count": 28,
     "metadata": {},
     "output_type": "execute_result"
    }
   ],
   "source": [
    "np.array(drift)"
   ]
  },
  {
   "cell_type": "code",
   "execution_count": 29,
   "metadata": {},
   "outputs": [
    {
     "data": {
      "text/plain": [
       "0.06612690852183566"
      ]
     },
     "execution_count": 29,
     "metadata": {},
     "output_type": "execute_result"
    }
   ],
   "source": [
    "drift"
   ]
  },
  {
   "cell_type": "code",
   "execution_count": 30,
   "metadata": {},
   "outputs": [
    {
     "data": {
      "text/plain": [
       "0.11018562108223054"
      ]
     },
     "execution_count": 30,
     "metadata": {},
     "output_type": "execute_result"
    }
   ],
   "source": [
    "stdev"
   ]
  },
  {
   "cell_type": "code",
   "execution_count": 31,
   "metadata": {},
   "outputs": [
    {
     "data": {
      "text/plain": [
       "1.6448536269514722"
      ]
     },
     "execution_count": 31,
     "metadata": {},
     "output_type": "execute_result"
    }
   ],
   "source": [
    "norm.ppf(0.95)"
   ]
  },
  {
   "cell_type": "code",
   "execution_count": 32,
   "metadata": {},
   "outputs": [
    {
     "data": {
      "text/plain": [
       "array([[0.45290765, 0.66523119],\n",
       "       [0.20314051, 0.75685299],\n",
       "       [0.5851483 , 0.58722323],\n",
       "       [0.50774055, 0.14694695],\n",
       "       [0.90447156, 0.80942822],\n",
       "       [0.12769601, 0.79081503],\n",
       "       [0.89865697, 0.87159814],\n",
       "       [0.22754615, 0.11315939],\n",
       "       [0.66615835, 0.27823384],\n",
       "       [0.88522182, 0.2791755 ]])"
      ]
     },
     "execution_count": 32,
     "metadata": {},
     "output_type": "execute_result"
    }
   ],
   "source": [
    "x = np.random.rand(10,2)\n",
    "x"
   ]
  },
  {
   "cell_type": "code",
   "execution_count": 33,
   "metadata": {},
   "outputs": [
    {
     "data": {
      "text/plain": [
       "array([[-0.11831851,  0.42678269],\n",
       "       [-0.83045601,  0.69621527],\n",
       "       [ 0.21508198,  0.22040785],\n",
       "       [ 0.01940389, -1.04961772],\n",
       "       [ 1.307459  ,  0.87579119],\n",
       "       [-1.13734996,  0.80925247],\n",
       "       [ 1.27393612,  1.13397811],\n",
       "       [-0.74695238, -1.20989608],\n",
       "       [ 0.4293297 , -0.58809628],\n",
       "       [ 1.20150244, -0.58529258]])"
      ]
     },
     "execution_count": 33,
     "metadata": {},
     "output_type": "execute_result"
    }
   ],
   "source": [
    "norm.ppf(x)"
   ]
  },
  {
   "cell_type": "code",
   "execution_count": 34,
   "metadata": {},
   "outputs": [
    {
     "data": {
      "text/plain": [
       "array([[ 0.65545764, -0.50058368,  0.26170436,  2.16977647],\n",
       "       [ 0.86418001,  0.1740384 , -1.21871928, -0.4767086 ],\n",
       "       [-0.42021641,  1.72284599, -1.72613704, -0.73955548],\n",
       "       [ 1.83163226, -1.07283884, -0.45413167,  0.35945709],\n",
       "       [ 0.41615204, -0.3739478 , -1.07095874,  0.62594419],\n",
       "       [-0.21267526, -1.75819278, -0.03896956, -0.80698889],\n",
       "       [ 0.74428989,  1.28260724, -0.13408407,  1.12219734],\n",
       "       [-1.5422036 ,  0.12354117, -2.01337776,  0.35416184],\n",
       "       [-0.50972273,  0.76810862, -0.10181344,  0.54207209],\n",
       "       [-0.2626304 , -2.28516898,  1.41411667, -0.63792043]])"
      ]
     },
     "execution_count": 34,
     "metadata": {},
     "output_type": "execute_result"
    }
   ],
   "source": [
    "z= norm.ppf(np.random.rand(10,4))\n",
    "z"
   ]
  },
  {
   "cell_type": "code",
   "execution_count": 35,
   "metadata": {},
   "outputs": [],
   "source": [
    "t_intervals = 30\n",
    "iterations = 10"
   ]
  },
  {
   "cell_type": "code",
   "execution_count": 36,
   "metadata": {},
   "outputs": [],
   "source": [
    "daily_returns = np.exp(drift + stdev * norm.ppf(np.random.rand(t_intervals, iterations)))"
   ]
  },
  {
   "cell_type": "code",
   "execution_count": 37,
   "metadata": {},
   "outputs": [
    {
     "data": {
      "text/plain": [
       "array([[1.0007664 , 1.27404484, 1.16672292, 1.18978513, 1.04679419,\n",
       "        1.1657962 , 1.11151704, 1.24673548, 1.07684977, 1.12550076],\n",
       "       [0.9374499 , 1.06617365, 1.23758989, 1.25674993, 0.99660125,\n",
       "        0.93226437, 1.10092909, 1.03852671, 1.25000461, 1.18978762],\n",
       "       [0.97079252, 1.28449217, 1.24258565, 0.98250019, 1.10496766,\n",
       "        1.17083586, 0.95176066, 1.20738768, 1.02531305, 1.37687895],\n",
       "       [1.10045577, 1.16519616, 1.1016086 , 1.04986899, 1.0996824 ,\n",
       "        1.11301744, 0.87871243, 1.06119852, 1.24420516, 1.01675289],\n",
       "       [1.19249831, 0.88159279, 1.05894253, 0.90602388, 0.91618732,\n",
       "        1.170375  , 1.18227559, 1.11627378, 1.07115407, 1.13281723],\n",
       "       [1.0984482 , 1.41499587, 1.20745494, 1.18130114, 0.96437845,\n",
       "        1.25055228, 0.93206993, 1.03459748, 1.18323392, 1.10260091],\n",
       "       [1.12763207, 0.98573463, 1.09300232, 0.91163114, 0.88020798,\n",
       "        1.20000806, 1.09019757, 1.06323149, 1.23236068, 1.24506529],\n",
       "       [1.1535131 , 1.08181866, 1.01002059, 1.13843498, 1.11959981,\n",
       "        1.1245439 , 1.00088565, 1.34045187, 1.15780737, 1.08331691],\n",
       "       [1.09344801, 1.18485165, 1.14726707, 1.07607212, 0.89936451,\n",
       "        1.05769126, 0.88514518, 1.18632934, 0.9305242 , 1.00419804],\n",
       "       [0.89175444, 0.92499272, 1.12189568, 0.99631254, 1.10824589,\n",
       "        0.98986366, 0.76259691, 0.97903275, 0.97189512, 1.0430579 ],\n",
       "       [1.06489388, 1.10704859, 1.28312881, 1.02871304, 0.94314935,\n",
       "        1.27026157, 1.02401463, 1.01786648, 1.11177509, 1.15556336],\n",
       "       [1.11101769, 1.03496857, 0.92283966, 0.9916481 , 1.30705069,\n",
       "        1.3342915 , 1.33037425, 1.16463912, 1.23627827, 1.04965729],\n",
       "       [1.09926252, 0.92665989, 1.42786912, 0.93669   , 0.85934151,\n",
       "        1.08032686, 1.37173812, 1.15622068, 1.03123387, 0.98792789],\n",
       "       [1.11134127, 1.11276608, 1.07612176, 1.22830128, 0.90123528,\n",
       "        0.89180931, 1.00401031, 1.11932698, 1.22040533, 0.88608789],\n",
       "       [1.12702043, 1.15430929, 0.95651903, 1.07068226, 1.13011982,\n",
       "        1.12548241, 1.10804298, 0.93987385, 1.2135517 , 1.19233649],\n",
       "       [1.05567168, 0.93628017, 1.26038658, 1.24588538, 0.85887482,\n",
       "        1.1648727 , 1.07609229, 1.12006802, 1.11838645, 1.08417537],\n",
       "       [1.26060028, 1.1415007 , 0.94957354, 1.07894094, 1.14020461,\n",
       "        1.21372496, 1.24178684, 1.06359529, 1.137148  , 1.12465308],\n",
       "       [1.07825717, 1.12430654, 0.97925402, 1.23492027, 1.16799114,\n",
       "        0.93872355, 1.24343614, 1.04756663, 1.12836586, 1.22789324],\n",
       "       [1.04955187, 1.08744527, 1.28339936, 1.26124715, 1.05724478,\n",
       "        0.99161512, 1.03369194, 1.17789728, 0.95616696, 1.29475682],\n",
       "       [1.05091568, 1.14521392, 1.01672279, 1.11906986, 1.13604266,\n",
       "        0.79804138, 1.13459703, 1.11903894, 1.08005659, 0.88804559],\n",
       "       [1.01277054, 1.07424168, 1.0070886 , 0.9958003 , 1.05572837,\n",
       "        1.06062277, 1.01575969, 1.06963765, 1.08521191, 1.10808289],\n",
       "       [1.12728787, 0.94362257, 1.46194502, 1.03733812, 1.16578205,\n",
       "        1.07413406, 1.07736323, 1.02146625, 0.99847531, 1.09400581],\n",
       "       [1.10035609, 1.39623437, 1.05656785, 1.049088  , 1.19754144,\n",
       "        0.89744364, 1.22550588, 1.02238831, 1.11309279, 0.95649309],\n",
       "       [1.19925156, 1.03807903, 1.02482728, 1.01239915, 1.10548371,\n",
       "        1.0810038 , 1.12721334, 1.14524939, 1.12575079, 1.18678466],\n",
       "       [1.24364124, 1.25190229, 0.94845551, 1.16891709, 1.26483889,\n",
       "        1.35483646, 0.91807628, 0.8258254 , 1.09590327, 1.20455912],\n",
       "       [0.9923671 , 1.03169462, 1.19610247, 1.02824311, 0.9385867 ,\n",
       "        1.05620865, 0.9242273 , 1.08993704, 1.19926984, 1.06142828],\n",
       "       [0.98897275, 0.87670856, 1.18196694, 1.12345852, 1.19710606,\n",
       "        1.08590567, 0.9957403 , 1.15573857, 1.04863762, 0.97107235],\n",
       "       [0.76258886, 1.24489991, 0.90314915, 1.08743092, 1.21809802,\n",
       "        1.16114658, 0.99104261, 1.04040939, 1.06261414, 1.00307538],\n",
       "       [0.99503886, 1.1724418 , 1.01194875, 0.97587258, 1.01016242,\n",
       "        0.88468952, 1.01394241, 0.92186051, 1.11325497, 1.13870847],\n",
       "       [0.93938181, 1.08384222, 0.90545944, 1.0810548 , 1.00596664,\n",
       "        0.96709045, 1.02255061, 1.09414872, 0.92722514, 1.2006845 ]])"
      ]
     },
     "execution_count": 37,
     "metadata": {},
     "output_type": "execute_result"
    }
   ],
   "source": [
    "daily_returns"
   ]
  },
  {
   "cell_type": "code",
   "execution_count": 38,
   "metadata": {},
   "outputs": [
    {
     "data": {
      "text/plain": [
       "57"
      ]
     },
     "execution_count": 38,
     "metadata": {},
     "output_type": "execute_result"
    }
   ],
   "source": [
    "S0 = base['Obitos'].iloc[-1]\n",
    "S0"
   ]
  },
  {
   "cell_type": "code",
   "execution_count": 39,
   "metadata": {},
   "outputs": [],
   "source": [
    "price_list = np.zeros_like(daily_returns)"
   ]
  },
  {
   "cell_type": "code",
   "execution_count": 40,
   "metadata": {},
   "outputs": [
    {
     "data": {
      "text/plain": [
       "array([[0., 0., 0., 0., 0., 0., 0., 0., 0., 0.],\n",
       "       [0., 0., 0., 0., 0., 0., 0., 0., 0., 0.],\n",
       "       [0., 0., 0., 0., 0., 0., 0., 0., 0., 0.],\n",
       "       [0., 0., 0., 0., 0., 0., 0., 0., 0., 0.],\n",
       "       [0., 0., 0., 0., 0., 0., 0., 0., 0., 0.],\n",
       "       [0., 0., 0., 0., 0., 0., 0., 0., 0., 0.],\n",
       "       [0., 0., 0., 0., 0., 0., 0., 0., 0., 0.],\n",
       "       [0., 0., 0., 0., 0., 0., 0., 0., 0., 0.],\n",
       "       [0., 0., 0., 0., 0., 0., 0., 0., 0., 0.],\n",
       "       [0., 0., 0., 0., 0., 0., 0., 0., 0., 0.],\n",
       "       [0., 0., 0., 0., 0., 0., 0., 0., 0., 0.],\n",
       "       [0., 0., 0., 0., 0., 0., 0., 0., 0., 0.],\n",
       "       [0., 0., 0., 0., 0., 0., 0., 0., 0., 0.],\n",
       "       [0., 0., 0., 0., 0., 0., 0., 0., 0., 0.],\n",
       "       [0., 0., 0., 0., 0., 0., 0., 0., 0., 0.],\n",
       "       [0., 0., 0., 0., 0., 0., 0., 0., 0., 0.],\n",
       "       [0., 0., 0., 0., 0., 0., 0., 0., 0., 0.],\n",
       "       [0., 0., 0., 0., 0., 0., 0., 0., 0., 0.],\n",
       "       [0., 0., 0., 0., 0., 0., 0., 0., 0., 0.],\n",
       "       [0., 0., 0., 0., 0., 0., 0., 0., 0., 0.],\n",
       "       [0., 0., 0., 0., 0., 0., 0., 0., 0., 0.],\n",
       "       [0., 0., 0., 0., 0., 0., 0., 0., 0., 0.],\n",
       "       [0., 0., 0., 0., 0., 0., 0., 0., 0., 0.],\n",
       "       [0., 0., 0., 0., 0., 0., 0., 0., 0., 0.],\n",
       "       [0., 0., 0., 0., 0., 0., 0., 0., 0., 0.],\n",
       "       [0., 0., 0., 0., 0., 0., 0., 0., 0., 0.],\n",
       "       [0., 0., 0., 0., 0., 0., 0., 0., 0., 0.],\n",
       "       [0., 0., 0., 0., 0., 0., 0., 0., 0., 0.],\n",
       "       [0., 0., 0., 0., 0., 0., 0., 0., 0., 0.],\n",
       "       [0., 0., 0., 0., 0., 0., 0., 0., 0., 0.]])"
      ]
     },
     "execution_count": 40,
     "metadata": {},
     "output_type": "execute_result"
    }
   ],
   "source": [
    "price_list"
   ]
  },
  {
   "cell_type": "code",
   "execution_count": 41,
   "metadata": {},
   "outputs": [
    {
     "data": {
      "text/plain": [
       "array([[57., 57., 57., 57., 57., 57., 57., 57., 57., 57.],\n",
       "       [ 0.,  0.,  0.,  0.,  0.,  0.,  0.,  0.,  0.,  0.],\n",
       "       [ 0.,  0.,  0.,  0.,  0.,  0.,  0.,  0.,  0.,  0.],\n",
       "       [ 0.,  0.,  0.,  0.,  0.,  0.,  0.,  0.,  0.,  0.],\n",
       "       [ 0.,  0.,  0.,  0.,  0.,  0.,  0.,  0.,  0.,  0.],\n",
       "       [ 0.,  0.,  0.,  0.,  0.,  0.,  0.,  0.,  0.,  0.],\n",
       "       [ 0.,  0.,  0.,  0.,  0.,  0.,  0.,  0.,  0.,  0.],\n",
       "       [ 0.,  0.,  0.,  0.,  0.,  0.,  0.,  0.,  0.,  0.],\n",
       "       [ 0.,  0.,  0.,  0.,  0.,  0.,  0.,  0.,  0.,  0.],\n",
       "       [ 0.,  0.,  0.,  0.,  0.,  0.,  0.,  0.,  0.,  0.],\n",
       "       [ 0.,  0.,  0.,  0.,  0.,  0.,  0.,  0.,  0.,  0.],\n",
       "       [ 0.,  0.,  0.,  0.,  0.,  0.,  0.,  0.,  0.,  0.],\n",
       "       [ 0.,  0.,  0.,  0.,  0.,  0.,  0.,  0.,  0.,  0.],\n",
       "       [ 0.,  0.,  0.,  0.,  0.,  0.,  0.,  0.,  0.,  0.],\n",
       "       [ 0.,  0.,  0.,  0.,  0.,  0.,  0.,  0.,  0.,  0.],\n",
       "       [ 0.,  0.,  0.,  0.,  0.,  0.,  0.,  0.,  0.,  0.],\n",
       "       [ 0.,  0.,  0.,  0.,  0.,  0.,  0.,  0.,  0.,  0.],\n",
       "       [ 0.,  0.,  0.,  0.,  0.,  0.,  0.,  0.,  0.,  0.],\n",
       "       [ 0.,  0.,  0.,  0.,  0.,  0.,  0.,  0.,  0.,  0.],\n",
       "       [ 0.,  0.,  0.,  0.,  0.,  0.,  0.,  0.,  0.,  0.],\n",
       "       [ 0.,  0.,  0.,  0.,  0.,  0.,  0.,  0.,  0.,  0.],\n",
       "       [ 0.,  0.,  0.,  0.,  0.,  0.,  0.,  0.,  0.,  0.],\n",
       "       [ 0.,  0.,  0.,  0.,  0.,  0.,  0.,  0.,  0.,  0.],\n",
       "       [ 0.,  0.,  0.,  0.,  0.,  0.,  0.,  0.,  0.,  0.],\n",
       "       [ 0.,  0.,  0.,  0.,  0.,  0.,  0.,  0.,  0.,  0.],\n",
       "       [ 0.,  0.,  0.,  0.,  0.,  0.,  0.,  0.,  0.,  0.],\n",
       "       [ 0.,  0.,  0.,  0.,  0.,  0.,  0.,  0.,  0.,  0.],\n",
       "       [ 0.,  0.,  0.,  0.,  0.,  0.,  0.,  0.,  0.,  0.],\n",
       "       [ 0.,  0.,  0.,  0.,  0.,  0.,  0.,  0.,  0.,  0.],\n",
       "       [ 0.,  0.,  0.,  0.,  0.,  0.,  0.,  0.,  0.,  0.]])"
      ]
     },
     "execution_count": 41,
     "metadata": {},
     "output_type": "execute_result"
    }
   ],
   "source": [
    "price_list[0] = S0\n",
    "price_list"
   ]
  },
  {
   "cell_type": "code",
   "execution_count": 42,
   "metadata": {},
   "outputs": [],
   "source": [
    "for t in range (1, t_intervals):\n",
    "    price_list[t] = price_list[t-1]* daily_returns[t]"
   ]
  },
  {
   "cell_type": "code",
   "execution_count": 43,
   "metadata": {},
   "outputs": [
    {
     "data": {
      "text/plain": [
       "array([[  57.        ,   57.        ,   57.        ,   57.        ,\n",
       "          57.        ,   57.        ,   57.        ,   57.        ,\n",
       "          57.        ,   57.        ],\n",
       "       [  53.43464433,   60.77189812,   70.54262377,   71.63474616,\n",
       "          56.8062711 ,   53.139069  ,   62.75295823,   59.19602252,\n",
       "          71.25026274,   67.81789446],\n",
       "       [  51.87395316,   78.06102751,   87.65525234,   70.38115139,\n",
       "          62.76909219,   62.21712768,   59.72579694,   71.47254854,\n",
       "          73.05382431,   93.37703128],\n",
       "       [  57.08499087,   90.95640976,   96.56177968,   73.89098836,\n",
       "          69.02606588,   69.24874805,   52.48180011,   75.84656292,\n",
       "          90.89394538,   94.94136594],\n",
       "       [  68.07375503,   80.18651518,  102.25337557,   66.94699974,\n",
       "          63.24080645,   81.04700361,   62.04795126,   84.66552936,\n",
       "          97.36141986,  107.55121506],\n",
       "       [  74.77549337,  113.46358801,  123.46634339,   79.08456699,\n",
       "          60.9880708 ,  101.35351481,   57.83302987,   87.59474352,\n",
       "         115.20133452,  118.58606756],\n",
       "       [  84.31924427,  111.84498761,  134.94899977,   72.09595402,\n",
       "          53.68218678,  121.62503479,   63.04942865,   93.13349003,\n",
       "         141.96959541,  147.6473962 ],\n",
       "       [  97.26335321,  120.99599511,  136.30126832,   82.07655583,\n",
       "          60.10256593,  136.77269141,   63.10526823,  124.84096124,\n",
       "         164.37344367,  159.94892125],\n",
       "       [ 106.3524202 ,  143.36230391,  156.37395732,   88.32029359,\n",
       "          54.05411469,  144.6632807 ,   55.85732416,  148.10249459,\n",
       "         152.95346683,  160.62039243],\n",
       "       [  94.84024308,  132.60908812,  175.43526659,   87.99461597,\n",
       "          59.90525027,  143.19692471,   42.59662255,  144.9971931 ,\n",
       "         148.65472826,  167.53636971],\n",
       "       [ 100.99479436,  146.80470363,  225.1060452 ,   90.52120871,\n",
       "          56.49959804,  181.89755035,   43.61956466,  147.58778327,\n",
       "         165.27062372,  193.59888994],\n",
       "       [ 112.20700332,  151.93825466,  207.73678653,   89.76518503,\n",
       "          73.84783858,  242.70435458,   58.03034563,  171.88650623,\n",
       "         204.32048075,  203.21248557],\n",
       "       [ 123.34495369,  140.79508688,  296.62094202,   84.08215132,\n",
       "          63.46051296,  262.20003392,   79.60243738,  198.73873306,\n",
       "         210.70219908,  200.75928147],\n",
       "       [ 137.07833712,  156.67199723,  319.20025016,  103.27821441,\n",
       "          57.19285295,  233.83243029,   79.92166808,  222.45362594,\n",
       "         257.14208713,  177.89036794],\n",
       "       [ 154.49008617,  180.84794113,  305.32111217,  110.57815195,\n",
       "          64.63477647,  263.17428685,   88.55664326,  209.07834501,\n",
       "         312.05521797,  212.10517662],\n",
       "       [ 163.09080954,  169.324341  ,  384.82263157,  137.76770254,\n",
       "          55.51318223,  306.56454191,   95.29512146,  234.1819688 ,\n",
       "         348.99832614,  229.95920812],\n",
       "       [ 205.59232061,  193.28385313,  365.41739043,  148.64321413,\n",
       "          63.29638616,  372.08503766,  118.33622757,  249.07483933,\n",
       "         396.8627471 ,  258.62433281],\n",
       "       [ 221.68139447,  217.31030068,  357.83644706,  183.56251838,\n",
       "          73.92961847,  349.28498825,  147.14354222,  260.92248968,\n",
       "         447.80637539,  317.56306996],\n",
       "       [ 232.66612207,  236.31305811,  459.24706598,  231.51770397,\n",
       "          78.16170304,  346.35627615,  152.10109328,  307.33988969,\n",
       "         428.17765893,  411.166951  ],\n",
       "       [ 244.51247526,  270.62900454,  466.92695775,  259.084484  ,\n",
       "          88.79502912,  276.40664207,  172.57344893,  343.92530585,\n",
       "         462.45610024,  365.13499674],\n",
       "       [ 247.63503178,  290.72095776,  470.23681661,  257.9964057 ,\n",
       "          93.74343113,  293.16317763,  175.29315233,  367.87545628,\n",
       "         501.86286613,  404.59984178],\n",
       "       [ 279.15596757,  274.33085593,  687.46037009,  267.62950549,\n",
       "         109.28440886,  314.89655278,  188.85439723,  375.77236446,\n",
       "         501.09767859,  442.63457745],\n",
       "       [ 307.17096771,  383.03016918,  726.34852394,  280.76690329,\n",
       "         130.87260799,  282.60190989,  231.44217445,  384.18527154,\n",
       "         557.76821237,  423.37691624],\n",
       "       [ 368.37526271,  397.61558642,  744.38178468,  284.24817297,\n",
       "         144.67753631,  305.4937372 ,  260.88470738,  439.98794602,\n",
       "         627.90800338,  502.45722875],\n",
       "       [ 458.12666868,  497.77586351,  706.01300336,  332.26254843,\n",
       "         182.99377468,  413.89405399,  239.51206094,  363.35322224,\n",
       "         688.12643293,  605.23943671],\n",
       "       [ 454.62983341,  513.55267886,  844.4639004 ,  341.64667614,\n",
       "         171.75552315,  437.15848011,  221.36358466,  396.03213523,\n",
       "         825.24927911,  642.41825345],\n",
       "       [ 449.61651744,  450.23602812,  998.12841025,  383.82587012,\n",
       "         205.60957718,  474.71287043,  220.42064228,  457.70961529,\n",
       "         865.38744088,  623.83460005],\n",
       "       [ 342.87254607,  560.49879031,  901.45882593,  417.38412046,\n",
       "         250.45261832,  551.21122657,  218.44624837,  476.20538263,\n",
       "         919.57293476,  625.75312858],\n",
       "       [ 341.17150884,  657.15221293,  912.23012946,  407.31372044,\n",
       "         252.99782227,  487.6507964 ,  221.49191547,  438.99493476,\n",
       "        1023.71913988,  712.55038505],\n",
       "       [ 320.49030799,  712.24931096,  825.98737892,  440.32845437,\n",
       "         254.50736999,  471.60242954,  226.48669318,  480.32574495,\n",
       "         949.21812784,  855.54820311]])"
      ]
     },
     "execution_count": 43,
     "metadata": {},
     "output_type": "execute_result"
    }
   ],
   "source": [
    "price_list"
   ]
  },
  {
   "cell_type": "code",
   "execution_count": 44,
   "metadata": {},
   "outputs": [
    {
     "data": {
      "text/plain": [
       "42.59662254504535"
      ]
     },
     "execution_count": 44,
     "metadata": {},
     "output_type": "execute_result"
    }
   ],
   "source": [
    "price_list.min()"
   ]
  },
  {
   "cell_type": "code",
   "execution_count": 45,
   "metadata": {},
   "outputs": [
    {
     "data": {
      "text/plain": [
       "1023.7191398783879"
      ]
     },
     "execution_count": 45,
     "metadata": {},
     "output_type": "execute_result"
    }
   ],
   "source": [
    "price_list.max()"
   ]
  },
  {
   "cell_type": "code",
   "execution_count": 46,
   "metadata": {},
   "outputs": [
    {
     "data": {
      "text/plain": [
       "250.441654981551"
      ]
     },
     "execution_count": 46,
     "metadata": {},
     "output_type": "execute_result"
    }
   ],
   "source": [
    "price_list.mean()"
   ]
  },
  {
   "cell_type": "code",
   "execution_count": 47,
   "metadata": {},
   "outputs": [
    {
     "data": {
      "text/plain": [
       "206.5728522750232"
      ]
     },
     "execution_count": 47,
     "metadata": {},
     "output_type": "execute_result"
    }
   ],
   "source": [
    "price_list.std()"
   ]
  },
  {
   "cell_type": "code",
   "execution_count": 48,
   "metadata": {},
   "outputs": [
    {
     "data": {
      "text/plain": [
       "182.44566251383887"
      ]
     },
     "execution_count": 48,
     "metadata": {},
     "output_type": "execute_result"
    }
   ],
   "source": [
    "np.median(price_list)"
   ]
  },
  {
   "cell_type": "code",
   "execution_count": 49,
   "metadata": {},
   "outputs": [
    {
     "data": {
      "image/png": "[encoded data removed]",
      "text/plain": [
       "<Figure size 1368x648 with 1 Axes>"
      ]
     },
     "metadata": {
      "needs_background": "light"
     },
     "output_type": "display_data"
    }
   ],
   "source": [
    "plt.figure(figsize=(19,9))\n",
    "plt.plot(price_list);\n",
    "plt.title('SIMULAÇÃO DE MONTE CARLO');\n",
    "plt.xlabel('REPETIÇÕES'); #definindo nome do eixo X\n",
    "plt.ylabel('Número de Mortes'); #definindo nome do eixo Y\n"
   ]
  },
  {
   "cell_type": "code",
   "execution_count": 50,
   "metadata": {},
   "outputs": [
    {
     "name": "stdout",
     "output_type": "stream",
     "text": [
      "Óbitos mínimos, 43 pessoas\n",
      "Óbitos mediana, 182 pessoas\n",
      "Óbitos médio, 250 pessoas\n",
      "Óbitos máximo, 1024 pessoas\n",
      "Óbitos atual, 57 pessoas\n"
     ]
    }
   ],
   "source": [
    "print(f'Óbitos mínimos, {price_list.min():.0f}'' pessoas')\n",
    "print(f'Óbitos mediana, {np.median(price_list):.0f}'' pessoas')\n",
    "print(f'Óbitos médio, {price_list.mean():.0f}'' pessoas')\n",
    "print(f'Óbitos máximo, {price_list.max():.0f}'' pessoas')\n",
    "print('Óbitos atual,',(str(round(base['Obitos'].iloc[-1]))),'pessoas') #informar o ticker"
   ]
  },
  {
   "cell_type": "code",
   "execution_count": 51,
   "metadata": {},
   "outputs": [
    {
     "data": {
      "text/plain": [
       "57"
      ]
     },
     "execution_count": 51,
     "metadata": {},
     "output_type": "execute_result"
    }
   ],
   "source": [
    "S0"
   ]
  },
  {
   "cell_type": "code",
   "execution_count": 52,
   "metadata": {},
   "outputs": [],
   "source": [
    "diferencaDias = base['diferencaDias'] = base['Data'] - base['Data'].min()"
   ]
  },
  {
   "cell_type": "code",
   "execution_count": 53,
   "metadata": {},
   "outputs": [],
   "source": [
    "d = a.loc[56:].astype('timedelta64[D]')"
   ]
  },
  {
   "cell_type": "code",
   "execution_count": 54,
   "metadata": {},
   "outputs": [
    {
     "data": {
      "text/plain": [
       "56    86.0\n",
       "Name: Data, dtype: float64"
      ]
     },
     "execution_count": 54,
     "metadata": {},
     "output_type": "execute_result"
    }
   ],
   "source": [
    "d"
   ]
  },
  {
   "cell_type": "code",
   "execution_count": 55,
   "metadata": {},
   "outputs": [],
   "source": [
    "MortesDia = S0/d"
   ]
  },
  {
   "cell_type": "code",
   "execution_count": 56,
   "metadata": {},
   "outputs": [
    {
     "data": {
      "text/plain": [
       "56    0.662791\n",
       "Name: Data, dtype: float64"
      ]
     },
     "execution_count": 56,
     "metadata": {},
     "output_type": "execute_result"
    }
   ],
   "source": [
    "MortesDia"
   ]
  }
 ],
 "metadata": {
  "kernelspec": {
   "display_name": "Python 3.7.3 64-bit ('base': conda)",
   "language": "python",
   "name": "python37364bitbasecondac3187a33bb6b4b858aad71feb598639b"
  },
  "language_info": {
   "codemirror_mode": {
    "name": "ipython",
    "version": 3
   },
   "file_extension": ".py",
   "mimetype": "text/x-python",
   "name": "python",
   "nbconvert_exporter": "python",
   "pygments_lexer": "ipython3",
   "version": "3.7.3"
  }
 },
 "nbformat": 4,
 "nbformat_minor": 2
}
