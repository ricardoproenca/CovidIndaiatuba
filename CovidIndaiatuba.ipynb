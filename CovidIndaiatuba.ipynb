{
 "cells": [
  {
   "cell_type": "markdown",
   "metadata": {},
   "source": [
    "# Análise dos casos de óbito de Covid-19 em Indaiatuba"
   ]
  },
  {
   "cell_type": "code",
   "execution_count": 1,
   "metadata": {},
   "outputs": [],
   "source": [
    "import pandas as pd\n",
    "import seaborn as sns\n",
    "import matplotlib.pyplot as plt\n",
    "import numpy as np\n",
    "from pandas_datareader import data as wb\n",
    "from scipy.stats import norm"
   ]
  },
  {
   "cell_type": "markdown",
   "metadata": {},
   "source": [
    "# 1. Extração dos dados \n",
    "Fonte: G1 - Campinas\n",
    "\n",
    "https://g1.globo.com/sp/campinas-regiao/noticia/2020/06/28/coronavirus-prefeituras-da-regiao-de-campinas-confirmam-novos-casos-neste-domingo-28-de-junho.ghtml"
   ]
  },
  {
   "cell_type": "code",
   "execution_count": 2,
   "metadata": {},
   "outputs": [],
   "source": [
    "base = pd.read_excel(\"CovidIndaiatuba.xlsx\")"
   ]
  },
  {
   "cell_type": "code",
   "execution_count": 3,
   "metadata": {},
   "outputs": [
    {
     "data": {
      "text/html": [
       "<div>\n",
       "<style scoped>\n",
       "    .dataframe tbody tr th:only-of-type {\n",
       "        vertical-align: middle;\n",
       "    }\n",
       "\n",
       "    .dataframe tbody tr th {\n",
       "        vertical-align: top;\n",
       "    }\n",
       "\n",
       "    .dataframe thead th {\n",
       "        text-align: right;\n",
       "    }\n",
       "</style>\n",
       "<table border=\"1\" class=\"dataframe\">\n",
       "  <thead>\n",
       "    <tr style=\"text-align: right;\">\n",
       "      <th></th>\n",
       "      <th>Obitos</th>\n",
       "      <th>Data</th>\n",
       "      <th>Sexo</th>\n",
       "      <th>Idade</th>\n",
       "      <th>anos</th>\n",
       "      <th>Comorbidade</th>\n",
       "    </tr>\n",
       "  </thead>\n",
       "  <tbody>\n",
       "    <tr>\n",
       "      <th>55</th>\n",
       "      <td>56</td>\n",
       "      <td>2020-06-24</td>\n",
       "      <td>Homem</td>\n",
       "      <td>54</td>\n",
       "      <td>anos,</td>\n",
       "      <td>Sem Comorbidade, ex-tabagista.</td>\n",
       "    </tr>\n",
       "    <tr>\n",
       "      <th>56</th>\n",
       "      <td>57</td>\n",
       "      <td>2020-06-24</td>\n",
       "      <td>Homem</td>\n",
       "      <td>65</td>\n",
       "      <td>anos,</td>\n",
       "      <td>Com Comorbidades</td>\n",
       "    </tr>\n",
       "    <tr>\n",
       "      <th>57</th>\n",
       "      <td>51</td>\n",
       "      <td>2020-06-25</td>\n",
       "      <td>Homem</td>\n",
       "      <td>59</td>\n",
       "      <td>anos,</td>\n",
       "      <td>Sem Comorbidade.</td>\n",
       "    </tr>\n",
       "    <tr>\n",
       "      <th>58</th>\n",
       "      <td>52</td>\n",
       "      <td>2020-06-26</td>\n",
       "      <td>Homem</td>\n",
       "      <td>53</td>\n",
       "      <td>anos,</td>\n",
       "      <td>Com Comorbidades</td>\n",
       "    </tr>\n",
       "    <tr>\n",
       "      <th>59</th>\n",
       "      <td>53</td>\n",
       "      <td>2020-06-27</td>\n",
       "      <td>Homem</td>\n",
       "      <td>74</td>\n",
       "      <td>anos,</td>\n",
       "      <td>Com Comorbidades</td>\n",
       "    </tr>\n",
       "  </tbody>\n",
       "</table>\n",
       "</div>"
      ],
      "text/plain": [
       "    Obitos       Data   Sexo  Idade   anos                     Comorbidade\n",
       "55      56 2020-06-24  Homem     54  anos,  Sem Comorbidade, ex-tabagista.\n",
       "56      57 2020-06-24  Homem     65  anos,                Com Comorbidades\n",
       "57      51 2020-06-25  Homem     59  anos,                Sem Comorbidade.\n",
       "58      52 2020-06-26  Homem     53  anos,                Com Comorbidades\n",
       "59      53 2020-06-27  Homem     74  anos,                Com Comorbidades"
      ]
     },
     "execution_count": 3,
     "metadata": {},
     "output_type": "execute_result"
    }
   ],
   "source": [
    "base.tail()"
   ]
  },
  {
   "cell_type": "markdown",
   "metadata": {},
   "source": [
    "# 2. Criação das colunas: MesMorte, diferençaDias e MédiaMovel - concatenação "
   ]
  },
  {
   "cell_type": "code",
   "execution_count": 4,
   "metadata": {},
   "outputs": [
    {
     "data": {
      "text/html": [
       "<div>\n",
       "<style scoped>\n",
       "    .dataframe tbody tr th:only-of-type {\n",
       "        vertical-align: middle;\n",
       "    }\n",
       "\n",
       "    .dataframe tbody tr th {\n",
       "        vertical-align: top;\n",
       "    }\n",
       "\n",
       "    .dataframe thead th {\n",
       "        text-align: right;\n",
       "    }\n",
       "</style>\n",
       "<table border=\"1\" class=\"dataframe\">\n",
       "  <thead>\n",
       "    <tr style=\"text-align: right;\">\n",
       "      <th></th>\n",
       "      <th>Obitos</th>\n",
       "      <th>Data</th>\n",
       "      <th>Sexo</th>\n",
       "      <th>Idade</th>\n",
       "      <th>anos</th>\n",
       "      <th>Comorbidade</th>\n",
       "      <th>MesMorte</th>\n",
       "      <th>diferencaDias</th>\n",
       "      <th>MédiaMovel</th>\n",
       "    </tr>\n",
       "  </thead>\n",
       "  <tbody>\n",
       "    <tr>\n",
       "      <th>0</th>\n",
       "      <td>1</td>\n",
       "      <td>2020-03-31</td>\n",
       "      <td>Homem</td>\n",
       "      <td>64</td>\n",
       "      <td>anos,</td>\n",
       "      <td>Com Comorbidades</td>\n",
       "      <td>3</td>\n",
       "      <td>0 days</td>\n",
       "      <td>NaN</td>\n",
       "    </tr>\n",
       "    <tr>\n",
       "      <th>1</th>\n",
       "      <td>2</td>\n",
       "      <td>2020-04-13</td>\n",
       "      <td>Mulher</td>\n",
       "      <td>50</td>\n",
       "      <td>anos,</td>\n",
       "      <td>Com Comborbidades</td>\n",
       "      <td>4</td>\n",
       "      <td>13 days</td>\n",
       "      <td>1.5</td>\n",
       "    </tr>\n",
       "    <tr>\n",
       "      <th>2</th>\n",
       "      <td>3</td>\n",
       "      <td>2020-04-18</td>\n",
       "      <td>Mulher</td>\n",
       "      <td>52</td>\n",
       "      <td>anos,</td>\n",
       "      <td>Sem Comorbidade</td>\n",
       "      <td>4</td>\n",
       "      <td>18 days</td>\n",
       "      <td>2.5</td>\n",
       "    </tr>\n",
       "    <tr>\n",
       "      <th>3</th>\n",
       "      <td>4</td>\n",
       "      <td>2020-04-21</td>\n",
       "      <td>Homem</td>\n",
       "      <td>64</td>\n",
       "      <td>anos,</td>\n",
       "      <td>Com Comorbidades</td>\n",
       "      <td>4</td>\n",
       "      <td>21 days</td>\n",
       "      <td>3.5</td>\n",
       "    </tr>\n",
       "    <tr>\n",
       "      <th>4</th>\n",
       "      <td>5</td>\n",
       "      <td>2020-04-24</td>\n",
       "      <td>Mulher</td>\n",
       "      <td>61</td>\n",
       "      <td>anos,</td>\n",
       "      <td>Com Comorbidades</td>\n",
       "      <td>4</td>\n",
       "      <td>24 days</td>\n",
       "      <td>4.5</td>\n",
       "    </tr>\n",
       "    <tr>\n",
       "      <th>5</th>\n",
       "      <td>6</td>\n",
       "      <td>2020-05-02</td>\n",
       "      <td>Mulher</td>\n",
       "      <td>83</td>\n",
       "      <td>anos,</td>\n",
       "      <td>Com Comorbidades</td>\n",
       "      <td>5</td>\n",
       "      <td>32 days</td>\n",
       "      <td>5.5</td>\n",
       "    </tr>\n",
       "    <tr>\n",
       "      <th>6</th>\n",
       "      <td>7</td>\n",
       "      <td>2020-05-06</td>\n",
       "      <td>Homem</td>\n",
       "      <td>38</td>\n",
       "      <td>anos,</td>\n",
       "      <td>Com Comorbidades</td>\n",
       "      <td>5</td>\n",
       "      <td>36 days</td>\n",
       "      <td>6.5</td>\n",
       "    </tr>\n",
       "    <tr>\n",
       "      <th>7</th>\n",
       "      <td>8</td>\n",
       "      <td>2020-05-06</td>\n",
       "      <td>Homem</td>\n",
       "      <td>76</td>\n",
       "      <td>anos,</td>\n",
       "      <td>Com Comorbidades</td>\n",
       "      <td>5</td>\n",
       "      <td>36 days</td>\n",
       "      <td>7.5</td>\n",
       "    </tr>\n",
       "    <tr>\n",
       "      <th>8</th>\n",
       "      <td>9</td>\n",
       "      <td>2020-05-07</td>\n",
       "      <td>Homem</td>\n",
       "      <td>30</td>\n",
       "      <td>anos,</td>\n",
       "      <td>Com Comorbidades</td>\n",
       "      <td>5</td>\n",
       "      <td>37 days</td>\n",
       "      <td>8.5</td>\n",
       "    </tr>\n",
       "    <tr>\n",
       "      <th>9</th>\n",
       "      <td>10</td>\n",
       "      <td>2020-05-07</td>\n",
       "      <td>Homem</td>\n",
       "      <td>55</td>\n",
       "      <td>anos,</td>\n",
       "      <td>Sem Comorbidade, ex-tabagista.</td>\n",
       "      <td>5</td>\n",
       "      <td>37 days</td>\n",
       "      <td>9.5</td>\n",
       "    </tr>\n",
       "    <tr>\n",
       "      <th>10</th>\n",
       "      <td>11</td>\n",
       "      <td>2020-05-10</td>\n",
       "      <td>Homem</td>\n",
       "      <td>74</td>\n",
       "      <td>anos,</td>\n",
       "      <td>Com Comorbidades</td>\n",
       "      <td>5</td>\n",
       "      <td>40 days</td>\n",
       "      <td>10.5</td>\n",
       "    </tr>\n",
       "    <tr>\n",
       "      <th>11</th>\n",
       "      <td>12</td>\n",
       "      <td>2020-05-12</td>\n",
       "      <td>Homem</td>\n",
       "      <td>75</td>\n",
       "      <td>anos,</td>\n",
       "      <td>Sem Comorbidade</td>\n",
       "      <td>5</td>\n",
       "      <td>42 days</td>\n",
       "      <td>11.5</td>\n",
       "    </tr>\n",
       "    <tr>\n",
       "      <th>12</th>\n",
       "      <td>13</td>\n",
       "      <td>2020-05-15</td>\n",
       "      <td>Mulher</td>\n",
       "      <td>77</td>\n",
       "      <td>anos,</td>\n",
       "      <td>Com Comorbidades</td>\n",
       "      <td>5</td>\n",
       "      <td>45 days</td>\n",
       "      <td>12.5</td>\n",
       "    </tr>\n",
       "    <tr>\n",
       "      <th>13</th>\n",
       "      <td>14</td>\n",
       "      <td>2020-05-17</td>\n",
       "      <td>Homem</td>\n",
       "      <td>68</td>\n",
       "      <td>anos,</td>\n",
       "      <td>Com Comorbidades</td>\n",
       "      <td>5</td>\n",
       "      <td>47 days</td>\n",
       "      <td>13.5</td>\n",
       "    </tr>\n",
       "    <tr>\n",
       "      <th>14</th>\n",
       "      <td>15</td>\n",
       "      <td>2020-05-18</td>\n",
       "      <td>Homem</td>\n",
       "      <td>90</td>\n",
       "      <td>anos,</td>\n",
       "      <td>Com Comorbidades</td>\n",
       "      <td>5</td>\n",
       "      <td>48 days</td>\n",
       "      <td>14.5</td>\n",
       "    </tr>\n",
       "    <tr>\n",
       "      <th>15</th>\n",
       "      <td>16</td>\n",
       "      <td>2020-05-21</td>\n",
       "      <td>Homem</td>\n",
       "      <td>71</td>\n",
       "      <td>anos,</td>\n",
       "      <td>Com Comorbidades</td>\n",
       "      <td>5</td>\n",
       "      <td>51 days</td>\n",
       "      <td>15.5</td>\n",
       "    </tr>\n",
       "    <tr>\n",
       "      <th>16</th>\n",
       "      <td>17</td>\n",
       "      <td>2020-05-23</td>\n",
       "      <td>Mulher</td>\n",
       "      <td>58</td>\n",
       "      <td>anos,</td>\n",
       "      <td>Com Comorbidades</td>\n",
       "      <td>5</td>\n",
       "      <td>53 days</td>\n",
       "      <td>16.5</td>\n",
       "    </tr>\n",
       "    <tr>\n",
       "      <th>17</th>\n",
       "      <td>18</td>\n",
       "      <td>2020-05-23</td>\n",
       "      <td>Homem</td>\n",
       "      <td>67</td>\n",
       "      <td>anos,</td>\n",
       "      <td>Com Comorbidades</td>\n",
       "      <td>5</td>\n",
       "      <td>53 days</td>\n",
       "      <td>17.5</td>\n",
       "    </tr>\n",
       "    <tr>\n",
       "      <th>18</th>\n",
       "      <td>19</td>\n",
       "      <td>2020-05-24</td>\n",
       "      <td>Mulher</td>\n",
       "      <td>71</td>\n",
       "      <td>anos,</td>\n",
       "      <td>Com Comorbidades</td>\n",
       "      <td>5</td>\n",
       "      <td>54 days</td>\n",
       "      <td>18.5</td>\n",
       "    </tr>\n",
       "    <tr>\n",
       "      <th>19</th>\n",
       "      <td>20</td>\n",
       "      <td>2020-05-24</td>\n",
       "      <td>Homem</td>\n",
       "      <td>88</td>\n",
       "      <td>anos,</td>\n",
       "      <td>Com Comorbidades</td>\n",
       "      <td>5</td>\n",
       "      <td>54 days</td>\n",
       "      <td>19.5</td>\n",
       "    </tr>\n",
       "    <tr>\n",
       "      <th>20</th>\n",
       "      <td>21</td>\n",
       "      <td>2020-05-24</td>\n",
       "      <td>Homem</td>\n",
       "      <td>62</td>\n",
       "      <td>anos,</td>\n",
       "      <td>Com Comorbidades</td>\n",
       "      <td>5</td>\n",
       "      <td>54 days</td>\n",
       "      <td>20.5</td>\n",
       "    </tr>\n",
       "    <tr>\n",
       "      <th>21</th>\n",
       "      <td>22</td>\n",
       "      <td>2020-05-26</td>\n",
       "      <td>Homem</td>\n",
       "      <td>76</td>\n",
       "      <td>anos,</td>\n",
       "      <td>Com Comorbidades</td>\n",
       "      <td>5</td>\n",
       "      <td>56 days</td>\n",
       "      <td>21.5</td>\n",
       "    </tr>\n",
       "    <tr>\n",
       "      <th>22</th>\n",
       "      <td>23</td>\n",
       "      <td>2020-05-27</td>\n",
       "      <td>Homem</td>\n",
       "      <td>69</td>\n",
       "      <td>anos,</td>\n",
       "      <td>Sem Comorbidade</td>\n",
       "      <td>5</td>\n",
       "      <td>57 days</td>\n",
       "      <td>22.5</td>\n",
       "    </tr>\n",
       "    <tr>\n",
       "      <th>23</th>\n",
       "      <td>24</td>\n",
       "      <td>2020-05-28</td>\n",
       "      <td>Mulher</td>\n",
       "      <td>67</td>\n",
       "      <td>anos,</td>\n",
       "      <td>Com Comorbidades</td>\n",
       "      <td>5</td>\n",
       "      <td>58 days</td>\n",
       "      <td>23.5</td>\n",
       "    </tr>\n",
       "    <tr>\n",
       "      <th>24</th>\n",
       "      <td>25</td>\n",
       "      <td>2020-05-28</td>\n",
       "      <td>Mulher</td>\n",
       "      <td>67</td>\n",
       "      <td>anos,</td>\n",
       "      <td>Com Comorbidades</td>\n",
       "      <td>5</td>\n",
       "      <td>58 days</td>\n",
       "      <td>24.5</td>\n",
       "    </tr>\n",
       "    <tr>\n",
       "      <th>25</th>\n",
       "      <td>26</td>\n",
       "      <td>2020-05-30</td>\n",
       "      <td>Homem</td>\n",
       "      <td>70</td>\n",
       "      <td>anos,</td>\n",
       "      <td>Com Comorbidades</td>\n",
       "      <td>5</td>\n",
       "      <td>60 days</td>\n",
       "      <td>25.5</td>\n",
       "    </tr>\n",
       "    <tr>\n",
       "      <th>26</th>\n",
       "      <td>27</td>\n",
       "      <td>2020-05-31</td>\n",
       "      <td>Mulher</td>\n",
       "      <td>86</td>\n",
       "      <td>anos,</td>\n",
       "      <td>Com Comorbidades</td>\n",
       "      <td>5</td>\n",
       "      <td>61 days</td>\n",
       "      <td>26.5</td>\n",
       "    </tr>\n",
       "    <tr>\n",
       "      <th>27</th>\n",
       "      <td>28</td>\n",
       "      <td>2020-06-03</td>\n",
       "      <td>Mulher</td>\n",
       "      <td>86</td>\n",
       "      <td>anos,</td>\n",
       "      <td>Sem Comorbidade</td>\n",
       "      <td>6</td>\n",
       "      <td>64 days</td>\n",
       "      <td>27.5</td>\n",
       "    </tr>\n",
       "    <tr>\n",
       "      <th>28</th>\n",
       "      <td>29</td>\n",
       "      <td>2020-06-05</td>\n",
       "      <td>Homem</td>\n",
       "      <td>46</td>\n",
       "      <td>anos,</td>\n",
       "      <td>Sem Comorbidade</td>\n",
       "      <td>6</td>\n",
       "      <td>66 days</td>\n",
       "      <td>28.5</td>\n",
       "    </tr>\n",
       "    <tr>\n",
       "      <th>29</th>\n",
       "      <td>30</td>\n",
       "      <td>2020-06-06</td>\n",
       "      <td>Homem</td>\n",
       "      <td>78</td>\n",
       "      <td>anos,</td>\n",
       "      <td>Com Comorbidades</td>\n",
       "      <td>6</td>\n",
       "      <td>67 days</td>\n",
       "      <td>29.5</td>\n",
       "    </tr>\n",
       "    <tr>\n",
       "      <th>30</th>\n",
       "      <td>31</td>\n",
       "      <td>2020-06-07</td>\n",
       "      <td>Homem</td>\n",
       "      <td>42</td>\n",
       "      <td>anos,</td>\n",
       "      <td>Sem Comorbidade</td>\n",
       "      <td>6</td>\n",
       "      <td>68 days</td>\n",
       "      <td>30.5</td>\n",
       "    </tr>\n",
       "    <tr>\n",
       "      <th>31</th>\n",
       "      <td>32</td>\n",
       "      <td>2020-06-07</td>\n",
       "      <td>Homem</td>\n",
       "      <td>86</td>\n",
       "      <td>anos,</td>\n",
       "      <td>Com Comorbidades</td>\n",
       "      <td>6</td>\n",
       "      <td>68 days</td>\n",
       "      <td>31.5</td>\n",
       "    </tr>\n",
       "    <tr>\n",
       "      <th>32</th>\n",
       "      <td>33</td>\n",
       "      <td>2020-06-07</td>\n",
       "      <td>Mulher</td>\n",
       "      <td>55</td>\n",
       "      <td>anos,</td>\n",
       "      <td>Com Comorbidades</td>\n",
       "      <td>6</td>\n",
       "      <td>68 days</td>\n",
       "      <td>32.5</td>\n",
       "    </tr>\n",
       "    <tr>\n",
       "      <th>33</th>\n",
       "      <td>34</td>\n",
       "      <td>2020-06-07</td>\n",
       "      <td>Mulher</td>\n",
       "      <td>61</td>\n",
       "      <td>anos,</td>\n",
       "      <td>Com Comorbidades</td>\n",
       "      <td>6</td>\n",
       "      <td>68 days</td>\n",
       "      <td>33.5</td>\n",
       "    </tr>\n",
       "    <tr>\n",
       "      <th>34</th>\n",
       "      <td>35</td>\n",
       "      <td>2020-06-08</td>\n",
       "      <td>Homem</td>\n",
       "      <td>69</td>\n",
       "      <td>anos,</td>\n",
       "      <td>Com Comorbidades</td>\n",
       "      <td>6</td>\n",
       "      <td>69 days</td>\n",
       "      <td>34.5</td>\n",
       "    </tr>\n",
       "    <tr>\n",
       "      <th>35</th>\n",
       "      <td>36</td>\n",
       "      <td>2020-06-08</td>\n",
       "      <td>Mulher</td>\n",
       "      <td>52</td>\n",
       "      <td>anos,</td>\n",
       "      <td>Com Comorbidades</td>\n",
       "      <td>6</td>\n",
       "      <td>69 days</td>\n",
       "      <td>35.5</td>\n",
       "    </tr>\n",
       "    <tr>\n",
       "      <th>36</th>\n",
       "      <td>37</td>\n",
       "      <td>2020-06-08</td>\n",
       "      <td>Mulher</td>\n",
       "      <td>48</td>\n",
       "      <td>anos,</td>\n",
       "      <td>Com Comorbidades</td>\n",
       "      <td>6</td>\n",
       "      <td>69 days</td>\n",
       "      <td>36.5</td>\n",
       "    </tr>\n",
       "    <tr>\n",
       "      <th>37</th>\n",
       "      <td>38</td>\n",
       "      <td>2020-06-09</td>\n",
       "      <td>Mulher</td>\n",
       "      <td>67</td>\n",
       "      <td>anos,</td>\n",
       "      <td>Com Comorbidades</td>\n",
       "      <td>6</td>\n",
       "      <td>70 days</td>\n",
       "      <td>37.5</td>\n",
       "    </tr>\n",
       "    <tr>\n",
       "      <th>38</th>\n",
       "      <td>39</td>\n",
       "      <td>2020-06-10</td>\n",
       "      <td>Mulher</td>\n",
       "      <td>71</td>\n",
       "      <td>anos,</td>\n",
       "      <td>Com Comorbidades</td>\n",
       "      <td>6</td>\n",
       "      <td>71 days</td>\n",
       "      <td>38.5</td>\n",
       "    </tr>\n",
       "    <tr>\n",
       "      <th>39</th>\n",
       "      <td>40</td>\n",
       "      <td>2020-06-12</td>\n",
       "      <td>Mulher</td>\n",
       "      <td>40</td>\n",
       "      <td>anos,</td>\n",
       "      <td>Sem Comorbidade.</td>\n",
       "      <td>6</td>\n",
       "      <td>73 days</td>\n",
       "      <td>39.5</td>\n",
       "    </tr>\n",
       "    <tr>\n",
       "      <th>40</th>\n",
       "      <td>41</td>\n",
       "      <td>2020-06-12</td>\n",
       "      <td>Homem</td>\n",
       "      <td>86</td>\n",
       "      <td>anos,</td>\n",
       "      <td>Sem Comorbidade</td>\n",
       "      <td>6</td>\n",
       "      <td>73 days</td>\n",
       "      <td>40.5</td>\n",
       "    </tr>\n",
       "    <tr>\n",
       "      <th>41</th>\n",
       "      <td>42</td>\n",
       "      <td>2020-06-13</td>\n",
       "      <td>Homem</td>\n",
       "      <td>91</td>\n",
       "      <td>anos,</td>\n",
       "      <td>Com Comorbidades</td>\n",
       "      <td>6</td>\n",
       "      <td>74 days</td>\n",
       "      <td>41.5</td>\n",
       "    </tr>\n",
       "    <tr>\n",
       "      <th>42</th>\n",
       "      <td>43</td>\n",
       "      <td>2020-06-14</td>\n",
       "      <td>Mulher</td>\n",
       "      <td>66</td>\n",
       "      <td>anos,</td>\n",
       "      <td>Com Comorbidades</td>\n",
       "      <td>6</td>\n",
       "      <td>75 days</td>\n",
       "      <td>42.5</td>\n",
       "    </tr>\n",
       "    <tr>\n",
       "      <th>43</th>\n",
       "      <td>44</td>\n",
       "      <td>2020-06-14</td>\n",
       "      <td>Homem</td>\n",
       "      <td>44</td>\n",
       "      <td>anos,</td>\n",
       "      <td>Sem Comorbidade.</td>\n",
       "      <td>6</td>\n",
       "      <td>75 days</td>\n",
       "      <td>43.5</td>\n",
       "    </tr>\n",
       "    <tr>\n",
       "      <th>44</th>\n",
       "      <td>45</td>\n",
       "      <td>2020-06-15</td>\n",
       "      <td>Mulher</td>\n",
       "      <td>58</td>\n",
       "      <td>anos,</td>\n",
       "      <td>Com Comorbidades</td>\n",
       "      <td>6</td>\n",
       "      <td>76 days</td>\n",
       "      <td>44.5</td>\n",
       "    </tr>\n",
       "    <tr>\n",
       "      <th>45</th>\n",
       "      <td>46</td>\n",
       "      <td>2020-06-17</td>\n",
       "      <td>Homem</td>\n",
       "      <td>52</td>\n",
       "      <td>anos,</td>\n",
       "      <td>Com Comorbidades</td>\n",
       "      <td>6</td>\n",
       "      <td>78 days</td>\n",
       "      <td>45.5</td>\n",
       "    </tr>\n",
       "    <tr>\n",
       "      <th>46</th>\n",
       "      <td>47</td>\n",
       "      <td>2020-06-17</td>\n",
       "      <td>Homem</td>\n",
       "      <td>53</td>\n",
       "      <td>anos,</td>\n",
       "      <td>Com Comorbidades</td>\n",
       "      <td>6</td>\n",
       "      <td>78 days</td>\n",
       "      <td>46.5</td>\n",
       "    </tr>\n",
       "    <tr>\n",
       "      <th>47</th>\n",
       "      <td>48</td>\n",
       "      <td>2020-06-18</td>\n",
       "      <td>Mulher</td>\n",
       "      <td>87</td>\n",
       "      <td>anos,</td>\n",
       "      <td>Sem Comorbidade.</td>\n",
       "      <td>6</td>\n",
       "      <td>79 days</td>\n",
       "      <td>47.5</td>\n",
       "    </tr>\n",
       "    <tr>\n",
       "      <th>48</th>\n",
       "      <td>49</td>\n",
       "      <td>2020-06-19</td>\n",
       "      <td>Homem</td>\n",
       "      <td>75</td>\n",
       "      <td>anos,</td>\n",
       "      <td>Com Comorbidades</td>\n",
       "      <td>6</td>\n",
       "      <td>80 days</td>\n",
       "      <td>48.5</td>\n",
       "    </tr>\n",
       "    <tr>\n",
       "      <th>49</th>\n",
       "      <td>49</td>\n",
       "      <td>2020-06-19</td>\n",
       "      <td>Mulher</td>\n",
       "      <td>62</td>\n",
       "      <td>anos,</td>\n",
       "      <td>Com Comorbidades</td>\n",
       "      <td>6</td>\n",
       "      <td>80 days</td>\n",
       "      <td>49.0</td>\n",
       "    </tr>\n",
       "    <tr>\n",
       "      <th>50</th>\n",
       "      <td>51</td>\n",
       "      <td>2020-06-20</td>\n",
       "      <td>Homem</td>\n",
       "      <td>41</td>\n",
       "      <td>anos,</td>\n",
       "      <td>Sem Comorbidade.</td>\n",
       "      <td>6</td>\n",
       "      <td>81 days</td>\n",
       "      <td>50.0</td>\n",
       "    </tr>\n",
       "    <tr>\n",
       "      <th>51</th>\n",
       "      <td>52</td>\n",
       "      <td>2020-06-21</td>\n",
       "      <td>Homem</td>\n",
       "      <td>82</td>\n",
       "      <td>anos,</td>\n",
       "      <td>Com Comorbidades</td>\n",
       "      <td>6</td>\n",
       "      <td>82 days</td>\n",
       "      <td>51.5</td>\n",
       "    </tr>\n",
       "    <tr>\n",
       "      <th>52</th>\n",
       "      <td>53</td>\n",
       "      <td>2020-06-22</td>\n",
       "      <td>Homem</td>\n",
       "      <td>65</td>\n",
       "      <td>anos,</td>\n",
       "      <td>Com Comorbidades</td>\n",
       "      <td>6</td>\n",
       "      <td>83 days</td>\n",
       "      <td>52.5</td>\n",
       "    </tr>\n",
       "    <tr>\n",
       "      <th>53</th>\n",
       "      <td>54</td>\n",
       "      <td>2020-06-22</td>\n",
       "      <td>Homem</td>\n",
       "      <td>72</td>\n",
       "      <td>anos,</td>\n",
       "      <td>Com Comorbidades</td>\n",
       "      <td>6</td>\n",
       "      <td>83 days</td>\n",
       "      <td>53.5</td>\n",
       "    </tr>\n",
       "    <tr>\n",
       "      <th>54</th>\n",
       "      <td>50</td>\n",
       "      <td>2020-06-24</td>\n",
       "      <td>Mulher</td>\n",
       "      <td>56</td>\n",
       "      <td>anos,</td>\n",
       "      <td>Sem Comorbidade.</td>\n",
       "      <td>6</td>\n",
       "      <td>85 days</td>\n",
       "      <td>52.0</td>\n",
       "    </tr>\n",
       "    <tr>\n",
       "      <th>55</th>\n",
       "      <td>56</td>\n",
       "      <td>2020-06-24</td>\n",
       "      <td>Homem</td>\n",
       "      <td>54</td>\n",
       "      <td>anos,</td>\n",
       "      <td>Sem Comorbidade, ex-tabagista.</td>\n",
       "      <td>6</td>\n",
       "      <td>85 days</td>\n",
       "      <td>53.0</td>\n",
       "    </tr>\n",
       "    <tr>\n",
       "      <th>56</th>\n",
       "      <td>57</td>\n",
       "      <td>2020-06-24</td>\n",
       "      <td>Homem</td>\n",
       "      <td>65</td>\n",
       "      <td>anos,</td>\n",
       "      <td>Com Comorbidades</td>\n",
       "      <td>6</td>\n",
       "      <td>85 days</td>\n",
       "      <td>56.5</td>\n",
       "    </tr>\n",
       "    <tr>\n",
       "      <th>57</th>\n",
       "      <td>51</td>\n",
       "      <td>2020-06-25</td>\n",
       "      <td>Homem</td>\n",
       "      <td>59</td>\n",
       "      <td>anos,</td>\n",
       "      <td>Sem Comorbidade.</td>\n",
       "      <td>6</td>\n",
       "      <td>86 days</td>\n",
       "      <td>54.0</td>\n",
       "    </tr>\n",
       "    <tr>\n",
       "      <th>58</th>\n",
       "      <td>52</td>\n",
       "      <td>2020-06-26</td>\n",
       "      <td>Homem</td>\n",
       "      <td>53</td>\n",
       "      <td>anos,</td>\n",
       "      <td>Com Comorbidades</td>\n",
       "      <td>6</td>\n",
       "      <td>87 days</td>\n",
       "      <td>51.5</td>\n",
       "    </tr>\n",
       "    <tr>\n",
       "      <th>59</th>\n",
       "      <td>53</td>\n",
       "      <td>2020-06-27</td>\n",
       "      <td>Homem</td>\n",
       "      <td>74</td>\n",
       "      <td>anos,</td>\n",
       "      <td>Com Comorbidades</td>\n",
       "      <td>6</td>\n",
       "      <td>88 days</td>\n",
       "      <td>52.5</td>\n",
       "    </tr>\n",
       "  </tbody>\n",
       "</table>\n",
       "</div>"
      ],
      "text/plain": [
       "    Obitos       Data    Sexo  Idade   anos                     Comorbidade  \\\n",
       "0        1 2020-03-31   Homem     64  anos,                Com Comorbidades   \n",
       "1        2 2020-04-13  Mulher     50  anos,               Com Comborbidades   \n",
       "2        3 2020-04-18  Mulher     52  anos,                 Sem Comorbidade   \n",
       "3        4 2020-04-21   Homem     64  anos,                Com Comorbidades   \n",
       "4        5 2020-04-24  Mulher     61  anos,                Com Comorbidades   \n",
       "5        6 2020-05-02  Mulher     83  anos,                Com Comorbidades   \n",
       "6        7 2020-05-06   Homem     38  anos,                Com Comorbidades   \n",
       "7        8 2020-05-06   Homem     76  anos,                Com Comorbidades   \n",
       "8        9 2020-05-07   Homem     30  anos,                Com Comorbidades   \n",
       "9       10 2020-05-07   Homem     55  anos,  Sem Comorbidade, ex-tabagista.   \n",
       "10      11 2020-05-10   Homem     74  anos,                Com Comorbidades   \n",
       "11      12 2020-05-12   Homem     75  anos,                 Sem Comorbidade   \n",
       "12      13 2020-05-15  Mulher     77  anos,                Com Comorbidades   \n",
       "13      14 2020-05-17   Homem     68  anos,                Com Comorbidades   \n",
       "14      15 2020-05-18   Homem     90  anos,                Com Comorbidades   \n",
       "15      16 2020-05-21   Homem     71  anos,                Com Comorbidades   \n",
       "16      17 2020-05-23  Mulher     58  anos,                Com Comorbidades   \n",
       "17      18 2020-05-23   Homem     67  anos,                Com Comorbidades   \n",
       "18      19 2020-05-24  Mulher     71  anos,                Com Comorbidades   \n",
       "19      20 2020-05-24   Homem     88  anos,                Com Comorbidades   \n",
       "20      21 2020-05-24   Homem     62  anos,                Com Comorbidades   \n",
       "21      22 2020-05-26   Homem     76  anos,                Com Comorbidades   \n",
       "22      23 2020-05-27   Homem     69  anos,                 Sem Comorbidade   \n",
       "23      24 2020-05-28  Mulher     67  anos,                Com Comorbidades   \n",
       "24      25 2020-05-28  Mulher     67  anos,                Com Comorbidades   \n",
       "25      26 2020-05-30   Homem     70  anos,                Com Comorbidades   \n",
       "26      27 2020-05-31  Mulher     86  anos,                Com Comorbidades   \n",
       "27      28 2020-06-03  Mulher     86  anos,                 Sem Comorbidade   \n",
       "28      29 2020-06-05   Homem     46  anos,                 Sem Comorbidade   \n",
       "29      30 2020-06-06   Homem     78  anos,                Com Comorbidades   \n",
       "30      31 2020-06-07   Homem     42  anos,                 Sem Comorbidade   \n",
       "31      32 2020-06-07   Homem     86  anos,                Com Comorbidades   \n",
       "32      33 2020-06-07  Mulher     55  anos,                Com Comorbidades   \n",
       "33      34 2020-06-07  Mulher     61  anos,                Com Comorbidades   \n",
       "34      35 2020-06-08   Homem     69  anos,                Com Comorbidades   \n",
       "35      36 2020-06-08  Mulher     52  anos,                Com Comorbidades   \n",
       "36      37 2020-06-08  Mulher     48  anos,                Com Comorbidades   \n",
       "37      38 2020-06-09  Mulher     67  anos,                Com Comorbidades   \n",
       "38      39 2020-06-10  Mulher     71  anos,                Com Comorbidades   \n",
       "39      40 2020-06-12  Mulher     40  anos,                Sem Comorbidade.   \n",
       "40      41 2020-06-12   Homem     86  anos,                 Sem Comorbidade   \n",
       "41      42 2020-06-13   Homem     91  anos,                Com Comorbidades   \n",
       "42      43 2020-06-14  Mulher     66  anos,                Com Comorbidades   \n",
       "43      44 2020-06-14   Homem     44  anos,                Sem Comorbidade.   \n",
       "44      45 2020-06-15  Mulher     58  anos,                Com Comorbidades   \n",
       "45      46 2020-06-17   Homem     52  anos,                Com Comorbidades   \n",
       "46      47 2020-06-17   Homem     53  anos,                Com Comorbidades   \n",
       "47      48 2020-06-18  Mulher     87  anos,                Sem Comorbidade.   \n",
       "48      49 2020-06-19   Homem     75  anos,                Com Comorbidades   \n",
       "49      49 2020-06-19  Mulher     62  anos,                Com Comorbidades   \n",
       "50      51 2020-06-20   Homem     41  anos,                Sem Comorbidade.   \n",
       "51      52 2020-06-21   Homem     82  anos,                Com Comorbidades   \n",
       "52      53 2020-06-22   Homem     65  anos,                Com Comorbidades   \n",
       "53      54 2020-06-22   Homem     72  anos,                Com Comorbidades   \n",
       "54      50 2020-06-24  Mulher     56  anos,                Sem Comorbidade.   \n",
       "55      56 2020-06-24   Homem     54  anos,  Sem Comorbidade, ex-tabagista.   \n",
       "56      57 2020-06-24   Homem     65  anos,                Com Comorbidades   \n",
       "57      51 2020-06-25   Homem     59  anos,                Sem Comorbidade.   \n",
       "58      52 2020-06-26   Homem     53  anos,                Com Comorbidades   \n",
       "59      53 2020-06-27   Homem     74  anos,                Com Comorbidades   \n",
       "\n",
       "    MesMorte diferencaDias  MédiaMovel  \n",
       "0          3        0 days         NaN  \n",
       "1          4       13 days         1.5  \n",
       "2          4       18 days         2.5  \n",
       "3          4       21 days         3.5  \n",
       "4          4       24 days         4.5  \n",
       "5          5       32 days         5.5  \n",
       "6          5       36 days         6.5  \n",
       "7          5       36 days         7.5  \n",
       "8          5       37 days         8.5  \n",
       "9          5       37 days         9.5  \n",
       "10         5       40 days        10.5  \n",
       "11         5       42 days        11.5  \n",
       "12         5       45 days        12.5  \n",
       "13         5       47 days        13.5  \n",
       "14         5       48 days        14.5  \n",
       "15         5       51 days        15.5  \n",
       "16         5       53 days        16.5  \n",
       "17         5       53 days        17.5  \n",
       "18         5       54 days        18.5  \n",
       "19         5       54 days        19.5  \n",
       "20         5       54 days        20.5  \n",
       "21         5       56 days        21.5  \n",
       "22         5       57 days        22.5  \n",
       "23         5       58 days        23.5  \n",
       "24         5       58 days        24.5  \n",
       "25         5       60 days        25.5  \n",
       "26         5       61 days        26.5  \n",
       "27         6       64 days        27.5  \n",
       "28         6       66 days        28.5  \n",
       "29         6       67 days        29.5  \n",
       "30         6       68 days        30.5  \n",
       "31         6       68 days        31.5  \n",
       "32         6       68 days        32.5  \n",
       "33         6       68 days        33.5  \n",
       "34         6       69 days        34.5  \n",
       "35         6       69 days        35.5  \n",
       "36         6       69 days        36.5  \n",
       "37         6       70 days        37.5  \n",
       "38         6       71 days        38.5  \n",
       "39         6       73 days        39.5  \n",
       "40         6       73 days        40.5  \n",
       "41         6       74 days        41.5  \n",
       "42         6       75 days        42.5  \n",
       "43         6       75 days        43.5  \n",
       "44         6       76 days        44.5  \n",
       "45         6       78 days        45.5  \n",
       "46         6       78 days        46.5  \n",
       "47         6       79 days        47.5  \n",
       "48         6       80 days        48.5  \n",
       "49         6       80 days        49.0  \n",
       "50         6       81 days        50.0  \n",
       "51         6       82 days        51.5  \n",
       "52         6       83 days        52.5  \n",
       "53         6       83 days        53.5  \n",
       "54         6       85 days        52.0  \n",
       "55         6       85 days        53.0  \n",
       "56         6       85 days        56.5  \n",
       "57         6       86 days        54.0  \n",
       "58         6       87 days        51.5  \n",
       "59         6       88 days        52.5  "
      ]
     },
     "execution_count": 4,
     "metadata": {},
     "output_type": "execute_result"
    }
   ],
   "source": [
    "base.groupby(base['Data'].dt.month)['Obitos'].sum()\n",
    "base['MesMorte'] = base['Data'].dt.month\n",
    "base['diferencaDias'] = base['Data'] - base['Data'].min()\n",
    "base['MédiaMovel'] = base['Obitos'].rolling(2).mean()\n",
    "base"
   ]
  },
  {
   "cell_type": "markdown",
   "metadata": {},
   "source": [
    "# 3. Cálculo por Sexo"
   ]
  },
  {
   "cell_type": "code",
   "execution_count": 5,
   "metadata": {},
   "outputs": [
    {
     "data": {
      "text/html": [
       "<div>\n",
       "<style scoped>\n",
       "    .dataframe tbody tr th:only-of-type {\n",
       "        vertical-align: middle;\n",
       "    }\n",
       "\n",
       "    .dataframe tbody tr th {\n",
       "        vertical-align: top;\n",
       "    }\n",
       "\n",
       "    .dataframe thead th {\n",
       "        text-align: right;\n",
       "    }\n",
       "</style>\n",
       "<table border=\"1\" class=\"dataframe\">\n",
       "  <thead>\n",
       "    <tr style=\"text-align: right;\">\n",
       "      <th>Sexo</th>\n",
       "      <th>Homem</th>\n",
       "      <th>Mulher</th>\n",
       "    </tr>\n",
       "    <tr>\n",
       "      <th>Sexo</th>\n",
       "      <th></th>\n",
       "      <th></th>\n",
       "    </tr>\n",
       "  </thead>\n",
       "  <tbody>\n",
       "    <tr>\n",
       "      <th>Homem</th>\n",
       "      <td>37</td>\n",
       "      <td>0</td>\n",
       "    </tr>\n",
       "    <tr>\n",
       "      <th>Mulher</th>\n",
       "      <td>0</td>\n",
       "      <td>23</td>\n",
       "    </tr>\n",
       "  </tbody>\n",
       "</table>\n",
       "</div>"
      ],
      "text/plain": [
       "Sexo    Homem  Mulher\n",
       "Sexo                 \n",
       "Homem      37       0\n",
       "Mulher      0      23"
      ]
     },
     "execution_count": 5,
     "metadata": {},
     "output_type": "execute_result"
    }
   ],
   "source": [
    "pd.crosstab(base['Sexo'],base['Sexo'])"
   ]
  },
  {
   "cell_type": "code",
   "execution_count": 6,
   "metadata": {
    "scrolled": true
   },
   "outputs": [
    {
     "name": "stdout",
     "output_type": "stream",
     "text": [
      "Sexo em %\n",
      "Homem     61.67\n",
      "Mulher    38.33\n",
      "Name: Sexo, dtype: float64\n"
     ]
    }
   ],
   "source": [
    "print ('Sexo em %')\n",
    "Afetados = base['Sexo'].value_counts(normalize=True)\n",
    "print (str(round(Afetados, 4) *100)) "
   ]
  },
  {
   "cell_type": "code",
   "execution_count": 7,
   "metadata": {
    "scrolled": true
   },
   "outputs": [
    {
     "data": {
      "text/plain": [
       "<matplotlib.axes._subplots.AxesSubplot at 0x29338750a58>"
      ]
     },
     "execution_count": 7,
     "metadata": {},
     "output_type": "execute_result"
    },
    {
     "data": {
      "image/png": "[encoded data removed]",
      "text/plain": [
       "<Figure size 360x360 with 1 Axes>"
      ]
     },
     "metadata": {},
     "output_type": "display_data"
    }
   ],
   "source": [
    "base['Sexo'].value_counts().plot(kind = \"pie\", figsize = (5,5))"
   ]
  },
  {
   "cell_type": "markdown",
   "metadata": {},
   "source": [
    "# 4. Agrupando os dados pelo mês do óbito"
   ]
  },
  {
   "cell_type": "code",
   "execution_count": 8,
   "metadata": {},
   "outputs": [
    {
     "data": {
      "text/plain": [
       "Data\n",
       "3     1\n",
       "4     4\n",
       "5    22\n",
       "6    33\n",
       "Name: Obitos, dtype: int64"
      ]
     },
     "execution_count": 8,
     "metadata": {},
     "output_type": "execute_result"
    }
   ],
   "source": [
    "df = base.groupby(base['Data'].dt.month)['Obitos'].count()\n",
    "df"
   ]
  },
  {
   "cell_type": "code",
   "execution_count": 9,
   "metadata": {},
   "outputs": [
    {
     "data": {
      "text/plain": [
       "<matplotlib.axes._subplots.AxesSubplot at 0x29338a533c8>"
      ]
     },
     "execution_count": 9,
     "metadata": {},
     "output_type": "execute_result"
    },
    {
     "data": {
      "image/png": "[encoded data removed]",
      "text/plain": [
       "<Figure size 720x360 with 1 Axes>"
      ]
     },
     "metadata": {
      "needs_background": "light"
     },
     "output_type": "display_data"
    }
   ],
   "source": [
    "df.plot(kind = \"bar\", figsize = (10,5))"
   ]
  },
  {
   "cell_type": "markdown",
   "metadata": {},
   "source": [
    "# 5. Calculando o total de dias desde a primeira morte"
   ]
  },
  {
   "cell_type": "code",
   "execution_count": 10,
   "metadata": {},
   "outputs": [
    {
     "data": {
      "text/plain": [
       "55   85 days\n",
       "56   85 days\n",
       "57   86 days\n",
       "58   87 days\n",
       "59   88 days\n",
       "Name: Data, dtype: timedelta64[ns]"
      ]
     },
     "execution_count": 10,
     "metadata": {},
     "output_type": "execute_result"
    }
   ],
   "source": [
    "a = base['diferencaDias'] = base['Data'] - base['Data'].min()\n",
    "a.tail()"
   ]
  },
  {
   "cell_type": "markdown",
   "metadata": {},
   "source": [
    "# 6. Verifando se com coborbidades ou sem comorbidades"
   ]
  },
  {
   "cell_type": "code",
   "execution_count": 11,
   "metadata": {},
   "outputs": [
    {
     "data": {
      "text/html": [
       "<div>\n",
       "<style scoped>\n",
       "    .dataframe tbody tr th:only-of-type {\n",
       "        vertical-align: middle;\n",
       "    }\n",
       "\n",
       "    .dataframe tbody tr th {\n",
       "        vertical-align: top;\n",
       "    }\n",
       "\n",
       "    .dataframe thead th {\n",
       "        text-align: right;\n",
       "    }\n",
       "</style>\n",
       "<table border=\"1\" class=\"dataframe\">\n",
       "  <thead>\n",
       "    <tr style=\"text-align: right;\">\n",
       "      <th>Comorbidade</th>\n",
       "      <th>Com Comborbidades</th>\n",
       "      <th>Com Comorbidades</th>\n",
       "      <th>Sem Comorbidade</th>\n",
       "      <th>Sem Comorbidade, ex-tabagista.</th>\n",
       "      <th>Sem Comorbidade.</th>\n",
       "    </tr>\n",
       "    <tr>\n",
       "      <th>Comorbidade</th>\n",
       "      <th></th>\n",
       "      <th></th>\n",
       "      <th></th>\n",
       "      <th></th>\n",
       "      <th></th>\n",
       "    </tr>\n",
       "  </thead>\n",
       "  <tbody>\n",
       "    <tr>\n",
       "      <th>Com Comborbidades</th>\n",
       "      <td>1</td>\n",
       "      <td>0</td>\n",
       "      <td>0</td>\n",
       "      <td>0</td>\n",
       "      <td>0</td>\n",
       "    </tr>\n",
       "    <tr>\n",
       "      <th>Com Comorbidades</th>\n",
       "      <td>0</td>\n",
       "      <td>44</td>\n",
       "      <td>0</td>\n",
       "      <td>0</td>\n",
       "      <td>0</td>\n",
       "    </tr>\n",
       "    <tr>\n",
       "      <th>Sem Comorbidade</th>\n",
       "      <td>0</td>\n",
       "      <td>0</td>\n",
       "      <td>7</td>\n",
       "      <td>0</td>\n",
       "      <td>0</td>\n",
       "    </tr>\n",
       "    <tr>\n",
       "      <th>Sem Comorbidade, ex-tabagista.</th>\n",
       "      <td>0</td>\n",
       "      <td>0</td>\n",
       "      <td>0</td>\n",
       "      <td>2</td>\n",
       "      <td>0</td>\n",
       "    </tr>\n",
       "    <tr>\n",
       "      <th>Sem Comorbidade.</th>\n",
       "      <td>0</td>\n",
       "      <td>0</td>\n",
       "      <td>0</td>\n",
       "      <td>0</td>\n",
       "      <td>6</td>\n",
       "    </tr>\n",
       "  </tbody>\n",
       "</table>\n",
       "</div>"
      ],
      "text/plain": [
       "Comorbidade                     Com Comborbidades  Com Comorbidades  \\\n",
       "Comorbidade                                                           \n",
       "Com Comborbidades                               1                 0   \n",
       "Com Comorbidades                                0                44   \n",
       "Sem Comorbidade                                 0                 0   \n",
       "Sem Comorbidade, ex-tabagista.                  0                 0   \n",
       "Sem Comorbidade.                                0                 0   \n",
       "\n",
       "Comorbidade                     Sem Comorbidade  \\\n",
       "Comorbidade                                       \n",
       "Com Comborbidades                             0   \n",
       "Com Comorbidades                              0   \n",
       "Sem Comorbidade                               7   \n",
       "Sem Comorbidade, ex-tabagista.                0   \n",
       "Sem Comorbidade.                              0   \n",
       "\n",
       "Comorbidade                     Sem Comorbidade, ex-tabagista.  \\\n",
       "Comorbidade                                                      \n",
       "Com Comborbidades                                            0   \n",
       "Com Comorbidades                                             0   \n",
       "Sem Comorbidade                                              0   \n",
       "Sem Comorbidade, ex-tabagista.                               2   \n",
       "Sem Comorbidade.                                             0   \n",
       "\n",
       "Comorbidade                     Sem Comorbidade.  \n",
       "Comorbidade                                       \n",
       "Com Comborbidades                              0  \n",
       "Com Comorbidades                               0  \n",
       "Sem Comorbidade                                0  \n",
       "Sem Comorbidade, ex-tabagista.                 0  \n",
       "Sem Comorbidade.                               6  "
      ]
     },
     "execution_count": 11,
     "metadata": {},
     "output_type": "execute_result"
    }
   ],
   "source": [
    "pd.crosstab(base['Comorbidade'],base['Comorbidade'])"
   ]
  },
  {
   "cell_type": "code",
   "execution_count": 12,
   "metadata": {},
   "outputs": [
    {
     "data": {
      "text/plain": [
       "<matplotlib.axes._subplots.AxesSubplot at 0x29338add898>"
      ]
     },
     "execution_count": 12,
     "metadata": {},
     "output_type": "execute_result"
    },
    {
     "data": {
      "image/png": "[encoded data removed]",
      "text/plain": [
       "<Figure size 432x432 with 1 Axes>"
      ]
     },
     "metadata": {
      "needs_background": "light"
     },
     "output_type": "display_data"
    }
   ],
   "source": [
    "base['Comorbidade'].value_counts().head().plot(kind = \"barh\", figsize = (6,6))"
   ]
  },
  {
   "cell_type": "markdown",
   "metadata": {},
   "source": [
    "# 7. Gráfico com exibição dos Óbitos no tempo"
   ]
  },
  {
   "cell_type": "code",
   "execution_count": 13,
   "metadata": {},
   "outputs": [
    {
     "data": {
      "image/png": "[encoded data removed]",
      "text/plain": [
       "<Figure size 936x432 with 1 Axes>"
      ]
     },
     "metadata": {
      "needs_background": "light"
     },
     "output_type": "display_data"
    }
   ],
   "source": [
    "base.plot(x='Data', y='Obitos', figsize=(13,6));\n",
    "plt.title('Óbitos em Indaiatuba')\n",
    "plt.ylabel('Obitos')\n",
    "plt.xlabel('Data')\n",
    "plt.show()"
   ]
  },
  {
   "cell_type": "markdown",
   "metadata": {},
   "source": [
    "# 8. Média de idades dos óbitos\n"
   ]
  },
  {
   "cell_type": "code",
   "execution_count": 14,
   "metadata": {},
   "outputs": [
    {
     "data": {
      "text/plain": [
       "65.08333333333333"
      ]
     },
     "execution_count": 14,
     "metadata": {},
     "output_type": "execute_result"
    }
   ],
   "source": [
    "base['Idade'].mean()"
   ]
  },
  {
   "cell_type": "markdown",
   "metadata": {},
   "source": [
    "# 9 .Desvio Padrão de idades dos óbitos"
   ]
  },
  {
   "cell_type": "code",
   "execution_count": 15,
   "metadata": {},
   "outputs": [
    {
     "data": {
      "text/plain": [
       "14.397847846079985"
      ]
     },
     "execution_count": 15,
     "metadata": {},
     "output_type": "execute_result"
    }
   ],
   "source": [
    "base['Idade'].std()"
   ]
  },
  {
   "cell_type": "markdown",
   "metadata": {},
   "source": [
    "# 10. Mediana de idades dos óbitos"
   ]
  },
  {
   "cell_type": "code",
   "execution_count": 16,
   "metadata": {},
   "outputs": [
    {
     "data": {
      "text/plain": [
       "66.5"
      ]
     },
     "execution_count": 16,
     "metadata": {},
     "output_type": "execute_result"
    }
   ],
   "source": [
    "base['Idade'].median()"
   ]
  },
  {
   "cell_type": "markdown",
   "metadata": {},
   "source": [
    "# 11. Frequencia de idades dos óbitos"
   ]
  },
  {
   "cell_type": "code",
   "execution_count": 17,
   "metadata": {},
   "outputs": [
    {
     "data": {
      "text/plain": [
       "0    67\n",
       "1    86\n",
       "dtype: int64"
      ]
     },
     "execution_count": 17,
     "metadata": {},
     "output_type": "execute_result"
    }
   ],
   "source": [
    "base['Idade'].mode()"
   ]
  },
  {
   "cell_type": "markdown",
   "metadata": {},
   "source": [
    "# 12. Gráfico com a Frequencia de idade dos óbitos"
   ]
  },
  {
   "cell_type": "code",
   "execution_count": 18,
   "metadata": {},
   "outputs": [
    {
     "data": {
      "text/plain": [
       "<matplotlib.axes._subplots.AxesSubplot at 0x29338d778d0>"
      ]
     },
     "execution_count": 18,
     "metadata": {},
     "output_type": "execute_result"
    },
    {
     "data": {
      "image/png": "[encoded data removed]",
      "text/plain": [
       "<Figure size 720x360 with 1 Axes>"
      ]
     },
     "metadata": {
      "needs_background": "light"
     },
     "output_type": "display_data"
    }
   ],
   "source": [
    "base['Idade'].value_counts().plot(kind='bar',figsize = (10,5), title='Mortes/Idade')"
   ]
  },
  {
   "cell_type": "markdown",
   "metadata": {},
   "source": [
    "# 13. Caculando log para cálculo para simulação"
   ]
  },
  {
   "cell_type": "code",
   "execution_count": 19,
   "metadata": {},
   "outputs": [],
   "source": [
    "log_obitos = np.log(1 + base['Obitos'].pct_change())"
   ]
  },
  {
   "cell_type": "code",
   "execution_count": 20,
   "metadata": {},
   "outputs": [
    {
     "data": {
      "text/plain": [
       "55    56\n",
       "56    57\n",
       "57    51\n",
       "58    52\n",
       "59    53\n",
       "Name: Obitos, dtype: int64"
      ]
     },
     "execution_count": 20,
     "metadata": {},
     "output_type": "execute_result"
    }
   ],
   "source": [
    "base['Obitos'].tail()"
   ]
  },
  {
   "cell_type": "markdown",
   "metadata": {},
   "source": [
    "# 14. Gráfico com log para cálculo da simulção"
   ]
  },
  {
   "cell_type": "code",
   "execution_count": 21,
   "metadata": {},
   "outputs": [
    {
     "data": {
      "text/plain": [
       "<matplotlib.axes._subplots.AxesSubplot at 0x29338b76a58>"
      ]
     },
     "execution_count": 21,
     "metadata": {},
     "output_type": "execute_result"
    },
    {
     "data": {
      "image/png": "[encoded data removed]",
      "text/plain": [
       "<Figure size 720x432 with 1 Axes>"
      ]
     },
     "metadata": {
      "needs_background": "light"
     },
     "output_type": "display_data"
    }
   ],
   "source": [
    "log_obitos.plot(figsize=(10,6))"
   ]
  },
  {
   "cell_type": "code",
   "execution_count": 22,
   "metadata": {},
   "outputs": [
    {
     "data": {
      "text/plain": [
       "0.06729308328054441"
      ]
     },
     "execution_count": 22,
     "metadata": {},
     "output_type": "execute_result"
    }
   ],
   "source": [
    "u = log_obitos.mean()\n",
    "u"
   ]
  },
  {
   "cell_type": "code",
   "execution_count": 23,
   "metadata": {},
   "outputs": [
    {
     "data": {
      "text/plain": [
       "0.012491180958827843"
      ]
     },
     "execution_count": 23,
     "metadata": {},
     "output_type": "execute_result"
    }
   ],
   "source": [
    "var = log_obitos.var()\n",
    "var"
   ]
  },
  {
   "cell_type": "code",
   "execution_count": 24,
   "metadata": {},
   "outputs": [
    {
     "data": {
      "text/plain": [
       "0.06104749280113049"
      ]
     },
     "execution_count": 24,
     "metadata": {},
     "output_type": "execute_result"
    }
   ],
   "source": [
    "drift = u - (0.5 * var)\n",
    "drift"
   ]
  },
  {
   "cell_type": "code",
   "execution_count": 25,
   "metadata": {},
   "outputs": [
    {
     "data": {
      "text/plain": [
       "0.11176395196496876"
      ]
     },
     "execution_count": 25,
     "metadata": {},
     "output_type": "execute_result"
    }
   ],
   "source": [
    "stdev = log_obitos.std()\n",
    "stdev"
   ]
  },
  {
   "cell_type": "code",
   "execution_count": 26,
   "metadata": {},
   "outputs": [
    {
     "data": {
      "text/plain": [
       "float"
      ]
     },
     "execution_count": 26,
     "metadata": {},
     "output_type": "execute_result"
    }
   ],
   "source": [
    "type(drift)"
   ]
  },
  {
   "cell_type": "code",
   "execution_count": 27,
   "metadata": {},
   "outputs": [
    {
     "data": {
      "text/plain": [
       "float"
      ]
     },
     "execution_count": 27,
     "metadata": {},
     "output_type": "execute_result"
    }
   ],
   "source": [
    "type(stdev)"
   ]
  },
  {
   "cell_type": "code",
   "execution_count": 28,
   "metadata": {},
   "outputs": [
    {
     "data": {
      "text/plain": [
       "array(0.06104749)"
      ]
     },
     "execution_count": 28,
     "metadata": {},
     "output_type": "execute_result"
    }
   ],
   "source": [
    "np.array(drift)"
   ]
  },
  {
   "cell_type": "code",
   "execution_count": 29,
   "metadata": {},
   "outputs": [
    {
     "data": {
      "text/plain": [
       "0.06104749280113049"
      ]
     },
     "execution_count": 29,
     "metadata": {},
     "output_type": "execute_result"
    }
   ],
   "source": [
    "drift"
   ]
  },
  {
   "cell_type": "code",
   "execution_count": 30,
   "metadata": {},
   "outputs": [
    {
     "data": {
      "text/plain": [
       "0.11176395196496876"
      ]
     },
     "execution_count": 30,
     "metadata": {},
     "output_type": "execute_result"
    }
   ],
   "source": [
    "stdev"
   ]
  },
  {
   "cell_type": "code",
   "execution_count": 31,
   "metadata": {},
   "outputs": [
    {
     "data": {
      "text/plain": [
       "1.6448536269514722"
      ]
     },
     "execution_count": 31,
     "metadata": {},
     "output_type": "execute_result"
    }
   ],
   "source": [
    "norm.ppf(0.95)"
   ]
  },
  {
   "cell_type": "code",
   "execution_count": 32,
   "metadata": {},
   "outputs": [
    {
     "data": {
      "text/plain": [
       "array([[0.59411899, 0.47984864],\n",
       "       [0.63018759, 0.80889915],\n",
       "       [0.85267425, 0.78250425],\n",
       "       [0.79056954, 0.85841624],\n",
       "       [0.97094784, 0.37674509],\n",
       "       [0.43842018, 0.50625629],\n",
       "       [0.41948235, 0.35256818],\n",
       "       [0.31890256, 0.6312057 ],\n",
       "       [0.29477146, 0.45365469],\n",
       "       [0.80435084, 0.62444362]])"
      ]
     },
     "execution_count": 32,
     "metadata": {},
     "output_type": "execute_result"
    }
   ],
   "source": [
    "x = np.random.rand(10,2)\n",
    "x"
   ]
  },
  {
   "cell_type": "code",
   "execution_count": 33,
   "metadata": {},
   "outputs": [
    {
     "data": {
      "text/plain": [
       "array([[ 0.23815353, -0.05053347],\n",
       "       [ 0.33235022,  0.87384676],\n",
       "       [ 1.04797204,  0.78067867],\n",
       "       [ 0.808399  ,  1.07323091],\n",
       "       [ 1.89491007, -0.31404063],\n",
       "       [-0.15497586,  0.01568285],\n",
       "       [-0.20321793, -0.3783961 ],\n",
       "       [-0.47076981,  0.33504836],\n",
       "       [-0.53949852, -0.116433  ],\n",
       "       [ 0.85726523,  0.31717245]])"
      ]
     },
     "execution_count": 33,
     "metadata": {},
     "output_type": "execute_result"
    }
   ],
   "source": [
    "norm.ppf(x)"
   ]
  },
  {
   "cell_type": "code",
   "execution_count": 34,
   "metadata": {},
   "outputs": [
    {
     "data": {
      "text/plain": [
       "array([[ 4.24659724e-01, -1.15243987e+00, -9.95419382e-01,\n",
       "        -4.14503701e-01],\n",
       "       [ 4.89917317e-01,  8.24777597e-02, -7.79068032e-01,\n",
       "        -8.01929789e-01],\n",
       "       [ 1.73796452e+00,  6.44310595e-01,  5.67169156e-01,\n",
       "         9.29230438e-01],\n",
       "       [ 1.20228214e+00,  2.39448512e-03, -1.26337584e+00,\n",
       "        -4.86707878e-01],\n",
       "       [ 5.81691374e-03, -6.23867287e-01,  1.09616303e+00,\n",
       "        -1.29502694e+00],\n",
       "       [-1.90234470e-01, -1.91801992e+00, -3.08730556e-01,\n",
       "        -1.35482013e+00],\n",
       "       [ 1.98475522e+00, -1.01117805e+00, -6.56508454e-01,\n",
       "         1.22730229e-01],\n",
       "       [-3.67381126e-01, -6.34813181e-01,  3.40751891e-01,\n",
       "         2.79784910e+00],\n",
       "       [-1.81300933e+00,  2.01170850e+00, -4.67367360e-01,\n",
       "         4.90988193e-02],\n",
       "       [-3.49875089e-02,  1.25535131e+00, -8.06093433e-01,\n",
       "         1.23121144e+00]])"
      ]
     },
     "execution_count": 34,
     "metadata": {},
     "output_type": "execute_result"
    }
   ],
   "source": [
    "z= norm.ppf(np.random.rand(10,4))\n",
    "z"
   ]
  },
  {
   "cell_type": "code",
   "execution_count": 35,
   "metadata": {},
   "outputs": [],
   "source": [
    "t_intervals = 30\n",
    "iterations = 10"
   ]
  },
  {
   "cell_type": "code",
   "execution_count": 36,
   "metadata": {},
   "outputs": [
    {
     "data": {
      "text/plain": [
       "array([[1.01665833, 0.87970161, 1.03818072, 1.11394884, 1.12265547,\n",
       "        0.89739735, 1.2640099 , 1.01472677, 0.99000017, 0.99099174],\n",
       "       [1.03556775, 1.26029866, 1.0866436 , 1.01803639, 1.22276096,\n",
       "        0.92835995, 1.11954762, 0.99296373, 1.23722388, 1.04927757],\n",
       "       [0.89695938, 1.11907349, 1.19318719, 1.07400491, 0.97809219,\n",
       "        1.23174633, 1.26631498, 1.28084759, 1.1868272 , 1.22855146],\n",
       "       [1.11189941, 1.07872037, 1.22565073, 1.21421106, 1.01526985,\n",
       "        1.28579058, 1.09967603, 1.21082295, 1.10943412, 1.20260815],\n",
       "       [1.08867488, 1.14195141, 1.12483523, 1.08580767, 1.14604616,\n",
       "        0.93501409, 1.04675482, 1.10179401, 1.30887243, 1.02222249],\n",
       "       [1.28951786, 0.96698175, 1.30878087, 1.03536551, 1.22449278,\n",
       "        1.07052315, 1.13398833, 1.13010086, 1.04401478, 0.97034988],\n",
       "       [1.17027457, 0.99826224, 1.2244165 , 1.26358291, 1.14125661,\n",
       "        1.03307078, 0.8721585 , 1.10577053, 0.90078714, 1.16872912],\n",
       "       [0.96902447, 1.09868557, 0.95198537, 1.26125782, 1.11772457,\n",
       "        0.91873406, 1.09445481, 1.0255187 , 0.96867209, 0.9425535 ],\n",
       "       [1.03495177, 1.08059686, 1.07553268, 0.91376103, 1.06035886,\n",
       "        0.9892486 , 1.06934429, 1.12978728, 0.99653063, 1.1109857 ],\n",
       "       [1.0458247 , 0.98151572, 1.14270423, 0.85965093, 1.19452673,\n",
       "        1.12712255, 1.05269834, 1.00906599, 1.09772553, 1.01474236],\n",
       "       [1.26765215, 0.96438437, 0.94851792, 1.00635183, 1.26115916,\n",
       "        1.08317497, 1.01727636, 1.05972145, 1.11435993, 0.76371933],\n",
       "       [0.92526596, 0.8806422 , 1.53229433, 0.8770579 , 0.95389872,\n",
       "        1.29847043, 1.11574775, 1.16940518, 0.92048774, 0.99311378],\n",
       "       [1.16618037, 1.01406443, 1.15714137, 1.18396183, 1.27273818,\n",
       "        1.05692434, 1.11390267, 0.90325004, 1.01774219, 1.12086237],\n",
       "       [0.96164042, 1.12157974, 1.2470734 , 1.07805918, 1.08253327,\n",
       "        1.26017709, 0.87352585, 1.07747062, 0.91907396, 0.92143007],\n",
       "       [0.98745859, 1.1543749 , 1.05156887, 1.05842104, 0.86873508,\n",
       "        0.92144572, 1.21169695, 1.14855132, 1.03729171, 1.09336558],\n",
       "       [0.94528426, 1.10652987, 1.21016884, 1.29516013, 0.89605009,\n",
       "        1.07409569, 1.11941018, 0.93498218, 1.06870977, 1.01833033],\n",
       "       [0.83621984, 1.16882533, 0.98060186, 0.9787303 , 1.07052305,\n",
       "        0.80339404, 1.20839216, 1.17092103, 1.09842544, 1.21497084],\n",
       "       [1.19525982, 0.94071138, 1.07617576, 1.11673654, 0.96157912,\n",
       "        1.35080231, 1.15416555, 0.89423712, 0.94608179, 1.02260109],\n",
       "       [1.29958216, 1.12635655, 0.91963127, 1.07624003, 0.98821946,\n",
       "        0.97255171, 1.09012555, 1.07154306, 1.0619911 , 1.08884057],\n",
       "       [0.98465624, 1.25206401, 1.01726963, 1.16579303, 1.03728158,\n",
       "        1.20505952, 1.19838644, 1.08394193, 1.29145583, 1.07315521],\n",
       "       [1.06487382, 1.19344214, 0.89427415, 1.4579632 , 1.04472282,\n",
       "        1.13850203, 1.13675741, 1.09615196, 1.13397702, 0.94818166],\n",
       "       [1.20194354, 1.14307026, 0.88972864, 1.2123585 , 0.85201995,\n",
       "        1.02460127, 1.03084623, 1.22626801, 0.98888786, 1.3546363 ],\n",
       "       [0.97419426, 1.19545822, 1.33054911, 1.04019767, 1.15562874,\n",
       "        1.04134284, 1.0334531 , 0.99483978, 1.19581881, 0.93946458],\n",
       "       [1.07908493, 1.12216379, 1.10985039, 1.21067982, 1.16978542,\n",
       "        1.02123683, 0.96164296, 1.01790011, 1.00336925, 1.1674053 ],\n",
       "       [1.11918994, 1.19275408, 1.10419564, 1.09175482, 0.99834627,\n",
       "        1.11769917, 0.98761486, 1.17659034, 0.83487607, 1.01475096],\n",
       "       [1.04566394, 0.89706922, 1.16837934, 0.99257572, 1.06038777,\n",
       "        1.07460075, 0.97210616, 1.03228992, 1.13211044, 0.96655751],\n",
       "       [1.14337536, 0.9229391 , 1.00325712, 1.13932228, 1.20962178,\n",
       "        0.91572748, 1.0755752 , 1.06679498, 1.15711801, 1.02125094],\n",
       "       [1.17435946, 1.04913477, 0.91079743, 1.07566597, 1.06602394,\n",
       "        0.99404738, 1.02892   , 0.97207754, 1.25804281, 1.09601366],\n",
       "       [1.41983402, 1.14582783, 0.9281334 , 1.17546409, 0.95711128,\n",
       "        1.26915466, 1.07300485, 1.01428175, 1.04493   , 1.04797035],\n",
       "       [0.85057905, 0.99834736, 1.18045957, 1.15265137, 1.07347379,\n",
       "        0.98961821, 1.05177637, 1.15075941, 1.08706189, 1.10777812]])"
      ]
     },
     "execution_count": 36,
     "metadata": {},
     "output_type": "execute_result"
    }
   ],
   "source": [
    "daily_obitos = np.exp(drift + stdev * norm.ppf(np.random.rand(t_intervals, iterations)))\n",
    "daily_obitos"
   ]
  },
  {
   "cell_type": "code",
   "execution_count": null,
   "metadata": {},
   "outputs": [],
   "source": []
  },
  {
   "cell_type": "code",
   "execution_count": 37,
   "metadata": {},
   "outputs": [
    {
     "data": {
      "text/plain": [
       "53"
      ]
     },
     "execution_count": 37,
     "metadata": {},
     "output_type": "execute_result"
    }
   ],
   "source": [
    "last_data = base['Obitos'].iloc[-1]\n",
    "last_data"
   ]
  },
  {
   "cell_type": "code",
   "execution_count": 38,
   "metadata": {},
   "outputs": [
    {
     "data": {
      "text/plain": [
       "array([[0., 0., 0., 0., 0., 0., 0., 0., 0., 0.],\n",
       "       [0., 0., 0., 0., 0., 0., 0., 0., 0., 0.],\n",
       "       [0., 0., 0., 0., 0., 0., 0., 0., 0., 0.],\n",
       "       [0., 0., 0., 0., 0., 0., 0., 0., 0., 0.],\n",
       "       [0., 0., 0., 0., 0., 0., 0., 0., 0., 0.],\n",
       "       [0., 0., 0., 0., 0., 0., 0., 0., 0., 0.],\n",
       "       [0., 0., 0., 0., 0., 0., 0., 0., 0., 0.],\n",
       "       [0., 0., 0., 0., 0., 0., 0., 0., 0., 0.],\n",
       "       [0., 0., 0., 0., 0., 0., 0., 0., 0., 0.],\n",
       "       [0., 0., 0., 0., 0., 0., 0., 0., 0., 0.],\n",
       "       [0., 0., 0., 0., 0., 0., 0., 0., 0., 0.],\n",
       "       [0., 0., 0., 0., 0., 0., 0., 0., 0., 0.],\n",
       "       [0., 0., 0., 0., 0., 0., 0., 0., 0., 0.],\n",
       "       [0., 0., 0., 0., 0., 0., 0., 0., 0., 0.],\n",
       "       [0., 0., 0., 0., 0., 0., 0., 0., 0., 0.],\n",
       "       [0., 0., 0., 0., 0., 0., 0., 0., 0., 0.],\n",
       "       [0., 0., 0., 0., 0., 0., 0., 0., 0., 0.],\n",
       "       [0., 0., 0., 0., 0., 0., 0., 0., 0., 0.],\n",
       "       [0., 0., 0., 0., 0., 0., 0., 0., 0., 0.],\n",
       "       [0., 0., 0., 0., 0., 0., 0., 0., 0., 0.],\n",
       "       [0., 0., 0., 0., 0., 0., 0., 0., 0., 0.],\n",
       "       [0., 0., 0., 0., 0., 0., 0., 0., 0., 0.],\n",
       "       [0., 0., 0., 0., 0., 0., 0., 0., 0., 0.],\n",
       "       [0., 0., 0., 0., 0., 0., 0., 0., 0., 0.],\n",
       "       [0., 0., 0., 0., 0., 0., 0., 0., 0., 0.],\n",
       "       [0., 0., 0., 0., 0., 0., 0., 0., 0., 0.],\n",
       "       [0., 0., 0., 0., 0., 0., 0., 0., 0., 0.],\n",
       "       [0., 0., 0., 0., 0., 0., 0., 0., 0., 0.],\n",
       "       [0., 0., 0., 0., 0., 0., 0., 0., 0., 0.],\n",
       "       [0., 0., 0., 0., 0., 0., 0., 0., 0., 0.]])"
      ]
     },
     "execution_count": 38,
     "metadata": {},
     "output_type": "execute_result"
    }
   ],
   "source": [
    "obito_list = np.zeros_like(daily_obitos)\n",
    "obito_list"
   ]
  },
  {
   "cell_type": "code",
   "execution_count": 39,
   "metadata": {},
   "outputs": [
    {
     "data": {
      "text/plain": [
       "array([[53., 53., 53., 53., 53., 53., 53., 53., 53., 53.],\n",
       "       [ 0.,  0.,  0.,  0.,  0.,  0.,  0.,  0.,  0.,  0.],\n",
       "       [ 0.,  0.,  0.,  0.,  0.,  0.,  0.,  0.,  0.,  0.],\n",
       "       [ 0.,  0.,  0.,  0.,  0.,  0.,  0.,  0.,  0.,  0.],\n",
       "       [ 0.,  0.,  0.,  0.,  0.,  0.,  0.,  0.,  0.,  0.],\n",
       "       [ 0.,  0.,  0.,  0.,  0.,  0.,  0.,  0.,  0.,  0.],\n",
       "       [ 0.,  0.,  0.,  0.,  0.,  0.,  0.,  0.,  0.,  0.],\n",
       "       [ 0.,  0.,  0.,  0.,  0.,  0.,  0.,  0.,  0.,  0.],\n",
       "       [ 0.,  0.,  0.,  0.,  0.,  0.,  0.,  0.,  0.,  0.],\n",
       "       [ 0.,  0.,  0.,  0.,  0.,  0.,  0.,  0.,  0.,  0.],\n",
       "       [ 0.,  0.,  0.,  0.,  0.,  0.,  0.,  0.,  0.,  0.],\n",
       "       [ 0.,  0.,  0.,  0.,  0.,  0.,  0.,  0.,  0.,  0.],\n",
       "       [ 0.,  0.,  0.,  0.,  0.,  0.,  0.,  0.,  0.,  0.],\n",
       "       [ 0.,  0.,  0.,  0.,  0.,  0.,  0.,  0.,  0.,  0.],\n",
       "       [ 0.,  0.,  0.,  0.,  0.,  0.,  0.,  0.,  0.,  0.],\n",
       "       [ 0.,  0.,  0.,  0.,  0.,  0.,  0.,  0.,  0.,  0.],\n",
       "       [ 0.,  0.,  0.,  0.,  0.,  0.,  0.,  0.,  0.,  0.],\n",
       "       [ 0.,  0.,  0.,  0.,  0.,  0.,  0.,  0.,  0.,  0.],\n",
       "       [ 0.,  0.,  0.,  0.,  0.,  0.,  0.,  0.,  0.,  0.],\n",
       "       [ 0.,  0.,  0.,  0.,  0.,  0.,  0.,  0.,  0.,  0.],\n",
       "       [ 0.,  0.,  0.,  0.,  0.,  0.,  0.,  0.,  0.,  0.],\n",
       "       [ 0.,  0.,  0.,  0.,  0.,  0.,  0.,  0.,  0.,  0.],\n",
       "       [ 0.,  0.,  0.,  0.,  0.,  0.,  0.,  0.,  0.,  0.],\n",
       "       [ 0.,  0.,  0.,  0.,  0.,  0.,  0.,  0.,  0.,  0.],\n",
       "       [ 0.,  0.,  0.,  0.,  0.,  0.,  0.,  0.,  0.,  0.],\n",
       "       [ 0.,  0.,  0.,  0.,  0.,  0.,  0.,  0.,  0.,  0.],\n",
       "       [ 0.,  0.,  0.,  0.,  0.,  0.,  0.,  0.,  0.,  0.],\n",
       "       [ 0.,  0.,  0.,  0.,  0.,  0.,  0.,  0.,  0.,  0.],\n",
       "       [ 0.,  0.,  0.,  0.,  0.,  0.,  0.,  0.,  0.,  0.],\n",
       "       [ 0.,  0.,  0.,  0.,  0.,  0.,  0.,  0.,  0.,  0.]])"
      ]
     },
     "execution_count": 39,
     "metadata": {},
     "output_type": "execute_result"
    }
   ],
   "source": [
    "obito_list[0] = last_data\n",
    "obito_list"
   ]
  },
  {
   "cell_type": "code",
   "execution_count": 40,
   "metadata": {},
   "outputs": [],
   "source": [
    "for t in range (1, t_intervals):\n",
    "    obito_list[t] = obito_list[t-1]* daily_obitos[t]"
   ]
  },
  {
   "cell_type": "code",
   "execution_count": 41,
   "metadata": {},
   "outputs": [
    {
     "data": {
      "text/plain": [
       "array([[ 53.        ,  53.        ,  53.        ,  53.        ,\n",
       "         53.        ,  53.        ,  53.        ,  53.        ,\n",
       "         53.        ,  53.        ],\n",
       "       [ 54.88509079,  66.79582915,  57.59211077,  53.95592883,\n",
       "         64.80633113,  49.20307712,  59.33602368,  52.62707791,\n",
       "         65.57286572,  55.61171112],\n",
       "       [ 49.22969683,  74.74944139,  68.71816909,  57.94893249,\n",
       "         63.38656641,  60.60570959,  75.13809583,  67.40726584,\n",
       "         77.82366048,  68.32184878],\n",
       "       [ 54.73847072,  80.63374507,  84.22447429,  70.36223491,\n",
       "         64.35446949,  77.92625059,  82.62756313,  81.61826463,\n",
       "         86.34022438,  82.16441215],\n",
       "       [ 59.59239826,  92.07981894,  94.7386559 ,  76.39985459,\n",
       "         73.75319234,  72.86214263,  86.49080002,  89.92651515,\n",
       "        113.00833962,  83.99031037],\n",
       "       [ 76.84546186,  89.03950486, 123.99214061,  79.10177468,\n",
       "         90.31025141,  78.00061047,  98.07955748, 101.62603236,\n",
       "        117.98237717,  81.49998773],\n",
       "       [ 89.93028983,  88.88477586, 151.81802307,  99.95165025,\n",
       "        103.06717143,  80.58015135,  85.54091931, 112.37507199,\n",
       "        106.27700778,  95.25140904],\n",
       "       [ 87.14465181,  97.65642092, 144.52853648, 126.06480013,\n",
       "        115.20070989,  74.03173   ,  93.62067075, 115.24273765,\n",
       "        102.94757113,  89.779549  ],\n",
       "       [ 90.19051169, 105.52722208, 155.44516485, 115.19310125,\n",
       "        122.15409393,  73.23578558, 100.11272955, 130.19977862,\n",
       "        102.59040755,  99.74379473],\n",
       "       [ 94.3234645 , 103.57662703, 177.6278476 ,  99.02585688,\n",
       "        145.91633042,  82.5457057 , 105.38850438, 131.38016914,\n",
       "        112.61610925, 101.21425362],\n",
       "       [119.56934228,  99.88768006, 168.48319711,  99.65485245,\n",
       "        184.02371649,  89.41144249, 107.2092343 , 139.22638347,\n",
       "        125.49487937,  77.29928229],\n",
       "       [110.63344274,  87.96530666, 258.16584803,  87.40307556,\n",
       "        175.53998787, 116.09811444, 119.61846215, 162.81205472,\n",
       "        115.51649751,  76.76698221],\n",
       "       [129.01854952,  89.20248847, 298.73438407, 103.4819053 ,\n",
       "        223.41644409, 122.70692307, 133.24332438, 147.05999516,\n",
       "        117.56601367,  86.04522137],\n",
       "       [124.0694522 , 100.04770411, 372.54370389, 111.55961765,\n",
       "        241.85573439, 154.63245322, 116.39148794, 158.4528244 ,\n",
       "        108.05186125,  79.28465467],\n",
       "       [122.51344688, 115.49255818, 391.75536293, 118.07704702,\n",
       "        210.10856088, 142.48541187, 141.03121125, 181.99120024,\n",
       "        112.08130009,  86.68711272],\n",
       "       [115.81003341, 127.79596524, 474.09013178, 152.92868318,\n",
       "        188.26779547, 153.04296681, 157.87177337, 170.1585283 ,\n",
       "        119.78238011,  88.27611629],\n",
       "       [ 96.8426478 , 149.37116138, 464.89366663, 149.67593524,\n",
       "        201.54501544, 122.95380691, 190.7710134 , 199.24219852,\n",
       "        131.5720139 , 107.25290753],\n",
       "       [115.75212582, 140.51515208, 500.30729404, 167.14858617,\n",
       "        193.80147875, 166.08628693, 220.18133092, 178.16976933,\n",
       "        124.47788643, 109.67693996],\n",
       "       [150.42939759, 158.27016186, 460.09823135, 179.89199897,\n",
       "        191.51839208, 161.5275022 , 240.02529424, 190.91658024,\n",
       "        132.19440767, 119.4207017 ],\n",
       "       [148.12124539, 198.16437279, 468.04395799, 209.71683868,\n",
       "        198.65849955, 194.65025441, 287.64305891, 206.94248722,\n",
       "        170.72323802, 128.1569477 ],\n",
       "       [157.73043609, 236.4977127 , 418.55961449, 305.75943401,\n",
       "        207.54306776, 221.60971002, 326.9803798 , 226.8404123 ,\n",
       "        193.59622947, 121.51606736],\n",
       "       [189.58307868, 270.33350249, 372.40447496, 370.69004779,\n",
       "        176.83083471, 227.06159124, 337.06649079, 278.16714188,\n",
       "        191.44496042, 164.61007601],\n",
       "       [184.69074733, 323.17240655, 495.50244159, 385.59092301,\n",
       "        204.35079419, 236.44896134, 348.34241148, 276.73173861,\n",
       "        228.93348434, 154.64533668],\n",
       "       [199.29700174, 362.65237103, 549.93357987, 466.82715068,\n",
       "        239.04657927, 241.47038732, 334.98102705, 281.68526829,\n",
       "        229.70481774, 180.53378581],\n",
       "       [223.05119982, 432.55509492, 607.23425907, 509.66079094,\n",
       "        238.65126041, 269.8912523 , 330.83224051, 331.42816664,\n",
       "        191.77505513, 183.196833  ],\n",
       "       [233.23659729, 388.03185952, 709.47996117, 505.87692451,\n",
       "        253.06287896, 290.02534255, 321.60405883, 342.1299548 ,\n",
       "        217.1105429 , 177.0702741 ],\n",
       "       [266.67697845, 358.1297747 , 711.7908246 , 576.35685009,\n",
       "        306.11037003, 265.58417566, 345.90934908, 364.98251701,\n",
       "        251.22251918, 180.83318469],\n",
       "       [313.1746329 , 375.72639838, 648.29725451, 619.96745219,\n",
       "        326.32098219, 264.00325297, 355.91304767, 354.79130789,\n",
       "        316.04868327, 198.19563994],\n",
       "       [444.65599838, 430.51776336, 601.70633473, 728.74947679,\n",
       "        312.32549179, 335.06095985, 381.89642551, 359.85834896,\n",
       "        330.24875153, 207.70315355],\n",
       "       [378.21507656, 429.80627365, 710.29000289, 839.99408237,\n",
       "        335.27322814, 331.58242873, 401.66963749, 414.11038095,\n",
       "        359.00083305, 230.0890087 ]])"
      ]
     },
     "execution_count": 41,
     "metadata": {},
     "output_type": "execute_result"
    }
   ],
   "source": [
    "obito_list"
   ]
  },
  {
   "cell_type": "code",
   "execution_count": 42,
   "metadata": {},
   "outputs": [
    {
     "data": {
      "text/plain": [
       "49.20307712452645"
      ]
     },
     "execution_count": 42,
     "metadata": {},
     "output_type": "execute_result"
    }
   ],
   "source": [
    "obito_list.min()"
   ]
  },
  {
   "cell_type": "code",
   "execution_count": 43,
   "metadata": {},
   "outputs": [
    {
     "data": {
      "text/plain": [
       "839.9940823686102"
      ]
     },
     "execution_count": 43,
     "metadata": {},
     "output_type": "execute_result"
    }
   ],
   "source": [
    "obito_list.max()"
   ]
  },
  {
   "cell_type": "code",
   "execution_count": 44,
   "metadata": {},
   "outputs": [
    {
     "data": {
      "text/plain": [
       "196.99243116058267"
      ]
     },
     "execution_count": 44,
     "metadata": {},
     "output_type": "execute_result"
    }
   ],
   "source": [
    "obito_list.mean()"
   ]
  },
  {
   "cell_type": "code",
   "execution_count": 45,
   "metadata": {},
   "outputs": [
    {
     "data": {
      "text/plain": [
       "143.98034870785196"
      ]
     },
     "execution_count": 45,
     "metadata": {},
     "output_type": "execute_result"
    }
   ],
   "source": [
    "obito_list.std()"
   ]
  },
  {
   "cell_type": "code",
   "execution_count": 46,
   "metadata": {},
   "outputs": [
    {
     "data": {
      "text/plain": [
       "148.7462033885073"
      ]
     },
     "execution_count": 46,
     "metadata": {},
     "output_type": "execute_result"
    }
   ],
   "source": [
    "np.median(obito_list)"
   ]
  },
  {
   "cell_type": "markdown",
   "metadata": {},
   "source": [
    "# 15. Simulação de Monte Carlo para os óbitos em Indaiatuba"
   ]
  },
  {
   "cell_type": "code",
   "execution_count": 47,
   "metadata": {},
   "outputs": [
    {
     "data": {
      "image/png": "[encoded data removed]",
      "text/plain": [
       "<Figure size 1368x648 with 1 Axes>"
      ]
     },
     "metadata": {
      "needs_background": "light"
     },
     "output_type": "display_data"
    }
   ],
   "source": [
    "plt.figure(figsize=(19,9))\n",
    "plt.plot(obito_list);\n",
    "plt.title('SIMULAÇÃO DE MONTE CARLO');\n",
    "plt.xlabel('REPETIÇÕES'); #definindo nome do eixo X\n",
    "plt.ylabel('Número de Óbitos'); #definindo nome do eixo Y\n"
   ]
  },
  {
   "cell_type": "code",
   "execution_count": 48,
   "metadata": {},
   "outputs": [
    {
     "name": "stdout",
     "output_type": "stream",
     "text": [
      "Óbitos mínimos, 49 pessoas\n",
      "Óbitos mediana, 149 pessoas\n",
      "Óbitos médio, 197 pessoas\n",
      "Óbitos máximo, 840 pessoas\n",
      "Óbitos atual, 53 pessoas\n"
     ]
    }
   ],
   "source": [
    "print(f'Óbitos mínimos, {obito_list.min():.0f}'' pessoas')\n",
    "print(f'Óbitos mediana, {np.median(obito_list):.0f}'' pessoas')\n",
    "print(f'Óbitos médio, {obito_list.mean():.0f}'' pessoas')\n",
    "print(f'Óbitos máximo, {obito_list.max():.0f}'' pessoas')\n",
    "print('Óbitos atual,',(str(round(base['Obitos'].iloc[-1]))),'pessoas') #informar o ticker"
   ]
  },
  {
   "cell_type": "markdown",
   "metadata": {},
   "source": [
    "# 16. Cálculo de mortes por dia"
   ]
  },
  {
   "cell_type": "code",
   "execution_count": 49,
   "metadata": {},
   "outputs": [
    {
     "data": {
      "text/plain": [
       "55   85 days\n",
       "56   85 days\n",
       "57   86 days\n",
       "58   87 days\n",
       "59   88 days\n",
       "Name: Data, dtype: timedelta64[ns]"
      ]
     },
     "execution_count": 49,
     "metadata": {},
     "output_type": "execute_result"
    }
   ],
   "source": [
    "diferencaDias = base['diferencaDias'] = base['Data'] - base['Data'].min()\n",
    "diferencaDias.tail()"
   ]
  },
  {
   "cell_type": "code",
   "execution_count": 50,
   "metadata": {},
   "outputs": [
    {
     "data": {
      "text/plain": [
       "53"
      ]
     },
     "execution_count": 50,
     "metadata": {},
     "output_type": "execute_result"
    }
   ],
   "source": [
    "last_data"
   ]
  },
  {
   "cell_type": "code",
   "execution_count": 65,
   "metadata": {},
   "outputs": [],
   "source": [
    "d = a.loc[59:].astype('timedelta64[D]') #atualizar com índice da última data = last_data"
   ]
  },
  {
   "cell_type": "code",
   "execution_count": 66,
   "metadata": {},
   "outputs": [
    {
     "data": {
      "text/plain": [
       "59    88.0\n",
       "Name: Data, dtype: float64"
      ]
     },
     "execution_count": 66,
     "metadata": {},
     "output_type": "execute_result"
    }
   ],
   "source": [
    "d"
   ]
  },
  {
   "cell_type": "code",
   "execution_count": 67,
   "metadata": {},
   "outputs": [
    {
     "data": {
      "text/plain": [
       "59    0.602273\n",
       "Name: Data, dtype: float64"
      ]
     },
     "execution_count": 67,
     "metadata": {},
     "output_type": "execute_result"
    }
   ],
   "source": [
    "ObitosDia = last_data/d\n",
    "ObitosDia"
   ]
  },
  {
   "cell_type": "markdown",
   "metadata": {},
   "source": [
    "# Principais Conclusões\n",
    "\n",
    "1 A cada dois dias uma pessoa vem a óbito\n",
    "\n",
    "2 Predominância do sexo masculino\n",
    "\n",
    "3 O viés é ascendente"
   ]
  },
  {
   "cell_type": "code",
   "execution_count": null,
   "metadata": {},
   "outputs": [],
   "source": []
  }
 ],
 "metadata": {
  "kernelspec": {
   "display_name": "Python 3.7.3 64-bit ('base': conda)",
   "language": "python",
   "name": "python37364bitbasecondac3187a33bb6b4b858aad71feb598639b"
  },
  "language_info": {
   "codemirror_mode": {
    "name": "ipython",
    "version": 3
   },
   "file_extension": ".py",
   "mimetype": "text/x-python",
   "name": "python",
   "nbconvert_exporter": "python",
   "pygments_lexer": "ipython3",
   "version": "3.7.3"
  }
 },
 "nbformat": 4,
 "nbformat_minor": 2
}
